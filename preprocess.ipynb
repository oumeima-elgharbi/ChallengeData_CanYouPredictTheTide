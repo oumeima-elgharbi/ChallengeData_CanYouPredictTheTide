{
 "cells": [
  {
   "cell_type": "markdown",
   "source": [
    "Data Challenge : Can you predict the tide ?\n",
    "Author : Oumeima EL GHARBI\n",
    "Date : November 2022"
   ],
   "metadata": {
    "collapsed": false,
    "pycharm": {
     "name": "#%% md\n"
    }
   }
  },
  {
   "cell_type": "markdown",
   "source": [
    "# PART 1 : Preprocessing"
   ],
   "metadata": {
    "collapsed": false,
    "pycharm": {
     "name": "#%% md\n"
    }
   }
  },
  {
   "cell_type": "markdown",
   "source": [
    "### Importing libraries"
   ],
   "metadata": {
    "collapsed": false,
    "pycharm": {
     "name": "#%% md\n"
    }
   }
  },
  {
   "cell_type": "code",
   "execution_count": 1,
   "outputs": [
    {
     "name": "stderr",
     "output_type": "stream",
     "text": [
      "C:\\Users\\athen\\Anaconda3\\envs\\P4_OC\\lib\\site-packages\\xgboost\\compat.py:36: FutureWarning: pandas.Int64Index is deprecated and will be removed from pandas in a future version. Use pandas.Index with the appropriate dtype instead.\n",
      "  from pandas import MultiIndex, Int64Index\n"
     ]
    },
    {
     "data": {
      "application/javascript": "IPython.notebook.set_autosave_interval(300000)"
     },
     "metadata": {},
     "output_type": "display_data"
    },
    {
     "name": "stdout",
     "output_type": "stream",
     "text": [
      "Autosaving every 300 seconds\n"
     ]
    }
   ],
   "source": [
    "%reset -f\n",
    "\n",
    "from functions import *\n",
    "from surge_prediction_metric import *\n",
    "\n",
    "from sklearn.model_selection import train_test_split\n",
    "from sklearn.neighbors import BallTree\n",
    "from sklearn.multioutput import MultiOutputRegressor\n",
    "from sklearn.kernel_ridge import KernelRidge\n",
    "from xgboost import XGBRegressor\n",
    "from sklearn.svm import SVR\n",
    "from sklearn.ensemble import RandomForestRegressor\n",
    "from sklearn.neural_network import MLPRegressor\n",
    "\n",
    "\n",
    "import warnings\n",
    "warnings.filterwarnings('ignore')\n",
    "#warnings.filterwarnings(action=\"once\")\n",
    "\n",
    "%matplotlib inline\n",
    "%autosave 300"
   ],
   "metadata": {
    "collapsed": false,
    "pycharm": {
     "name": "#%%\n"
    }
   }
  },
  {
   "cell_type": "code",
   "execution_count": 2,
   "outputs": [],
   "source": [
    "# Starting time\n",
    "t0 = time()\n",
    "\n",
    "seed = 42 #42\n",
    "baseline_error = 0.7720"
   ],
   "metadata": {
    "collapsed": false,
    "pycharm": {
     "name": "#%%\n"
    }
   }
  },
  {
   "cell_type": "markdown",
   "source": [
    "#### Loading dataset"
   ],
   "metadata": {
    "collapsed": false,
    "pycharm": {
     "name": "#%% md\n"
    }
   }
  },
  {
   "cell_type": "code",
   "execution_count": 3,
   "outputs": [],
   "source": [
    "# load raw dataset\n",
    "input_path = \"./dataset/source/\"\n",
    "output_path = \"./dataset/output/\"\n",
    "\n",
    "\n",
    "X_train_filename = \"X_train_surge_new.npz\"\n",
    "Y_train_filename = \"Y_train_surge.csv\"\n",
    "X_test_filename = \"X_test_surge_new.npz\"\n",
    "\n",
    "X_train_file = \"{}{}\".format(input_path, X_train_filename)\n",
    "Y_train_file = \"{}{}\".format(input_path, Y_train_filename)\n",
    "X_test_file = \"{}{}\".format(input_path, X_test_filename)"
   ],
   "metadata": {
    "collapsed": false,
    "pycharm": {
     "name": "#%%\n"
    }
   }
  },
  {
   "cell_type": "code",
   "execution_count": 4,
   "outputs": [],
   "source": [
    "X_train = np.load(X_train_file)\n",
    "Y_train = pd.read_csv(Y_train_file)\n",
    "X_test = np.load(X_test_file)"
   ],
   "metadata": {
    "collapsed": false,
    "pycharm": {
     "name": "#%%\n"
    }
   }
  },
  {
   "cell_type": "code",
   "execution_count": 4,
   "outputs": [],
   "source": [],
   "metadata": {
    "collapsed": false,
    "pycharm": {
     "name": "#%%\n"
    }
   }
  },
  {
   "cell_type": "code",
   "execution_count": 5,
   "outputs": [
    {
     "data": {
      "text/plain": "<numpy.lib.npyio.NpzFile at 0x2767bdc9640>"
     },
     "execution_count": 5,
     "metadata": {},
     "output_type": "execute_result"
    }
   ],
   "source": [
    "X_train"
   ],
   "metadata": {
    "collapsed": false,
    "pycharm": {
     "name": "#%%\n"
    }
   }
  },
  {
   "cell_type": "code",
   "execution_count": 6,
   "outputs": [],
   "source": [
    "surge_train = np.array(Y_train)[:,1:]"
   ],
   "metadata": {
    "collapsed": false,
    "pycharm": {
     "name": "#%%\n"
    }
   }
  },
  {
   "cell_type": "code",
   "execution_count": 7,
   "outputs": [
    {
     "data": {
      "text/plain": "array([[ 0.58693592,  1.06958024,  0.76792754, ..., -0.42270688,\n        -0.45623606, -0.82505705],\n       [ 0.76792754, -0.1001619 ,  0.07077463, ..., -0.82505705,\n        -0.99270295, -0.99270295],\n       [ 0.07077463, -0.24428486, -0.35489084, ..., -0.99270295,\n        -0.32211934, -0.88373311],\n       ...,\n       [ 0.48303332,  0.53330877,  1.44832196, ...,  1.22022298,\n         1.44654495,  2.67036005],\n       [ 1.44832196,  1.82036029,  1.66283054, ...,  2.67036005,\n         2.62006628,  2.67874235],\n       [ 1.66283054,  1.52876268,  1.28408882, ...,  2.67874235,\n         1.22022298,  0.72566756]])"
     },
     "execution_count": 7,
     "metadata": {},
     "output_type": "execute_result"
    }
   ],
   "source": [
    "surge_train"
   ],
   "metadata": {
    "collapsed": false,
    "pycharm": {
     "name": "#%%\n"
    }
   }
  },
  {
   "cell_type": "code",
   "execution_count": 8,
   "outputs": [
    {
     "data": {
      "text/plain": "array(['id_sequence', 't_slp', 'slp', 't_surge1_input', 'surge1_input',\n       't_surge2_input', 'surge2_input', 't_surge1_output',\n       't_surge2_output'], dtype='<U15')"
     },
     "execution_count": 8,
     "metadata": {},
     "output_type": "execute_result"
    }
   ],
   "source": [
    "np.array(X_train)"
   ],
   "metadata": {
    "collapsed": false,
    "pycharm": {
     "name": "#%%\n"
    }
   }
  },
  {
   "cell_type": "code",
   "execution_count": 9,
   "outputs": [
    {
     "data": {
      "text/plain": "                 0\n0      id_sequence\n1            t_slp\n2              slp\n3   t_surge1_input\n4     surge1_input\n5   t_surge2_input\n6     surge2_input\n7  t_surge1_output\n8  t_surge2_output",
      "text/html": "<div>\n<style scoped>\n    .dataframe tbody tr th:only-of-type {\n        vertical-align: middle;\n    }\n\n    .dataframe tbody tr th {\n        vertical-align: top;\n    }\n\n    .dataframe thead th {\n        text-align: right;\n    }\n</style>\n<table border=\"1\" class=\"dataframe\">\n  <thead>\n    <tr style=\"text-align: right;\">\n      <th></th>\n      <th>0</th>\n    </tr>\n  </thead>\n  <tbody>\n    <tr>\n      <th>0</th>\n      <td>id_sequence</td>\n    </tr>\n    <tr>\n      <th>1</th>\n      <td>t_slp</td>\n    </tr>\n    <tr>\n      <th>2</th>\n      <td>slp</td>\n    </tr>\n    <tr>\n      <th>3</th>\n      <td>t_surge1_input</td>\n    </tr>\n    <tr>\n      <th>4</th>\n      <td>surge1_input</td>\n    </tr>\n    <tr>\n      <th>5</th>\n      <td>t_surge2_input</td>\n    </tr>\n    <tr>\n      <th>6</th>\n      <td>surge2_input</td>\n    </tr>\n    <tr>\n      <th>7</th>\n      <td>t_surge1_output</td>\n    </tr>\n    <tr>\n      <th>8</th>\n      <td>t_surge2_output</td>\n    </tr>\n  </tbody>\n</table>\n</div>"
     },
     "execution_count": 9,
     "metadata": {},
     "output_type": "execute_result"
    }
   ],
   "source": [
    "pd.DataFrame(X_train)#.shape"
   ],
   "metadata": {
    "collapsed": false,
    "pycharm": {
     "name": "#%%\n"
    }
   }
  },
  {
   "cell_type": "code",
   "execution_count": 10,
   "outputs": [
    {
     "data": {
      "text/plain": "(5599, 40, 41, 41)"
     },
     "execution_count": 10,
     "metadata": {},
     "output_type": "execute_result"
    }
   ],
   "source": [
    "X_train['slp'].shape"
   ],
   "metadata": {
    "collapsed": false,
    "pycharm": {
     "name": "#%%\n"
    }
   }
  },
  {
   "cell_type": "markdown",
   "source": [
    "#### Making X or slp_train for X_train and X_test"
   ],
   "metadata": {
    "collapsed": false,
    "pycharm": {
     "name": "#%% md\n"
    }
   }
  },
  {
   "cell_type": "markdown",
   "source": [
    "##### Preparing X_train to train"
   ],
   "metadata": {
    "collapsed": false,
    "pycharm": {
     "name": "#%% md\n"
    }
   }
  },
  {
   "cell_type": "code",
   "execution_count": 11,
   "outputs": [
    {
     "data": {
      "text/plain": "array([[100849.72, 100797.72, 100754.72, ..., 101970.81, 101981.81,\n        101990.81],\n       [100940.37, 100881.37, 100823.37, ..., 101515.72, 101562.72,\n        101611.72],\n       [101862.91, 101879.91, 101894.91, ..., 101005.37, 101038.37,\n        101076.37],\n       ...,\n       [102048.13, 102080.13, 102106.13, ..., 100781.81, 100724.81,\n        100664.81],\n       [102111.95, 102134.95, 102149.95, ..., 101352.13, 101376.13,\n        101392.13],\n       [101972.53, 101984.53, 101993.53, ..., 100412.28, 100450.28,\n        100483.28]], dtype=float32)"
     },
     "execution_count": 11,
     "metadata": {},
     "output_type": "execute_result"
    }
   ],
   "source": [
    "slp_train = generate_X_train_test(X_train)\n",
    "\n",
    "slp_train"
   ],
   "metadata": {
    "collapsed": false,
    "pycharm": {
     "name": "#%%\n"
    }
   }
  },
  {
   "cell_type": "markdown",
   "source": [
    "##### Preparing X_test for the submission"
   ],
   "metadata": {
    "collapsed": false,
    "pycharm": {
     "name": "#%% md\n"
    }
   }
  },
  {
   "cell_type": "code",
   "execution_count": 12,
   "outputs": [
    {
     "data": {
      "text/plain": "array([5600, 5601, 5602, 5603, 5604, 5605, 5606, 5607, 5608, 5609, 5610,\n       5611, 5612, 5613, 5614, 5615, 5616, 5617, 5618, 5619, 5620, 5621,\n       5622, 5623, 5624, 5625, 5626, 5627, 5628, 5629, 5630, 5631, 5632,\n       5633, 5634, 5635, 5636, 5637, 5638, 5639, 5640, 5641, 5642, 5643,\n       5644, 5645, 5646, 5647, 5648, 5649, 5650, 5651, 5652, 5653, 5654,\n       5655, 5656, 5657, 5658, 5659, 5660, 5661, 5662, 5663, 5664, 5665,\n       5666, 5667, 5668, 5669, 5670, 5671, 5672, 5673, 5674, 5675, 5676,\n       5677, 5678, 5679, 5680, 5681, 5682, 5683, 5684, 5685, 5686, 5687,\n       5688, 5689, 5690, 5691, 5692, 5693, 5694, 5695, 5696, 5697, 5698,\n       5699, 5700, 5701, 5702, 5703, 5704, 5705, 5706, 5707, 5708, 5709,\n       5710, 5711, 5712, 5713, 5714, 5715, 5716, 5717, 5718, 5719, 5720,\n       5721, 5722, 5723, 5724, 5725, 5726, 5727, 5728, 5729, 5730, 5731,\n       5732, 5733, 5734, 5735, 5736, 5737, 5738, 5739, 5740, 5741, 5742,\n       5743, 5744, 5745, 5746, 5747, 5748, 5749, 5750, 5751, 5752, 5753,\n       5754, 5755, 5756, 5757, 5758, 5759, 5760, 5761, 5762, 5763, 5764,\n       5765, 5766, 5767, 5768, 5769, 5770, 5771, 5772, 5773, 5774, 5775,\n       5776, 5777, 5778, 5779, 5780, 5781, 5782, 5783, 5784, 5785, 5786,\n       5787, 5788, 5789, 5790, 5791, 5792, 5793, 5794, 5795, 5796, 5797,\n       5798, 5799, 5800, 5801, 5802, 5803, 5804, 5805, 5806, 5807, 5808,\n       5809, 5810, 5811, 5812, 5813, 5814, 5815, 5816, 5817, 5818, 5819,\n       5820, 5821, 5822, 5823, 5824, 5825, 5826, 5827, 5828, 5829, 5830,\n       5831, 5832, 5833, 5834, 5835, 5836, 5837, 5838, 5839, 5840, 5841,\n       5842, 5843, 5844, 5845, 5846, 5847, 5848, 5849, 5850, 5851, 5852,\n       5853, 5854, 5855, 5856, 5857, 5858, 5859, 5860, 5861, 5862, 5863,\n       5864, 5865, 5866, 5867, 5868, 5869, 5870, 5871, 5872, 5873, 5874,\n       5875, 5876, 5877, 5878, 5879, 5880, 5881, 5882, 5883, 5884, 5885,\n       5886, 5887, 5888, 5889, 5890, 5891, 5892, 5893, 5894, 5895, 5896,\n       5897, 5898, 5899, 5900, 5901, 5902, 5903, 5904, 5905, 5906, 5907,\n       5908, 5909, 5910, 5911, 5912, 5913, 5914, 5915, 5916, 5917, 5918,\n       5919, 5920, 5921, 5922, 5923, 5924, 5925, 5926, 5927, 5928, 5929,\n       5930, 5931, 5932, 5933, 5934, 5935, 5936, 5937, 5938, 5939, 5940,\n       5941, 5942, 5943, 5944, 5945, 5946, 5947, 5948, 5949, 5950, 5951,\n       5952, 5953, 5954, 5955, 5956, 5957, 5958, 5959, 5960, 5961, 5962,\n       5963, 5964, 5965, 5966, 5967, 5968, 5969, 5970, 5971, 5972, 5973,\n       5974, 5975, 5976, 5977, 5978, 5979, 5980, 5981, 5982, 5983, 5984,\n       5985, 5986, 5987, 5988, 5989, 5990, 5991, 5992, 5993, 5994, 5995,\n       5996, 5997, 5998, 5999, 6000, 6001, 6002, 6003, 6004, 6005, 6006,\n       6007, 6008, 6009, 6010, 6011, 6012, 6013, 6014, 6015, 6016, 6017,\n       6018, 6019, 6020, 6021, 6022, 6023, 6024, 6025, 6026, 6027, 6028,\n       6029, 6030, 6031, 6032, 6033, 6034, 6035, 6036, 6037, 6038, 6039,\n       6040, 6041, 6042, 6043, 6044, 6045, 6046, 6047, 6048, 6049, 6050,\n       6051, 6052, 6053, 6054, 6055, 6056, 6057, 6058, 6059, 6060, 6061,\n       6062, 6063, 6064, 6065, 6066, 6067, 6068, 6069, 6070, 6071, 6072,\n       6073, 6074, 6075, 6076, 6077, 6078, 6079, 6080, 6081, 6082, 6083,\n       6084, 6085, 6086, 6087, 6088, 6089, 6090, 6091, 6092, 6093, 6094,\n       6095, 6096, 6097, 6098, 6099, 6100, 6101, 6102, 6103, 6104, 6105,\n       6106, 6107, 6108], dtype=int64)"
     },
     "execution_count": 12,
     "metadata": {},
     "output_type": "execute_result"
    }
   ],
   "source": [
    "slp_test = generate_X_train_test(X_test)\n",
    "X_test['id_sequence']"
   ],
   "metadata": {
    "collapsed": false,
    "pycharm": {
     "name": "#%%\n"
    }
   }
  },
  {
   "cell_type": "markdown",
   "source": [
    "#### Making y or surge_train / Y_train"
   ],
   "metadata": {
    "collapsed": false,
    "pycharm": {
     "name": "#%% md\n"
    }
   }
  },
  {
   "cell_type": "code",
   "execution_count": 13,
   "outputs": [
    {
     "data": {
      "text/plain": "array([[ 0.58693592,  1.06958024,  0.76792754, ..., -0.42270688,\n        -0.45623606, -0.82505705],\n       [ 0.76792754, -0.1001619 ,  0.07077463, ..., -0.82505705,\n        -0.99270295, -0.99270295],\n       [ 0.07077463, -0.24428486, -0.35489084, ..., -0.99270295,\n        -0.32211934, -0.88373311],\n       ...,\n       [ 0.48303332,  0.53330877,  1.44832196, ...,  1.22022298,\n         1.44654495,  2.67036005],\n       [ 1.44832196,  1.82036029,  1.66283054, ...,  2.67036005,\n         2.62006628,  2.67874235],\n       [ 1.66283054,  1.52876268,  1.28408882, ...,  2.67874235,\n         1.22022298,  0.72566756]])"
     },
     "execution_count": 13,
     "metadata": {},
     "output_type": "execute_result"
    }
   ],
   "source": [
    "surge_train = generate_Y_train(Y_train)\n",
    "surge_train"
   ],
   "metadata": {
    "collapsed": false,
    "pycharm": {
     "name": "#%%\n"
    }
   }
  },
  {
   "cell_type": "code",
   "execution_count": 14,
   "outputs": [
    {
     "data": {
      "text/plain": "      surge1_t0  surge1_t1  surge1_t2  surge1_t3  surge1_t4  surge1_t5  \\\n1      0.586936   1.069580   0.767928  -0.100162   0.070775  -0.244285   \n2      0.767928  -0.100162   0.070775  -0.244285  -0.354891  -0.928031   \n3      0.070775  -0.244285  -0.354891  -0.928031  -0.773853  -0.375001   \n4     -0.354891  -0.928031  -0.773853  -0.375001  -0.361594  -0.210768   \n5     -0.773853  -0.375001  -0.361594  -0.210768   0.288635  -0.726929   \n...         ...        ...        ...        ...        ...        ...   \n5595   1.451674   1.220407   0.556771   1.709754   0.483033   0.533309   \n5596   0.556771   1.709754   0.483033   0.533309   1.448322   1.820360   \n5597   0.483033   0.533309   1.448322   1.820360   1.662831   1.528763   \n5598   1.448322   1.820360   1.662831   1.528763   1.284089   0.070775   \n5599   1.662831   1.528763   1.284089   0.070775   0.888589   1.545521   \n\n      surge1_t6  surge1_t7  surge1_t8  surge1_t9  surge2_t0  surge2_t1  \\\n1     -0.354891  -0.928031  -0.773853  -0.375001  -0.053886   0.356847   \n2     -0.773853  -0.375001  -0.361594  -0.210768   0.348464   0.264641   \n3     -0.361594  -0.210768   0.288635  -0.726929   0.901696   0.449052   \n4      0.288635  -0.726929  -0.576103   1.160076   0.113760  -0.422707   \n5     -0.576103   1.160076   0.442813   0.305393  -0.456236  -0.825057   \n...         ...        ...        ...        ...        ...        ...   \n5595   1.448322   1.820360   1.662831   1.528763   0.759197   0.884931   \n5596   1.662831   1.528763   1.284089   0.070775   0.298171  -0.397560   \n5597   1.284089   0.070775   0.888589   1.545521  -0.540059  -0.498148   \n5598   0.888589   1.545521   1.166779   0.653970  -0.498148  -0.405942   \n5599   1.166779   0.653970   0.409296   0.137809   0.164054   0.331700   \n\n      surge2_t2  surge2_t3  surge2_t4  surge2_t5  surge2_t6  surge2_t7  \\\n1      0.348464   0.264641   0.901696   0.449052   0.113760  -0.422707   \n2      0.901696   0.449052   0.113760  -0.422707  -0.456236  -0.825057   \n3      0.113760  -0.422707  -0.456236  -0.825057  -0.992703  -0.992703   \n4     -0.456236  -0.825057  -0.992703  -0.992703  -0.322119  -0.883733   \n5     -0.992703  -0.992703  -0.322119  -0.883733  -0.473001  -0.422707   \n...         ...        ...        ...        ...        ...        ...   \n5595   0.298171  -0.397560  -0.540059  -0.498148  -0.498148  -0.405942   \n5596  -0.540059  -0.498148  -0.498148  -0.405942   0.164054   0.331700   \n5597  -0.498148  -0.405942   0.164054   0.331700   1.052577   1.220223   \n5598   0.164054   0.331700   1.052577   1.220223   1.446545   2.670360   \n5599   1.052577   1.220223   1.446545   2.670360   2.620066   2.678742   \n\n      surge2_t8  surge2_t9  \n1     -0.456236  -0.825057  \n2     -0.992703  -0.992703  \n3     -0.322119  -0.883733  \n4     -0.473001  -0.422707  \n5     -0.473001  -0.531677  \n...         ...        ...  \n5595   0.164054   0.331700  \n5596   1.052577   1.220223  \n5597   1.446545   2.670360  \n5598   2.620066   2.678742  \n5599   1.220223   0.725668  \n\n[5599 rows x 20 columns]",
      "text/html": "<div>\n<style scoped>\n    .dataframe tbody tr th:only-of-type {\n        vertical-align: middle;\n    }\n\n    .dataframe tbody tr th {\n        vertical-align: top;\n    }\n\n    .dataframe thead th {\n        text-align: right;\n    }\n</style>\n<table border=\"1\" class=\"dataframe\">\n  <thead>\n    <tr style=\"text-align: right;\">\n      <th></th>\n      <th>surge1_t0</th>\n      <th>surge1_t1</th>\n      <th>surge1_t2</th>\n      <th>surge1_t3</th>\n      <th>surge1_t4</th>\n      <th>surge1_t5</th>\n      <th>surge1_t6</th>\n      <th>surge1_t7</th>\n      <th>surge1_t8</th>\n      <th>surge1_t9</th>\n      <th>surge2_t0</th>\n      <th>surge2_t1</th>\n      <th>surge2_t2</th>\n      <th>surge2_t3</th>\n      <th>surge2_t4</th>\n      <th>surge2_t5</th>\n      <th>surge2_t6</th>\n      <th>surge2_t7</th>\n      <th>surge2_t8</th>\n      <th>surge2_t9</th>\n    </tr>\n  </thead>\n  <tbody>\n    <tr>\n      <th>1</th>\n      <td>0.586936</td>\n      <td>1.069580</td>\n      <td>0.767928</td>\n      <td>-0.100162</td>\n      <td>0.070775</td>\n      <td>-0.244285</td>\n      <td>-0.354891</td>\n      <td>-0.928031</td>\n      <td>-0.773853</td>\n      <td>-0.375001</td>\n      <td>-0.053886</td>\n      <td>0.356847</td>\n      <td>0.348464</td>\n      <td>0.264641</td>\n      <td>0.901696</td>\n      <td>0.449052</td>\n      <td>0.113760</td>\n      <td>-0.422707</td>\n      <td>-0.456236</td>\n      <td>-0.825057</td>\n    </tr>\n    <tr>\n      <th>2</th>\n      <td>0.767928</td>\n      <td>-0.100162</td>\n      <td>0.070775</td>\n      <td>-0.244285</td>\n      <td>-0.354891</td>\n      <td>-0.928031</td>\n      <td>-0.773853</td>\n      <td>-0.375001</td>\n      <td>-0.361594</td>\n      <td>-0.210768</td>\n      <td>0.348464</td>\n      <td>0.264641</td>\n      <td>0.901696</td>\n      <td>0.449052</td>\n      <td>0.113760</td>\n      <td>-0.422707</td>\n      <td>-0.456236</td>\n      <td>-0.825057</td>\n      <td>-0.992703</td>\n      <td>-0.992703</td>\n    </tr>\n    <tr>\n      <th>3</th>\n      <td>0.070775</td>\n      <td>-0.244285</td>\n      <td>-0.354891</td>\n      <td>-0.928031</td>\n      <td>-0.773853</td>\n      <td>-0.375001</td>\n      <td>-0.361594</td>\n      <td>-0.210768</td>\n      <td>0.288635</td>\n      <td>-0.726929</td>\n      <td>0.901696</td>\n      <td>0.449052</td>\n      <td>0.113760</td>\n      <td>-0.422707</td>\n      <td>-0.456236</td>\n      <td>-0.825057</td>\n      <td>-0.992703</td>\n      <td>-0.992703</td>\n      <td>-0.322119</td>\n      <td>-0.883733</td>\n    </tr>\n    <tr>\n      <th>4</th>\n      <td>-0.354891</td>\n      <td>-0.928031</td>\n      <td>-0.773853</td>\n      <td>-0.375001</td>\n      <td>-0.361594</td>\n      <td>-0.210768</td>\n      <td>0.288635</td>\n      <td>-0.726929</td>\n      <td>-0.576103</td>\n      <td>1.160076</td>\n      <td>0.113760</td>\n      <td>-0.422707</td>\n      <td>-0.456236</td>\n      <td>-0.825057</td>\n      <td>-0.992703</td>\n      <td>-0.992703</td>\n      <td>-0.322119</td>\n      <td>-0.883733</td>\n      <td>-0.473001</td>\n      <td>-0.422707</td>\n    </tr>\n    <tr>\n      <th>5</th>\n      <td>-0.773853</td>\n      <td>-0.375001</td>\n      <td>-0.361594</td>\n      <td>-0.210768</td>\n      <td>0.288635</td>\n      <td>-0.726929</td>\n      <td>-0.576103</td>\n      <td>1.160076</td>\n      <td>0.442813</td>\n      <td>0.305393</td>\n      <td>-0.456236</td>\n      <td>-0.825057</td>\n      <td>-0.992703</td>\n      <td>-0.992703</td>\n      <td>-0.322119</td>\n      <td>-0.883733</td>\n      <td>-0.473001</td>\n      <td>-0.422707</td>\n      <td>-0.473001</td>\n      <td>-0.531677</td>\n    </tr>\n    <tr>\n      <th>...</th>\n      <td>...</td>\n      <td>...</td>\n      <td>...</td>\n      <td>...</td>\n      <td>...</td>\n      <td>...</td>\n      <td>...</td>\n      <td>...</td>\n      <td>...</td>\n      <td>...</td>\n      <td>...</td>\n      <td>...</td>\n      <td>...</td>\n      <td>...</td>\n      <td>...</td>\n      <td>...</td>\n      <td>...</td>\n      <td>...</td>\n      <td>...</td>\n      <td>...</td>\n    </tr>\n    <tr>\n      <th>5595</th>\n      <td>1.451674</td>\n      <td>1.220407</td>\n      <td>0.556771</td>\n      <td>1.709754</td>\n      <td>0.483033</td>\n      <td>0.533309</td>\n      <td>1.448322</td>\n      <td>1.820360</td>\n      <td>1.662831</td>\n      <td>1.528763</td>\n      <td>0.759197</td>\n      <td>0.884931</td>\n      <td>0.298171</td>\n      <td>-0.397560</td>\n      <td>-0.540059</td>\n      <td>-0.498148</td>\n      <td>-0.498148</td>\n      <td>-0.405942</td>\n      <td>0.164054</td>\n      <td>0.331700</td>\n    </tr>\n    <tr>\n      <th>5596</th>\n      <td>0.556771</td>\n      <td>1.709754</td>\n      <td>0.483033</td>\n      <td>0.533309</td>\n      <td>1.448322</td>\n      <td>1.820360</td>\n      <td>1.662831</td>\n      <td>1.528763</td>\n      <td>1.284089</td>\n      <td>0.070775</td>\n      <td>0.298171</td>\n      <td>-0.397560</td>\n      <td>-0.540059</td>\n      <td>-0.498148</td>\n      <td>-0.498148</td>\n      <td>-0.405942</td>\n      <td>0.164054</td>\n      <td>0.331700</td>\n      <td>1.052577</td>\n      <td>1.220223</td>\n    </tr>\n    <tr>\n      <th>5597</th>\n      <td>0.483033</td>\n      <td>0.533309</td>\n      <td>1.448322</td>\n      <td>1.820360</td>\n      <td>1.662831</td>\n      <td>1.528763</td>\n      <td>1.284089</td>\n      <td>0.070775</td>\n      <td>0.888589</td>\n      <td>1.545521</td>\n      <td>-0.540059</td>\n      <td>-0.498148</td>\n      <td>-0.498148</td>\n      <td>-0.405942</td>\n      <td>0.164054</td>\n      <td>0.331700</td>\n      <td>1.052577</td>\n      <td>1.220223</td>\n      <td>1.446545</td>\n      <td>2.670360</td>\n    </tr>\n    <tr>\n      <th>5598</th>\n      <td>1.448322</td>\n      <td>1.820360</td>\n      <td>1.662831</td>\n      <td>1.528763</td>\n      <td>1.284089</td>\n      <td>0.070775</td>\n      <td>0.888589</td>\n      <td>1.545521</td>\n      <td>1.166779</td>\n      <td>0.653970</td>\n      <td>-0.498148</td>\n      <td>-0.405942</td>\n      <td>0.164054</td>\n      <td>0.331700</td>\n      <td>1.052577</td>\n      <td>1.220223</td>\n      <td>1.446545</td>\n      <td>2.670360</td>\n      <td>2.620066</td>\n      <td>2.678742</td>\n    </tr>\n    <tr>\n      <th>5599</th>\n      <td>1.662831</td>\n      <td>1.528763</td>\n      <td>1.284089</td>\n      <td>0.070775</td>\n      <td>0.888589</td>\n      <td>1.545521</td>\n      <td>1.166779</td>\n      <td>0.653970</td>\n      <td>0.409296</td>\n      <td>0.137809</td>\n      <td>0.164054</td>\n      <td>0.331700</td>\n      <td>1.052577</td>\n      <td>1.220223</td>\n      <td>1.446545</td>\n      <td>2.670360</td>\n      <td>2.620066</td>\n      <td>2.678742</td>\n      <td>1.220223</td>\n      <td>0.725668</td>\n    </tr>\n  </tbody>\n</table>\n<p>5599 rows × 20 columns</p>\n</div>"
     },
     "execution_count": 14,
     "metadata": {},
     "output_type": "execute_result"
    }
   ],
   "source": [
    "surge_train_df = Y_train_to_dataframe(surge_train, X_train)\n",
    "surge_train_df"
   ],
   "metadata": {
    "collapsed": false,
    "pycharm": {
     "name": "#%%\n"
    }
   }
  },
  {
   "cell_type": "markdown",
   "source": [
    "#### Splitting train / test set using X_train and Y_train"
   ],
   "metadata": {
    "collapsed": false,
    "pycharm": {
     "name": "#%% md\n"
    }
   }
  },
  {
   "cell_type": "code",
   "execution_count": 15,
   "outputs": [],
   "source": [
    "X_train_surge, X_val_surge, y_train_surge, y_val_surge = train_test_split(slp_train, surge_train_df, test_size=0.3, random_state=seed)"
   ],
   "metadata": {
    "collapsed": false,
    "pycharm": {
     "name": "#%%\n"
    }
   }
  },
  {
   "cell_type": "code",
   "execution_count": 16,
   "outputs": [
    {
     "data": {
      "text/plain": "(5599, 3362)"
     },
     "execution_count": 16,
     "metadata": {},
     "output_type": "execute_result"
    }
   ],
   "source": [
    "slp_train.shape"
   ],
   "metadata": {
    "collapsed": false,
    "pycharm": {
     "name": "#%%\n"
    }
   }
  },
  {
   "cell_type": "code",
   "execution_count": 17,
   "outputs": [
    {
     "data": {
      "text/plain": "(5599, 20)"
     },
     "execution_count": 17,
     "metadata": {},
     "output_type": "execute_result"
    }
   ],
   "source": [
    "surge_train.shape"
   ],
   "metadata": {
    "collapsed": false,
    "pycharm": {
     "name": "#%%\n"
    }
   }
  },
  {
   "cell_type": "code",
   "execution_count": 18,
   "outputs": [
    {
     "data": {
      "text/plain": "(3919, 3362)"
     },
     "execution_count": 18,
     "metadata": {},
     "output_type": "execute_result"
    }
   ],
   "source": [
    "X_train_surge.shape"
   ],
   "metadata": {
    "collapsed": false,
    "pycharm": {
     "name": "#%%\n"
    }
   }
  },
  {
   "cell_type": "code",
   "execution_count": 19,
   "outputs": [
    {
     "data": {
      "text/plain": "(1680, 20)"
     },
     "execution_count": 19,
     "metadata": {},
     "output_type": "execute_result"
    }
   ],
   "source": [
    "y_val_surge.shape"
   ],
   "metadata": {
    "collapsed": false,
    "pycharm": {
     "name": "#%%\n"
    }
   }
  },
  {
   "cell_type": "code",
   "execution_count": 20,
   "outputs": [
    {
     "data": {
      "text/plain": "array([[102176.35, 102156.35, 102133.35, ..., 101640.01, 101663.01,\n        101685.01],\n       [101805.57, 101868.57, 101921.57, ..., 100350.2 , 100314.2 ,\n        100281.2 ],\n       [102114.1 , 102082.1 , 102049.1 , ..., 101215.24, 101180.24,\n        101145.24],\n       ...,\n       [101786.12, 101687.12, 101576.12, ..., 100236.8 , 100318.8 ,\n        100393.8 ],\n       [102499.41, 102499.41, 102497.41, ..., 100472.49, 100492.49,\n        100510.49],\n       [101569.21, 101633.21, 101687.21, ...,  98750.56,  98741.56,\n         98742.56]], dtype=float32)"
     },
     "execution_count": 20,
     "metadata": {},
     "output_type": "execute_result"
    }
   ],
   "source": [
    "X_train_surge"
   ],
   "metadata": {
    "collapsed": false,
    "pycharm": {
     "name": "#%%\n"
    }
   }
  },
  {
   "cell_type": "code",
   "execution_count": 21,
   "outputs": [
    {
     "data": {
      "text/plain": "      surge1_t0  surge1_t1  surge1_t2  surge1_t3  surge1_t4  surge1_t5  \\\n4441  -0.167196  -0.234230  -0.110217  -0.029776   0.047313  -0.046535   \n2472   0.238359   2.105255   0.888589   1.062877   1.103097  -1.638591   \n3317  -0.096810  -0.100162  -0.103514   0.265173  -0.244285  -0.321374   \n81     1.331013   0.553419   1.220407   0.637211  -0.013018  -0.150437   \n4806   1.776788   3.053785   3.516319   2.557734   0.922106   2.068386   \n...         ...        ...        ...        ...        ...        ...   \n1392  -1.440841  -1.135836  -0.760446  -0.747039  -0.271098  -0.499014   \n4351  -0.116920  -0.328077  -0.371649  -0.455442  -0.455442  -0.499014   \n221   -1.420730  -1.561502  -1.702273  -1.826286  -1.779362  -1.283311   \n1746  -0.163844  -0.458793  -0.006314  -0.090107  -0.250988  -0.368298   \n628    0.070775  -0.971603  -0.877756  -1.427434  -1.507874  -0.944789   \n\n      surge1_t6  surge1_t7  surge1_t8  surge1_t9  surge2_t0  surge2_t1  \\\n4441  -0.354891  -0.405166  -0.314670  -0.690061  -0.104180  -0.162856   \n2472  -1.145891  -0.321374  -0.579455  -0.666599  -1.336377  -0.967556   \n3317  -0.552641  -0.579455  -0.646488  -0.110217   1.002283   0.960372   \n81     0.141160   0.198139   0.060720  -0.371649  -0.925645  -1.403435   \n4806   1.713106   1.153373   2.406907   1.947725   0.901696   1.236988   \n...         ...        ...        ...        ...        ...        ...   \n1392  -0.539234  -0.696764  -0.874404  -0.901217   1.295664   1.589044   \n4351  -0.143734  -0.009666  -0.096810  -0.485607  -0.364031  -0.322119   \n221   -1.249794  -0.921328  -0.991713  -0.777205  -0.380795   0.843020   \n1746  -0.214120   0.208194   0.074126  -0.056590   0.423905   0.524492   \n628   -0.418573  -0.254340   0.258470   0.808148   0.910078   0.264641   \n\n      surge2_t2  surge2_t3  surge2_t4  surge2_t5  surge2_t6  surge2_t7  \\\n4441  -0.104180  -0.548441  -0.783146  -0.481383  -0.774763  -0.422707   \n2472  -0.892115  -0.011974  -0.095797   0.105378  -0.095797  -0.162856   \n3317   0.893313   0.943607   0.700521   0.457434   0.365229   0.608315   \n81    -1.252554  -1.420200  -1.026232  -0.833439  -0.045504  -0.028739   \n4806   0.717285   0.650227   0.708903   0.356847   0.474199   0.222730   \n...         ...        ...        ...        ...        ...        ...   \n1392   1.228605   0.273024  -0.305355  -0.355649  -0.716087  -1.051379   \n4351  -0.489765  -0.791528  -0.556824  -0.690940  -0.422707  -0.674176   \n221   -0.028739  -0.120944  -0.540059  -0.313737  -1.219025  -1.235790   \n1746   0.750814   0.532875   1.060959   0.641845   0.708903   0.775961   \n628   -0.095797  -0.313737  -0.062268  -0.146091  -0.347266  -1.068144   \n\n      surge2_t8  surge2_t9  \n4441  -0.296972   0.398758  \n2472   0.113760   0.331700  \n3317   0.289788   0.390376  \n81    -0.347266  -0.975938  \n4806   0.247877   0.055084  \n...         ...        ...  \n1392  -0.489765  -0.188003  \n4351  -0.196385  -0.313737  \n221   -1.587846  -1.638140  \n1746   0.616698   0.474199  \n628   -1.277701  -0.917262  \n\n[1680 rows x 20 columns]",
      "text/html": "<div>\n<style scoped>\n    .dataframe tbody tr th:only-of-type {\n        vertical-align: middle;\n    }\n\n    .dataframe tbody tr th {\n        vertical-align: top;\n    }\n\n    .dataframe thead th {\n        text-align: right;\n    }\n</style>\n<table border=\"1\" class=\"dataframe\">\n  <thead>\n    <tr style=\"text-align: right;\">\n      <th></th>\n      <th>surge1_t0</th>\n      <th>surge1_t1</th>\n      <th>surge1_t2</th>\n      <th>surge1_t3</th>\n      <th>surge1_t4</th>\n      <th>surge1_t5</th>\n      <th>surge1_t6</th>\n      <th>surge1_t7</th>\n      <th>surge1_t8</th>\n      <th>surge1_t9</th>\n      <th>surge2_t0</th>\n      <th>surge2_t1</th>\n      <th>surge2_t2</th>\n      <th>surge2_t3</th>\n      <th>surge2_t4</th>\n      <th>surge2_t5</th>\n      <th>surge2_t6</th>\n      <th>surge2_t7</th>\n      <th>surge2_t8</th>\n      <th>surge2_t9</th>\n    </tr>\n  </thead>\n  <tbody>\n    <tr>\n      <th>4441</th>\n      <td>-0.167196</td>\n      <td>-0.234230</td>\n      <td>-0.110217</td>\n      <td>-0.029776</td>\n      <td>0.047313</td>\n      <td>-0.046535</td>\n      <td>-0.354891</td>\n      <td>-0.405166</td>\n      <td>-0.314670</td>\n      <td>-0.690061</td>\n      <td>-0.104180</td>\n      <td>-0.162856</td>\n      <td>-0.104180</td>\n      <td>-0.548441</td>\n      <td>-0.783146</td>\n      <td>-0.481383</td>\n      <td>-0.774763</td>\n      <td>-0.422707</td>\n      <td>-0.296972</td>\n      <td>0.398758</td>\n    </tr>\n    <tr>\n      <th>2472</th>\n      <td>0.238359</td>\n      <td>2.105255</td>\n      <td>0.888589</td>\n      <td>1.062877</td>\n      <td>1.103097</td>\n      <td>-1.638591</td>\n      <td>-1.145891</td>\n      <td>-0.321374</td>\n      <td>-0.579455</td>\n      <td>-0.666599</td>\n      <td>-1.336377</td>\n      <td>-0.967556</td>\n      <td>-0.892115</td>\n      <td>-0.011974</td>\n      <td>-0.095797</td>\n      <td>0.105378</td>\n      <td>-0.095797</td>\n      <td>-0.162856</td>\n      <td>0.113760</td>\n      <td>0.331700</td>\n    </tr>\n    <tr>\n      <th>3317</th>\n      <td>-0.096810</td>\n      <td>-0.100162</td>\n      <td>-0.103514</td>\n      <td>0.265173</td>\n      <td>-0.244285</td>\n      <td>-0.321374</td>\n      <td>-0.552641</td>\n      <td>-0.579455</td>\n      <td>-0.646488</td>\n      <td>-0.110217</td>\n      <td>1.002283</td>\n      <td>0.960372</td>\n      <td>0.893313</td>\n      <td>0.943607</td>\n      <td>0.700521</td>\n      <td>0.457434</td>\n      <td>0.365229</td>\n      <td>0.608315</td>\n      <td>0.289788</td>\n      <td>0.390376</td>\n    </tr>\n    <tr>\n      <th>81</th>\n      <td>1.331013</td>\n      <td>0.553419</td>\n      <td>1.220407</td>\n      <td>0.637211</td>\n      <td>-0.013018</td>\n      <td>-0.150437</td>\n      <td>0.141160</td>\n      <td>0.198139</td>\n      <td>0.060720</td>\n      <td>-0.371649</td>\n      <td>-0.925645</td>\n      <td>-1.403435</td>\n      <td>-1.252554</td>\n      <td>-1.420200</td>\n      <td>-1.026232</td>\n      <td>-0.833439</td>\n      <td>-0.045504</td>\n      <td>-0.028739</td>\n      <td>-0.347266</td>\n      <td>-0.975938</td>\n    </tr>\n    <tr>\n      <th>4806</th>\n      <td>1.776788</td>\n      <td>3.053785</td>\n      <td>3.516319</td>\n      <td>2.557734</td>\n      <td>0.922106</td>\n      <td>2.068386</td>\n      <td>1.713106</td>\n      <td>1.153373</td>\n      <td>2.406907</td>\n      <td>1.947725</td>\n      <td>0.901696</td>\n      <td>1.236988</td>\n      <td>0.717285</td>\n      <td>0.650227</td>\n      <td>0.708903</td>\n      <td>0.356847</td>\n      <td>0.474199</td>\n      <td>0.222730</td>\n      <td>0.247877</td>\n      <td>0.055084</td>\n    </tr>\n    <tr>\n      <th>...</th>\n      <td>...</td>\n      <td>...</td>\n      <td>...</td>\n      <td>...</td>\n      <td>...</td>\n      <td>...</td>\n      <td>...</td>\n      <td>...</td>\n      <td>...</td>\n      <td>...</td>\n      <td>...</td>\n      <td>...</td>\n      <td>...</td>\n      <td>...</td>\n      <td>...</td>\n      <td>...</td>\n      <td>...</td>\n      <td>...</td>\n      <td>...</td>\n      <td>...</td>\n    </tr>\n    <tr>\n      <th>1392</th>\n      <td>-1.440841</td>\n      <td>-1.135836</td>\n      <td>-0.760446</td>\n      <td>-0.747039</td>\n      <td>-0.271098</td>\n      <td>-0.499014</td>\n      <td>-0.539234</td>\n      <td>-0.696764</td>\n      <td>-0.874404</td>\n      <td>-0.901217</td>\n      <td>1.295664</td>\n      <td>1.589044</td>\n      <td>1.228605</td>\n      <td>0.273024</td>\n      <td>-0.305355</td>\n      <td>-0.355649</td>\n      <td>-0.716087</td>\n      <td>-1.051379</td>\n      <td>-0.489765</td>\n      <td>-0.188003</td>\n    </tr>\n    <tr>\n      <th>4351</th>\n      <td>-0.116920</td>\n      <td>-0.328077</td>\n      <td>-0.371649</td>\n      <td>-0.455442</td>\n      <td>-0.455442</td>\n      <td>-0.499014</td>\n      <td>-0.143734</td>\n      <td>-0.009666</td>\n      <td>-0.096810</td>\n      <td>-0.485607</td>\n      <td>-0.364031</td>\n      <td>-0.322119</td>\n      <td>-0.489765</td>\n      <td>-0.791528</td>\n      <td>-0.556824</td>\n      <td>-0.690940</td>\n      <td>-0.422707</td>\n      <td>-0.674176</td>\n      <td>-0.196385</td>\n      <td>-0.313737</td>\n    </tr>\n    <tr>\n      <th>221</th>\n      <td>-1.420730</td>\n      <td>-1.561502</td>\n      <td>-1.702273</td>\n      <td>-1.826286</td>\n      <td>-1.779362</td>\n      <td>-1.283311</td>\n      <td>-1.249794</td>\n      <td>-0.921328</td>\n      <td>-0.991713</td>\n      <td>-0.777205</td>\n      <td>-0.380795</td>\n      <td>0.843020</td>\n      <td>-0.028739</td>\n      <td>-0.120944</td>\n      <td>-0.540059</td>\n      <td>-0.313737</td>\n      <td>-1.219025</td>\n      <td>-1.235790</td>\n      <td>-1.587846</td>\n      <td>-1.638140</td>\n    </tr>\n    <tr>\n      <th>1746</th>\n      <td>-0.163844</td>\n      <td>-0.458793</td>\n      <td>-0.006314</td>\n      <td>-0.090107</td>\n      <td>-0.250988</td>\n      <td>-0.368298</td>\n      <td>-0.214120</td>\n      <td>0.208194</td>\n      <td>0.074126</td>\n      <td>-0.056590</td>\n      <td>0.423905</td>\n      <td>0.524492</td>\n      <td>0.750814</td>\n      <td>0.532875</td>\n      <td>1.060959</td>\n      <td>0.641845</td>\n      <td>0.708903</td>\n      <td>0.775961</td>\n      <td>0.616698</td>\n      <td>0.474199</td>\n    </tr>\n    <tr>\n      <th>628</th>\n      <td>0.070775</td>\n      <td>-0.971603</td>\n      <td>-0.877756</td>\n      <td>-1.427434</td>\n      <td>-1.507874</td>\n      <td>-0.944789</td>\n      <td>-0.418573</td>\n      <td>-0.254340</td>\n      <td>0.258470</td>\n      <td>0.808148</td>\n      <td>0.910078</td>\n      <td>0.264641</td>\n      <td>-0.095797</td>\n      <td>-0.313737</td>\n      <td>-0.062268</td>\n      <td>-0.146091</td>\n      <td>-0.347266</td>\n      <td>-1.068144</td>\n      <td>-1.277701</td>\n      <td>-0.917262</td>\n    </tr>\n  </tbody>\n</table>\n<p>1680 rows × 20 columns</p>\n</div>"
     },
     "execution_count": 21,
     "metadata": {},
     "output_type": "execute_result"
    }
   ],
   "source": [
    "y_val_surge"
   ],
   "metadata": {
    "collapsed": false,
    "pycharm": {
     "name": "#%%\n"
    }
   }
  },
  {
   "cell_type": "code",
   "execution_count": 22,
   "outputs": [
    {
     "data": {
      "text/plain": "         0\n0        1\n1        2\n2        3\n3        4\n4        5\n...    ...\n5594  5595\n5595  5596\n5596  5597\n5597  5598\n5598  5599\n\n[5599 rows x 1 columns]",
      "text/html": "<div>\n<style scoped>\n    .dataframe tbody tr th:only-of-type {\n        vertical-align: middle;\n    }\n\n    .dataframe tbody tr th {\n        vertical-align: top;\n    }\n\n    .dataframe thead th {\n        text-align: right;\n    }\n</style>\n<table border=\"1\" class=\"dataframe\">\n  <thead>\n    <tr style=\"text-align: right;\">\n      <th></th>\n      <th>0</th>\n    </tr>\n  </thead>\n  <tbody>\n    <tr>\n      <th>0</th>\n      <td>1</td>\n    </tr>\n    <tr>\n      <th>1</th>\n      <td>2</td>\n    </tr>\n    <tr>\n      <th>2</th>\n      <td>3</td>\n    </tr>\n    <tr>\n      <th>3</th>\n      <td>4</td>\n    </tr>\n    <tr>\n      <th>4</th>\n      <td>5</td>\n    </tr>\n    <tr>\n      <th>...</th>\n      <td>...</td>\n    </tr>\n    <tr>\n      <th>5594</th>\n      <td>5595</td>\n    </tr>\n    <tr>\n      <th>5595</th>\n      <td>5596</td>\n    </tr>\n    <tr>\n      <th>5596</th>\n      <td>5597</td>\n    </tr>\n    <tr>\n      <th>5597</th>\n      <td>5598</td>\n    </tr>\n    <tr>\n      <th>5598</th>\n      <td>5599</td>\n    </tr>\n  </tbody>\n</table>\n<p>5599 rows × 1 columns</p>\n</div>"
     },
     "execution_count": 22,
     "metadata": {},
     "output_type": "execute_result"
    }
   ],
   "source": [
    "pd.DataFrame(X_train[\"id_sequence\"])"
   ],
   "metadata": {
    "collapsed": false,
    "pycharm": {
     "name": "#%%\n"
    }
   }
  },
  {
   "cell_type": "code",
   "execution_count": 23,
   "outputs": [
    {
     "data": {
      "text/plain": "      id_sequence  surge1_t0  surge1_t1  surge1_t2  surge1_t3  surge1_t4  \\\n0               1   0.586936   1.069580   0.767928  -0.100162   0.070775   \n1               2   0.767928  -0.100162   0.070775  -0.244285  -0.354891   \n2               3   0.070775  -0.244285  -0.354891  -0.928031  -0.773853   \n3               4  -0.354891  -0.928031  -0.773853  -0.375001  -0.361594   \n4               5  -0.773853  -0.375001  -0.361594  -0.210768   0.288635   \n...           ...        ...        ...        ...        ...        ...   \n5594         5595   1.451674   1.220407   0.556771   1.709754   0.483033   \n5595         5596   0.556771   1.709754   0.483033   0.533309   1.448322   \n5596         5597   0.483033   0.533309   1.448322   1.820360   1.662831   \n5597         5598   1.448322   1.820360   1.662831   1.528763   1.284089   \n5598         5599   1.662831   1.528763   1.284089   0.070775   0.888589   \n\n      surge1_t5  surge1_t6  surge1_t7  surge1_t8  ...  surge2_t0  surge2_t1  \\\n0     -0.244285  -0.354891  -0.928031  -0.773853  ...  -0.053886   0.356847   \n1     -0.928031  -0.773853  -0.375001  -0.361594  ...   0.348464   0.264641   \n2     -0.375001  -0.361594  -0.210768   0.288635  ...   0.901696   0.449052   \n3     -0.210768   0.288635  -0.726929  -0.576103  ...   0.113760  -0.422707   \n4     -0.726929  -0.576103   1.160076   0.442813  ...  -0.456236  -0.825057   \n...         ...        ...        ...        ...  ...        ...        ...   \n5594   0.533309   1.448322   1.820360   1.662831  ...   0.759197   0.884931   \n5595   1.820360   1.662831   1.528763   1.284089  ...   0.298171  -0.397560   \n5596   1.528763   1.284089   0.070775   0.888589  ...  -0.540059  -0.498148   \n5597   0.070775   0.888589   1.545521   1.166779  ...  -0.498148  -0.405942   \n5598   1.545521   1.166779   0.653970   0.409296  ...   0.164054   0.331700   \n\n      surge2_t2  surge2_t3  surge2_t4  surge2_t5  surge2_t6  surge2_t7  \\\n0      0.348464   0.264641   0.901696   0.449052   0.113760  -0.422707   \n1      0.901696   0.449052   0.113760  -0.422707  -0.456236  -0.825057   \n2      0.113760  -0.422707  -0.456236  -0.825057  -0.992703  -0.992703   \n3     -0.456236  -0.825057  -0.992703  -0.992703  -0.322119  -0.883733   \n4     -0.992703  -0.992703  -0.322119  -0.883733  -0.473001  -0.422707   \n...         ...        ...        ...        ...        ...        ...   \n5594   0.298171  -0.397560  -0.540059  -0.498148  -0.498148  -0.405942   \n5595  -0.540059  -0.498148  -0.498148  -0.405942   0.164054   0.331700   \n5596  -0.498148  -0.405942   0.164054   0.331700   1.052577   1.220223   \n5597   0.164054   0.331700   1.052577   1.220223   1.446545   2.670360   \n5598   1.052577   1.220223   1.446545   2.670360   2.620066   2.678742   \n\n      surge2_t8  surge2_t9  \n0     -0.456236  -0.825057  \n1     -0.992703  -0.992703  \n2     -0.322119  -0.883733  \n3     -0.473001  -0.422707  \n4     -0.473001  -0.531677  \n...         ...        ...  \n5594   0.164054   0.331700  \n5595   1.052577   1.220223  \n5596   1.446545   2.670360  \n5597   2.620066   2.678742  \n5598   1.220223   0.725668  \n\n[5599 rows x 21 columns]",
      "text/html": "<div>\n<style scoped>\n    .dataframe tbody tr th:only-of-type {\n        vertical-align: middle;\n    }\n\n    .dataframe tbody tr th {\n        vertical-align: top;\n    }\n\n    .dataframe thead th {\n        text-align: right;\n    }\n</style>\n<table border=\"1\" class=\"dataframe\">\n  <thead>\n    <tr style=\"text-align: right;\">\n      <th></th>\n      <th>id_sequence</th>\n      <th>surge1_t0</th>\n      <th>surge1_t1</th>\n      <th>surge1_t2</th>\n      <th>surge1_t3</th>\n      <th>surge1_t4</th>\n      <th>surge1_t5</th>\n      <th>surge1_t6</th>\n      <th>surge1_t7</th>\n      <th>surge1_t8</th>\n      <th>...</th>\n      <th>surge2_t0</th>\n      <th>surge2_t1</th>\n      <th>surge2_t2</th>\n      <th>surge2_t3</th>\n      <th>surge2_t4</th>\n      <th>surge2_t5</th>\n      <th>surge2_t6</th>\n      <th>surge2_t7</th>\n      <th>surge2_t8</th>\n      <th>surge2_t9</th>\n    </tr>\n  </thead>\n  <tbody>\n    <tr>\n      <th>0</th>\n      <td>1</td>\n      <td>0.586936</td>\n      <td>1.069580</td>\n      <td>0.767928</td>\n      <td>-0.100162</td>\n      <td>0.070775</td>\n      <td>-0.244285</td>\n      <td>-0.354891</td>\n      <td>-0.928031</td>\n      <td>-0.773853</td>\n      <td>...</td>\n      <td>-0.053886</td>\n      <td>0.356847</td>\n      <td>0.348464</td>\n      <td>0.264641</td>\n      <td>0.901696</td>\n      <td>0.449052</td>\n      <td>0.113760</td>\n      <td>-0.422707</td>\n      <td>-0.456236</td>\n      <td>-0.825057</td>\n    </tr>\n    <tr>\n      <th>1</th>\n      <td>2</td>\n      <td>0.767928</td>\n      <td>-0.100162</td>\n      <td>0.070775</td>\n      <td>-0.244285</td>\n      <td>-0.354891</td>\n      <td>-0.928031</td>\n      <td>-0.773853</td>\n      <td>-0.375001</td>\n      <td>-0.361594</td>\n      <td>...</td>\n      <td>0.348464</td>\n      <td>0.264641</td>\n      <td>0.901696</td>\n      <td>0.449052</td>\n      <td>0.113760</td>\n      <td>-0.422707</td>\n      <td>-0.456236</td>\n      <td>-0.825057</td>\n      <td>-0.992703</td>\n      <td>-0.992703</td>\n    </tr>\n    <tr>\n      <th>2</th>\n      <td>3</td>\n      <td>0.070775</td>\n      <td>-0.244285</td>\n      <td>-0.354891</td>\n      <td>-0.928031</td>\n      <td>-0.773853</td>\n      <td>-0.375001</td>\n      <td>-0.361594</td>\n      <td>-0.210768</td>\n      <td>0.288635</td>\n      <td>...</td>\n      <td>0.901696</td>\n      <td>0.449052</td>\n      <td>0.113760</td>\n      <td>-0.422707</td>\n      <td>-0.456236</td>\n      <td>-0.825057</td>\n      <td>-0.992703</td>\n      <td>-0.992703</td>\n      <td>-0.322119</td>\n      <td>-0.883733</td>\n    </tr>\n    <tr>\n      <th>3</th>\n      <td>4</td>\n      <td>-0.354891</td>\n      <td>-0.928031</td>\n      <td>-0.773853</td>\n      <td>-0.375001</td>\n      <td>-0.361594</td>\n      <td>-0.210768</td>\n      <td>0.288635</td>\n      <td>-0.726929</td>\n      <td>-0.576103</td>\n      <td>...</td>\n      <td>0.113760</td>\n      <td>-0.422707</td>\n      <td>-0.456236</td>\n      <td>-0.825057</td>\n      <td>-0.992703</td>\n      <td>-0.992703</td>\n      <td>-0.322119</td>\n      <td>-0.883733</td>\n      <td>-0.473001</td>\n      <td>-0.422707</td>\n    </tr>\n    <tr>\n      <th>4</th>\n      <td>5</td>\n      <td>-0.773853</td>\n      <td>-0.375001</td>\n      <td>-0.361594</td>\n      <td>-0.210768</td>\n      <td>0.288635</td>\n      <td>-0.726929</td>\n      <td>-0.576103</td>\n      <td>1.160076</td>\n      <td>0.442813</td>\n      <td>...</td>\n      <td>-0.456236</td>\n      <td>-0.825057</td>\n      <td>-0.992703</td>\n      <td>-0.992703</td>\n      <td>-0.322119</td>\n      <td>-0.883733</td>\n      <td>-0.473001</td>\n      <td>-0.422707</td>\n      <td>-0.473001</td>\n      <td>-0.531677</td>\n    </tr>\n    <tr>\n      <th>...</th>\n      <td>...</td>\n      <td>...</td>\n      <td>...</td>\n      <td>...</td>\n      <td>...</td>\n      <td>...</td>\n      <td>...</td>\n      <td>...</td>\n      <td>...</td>\n      <td>...</td>\n      <td>...</td>\n      <td>...</td>\n      <td>...</td>\n      <td>...</td>\n      <td>...</td>\n      <td>...</td>\n      <td>...</td>\n      <td>...</td>\n      <td>...</td>\n      <td>...</td>\n      <td>...</td>\n    </tr>\n    <tr>\n      <th>5594</th>\n      <td>5595</td>\n      <td>1.451674</td>\n      <td>1.220407</td>\n      <td>0.556771</td>\n      <td>1.709754</td>\n      <td>0.483033</td>\n      <td>0.533309</td>\n      <td>1.448322</td>\n      <td>1.820360</td>\n      <td>1.662831</td>\n      <td>...</td>\n      <td>0.759197</td>\n      <td>0.884931</td>\n      <td>0.298171</td>\n      <td>-0.397560</td>\n      <td>-0.540059</td>\n      <td>-0.498148</td>\n      <td>-0.498148</td>\n      <td>-0.405942</td>\n      <td>0.164054</td>\n      <td>0.331700</td>\n    </tr>\n    <tr>\n      <th>5595</th>\n      <td>5596</td>\n      <td>0.556771</td>\n      <td>1.709754</td>\n      <td>0.483033</td>\n      <td>0.533309</td>\n      <td>1.448322</td>\n      <td>1.820360</td>\n      <td>1.662831</td>\n      <td>1.528763</td>\n      <td>1.284089</td>\n      <td>...</td>\n      <td>0.298171</td>\n      <td>-0.397560</td>\n      <td>-0.540059</td>\n      <td>-0.498148</td>\n      <td>-0.498148</td>\n      <td>-0.405942</td>\n      <td>0.164054</td>\n      <td>0.331700</td>\n      <td>1.052577</td>\n      <td>1.220223</td>\n    </tr>\n    <tr>\n      <th>5596</th>\n      <td>5597</td>\n      <td>0.483033</td>\n      <td>0.533309</td>\n      <td>1.448322</td>\n      <td>1.820360</td>\n      <td>1.662831</td>\n      <td>1.528763</td>\n      <td>1.284089</td>\n      <td>0.070775</td>\n      <td>0.888589</td>\n      <td>...</td>\n      <td>-0.540059</td>\n      <td>-0.498148</td>\n      <td>-0.498148</td>\n      <td>-0.405942</td>\n      <td>0.164054</td>\n      <td>0.331700</td>\n      <td>1.052577</td>\n      <td>1.220223</td>\n      <td>1.446545</td>\n      <td>2.670360</td>\n    </tr>\n    <tr>\n      <th>5597</th>\n      <td>5598</td>\n      <td>1.448322</td>\n      <td>1.820360</td>\n      <td>1.662831</td>\n      <td>1.528763</td>\n      <td>1.284089</td>\n      <td>0.070775</td>\n      <td>0.888589</td>\n      <td>1.545521</td>\n      <td>1.166779</td>\n      <td>...</td>\n      <td>-0.498148</td>\n      <td>-0.405942</td>\n      <td>0.164054</td>\n      <td>0.331700</td>\n      <td>1.052577</td>\n      <td>1.220223</td>\n      <td>1.446545</td>\n      <td>2.670360</td>\n      <td>2.620066</td>\n      <td>2.678742</td>\n    </tr>\n    <tr>\n      <th>5598</th>\n      <td>5599</td>\n      <td>1.662831</td>\n      <td>1.528763</td>\n      <td>1.284089</td>\n      <td>0.070775</td>\n      <td>0.888589</td>\n      <td>1.545521</td>\n      <td>1.166779</td>\n      <td>0.653970</td>\n      <td>0.409296</td>\n      <td>...</td>\n      <td>0.164054</td>\n      <td>0.331700</td>\n      <td>1.052577</td>\n      <td>1.220223</td>\n      <td>1.446545</td>\n      <td>2.670360</td>\n      <td>2.620066</td>\n      <td>2.678742</td>\n      <td>1.220223</td>\n      <td>0.725668</td>\n    </tr>\n  </tbody>\n</table>\n<p>5599 rows × 21 columns</p>\n</div>"
     },
     "execution_count": 23,
     "metadata": {},
     "output_type": "execute_result"
    }
   ],
   "source": [
    "pd.DataFrame(Y_train)"
   ],
   "metadata": {
    "collapsed": false,
    "pycharm": {
     "name": "#%%\n"
    }
   }
  },
  {
   "cell_type": "code",
   "execution_count": 24,
   "outputs": [
    {
     "data": {
      "text/plain": "(3919, 3362)"
     },
     "execution_count": 24,
     "metadata": {},
     "output_type": "execute_result"
    }
   ],
   "source": [
    "X_train_surge.shape"
   ],
   "metadata": {
    "collapsed": false,
    "pycharm": {
     "name": "#%%\n"
    }
   }
  },
  {
   "cell_type": "code",
   "execution_count": 25,
   "outputs": [
    {
     "data": {
      "text/plain": "(3919, 20)"
     },
     "execution_count": 25,
     "metadata": {},
     "output_type": "execute_result"
    }
   ],
   "source": [
    "y_train_surge.shape"
   ],
   "metadata": {
    "collapsed": false,
    "pycharm": {
     "name": "#%%\n"
    }
   }
  },
  {
   "cell_type": "markdown",
   "source": [
    "#### Saving testing set"
   ],
   "metadata": {
    "collapsed": false,
    "pycharm": {
     "name": "#%% md\n"
    }
   }
  },
  {
   "cell_type": "code",
   "execution_count": 26,
   "outputs": [],
   "source": [
    "y_val_surge.to_csv(output_path + \"Y_val_true.csv\", index_label='id_sequence', sep=',')"
   ],
   "metadata": {
    "collapsed": false,
    "pycharm": {
     "name": "#%%\n"
    }
   }
  },
  {
   "cell_type": "code",
   "execution_count": 26,
   "outputs": [],
   "source": [],
   "metadata": {
    "collapsed": false,
    "pycharm": {
     "name": "#%%\n"
    }
   }
  },
  {
   "cell_type": "markdown",
   "source": [
    "# Part II : Predictive modeling"
   ],
   "metadata": {
    "collapsed": false,
    "pycharm": {
     "name": "#%% md\n"
    }
   }
  },
  {
   "cell_type": "code",
   "execution_count": 27,
   "outputs": [
    {
     "data": {
      "text/plain": "array([[102176.35, 102156.35, 102133.35, ..., 101640.01, 101663.01,\n        101685.01],\n       [101805.57, 101868.57, 101921.57, ..., 100350.2 , 100314.2 ,\n        100281.2 ],\n       [102114.1 , 102082.1 , 102049.1 , ..., 101215.24, 101180.24,\n        101145.24],\n       ...,\n       [101786.12, 101687.12, 101576.12, ..., 100236.8 , 100318.8 ,\n        100393.8 ],\n       [102499.41, 102499.41, 102497.41, ..., 100472.49, 100492.49,\n        100510.49],\n       [101569.21, 101633.21, 101687.21, ...,  98750.56,  98741.56,\n         98742.56]], dtype=float32)"
     },
     "execution_count": 27,
     "metadata": {},
     "output_type": "execute_result"
    }
   ],
   "source": [
    "X_train_surge"
   ],
   "metadata": {
    "collapsed": false,
    "pycharm": {
     "name": "#%%\n"
    }
   }
  },
  {
   "cell_type": "code",
   "execution_count": 28,
   "outputs": [
    {
     "data": {
      "text/plain": "      surge1_t0  surge1_t1  surge1_t2  surge1_t3  surge1_t4  surge1_t5  \\\n5569   0.013796   0.000389   0.315448   0.107643  -0.086755   0.010444   \n2837   0.845017   0.556771   1.857229   0.372427  -0.914624  -0.304615   \n84     0.141160   0.198139   0.060720  -0.371649   0.265173   1.297496   \n3659  -0.854294  -0.904569  -1.008472  -1.078857  -1.072154  -0.669950   \n791   -0.814073  -0.807370  -0.961548  -1.162650  -1.380510  -1.112374   \n...         ...        ...        ...        ...        ...        ...   \n3773   1.072932   1.049470   0.741114   0.707597   0.848368   0.499792   \n5192  -0.187306   0.070775   0.241711   0.402593   0.945567   1.448322   \n5227  -0.180603  -0.086755   0.754521   0.054016   0.975733   0.228304   \n5391   0.395889   0.808148   0.590288   0.348965   0.077478   0.238359   \n861    2.721967   2.671691   2.095199  -0.073348  -1.330235  -1.538040   \n\n      surge1_t6  surge1_t7  surge1_t8  surge1_t9  surge2_t0  surge2_t1  \\\n5569   0.271876   0.375779   0.281932   0.271876   0.432287   0.516110   \n2837  -0.411870  -0.750391  -0.626378  -0.559344  -1.302848  -1.042997   \n84     1.860581   1.284089   1.274034  -0.133679  -0.045504  -0.028739   \n3659  -0.562696  -0.006314   0.245063   0.332207  -5.762229  -4.194740   \n791   -0.626378  -0.123624   0.214898   0.000389  -1.135202  -1.026232   \n...         ...        ...        ...        ...        ...        ...   \n3773   0.335559   1.485191   1.565631   1.213703   0.465816  -0.540059   \n5192   0.868478   0.781334   0.204842  -0.039831   0.155671   0.063466   \n5227   0.224953  -0.190658  -0.328077  -0.485607  -0.070650   0.281406   \n5391   0.188084   0.543364   1.062877   0.295338   0.901696   0.901696   \n861   -1.501171  -0.730281  -0.817425  -0.944789  -1.763874  -1.344759   \n\n      surge2_t2  surge2_t3  surge2_t4  surge2_t5  surge2_t6  surge2_t7  \\\n5569   0.105378   0.130525   0.440670   0.415523   0.138907   0.298171   \n2837  -1.084908  -0.783146  -0.992703  -1.571081  -1.403435  -1.017850   \n84    -0.347266  -0.975938  -0.908880  -1.219025  -1.260936  -1.068144   \n3659  -5.720317  -4.286945  -4.999440  -4.949146  -4.270180  -4.714442   \n791   -0.959174  -0.607117  -0.841822  -0.355649  -0.514912  -0.196385   \n...         ...        ...        ...        ...        ...        ...   \n3773  -0.674176  -0.975938  -0.489765  -0.372413   0.340082   0.599933   \n5192   0.390376   0.507728   0.306553   0.365229   0.432287   0.088613   \n5227  -0.020357   0.197583   0.004790   0.490963   0.071849   0.843020   \n5391   0.331700   0.692138  -0.196385  -0.296972  -0.850204  -0.598735   \n861   -1.001085  -0.858586  -0.481383   0.700521   0.189201   0.407140   \n\n      surge2_t8  surge2_t9  \n5569   0.122142   0.340082  \n2837  -0.313737  -0.598735  \n84    -0.732852  -0.196385  \n3659  -3.993565  -3.054748  \n791   -0.003592  -0.548441  \n...         ...        ...  \n3773   0.348464   0.314935  \n5192   0.080231  -0.179620  \n5227   0.457434   0.558022  \n5391  -0.892115  -0.598735  \n861    0.264641   0.901696  \n\n[3919 rows x 20 columns]",
      "text/html": "<div>\n<style scoped>\n    .dataframe tbody tr th:only-of-type {\n        vertical-align: middle;\n    }\n\n    .dataframe tbody tr th {\n        vertical-align: top;\n    }\n\n    .dataframe thead th {\n        text-align: right;\n    }\n</style>\n<table border=\"1\" class=\"dataframe\">\n  <thead>\n    <tr style=\"text-align: right;\">\n      <th></th>\n      <th>surge1_t0</th>\n      <th>surge1_t1</th>\n      <th>surge1_t2</th>\n      <th>surge1_t3</th>\n      <th>surge1_t4</th>\n      <th>surge1_t5</th>\n      <th>surge1_t6</th>\n      <th>surge1_t7</th>\n      <th>surge1_t8</th>\n      <th>surge1_t9</th>\n      <th>surge2_t0</th>\n      <th>surge2_t1</th>\n      <th>surge2_t2</th>\n      <th>surge2_t3</th>\n      <th>surge2_t4</th>\n      <th>surge2_t5</th>\n      <th>surge2_t6</th>\n      <th>surge2_t7</th>\n      <th>surge2_t8</th>\n      <th>surge2_t9</th>\n    </tr>\n  </thead>\n  <tbody>\n    <tr>\n      <th>5569</th>\n      <td>0.013796</td>\n      <td>0.000389</td>\n      <td>0.315448</td>\n      <td>0.107643</td>\n      <td>-0.086755</td>\n      <td>0.010444</td>\n      <td>0.271876</td>\n      <td>0.375779</td>\n      <td>0.281932</td>\n      <td>0.271876</td>\n      <td>0.432287</td>\n      <td>0.516110</td>\n      <td>0.105378</td>\n      <td>0.130525</td>\n      <td>0.440670</td>\n      <td>0.415523</td>\n      <td>0.138907</td>\n      <td>0.298171</td>\n      <td>0.122142</td>\n      <td>0.340082</td>\n    </tr>\n    <tr>\n      <th>2837</th>\n      <td>0.845017</td>\n      <td>0.556771</td>\n      <td>1.857229</td>\n      <td>0.372427</td>\n      <td>-0.914624</td>\n      <td>-0.304615</td>\n      <td>-0.411870</td>\n      <td>-0.750391</td>\n      <td>-0.626378</td>\n      <td>-0.559344</td>\n      <td>-1.302848</td>\n      <td>-1.042997</td>\n      <td>-1.084908</td>\n      <td>-0.783146</td>\n      <td>-0.992703</td>\n      <td>-1.571081</td>\n      <td>-1.403435</td>\n      <td>-1.017850</td>\n      <td>-0.313737</td>\n      <td>-0.598735</td>\n    </tr>\n    <tr>\n      <th>84</th>\n      <td>0.141160</td>\n      <td>0.198139</td>\n      <td>0.060720</td>\n      <td>-0.371649</td>\n      <td>0.265173</td>\n      <td>1.297496</td>\n      <td>1.860581</td>\n      <td>1.284089</td>\n      <td>1.274034</td>\n      <td>-0.133679</td>\n      <td>-0.045504</td>\n      <td>-0.028739</td>\n      <td>-0.347266</td>\n      <td>-0.975938</td>\n      <td>-0.908880</td>\n      <td>-1.219025</td>\n      <td>-1.260936</td>\n      <td>-1.068144</td>\n      <td>-0.732852</td>\n      <td>-0.196385</td>\n    </tr>\n    <tr>\n      <th>3659</th>\n      <td>-0.854294</td>\n      <td>-0.904569</td>\n      <td>-1.008472</td>\n      <td>-1.078857</td>\n      <td>-1.072154</td>\n      <td>-0.669950</td>\n      <td>-0.562696</td>\n      <td>-0.006314</td>\n      <td>0.245063</td>\n      <td>0.332207</td>\n      <td>-5.762229</td>\n      <td>-4.194740</td>\n      <td>-5.720317</td>\n      <td>-4.286945</td>\n      <td>-4.999440</td>\n      <td>-4.949146</td>\n      <td>-4.270180</td>\n      <td>-4.714442</td>\n      <td>-3.993565</td>\n      <td>-3.054748</td>\n    </tr>\n    <tr>\n      <th>791</th>\n      <td>-0.814073</td>\n      <td>-0.807370</td>\n      <td>-0.961548</td>\n      <td>-1.162650</td>\n      <td>-1.380510</td>\n      <td>-1.112374</td>\n      <td>-0.626378</td>\n      <td>-0.123624</td>\n      <td>0.214898</td>\n      <td>0.000389</td>\n      <td>-1.135202</td>\n      <td>-1.026232</td>\n      <td>-0.959174</td>\n      <td>-0.607117</td>\n      <td>-0.841822</td>\n      <td>-0.355649</td>\n      <td>-0.514912</td>\n      <td>-0.196385</td>\n      <td>-0.003592</td>\n      <td>-0.548441</td>\n    </tr>\n    <tr>\n      <th>...</th>\n      <td>...</td>\n      <td>...</td>\n      <td>...</td>\n      <td>...</td>\n      <td>...</td>\n      <td>...</td>\n      <td>...</td>\n      <td>...</td>\n      <td>...</td>\n      <td>...</td>\n      <td>...</td>\n      <td>...</td>\n      <td>...</td>\n      <td>...</td>\n      <td>...</td>\n      <td>...</td>\n      <td>...</td>\n      <td>...</td>\n      <td>...</td>\n      <td>...</td>\n    </tr>\n    <tr>\n      <th>3773</th>\n      <td>1.072932</td>\n      <td>1.049470</td>\n      <td>0.741114</td>\n      <td>0.707597</td>\n      <td>0.848368</td>\n      <td>0.499792</td>\n      <td>0.335559</td>\n      <td>1.485191</td>\n      <td>1.565631</td>\n      <td>1.213703</td>\n      <td>0.465816</td>\n      <td>-0.540059</td>\n      <td>-0.674176</td>\n      <td>-0.975938</td>\n      <td>-0.489765</td>\n      <td>-0.372413</td>\n      <td>0.340082</td>\n      <td>0.599933</td>\n      <td>0.348464</td>\n      <td>0.314935</td>\n    </tr>\n    <tr>\n      <th>5192</th>\n      <td>-0.187306</td>\n      <td>0.070775</td>\n      <td>0.241711</td>\n      <td>0.402593</td>\n      <td>0.945567</td>\n      <td>1.448322</td>\n      <td>0.868478</td>\n      <td>0.781334</td>\n      <td>0.204842</td>\n      <td>-0.039831</td>\n      <td>0.155671</td>\n      <td>0.063466</td>\n      <td>0.390376</td>\n      <td>0.507728</td>\n      <td>0.306553</td>\n      <td>0.365229</td>\n      <td>0.432287</td>\n      <td>0.088613</td>\n      <td>0.080231</td>\n      <td>-0.179620</td>\n    </tr>\n    <tr>\n      <th>5227</th>\n      <td>-0.180603</td>\n      <td>-0.086755</td>\n      <td>0.754521</td>\n      <td>0.054016</td>\n      <td>0.975733</td>\n      <td>0.228304</td>\n      <td>0.224953</td>\n      <td>-0.190658</td>\n      <td>-0.328077</td>\n      <td>-0.485607</td>\n      <td>-0.070650</td>\n      <td>0.281406</td>\n      <td>-0.020357</td>\n      <td>0.197583</td>\n      <td>0.004790</td>\n      <td>0.490963</td>\n      <td>0.071849</td>\n      <td>0.843020</td>\n      <td>0.457434</td>\n      <td>0.558022</td>\n    </tr>\n    <tr>\n      <th>5391</th>\n      <td>0.395889</td>\n      <td>0.808148</td>\n      <td>0.590288</td>\n      <td>0.348965</td>\n      <td>0.077478</td>\n      <td>0.238359</td>\n      <td>0.188084</td>\n      <td>0.543364</td>\n      <td>1.062877</td>\n      <td>0.295338</td>\n      <td>0.901696</td>\n      <td>0.901696</td>\n      <td>0.331700</td>\n      <td>0.692138</td>\n      <td>-0.196385</td>\n      <td>-0.296972</td>\n      <td>-0.850204</td>\n      <td>-0.598735</td>\n      <td>-0.892115</td>\n      <td>-0.598735</td>\n    </tr>\n    <tr>\n      <th>861</th>\n      <td>2.721967</td>\n      <td>2.671691</td>\n      <td>2.095199</td>\n      <td>-0.073348</td>\n      <td>-1.330235</td>\n      <td>-1.538040</td>\n      <td>-1.501171</td>\n      <td>-0.730281</td>\n      <td>-0.817425</td>\n      <td>-0.944789</td>\n      <td>-1.763874</td>\n      <td>-1.344759</td>\n      <td>-1.001085</td>\n      <td>-0.858586</td>\n      <td>-0.481383</td>\n      <td>0.700521</td>\n      <td>0.189201</td>\n      <td>0.407140</td>\n      <td>0.264641</td>\n      <td>0.901696</td>\n    </tr>\n  </tbody>\n</table>\n<p>3919 rows × 20 columns</p>\n</div>"
     },
     "execution_count": 28,
     "metadata": {},
     "output_type": "execute_result"
    }
   ],
   "source": [
    "y_train_surge"
   ],
   "metadata": {
    "collapsed": false,
    "pycharm": {
     "name": "#%%\n"
    }
   }
  },
  {
   "cell_type": "code",
   "execution_count": 28,
   "outputs": [],
   "source": [],
   "metadata": {
    "collapsed": false,
    "pycharm": {
     "name": "#%%\n"
    }
   }
  },
  {
   "cell_type": "markdown",
   "source": [
    "#### Baseline / Benchmark : Ball Tree"
   ],
   "metadata": {
    "collapsed": false,
    "pycharm": {
     "name": "#%% md\n"
    }
   }
  },
  {
   "cell_type": "raw",
   "source": [
    "# 1) fit\n",
    "tree = BallTree(X_train_surge, metric='l2')\n",
    "\n",
    "# 2.1) predict\n",
    "y_val_surge_pred_ballTree = []; k = 40\n",
    "for i in range(X_val_surge.shape[0]):\n",
    "    dist, ind = tree.query([X_val_surge[i]], k=k)\n",
    "    y_val_surge_pred_ballTree.append(np.mean(surge_train[ind[0]], axis=0)) # we get indexes in surge_train (Y_train) where all the training data is\n",
    "\n",
    "# 2.2) to matrix\n",
    "y_val_surge_pred_ballTree = np.array(y_val_surge_pred_ballTree)\n",
    "\n",
    "# 3) save\n",
    "save_y_pred(\"BallTree\", output_path, y_val_surge_pred_ballTree, y_val_surge.index, submit=False)\n",
    "\n",
    "# 4) evaluate\n",
    "evaluate_surge(y_pred_filename=\"Y_val_pred_BallTree.csv\", y_true_filename=\"Y_val_true.csv\", path_output=output_path)"
   ],
   "metadata": {
    "collapsed": false,
    "pycharm": {
     "name": "#%% raw\n"
    }
   }
  },
  {
   "cell_type": "code",
   "execution_count": 28,
   "outputs": [],
   "source": [],
   "metadata": {
    "collapsed": false,
    "pycharm": {
     "name": "#%%\n"
    }
   }
  },
  {
   "cell_type": "markdown",
   "source": [
    "#### 1) Kernel Ridge"
   ],
   "metadata": {
    "collapsed": false,
    "pycharm": {
     "name": "#%% md\n"
    }
   }
  },
  {
   "cell_type": "raw",
   "source": [
    "regr_ridge.predict(X_train_surge[[0]])"
   ],
   "metadata": {
    "collapsed": false,
    "pycharm": {
     "name": "#%% raw\n"
    }
   }
  },
  {
   "cell_type": "raw",
   "source": [
    "# 1) fit\n",
    "estimator = KernelRidge(kernel='rbf') # default = Linear\n",
    "# Valid values for metric are: [‘additive_chi2’, ‘chi2’, ‘linear’, ‘poly’, ‘polynomial’, ‘rbf’, ‘laplacian’, ‘sigmoid’, ‘cosine’]\n",
    "regr_ridge = MultiOutputRegressor(estimator).fit(X_train_surge, y_train_surge)\n",
    "\n",
    "# 2) predict\n",
    "y_val_surge_pred_ridge = regr_ridge.predict(X_val_surge)\n",
    "\n",
    "# 3) save predictions\n",
    "save_y_pred(\"KernelRidge\", output_path, y_val_surge_pred_ridge, y_val_surge.index, submit=False)\n",
    "\n",
    "# 4) evaluate\n",
    "evaluate_surge(y_pred_filename=\"Y_val_pred_KernelRidge.csv\", y_true_filename=\"Y_val_true.csv\", path_output=output_path)"
   ],
   "metadata": {
    "collapsed": false,
    "pycharm": {
     "name": "#%% raw\n"
    }
   }
  },
  {
   "cell_type": "markdown",
   "source": [
    "##### Hyperparameters tuning"
   ],
   "metadata": {
    "collapsed": false,
    "pycharm": {
     "name": "#%% md\n"
    }
   }
  },
  {
   "cell_type": "raw",
   "source": [
    "a, b = -4, 4 # default 10**-4\n",
    "n_alphas = 15  # hyperparametre alpha\n",
    "alphas = np.logspace(a, b, n_alphas)\n",
    "\n",
    "regr_KernelRidge = KernelRidge(kernel='rbf')\n",
    "\n",
    "coefs = []\n",
    "errors = []\n",
    "\n",
    "for index, a in enumerate(alphas):\n",
    "    # 1) fit\n",
    "    regr_KernelRidge.set_params(alpha=a)\n",
    "    regr_KernelRidge.fit(X_train_surge, y_train_surge)\n",
    "    # 2) predict\n",
    "    y_val_surge_pred_KernelRidge = regr_KernelRidge.predict(X_val_surge)\n",
    "\n",
    "    coefs.append(a)\n",
    "\n",
    "    # 3) save\n",
    "    save_y_pred(\"KernelRidge_{}\".format(index), output_path, y_val_surge_pred_KernelRidge, y_val_surge.index, submit=False)\n",
    "\n",
    "    # 4) evaluate\n",
    "    score_surge = evaluate_surge(y_pred_filename=\"Y_val_pred_KernelRidge_{}.csv\".format(index),\n",
    "                                 y_true_filename=\"Y_val_true.csv\", path_output=output_path)\n",
    "    errors.append(score_surge)\n",
    "    #print(score_surge)"
   ],
   "metadata": {
    "collapsed": false,
    "pycharm": {
     "name": "#%% raw\n"
    }
   }
  },
  {
   "cell_type": "raw",
   "source": [
    "# recupere l'erreur min\n",
    "print(\"Minimum Mean Squared Error for Ridge Regression :\", errors[np.argmin(errors)])\n",
    "print(\"Best alpha for that minimal MSE : \", alphas[np.argmin(errors)])\n",
    "\n",
    "#Observation of the error behaviour\n",
    "ax = plt.gca()\n",
    "ax.plot(alphas, errors)\n",
    "# specifying horizontal line type\n",
    "plt.axhline(y=baseline_error, color='r', linestyle='-')\n",
    "\n",
    "ax.set_xscale('log')\n",
    "\n",
    "plt.xlabel('alpha : hyperparameter')\n",
    "plt.ylabel('error : MSE')\n",
    "plt.axis('tight')"
   ],
   "metadata": {
    "collapsed": false,
    "pycharm": {
     "name": "#%% raw\n"
    }
   }
  },
  {
   "cell_type": "markdown",
   "source": [
    "#### 2) XGBoost"
   ],
   "metadata": {
    "collapsed": false,
    "pycharm": {
     "name": "#%% md\n"
    }
   }
  },
  {
   "cell_type": "raw",
   "source": [
    "# 1) fit\n",
    "estimator = XGBRegressor(random_state=seed)\n",
    "regr_XGBoost = MultiOutputRegressor(estimator).fit(X_train_surge, y_train_surge)\n",
    "\n",
    "# 2) predict\n",
    "y_val_surge_pred_XGBoost = regr_XGBoost.predict(X_val_surge)\n",
    "\n",
    "# 3) save\n",
    "save_y_pred(\"XGBoost\", output_path, y_val_surge_pred_XGBoost, y_val_surge.index, submit=False)\n",
    "\n",
    "# 4) evaluate\n",
    "evaluate_surge(y_pred_filename=\"Y_val_pred_XGBoost.csv\", y_true_filename=\"Y_val_true.csv\", path_output=output_path)"
   ],
   "metadata": {
    "collapsed": false,
    "pycharm": {
     "name": "#%% raw\n"
    }
   }
  },
  {
   "cell_type": "code",
   "execution_count": 28,
   "outputs": [],
   "source": [],
   "metadata": {
    "collapsed": false,
    "pycharm": {
     "name": "#%%\n"
    }
   }
  },
  {
   "cell_type": "code",
   "execution_count": 28,
   "outputs": [],
   "source": [],
   "metadata": {
    "collapsed": false,
    "pycharm": {
     "name": "#%%\n"
    }
   }
  },
  {
   "cell_type": "code",
   "execution_count": 28,
   "outputs": [],
   "source": [],
   "metadata": {
    "collapsed": false,
    "pycharm": {
     "name": "#%%\n"
    }
   }
  },
  {
   "cell_type": "markdown",
   "source": [
    "#### 3) SVR : 0.72 without tuning"
   ],
   "metadata": {
    "collapsed": false,
    "pycharm": {
     "name": "#%% md\n"
    }
   }
  },
  {
   "cell_type": "raw",
   "source": [
    "# 1) fit\n",
    "estimator = SVR(kernel='rbf')\n",
    "\n",
    "#from tqdm import tqdm\n",
    "regr_SVR = MultiOutputRegressor(estimator).fit(X_train_surge, y_train_surge)\n",
    "\n",
    "# 2) save model\n",
    "path_model = './model/'\n",
    "dict_models = {'SVR': regr_SVR}\n",
    "for name, model in dict_models.items():\n",
    "    filename = path_model + name + '.sav'\n",
    "    # save the model to disk\n",
    "    pickle.dump(model, open(filename, 'wb'))\n",
    "\n",
    "# 3) predict\n",
    "y_val_surge_pred_SVR = regr_SVR.predict(X_val_surge)\n",
    "\n",
    "# 4) save predictions\n",
    "save_y_pred(\"SVR\", output_path, y_val_surge_pred_SVR, y_val_surge.index, submit=False)\n",
    "\n",
    "# 5) evaluate\n",
    "evaluate_surge(y_pred_filename=\"Y_val_pred_SVR.csv\", y_true_filename=\"Y_val_true.csv\", path_output=output_path)\n",
    "\n",
    "# 6) submit\n",
    "all_models = [\"SVR.sav\"]\n",
    "for model_name in all_models:\n",
    "    filename = './model/' + model_name\n",
    "    loaded_model = pickle.load(open(filename, 'rb'))\n",
    "\n",
    "    Y_test_pred = loaded_model.predict(slp_test)\n",
    "    # while saving the model we remove .sav\n",
    "    save_y_pred(model_name[:-4], output_path + \"/submit/\", Y_test_pred, X_test['id_sequence'], submit=True)"
   ],
   "metadata": {
    "collapsed": false,
    "pycharm": {
     "name": "#%% raw\n"
    }
   }
  },
  {
   "cell_type": "markdown",
   "source": [
    "##### Tuning"
   ],
   "metadata": {
    "collapsed": false,
    "pycharm": {
     "name": "#%% md\n"
    }
   }
  },
  {
   "cell_type": "raw",
   "source": [
    "from sklearn.model_selection import GridSearchCV\n",
    "\n",
    "parameters = {'gamma' : [1e-8, 1e-7, 1e-6, 1e-5, 1e-4, 1e-3, 1e-2, 1e-1], #kernel coefficient [ici kernel = Radial Basis Function]\n",
    "              'epsilon' : [0.001, 0.01, 0.1, 1], #erreur tolérée par l'algorithme\n",
    "              'C' : [0.001, 0.01, 0.1, 1, 10]} #parametre de régularisation\n",
    "\n",
    "\n",
    "estimator = SVR(kernel='rbf')\n",
    "grid_multi_SVR = GridSearchCV(\n",
    "    estimator=MultiOutputRegressor(estimator),\n",
    "    param_grid=parameters,\n",
    "    cv=5,\n",
    "    verbose=0)\n",
    "\n",
    "grid_multi_SVR.fit(X_train_surge, y_train_surge)\n",
    "\n"
   ],
   "metadata": {
    "collapsed": false,
    "pycharm": {
     "name": "#%% raw\n"
    }
   }
  },
  {
   "cell_type": "raw",
   "source": [
    "# best estimator\n",
    "print(\"Best estimator :\", grid_multi_SVR.best_estimator_)\n",
    "\n",
    "# best model\n",
    "best_model = grid_multi_SVR.best_estimator_\n",
    "\n",
    "# 1) fit\n",
    "best_model.fit(X_train_surge, y_train_surge)\n",
    "\n",
    "# 2) predict\n",
    "y_val_surge_pred_grid_SVR = best_model.predict(X_val_surge)\n",
    "\n",
    "# 3) save predictions\n",
    "save_y_pred(\"grid_SVR\", output_path, y_val_surge_pred_grid_SVR, y_val_surge.index, submit=False)\n",
    "\n",
    "# 4) evaluate\n",
    "evaluate_surge(y_pred_filename=\"Y_val_pred_grid_SVR.csv\", y_true_filename=\"Y_val_true.csv\", path_output=output_path)"
   ],
   "metadata": {
    "collapsed": false,
    "pycharm": {
     "name": "#%% raw\n"
    }
   }
  },
  {
   "cell_type": "code",
   "execution_count": 28,
   "outputs": [],
   "source": [],
   "metadata": {
    "collapsed": false,
    "pycharm": {
     "name": "#%%\n"
    }
   }
  },
  {
   "cell_type": "raw",
   "source": [
    "#### 4) Random Forest : NO more than 2 hours"
   ],
   "metadata": {
    "collapsed": false,
    "pycharm": {
     "name": "#%% raw\n"
    }
   }
  },
  {
   "cell_type": "raw",
   "source": [
    "# 1) fit\n",
    "estimator = RandomForestRegressor(n_estimators=10, random_state=seed)\n",
    "regr_RFR = MultiOutputRegressor(estimator).fit(X_train_surge, y_train_surge)\n",
    "\n",
    "# 2) predict\n",
    "y_val_surge_pred_RFR = regr_RFR.predict(X_val_surge)\n",
    "\n",
    "# 3) save\n",
    "save_y_pred(\"RFR\", output_path, y_val_surge_pred_RFR, y_val_surge.index, submit=False)\n",
    "\n",
    "# 4) evaluate\n",
    "evaluate_surge(y_pred_filename=\"Y_val_pred_RFR.csv\", y_true_filename=\"Y_val_true.csv\", path_output=output_path)"
   ],
   "metadata": {
    "collapsed": false,
    "pycharm": {
     "name": "#%% raw\n"
    }
   }
  },
  {
   "cell_type": "code",
   "execution_count": 28,
   "outputs": [],
   "source": [],
   "metadata": {
    "collapsed": false,
    "pycharm": {
     "name": "#%%\n"
    }
   }
  },
  {
   "cell_type": "markdown",
   "source": [
    "#### 4) MLRegressor : supports multioutput"
   ],
   "metadata": {
    "collapsed": false,
    "pycharm": {
     "name": "#%% md\n"
    }
   }
  },
  {
   "cell_type": "raw",
   "source": [
    "# 1) fit\n",
    "regr_MLR = MLPRegressor(random_state=seed, max_iter=500, alpha=10**2).fit(X_train_surge, y_train_surge)\n",
    "\n",
    "# 2) predict\n",
    "y_val_surge_pred_MLR = regr_MLR.predict(X_val_surge)\n",
    "\n",
    "# 3) save\n",
    "save_y_pred(\"MLR\", output_path, y_val_surge_pred_MLR, y_val_surge.index, submit=False)\n",
    "\n",
    "# 4) evaluate\n",
    "evaluate_surge(y_pred_filename=\"Y_val_pred_MLR.csv\", y_true_filename=\"Y_val_true.csv\", path_output=output_path)"
   ],
   "metadata": {
    "collapsed": false,
    "pycharm": {
     "name": "#%% raw\n"
    }
   }
  },
  {
   "cell_type": "code",
   "execution_count": 28,
   "outputs": [],
   "source": [],
   "metadata": {
    "collapsed": false,
    "pycharm": {
     "name": "#%%\n"
    }
   }
  },
  {
   "cell_type": "markdown",
   "source": [
    "##### Hyperparameters tuning"
   ],
   "metadata": {
    "collapsed": false,
    "pycharm": {
     "name": "#%% md\n"
    }
   }
  },
  {
   "cell_type": "raw",
   "source": [
    "a, b = -5, 3 # default 10**-4\n",
    "n_alphas = 50 # hyperparametre alpha\n",
    "alphas = np.logspace(a, b, n_alphas)\n",
    "\n",
    "regr_MLR = MLPRegressor(random_state=seed, max_iter=500)\n",
    "\n",
    "coefs = []\n",
    "errors = []\n",
    "\n",
    "for index, a in enumerate(alphas):\n",
    "    # 1) fit\n",
    "    #regr_MLR.set_params(alpha=a)\n",
    "    #regr_MLR.fit(X_train_surge, y_train_surge)\n",
    "    # 2) predict\n",
    "    #y_val_surge_pred_MLR = regr_MLR.predict(X_val_surge)\n",
    "\n",
    "    coefs.append(a)\n",
    "\n",
    "    # 3) save\n",
    "    #save_y_pred(\"MLR_{}\".format(index), output_path, y_val_surge_pred_MLR, y_val_surge.index, submit=False)\n",
    "\n",
    "    # 4) evaluate\n",
    "    score_surge = evaluate_surge(y_pred_filename=\"Y_val_pred_MLR_{}.csv\".format(index), y_true_filename=\"Y_val_true.csv\", path_output=output_path)\n",
    "    errors.append(score_surge)\n",
    "    #print(score_surge)"
   ],
   "metadata": {
    "collapsed": false,
    "pycharm": {
     "name": "#%% raw\n"
    }
   }
  },
  {
   "cell_type": "raw",
   "source": [
    "# recupere l'erreur min\n",
    "print(\"Minimum Mean Squared Error for Ridge Regression :\", errors[np.argmin(errors)])\n",
    "print(\"Best alpha for that minimal MSE : \", alphas[np.argmin(errors)])\n",
    "\n",
    "#Observation of the error behaviour\n",
    "ax = plt.gca()\n",
    "ax.plot(alphas, errors)\n",
    "# specifying horizontal line type\n",
    "plt.axhline(y=baseline_error, color='r', linestyle='-')\n",
    "\n",
    "ax.set_xscale('log')\n",
    "\n",
    "plt.xlabel('alpha : hyperparameter')\n",
    "plt.ylabel('error : MSE')\n",
    "plt.axis('tight')"
   ],
   "metadata": {
    "collapsed": false,
    "pycharm": {
     "name": "#%% raw\n"
    }
   }
  },
  {
   "cell_type": "raw",
   "source": [
    "# line with alpha associated to the min error\n",
    "min_alpha = alphas[np.argmin(errors)]\n",
    "plt.axvline(x=min_alpha, color='b', label='axvline - full height')\n",
    "\n",
    "ax.plot(alphas, coefs)\n",
    "ax.set_xscale('log')\n",
    "plt.xlabel('alpha')\n",
    "plt.ylabel('weights')\n",
    "plt.title('Ridge coefficients as a function of the regularization')\n",
    "plt.axis('tight')"
   ],
   "metadata": {
    "collapsed": false,
    "pycharm": {
     "name": "#%% raw\n"
    }
   }
  },
  {
   "cell_type": "code",
   "execution_count": 28,
   "outputs": [],
   "source": [],
   "metadata": {
    "collapsed": false,
    "pycharm": {
     "name": "#%%\n"
    }
   }
  },
  {
   "cell_type": "markdown",
   "source": [
    "#### 5) Neural Network"
   ],
   "metadata": {
    "collapsed": false,
    "pycharm": {
     "name": "#%% md\n"
    }
   }
  },
  {
   "cell_type": "code",
   "execution_count": 29,
   "outputs": [
    {
     "data": {
      "text/plain": "3362"
     },
     "execution_count": 29,
     "metadata": {},
     "output_type": "execute_result"
    }
   ],
   "source": [
    "X_train_surge.shape[1]"
   ],
   "metadata": {
    "collapsed": false,
    "pycharm": {
     "name": "#%%\n"
    }
   }
  },
  {
   "cell_type": "code",
   "execution_count": null,
   "outputs": [],
   "source": [
    "from keras.callbacks import ModelCheckpoint\n",
    "from keras.models import Sequential\n",
    "from keras.layers import Dense, Activation, Flatten"
   ],
   "metadata": {
    "collapsed": false,
    "pycharm": {
     "name": "#%%\n"
    }
   }
  },
  {
   "cell_type": "raw",
   "source": [
    "NN_model = Sequential()\n",
    "\n",
    "# The Input Layer :\n",
    "NN_model.add(Dense(128, kernel_initializer='normal',input_dim = X_train_surge.shape[1], activation='relu'))\n",
    "\n",
    "# The Hidden Layers :\n",
    "NN_model.add(Dense(256, kernel_initializer='normal',activation='relu'))\n",
    "NN_model.add(Dense(256, kernel_initializer='normal',activation='relu'))\n",
    "NN_model.add(Dense(256, kernel_initializer='normal',activation='relu'))\n",
    "\n",
    "# The Output Layer :\n",
    "NN_model.add(Dense(1, kernel_initializer='normal',activation='linear'))\n",
    "\n",
    "# Compile the network :\n",
    "NN_model.compile(loss='mean_squared_error', optimizer='adam', metrics=['mean_squared_error'])\n",
    "NN_model.summary()"
   ],
   "metadata": {
    "collapsed": false,
    "pycharm": {
     "name": "#%% raw\n"
    }
   }
  },
  {
   "cell_type": "raw",
   "source": [
    "checkpoint_name = './model/weights/Weights-{epoch:03d}--{val_loss:.5f}.hdf5'\n",
    "checkpoint = ModelCheckpoint(checkpoint_name, monitor='val_loss', verbose = 1, save_best_only = True, mode ='auto')\n",
    "callbacks_list = [checkpoint]"
   ],
   "metadata": {
    "collapsed": false,
    "pycharm": {
     "name": "#%% raw\n"
    }
   }
  },
  {
   "cell_type": "raw",
   "source": [
    "regr_NN = MultiOutputRegressor(estimator=NN_model).fit(X_train_surge, y_train_surge, epochs=500, batch_size=32, validation_split = 0.2, callbacks=callbacks_list)\n"
   ],
   "metadata": {
    "collapsed": false,
    "pycharm": {
     "name": "#%% raw\n"
    }
   }
  },
  {
   "cell_type": "code",
   "execution_count": 30,
   "outputs": [],
   "source": [
    "#NN_model.fit(X_train_surge, y_train_surge, epochs=500, batch_size=32, validation_split = 0.2, callbacks=callbacks_list)\n"
   ],
   "metadata": {
    "collapsed": false,
    "pycharm": {
     "name": "#%%\n"
    }
   }
  },
  {
   "cell_type": "raw",
   "source": [
    "# Load weights file of the best model :\n",
    "weights_file = 'Weights-035--0.94222.hdf5' # choose the best checkpoint\n",
    "NN_model.load_weights(weights_file) # load it\n",
    "NN_model.compile(loss='mean_squared_error', optimizer='adam', metrics=['mean_squared_error'])"
   ],
   "metadata": {
    "collapsed": false,
    "pycharm": {
     "name": "#%% raw\n"
    }
   }
  },
  {
   "cell_type": "raw",
   "source": [
    "# 2) save model\n",
    "path_model = './model/'\n",
    "dict_models = {'NN': NN_model}\n",
    "for name, model in dict_models.items():\n",
    "    filename = path_model + name + '.sav'\n",
    "    # save the model to disk\n",
    "    pickle.dump(model, open(filename, 'wb'))"
   ],
   "metadata": {
    "collapsed": false,
    "pycharm": {
     "name": "#%% raw\n"
    }
   }
  },
  {
   "cell_type": "raw",
   "source": [
    "# 3) predict\n",
    "y_val_surge_pred_NN = NN_model.predict(X_val_surge)\n",
    "\n",
    "y_val_surge_pred_NN"
   ],
   "metadata": {
    "collapsed": false,
    "pycharm": {
     "name": "#%% raw\n"
    }
   }
  },
  {
   "cell_type": "raw",
   "source": [
    "# 4) save\n",
    "save_y_pred(\"NN\", output_path, y_val_surge_pred_NN, y_val_surge.index, submit=False)\n",
    "\n",
    "# 5) evaluate\n",
    "evaluate_surge(y_pred_filename=\"Y_val_pred_NN.csv\", y_true_filename=\"Y_val_true.csv\", path_output=output_path)"
   ],
   "metadata": {
    "collapsed": false,
    "pycharm": {
     "name": "#%% raw\n"
    }
   }
  },
  {
   "cell_type": "raw",
   "source": [
    "# 6) submit\n",
    "all_models = [\"NN.sav\"]\n",
    "for model_name in all_models:\n",
    "    filename = './model/' + model_name\n",
    "    loaded_model = pickle.load(open(filename, 'rb'))\n",
    "\n",
    "    Y_test_pred = loaded_model.predict(slp_test)\n",
    "    # while saving the model we remove .sav\n",
    "    save_y_pred(model_name[:-4], output_path + \"/submit/\", Y_test_pred, X_test['id_sequence'], submit=True)"
   ],
   "metadata": {
    "collapsed": false,
    "pycharm": {
     "name": "#%% raw\n"
    }
   }
  },
  {
   "cell_type": "code",
   "execution_count": 30,
   "outputs": [],
   "source": [],
   "metadata": {
    "collapsed": false,
    "pycharm": {
     "name": "#%%\n"
    }
   }
  },
  {
   "cell_type": "markdown",
   "source": [
    "## Neural Networks : https://www.nature.com/articles/s41598-021-96674-0\n",
    "1) Artificial Neural Network (ANN)\n",
    "2) a Long Term Short Term Neural Network (LSTM)\n",
    "3) a Convolutional Neural Network (CNN)\n",
    "4) a Convolutional LSTM (ConvLSTM), which is a combination of the latter two. In"
   ],
   "metadata": {
    "collapsed": false,
    "pycharm": {
     "name": "#%% md\n"
    }
   },
   "execution_count": 66
  },
  {
   "cell_type": "code",
   "execution_count": 31,
   "outputs": [
    {
     "name": "stdout",
     "output_type": "stream",
     "text": [
      "(5599, 3362)\n",
      "(5599, 20)\n"
     ]
    }
   ],
   "source": [
    "x, y = slp_train, surge_train_df\n",
    "print(x.shape)\n",
    "print(y.shape)"
   ],
   "metadata": {
    "collapsed": false,
    "pycharm": {
     "name": "#%%\n"
    }
   }
  },
  {
   "cell_type": "code",
   "execution_count": 32,
   "outputs": [
    {
     "name": "stdout",
     "output_type": "stream",
     "text": [
      "x: (5599, 3362, 1) y: (5599, 20)\n"
     ]
    }
   ],
   "source": [
    "#The LSTM model input dimension requires the third dimension that will be the number of the single input row. We'll reshape the x data.\n",
    "\n",
    "x = x.reshape(x.shape[0], x.shape[1], 1)\n",
    "print(\"x:\", x.shape, \"y:\", y.shape)"
   ],
   "metadata": {
    "collapsed": false,
    "pycharm": {
     "name": "#%%\n"
    }
   }
  },
  {
   "cell_type": "code",
   "execution_count": 36,
   "outputs": [
    {
     "name": "stdout",
     "output_type": "stream",
     "text": [
      "(3362, 1)\n",
      "20\n"
     ]
    }
   ],
   "source": [
    "in_dim = (x.shape[1], x.shape[2])\n",
    "out_dim = y.shape[1]\n",
    "\n",
    "print(in_dim)\n",
    "print(out_dim)"
   ],
   "metadata": {
    "collapsed": false,
    "pycharm": {
     "name": "#%%\n"
    }
   }
  },
  {
   "cell_type": "code",
   "execution_count": 37,
   "outputs": [],
   "source": [
    "xtrain, xtest, ytrain, ytest = train_test_split(x, y, test_size=0.3, random_state=seed)\n"
   ],
   "metadata": {
    "collapsed": false,
    "pycharm": {
     "name": "#%%\n"
    }
   }
  },
  {
   "cell_type": "code",
   "execution_count": 38,
   "outputs": [],
   "source": [
    "from keras.models import Sequential\n",
    "from keras.layers import Dense, LSTM\n",
    "from sklearn.metrics import mean_squared_error"
   ],
   "metadata": {
    "collapsed": false,
    "pycharm": {
     "name": "#%%\n"
    }
   }
  },
  {
   "cell_type": "markdown",
   "source": [
    "We'll start by defining the sequential model. The sequential model contains LSTM layers with ReLU activations, Dense output layer,  and Adam optimizer with MSE loss function. We'll set the input dimension in the first layer and output dimension in the last layer of the model."
   ],
   "metadata": {
    "collapsed": false,
    "pycharm": {
     "name": "#%% md\n"
    }
   }
  },
  {
   "cell_type": "code",
   "execution_count": 39,
   "outputs": [],
   "source": [
    "model = Sequential()\n",
    "model.add(LSTM(64, input_shape=in_dim, activation=\"relu\"))\n",
    "model.add(Dense(out_dim))\n",
    "model.compile(loss=\"mse\", optimizer=\"adam\")"
   ],
   "metadata": {
    "collapsed": false,
    "pycharm": {
     "name": "#%%\n"
    }
   }
  },
  {
   "cell_type": "code",
   "execution_count": 40,
   "outputs": [
    {
     "name": "stdout",
     "output_type": "stream",
     "text": [
      "Model: \"sequential\"\n",
      "_________________________________________________________________\n",
      " Layer (type)                Output Shape              Param #   \n",
      "=================================================================\n",
      " lstm (LSTM)                 (None, 64)                16896     \n",
      "                                                                 \n",
      " dense (Dense)               (None, 20)                1300      \n",
      "                                                                 \n",
      "=================================================================\n",
      "Total params: 18,196\n",
      "Trainable params: 18,196\n",
      "Non-trainable params: 0\n",
      "_________________________________________________________________\n"
     ]
    }
   ],
   "source": [
    "model.summary()"
   ],
   "metadata": {
    "collapsed": false,
    "pycharm": {
     "name": "#%%\n"
    }
   }
  },
  {
   "cell_type": "code",
   "execution_count": 41,
   "outputs": [
    {
     "name": "stderr",
     "output_type": "stream",
     "text": [
      "\n",
      "KeyboardInterrupt\n",
      "\n"
     ]
    }
   ],
   "source": [
    "model.fit(xtrain, ytrain, epochs=100, batch_size=12, verbose=0)"
   ],
   "metadata": {
    "collapsed": false,
    "pycharm": {
     "name": "#%%\n"
    }
   }
  },
  {
   "cell_type": "code",
   "execution_count": null,
   "outputs": [],
   "source": [
    "# 2) save model\n",
    "path_model = './model/'\n",
    "dict_models = {'LSTM': model}\n",
    "for name, model in dict_models.items():\n",
    "    filename = path_model + name + '.sav'\n",
    "    # save the model to disk\n",
    "    pickle.dump(model, open(filename, 'wb'))"
   ],
   "metadata": {
    "collapsed": false,
    "pycharm": {
     "name": "#%%\n"
    }
   }
  },
  {
   "cell_type": "code",
   "execution_count": 42,
   "outputs": [
    {
     "name": "stdout",
     "output_type": "stream",
     "text": [
      "53/53 [==============================] - 23s 431ms/step\n"
     ]
    },
    {
     "ename": "InvalidIndexError",
     "evalue": "(slice(None, None, None), 0)",
     "output_type": "error",
     "traceback": [
      "\u001B[1;31m---------------------------------------------------------------------------\u001B[0m",
      "\u001B[1;31mTypeError\u001B[0m                                 Traceback (most recent call last)",
      "File \u001B[1;32m~\\Anaconda3\\envs\\P4_OC\\lib\\site-packages\\pandas\\core\\indexes\\base.py:3621\u001B[0m, in \u001B[0;36mIndex.get_loc\u001B[1;34m(self, key, method, tolerance)\u001B[0m\n\u001B[0;32m   3620\u001B[0m \u001B[38;5;28;01mtry\u001B[39;00m:\n\u001B[1;32m-> 3621\u001B[0m     \u001B[38;5;28;01mreturn\u001B[39;00m \u001B[38;5;28;43mself\u001B[39;49m\u001B[38;5;241;43m.\u001B[39;49m\u001B[43m_engine\u001B[49m\u001B[38;5;241;43m.\u001B[39;49m\u001B[43mget_loc\u001B[49m\u001B[43m(\u001B[49m\u001B[43mcasted_key\u001B[49m\u001B[43m)\u001B[49m\n\u001B[0;32m   3622\u001B[0m \u001B[38;5;28;01mexcept\u001B[39;00m \u001B[38;5;167;01mKeyError\u001B[39;00m \u001B[38;5;28;01mas\u001B[39;00m err:\n",
      "File \u001B[1;32m~\\Anaconda3\\envs\\P4_OC\\lib\\site-packages\\pandas\\_libs\\index.pyx:136\u001B[0m, in \u001B[0;36mpandas._libs.index.IndexEngine.get_loc\u001B[1;34m()\u001B[0m\n",
      "File \u001B[1;32m~\\Anaconda3\\envs\\P4_OC\\lib\\site-packages\\pandas\\_libs\\index.pyx:142\u001B[0m, in \u001B[0;36mpandas._libs.index.IndexEngine.get_loc\u001B[1;34m()\u001B[0m\n",
      "\u001B[1;31mTypeError\u001B[0m: '(slice(None, None, None), 0)' is an invalid key",
      "\nDuring handling of the above exception, another exception occurred:\n",
      "\u001B[1;31mInvalidIndexError\u001B[0m                         Traceback (most recent call last)",
      "Input \u001B[1;32mIn [42]\u001B[0m, in \u001B[0;36m<cell line: 3>\u001B[1;34m()\u001B[0m\n\u001B[0;32m      1\u001B[0m ypred \u001B[38;5;241m=\u001B[39m model\u001B[38;5;241m.\u001B[39mpredict(xtest)\n\u001B[1;32m----> 3\u001B[0m \u001B[38;5;28mprint\u001B[39m(\u001B[38;5;124m\"\u001B[39m\u001B[38;5;124my1 MSE:\u001B[39m\u001B[38;5;132;01m%.4f\u001B[39;00m\u001B[38;5;124m\"\u001B[39m \u001B[38;5;241m%\u001B[39m mean_squared_error(\u001B[43mytest\u001B[49m\u001B[43m[\u001B[49m\u001B[43m:\u001B[49m\u001B[43m,\u001B[49m\u001B[38;5;241;43m0\u001B[39;49m\u001B[43m]\u001B[49m, ypred[:,\u001B[38;5;241m0\u001B[39m]))\n\u001B[0;32m      4\u001B[0m \u001B[38;5;28mprint\u001B[39m(\u001B[38;5;124m\"\u001B[39m\u001B[38;5;124my2 MSE:\u001B[39m\u001B[38;5;132;01m%.4f\u001B[39;00m\u001B[38;5;124m\"\u001B[39m \u001B[38;5;241m%\u001B[39m mean_squared_error(ytest[:,\u001B[38;5;241m1\u001B[39m], ypred[:,\u001B[38;5;241m1\u001B[39m]))\n",
      "File \u001B[1;32m~\\Anaconda3\\envs\\P4_OC\\lib\\site-packages\\pandas\\core\\frame.py:3505\u001B[0m, in \u001B[0;36mDataFrame.__getitem__\u001B[1;34m(self, key)\u001B[0m\n\u001B[0;32m   3503\u001B[0m \u001B[38;5;28;01mif\u001B[39;00m \u001B[38;5;28mself\u001B[39m\u001B[38;5;241m.\u001B[39mcolumns\u001B[38;5;241m.\u001B[39mnlevels \u001B[38;5;241m>\u001B[39m \u001B[38;5;241m1\u001B[39m:\n\u001B[0;32m   3504\u001B[0m     \u001B[38;5;28;01mreturn\u001B[39;00m \u001B[38;5;28mself\u001B[39m\u001B[38;5;241m.\u001B[39m_getitem_multilevel(key)\n\u001B[1;32m-> 3505\u001B[0m indexer \u001B[38;5;241m=\u001B[39m \u001B[38;5;28;43mself\u001B[39;49m\u001B[38;5;241;43m.\u001B[39;49m\u001B[43mcolumns\u001B[49m\u001B[38;5;241;43m.\u001B[39;49m\u001B[43mget_loc\u001B[49m\u001B[43m(\u001B[49m\u001B[43mkey\u001B[49m\u001B[43m)\u001B[49m\n\u001B[0;32m   3506\u001B[0m \u001B[38;5;28;01mif\u001B[39;00m is_integer(indexer):\n\u001B[0;32m   3507\u001B[0m     indexer \u001B[38;5;241m=\u001B[39m [indexer]\n",
      "File \u001B[1;32m~\\Anaconda3\\envs\\P4_OC\\lib\\site-packages\\pandas\\core\\indexes\\base.py:3628\u001B[0m, in \u001B[0;36mIndex.get_loc\u001B[1;34m(self, key, method, tolerance)\u001B[0m\n\u001B[0;32m   3623\u001B[0m         \u001B[38;5;28;01mraise\u001B[39;00m \u001B[38;5;167;01mKeyError\u001B[39;00m(key) \u001B[38;5;28;01mfrom\u001B[39;00m \u001B[38;5;21;01merr\u001B[39;00m\n\u001B[0;32m   3624\u001B[0m     \u001B[38;5;28;01mexcept\u001B[39;00m \u001B[38;5;167;01mTypeError\u001B[39;00m:\n\u001B[0;32m   3625\u001B[0m         \u001B[38;5;66;03m# If we have a listlike key, _check_indexing_error will raise\u001B[39;00m\n\u001B[0;32m   3626\u001B[0m         \u001B[38;5;66;03m#  InvalidIndexError. Otherwise we fall through and re-raise\u001B[39;00m\n\u001B[0;32m   3627\u001B[0m         \u001B[38;5;66;03m#  the TypeError.\u001B[39;00m\n\u001B[1;32m-> 3628\u001B[0m         \u001B[38;5;28;43mself\u001B[39;49m\u001B[38;5;241;43m.\u001B[39;49m\u001B[43m_check_indexing_error\u001B[49m\u001B[43m(\u001B[49m\u001B[43mkey\u001B[49m\u001B[43m)\u001B[49m\n\u001B[0;32m   3629\u001B[0m         \u001B[38;5;28;01mraise\u001B[39;00m\n\u001B[0;32m   3631\u001B[0m \u001B[38;5;66;03m# GH#42269\u001B[39;00m\n",
      "File \u001B[1;32m~\\Anaconda3\\envs\\P4_OC\\lib\\site-packages\\pandas\\core\\indexes\\base.py:5637\u001B[0m, in \u001B[0;36mIndex._check_indexing_error\u001B[1;34m(self, key)\u001B[0m\n\u001B[0;32m   5633\u001B[0m \u001B[38;5;28;01mdef\u001B[39;00m \u001B[38;5;21m_check_indexing_error\u001B[39m(\u001B[38;5;28mself\u001B[39m, key):\n\u001B[0;32m   5634\u001B[0m     \u001B[38;5;28;01mif\u001B[39;00m \u001B[38;5;129;01mnot\u001B[39;00m is_scalar(key):\n\u001B[0;32m   5635\u001B[0m         \u001B[38;5;66;03m# if key is not a scalar, directly raise an error (the code below\u001B[39;00m\n\u001B[0;32m   5636\u001B[0m         \u001B[38;5;66;03m# would convert to numpy arrays and raise later any way) - GH29926\u001B[39;00m\n\u001B[1;32m-> 5637\u001B[0m         \u001B[38;5;28;01mraise\u001B[39;00m InvalidIndexError(key)\n",
      "\u001B[1;31mInvalidIndexError\u001B[0m: (slice(None, None, None), 0)"
     ]
    }
   ],
   "source": [
    "ypred = model.predict(xtest)\n",
    "\n",
    "print(\"y1 MSE:%.4f\" % mean_squared_error(ytest[:,0], ypred[:,0]))\n",
    "print(\"y2 MSE:%.4f\" % mean_squared_error(ytest[:,1], ypred[:,1]))\n"
   ],
   "metadata": {
    "collapsed": false,
    "pycharm": {
     "name": "#%%\n"
    }
   }
  },
  {
   "cell_type": "code",
   "execution_count": null,
   "outputs": [],
   "source": [
    "# 4) save\n",
    "save_y_pred(\"LSTM\", output_path, ypred, y_val_surge.index, submit=False)\n",
    "\n",
    "# 5) evaluate\n",
    "evaluate_surge(y_pred_filename=\"Y_val_pred_LSTM.csv\", y_true_filename=\"Y_val_true.csv\", path_output=output_path)"
   ],
   "metadata": {
    "collapsed": false,
    "pycharm": {
     "name": "#%%\n"
    }
   }
  },
  {
   "cell_type": "code",
   "execution_count": 43,
   "outputs": [
    {
     "data": {
      "text/plain": "array([[nan, nan, nan, ..., nan, nan, nan],\n       [nan, nan, nan, ..., nan, nan, nan],\n       [nan, nan, nan, ..., nan, nan, nan],\n       ...,\n       [nan, nan, nan, ..., nan, nan, nan],\n       [nan, nan, nan, ..., nan, nan, nan],\n       [nan, nan, nan, ..., nan, nan, nan]], dtype=float32)"
     },
     "execution_count": 43,
     "metadata": {},
     "output_type": "execute_result"
    }
   ],
   "source": [
    "ypred"
   ],
   "metadata": {
    "collapsed": false,
    "pycharm": {
     "name": "#%%\n"
    }
   }
  },
  {
   "cell_type": "code",
   "execution_count": null,
   "outputs": [],
   "source": [
    "x_ax = range(len(xtest))\n",
    "plt.title(\"LSTM multi-output prediction\")\n",
    "plt.scatter(x_ax, ytest[:,0],  s=6, label=\"y1-test\")\n",
    "plt.plot(x_ax, ypred[:,0], label=\"y1-pred\")\n",
    "plt.scatter(x_ax, ytest[:,1],  s=6, label=\"y2-test\")\n",
    "plt.plot(x_ax, ypred[:,1], label=\"y2-pred\")\n",
    "plt.legend()\n",
    "plt.show()"
   ],
   "metadata": {
    "collapsed": false,
    "pycharm": {
     "name": "#%%\n"
    }
   }
  },
  {
   "cell_type": "code",
   "execution_count": null,
   "outputs": [],
   "source": [],
   "metadata": {
    "collapsed": false,
    "pycharm": {
     "name": "#%%\n"
    }
   }
  },
  {
   "cell_type": "code",
   "execution_count": null,
   "outputs": [],
   "source": [],
   "metadata": {
    "collapsed": false,
    "pycharm": {
     "name": "#%%\n"
    }
   }
  },
  {
   "cell_type": "markdown",
   "source": [
    "#### Saving models"
   ],
   "metadata": {
    "collapsed": false,
    "pycharm": {
     "name": "#%% md\n"
    }
   }
  },
  {
   "cell_type": "raw",
   "source": [
    "dict_models = {\n",
    "    'KernelRidge': regr_ridge,\n",
    "    'XGBoost': regr_XGBoost,\n",
    "    'SVR': regr_SVR\n",
    "}\n",
    "#    'BallTree': tree, # no predict method"
   ],
   "metadata": {
    "collapsed": false,
    "pycharm": {
     "name": "#%% raw\n"
    }
   },
   "outputs": [
    {
     "ename": "NameError",
     "evalue": "name 'regr_ridge' is not defined",
     "output_type": "error",
     "traceback": [
      "\u001B[1;31m---------------------------------------------------------------------------\u001B[0m",
      "\u001B[1;31mNameError\u001B[0m                                 Traceback (most recent call last)",
      "Input \u001B[1;32mIn [35]\u001B[0m, in \u001B[0;36m<cell line: 2>\u001B[1;34m()\u001B[0m\n\u001B[0;32m      1\u001B[0m dict_models \u001B[38;5;241m=\u001B[39m {\n\u001B[1;32m----> 2\u001B[0m     \u001B[38;5;124m'\u001B[39m\u001B[38;5;124mKernelRidge\u001B[39m\u001B[38;5;124m'\u001B[39m: \u001B[43mregr_ridge\u001B[49m,\n\u001B[0;32m      3\u001B[0m     \u001B[38;5;124m'\u001B[39m\u001B[38;5;124mXGBoost\u001B[39m\u001B[38;5;124m'\u001B[39m: regr_XGBoost,\n\u001B[0;32m      4\u001B[0m     \u001B[38;5;124m'\u001B[39m\u001B[38;5;124mSVR\u001B[39m\u001B[38;5;124m'\u001B[39m: regr_SVR\n\u001B[0;32m      5\u001B[0m }\n",
      "\u001B[1;31mNameError\u001B[0m: name 'regr_ridge' is not defined"
     ]
    }
   ],
   "execution_count": 35
  },
  {
   "cell_type": "raw",
   "source": [
    "path_model = './model/'\n",
    "for name, model in dict_models.items():\n",
    "    filename = path_model + name + '.sav'\n",
    "    # save the model to disk\n",
    "    pickle.dump(model, open(filename, 'wb'))"
   ],
   "metadata": {
    "collapsed": false,
    "pycharm": {
     "name": "#%% raw\n"
    }
   }
  },
  {
   "cell_type": "code",
   "execution_count": 32,
   "outputs": [],
   "source": [],
   "metadata": {
    "collapsed": false,
    "pycharm": {
     "name": "#%%\n"
    }
   }
  },
  {
   "cell_type": "markdown",
   "source": [
    "# Part III : Submission prediction"
   ],
   "metadata": {
    "collapsed": false,
    "pycharm": {
     "name": "#%% md\n"
    }
   }
  },
  {
   "cell_type": "markdown",
   "source": [
    "#### Predicting Y_test for each model using models trained using split X_train"
   ],
   "metadata": {
    "collapsed": false,
    "pycharm": {
     "name": "#%% md\n"
    }
   }
  },
  {
   "cell_type": "raw",
   "source": [
    "# load the model from disk\n",
    "all_models = [f for f in listdir(path_model) if isfile(join(path_model, f))]\n",
    "\n",
    "for model_name in all_models:\n",
    "    filename = './model/' + model_name\n",
    "    loaded_model = pickle.load(open(filename, 'rb'))\n",
    "\n",
    "    Y_test_pred = loaded_model.predict(slp_test)\n",
    "    # while saving the model we remove .sav\n",
    "    save_y_pred(model_name[:-4], output_path + \"/submit/\", Y_test_pred, X_test['id_sequence'], submit=True)"
   ],
   "metadata": {
    "collapsed": false,
    "pycharm": {
     "name": "#%% raw\n"
    }
   }
  },
  {
   "cell_type": "code",
   "execution_count": 32,
   "outputs": [],
   "source": [],
   "metadata": {
    "collapsed": false,
    "pycharm": {
     "name": "#%%\n"
    }
   }
  },
  {
   "cell_type": "markdown",
   "source": [
    "#### Predicting Y_test for the best model using all of X_train to train : no gain for XGBoost / SVR ?"
   ],
   "metadata": {
    "collapsed": false,
    "pycharm": {
     "name": "#%% md\n"
    }
   }
  },
  {
   "cell_type": "raw",
   "source": [
    "best_estimator = SVR(kernel='rbf')\n",
    "best_regr = MultiOutputRegressor(best_estimator).fit(slp_train, surge_train_df)\n",
    "\n",
    "name, model = \"best_model\", best_regr\n",
    "path_model = \"./model/\"\n",
    "filename = path_model + name + '.sav'\n",
    "# save the model to disk\n",
    "pickle.dump(model, open(filename, 'wb'))"
   ],
   "metadata": {
    "collapsed": false,
    "pycharm": {
     "name": "#%% raw\n"
    }
   }
  },
  {
   "cell_type": "code",
   "execution_count": 33,
   "outputs": [
    {
     "data": {
      "text/plain": "array([[100849.72, 100797.72, 100754.72, ..., 101970.81, 101981.81,\n        101990.81],\n       [100940.37, 100881.37, 100823.37, ..., 101515.72, 101562.72,\n        101611.72],\n       [101862.91, 101879.91, 101894.91, ..., 101005.37, 101038.37,\n        101076.37],\n       ...,\n       [102048.13, 102080.13, 102106.13, ..., 100781.81, 100724.81,\n        100664.81],\n       [102111.95, 102134.95, 102149.95, ..., 101352.13, 101376.13,\n        101392.13],\n       [101972.53, 101984.53, 101993.53, ..., 100412.28, 100450.28,\n        100483.28]], dtype=float32)"
     },
     "execution_count": 33,
     "metadata": {},
     "output_type": "execute_result"
    }
   ],
   "source": [
    "slp_train"
   ],
   "metadata": {
    "collapsed": false,
    "pycharm": {
     "name": "#%%\n"
    }
   }
  },
  {
   "cell_type": "code",
   "execution_count": 34,
   "outputs": [
    {
     "data": {
      "text/plain": "      surge1_t0  surge1_t1  surge1_t2  surge1_t3  surge1_t4  surge1_t5  \\\n1      0.586936   1.069580   0.767928  -0.100162   0.070775  -0.244285   \n2      0.767928  -0.100162   0.070775  -0.244285  -0.354891  -0.928031   \n3      0.070775  -0.244285  -0.354891  -0.928031  -0.773853  -0.375001   \n4     -0.354891  -0.928031  -0.773853  -0.375001  -0.361594  -0.210768   \n5     -0.773853  -0.375001  -0.361594  -0.210768   0.288635  -0.726929   \n...         ...        ...        ...        ...        ...        ...   \n5595   1.451674   1.220407   0.556771   1.709754   0.483033   0.533309   \n5596   0.556771   1.709754   0.483033   0.533309   1.448322   1.820360   \n5597   0.483033   0.533309   1.448322   1.820360   1.662831   1.528763   \n5598   1.448322   1.820360   1.662831   1.528763   1.284089   0.070775   \n5599   1.662831   1.528763   1.284089   0.070775   0.888589   1.545521   \n\n      surge1_t6  surge1_t7  surge1_t8  surge1_t9  surge2_t0  surge2_t1  \\\n1     -0.354891  -0.928031  -0.773853  -0.375001  -0.053886   0.356847   \n2     -0.773853  -0.375001  -0.361594  -0.210768   0.348464   0.264641   \n3     -0.361594  -0.210768   0.288635  -0.726929   0.901696   0.449052   \n4      0.288635  -0.726929  -0.576103   1.160076   0.113760  -0.422707   \n5     -0.576103   1.160076   0.442813   0.305393  -0.456236  -0.825057   \n...         ...        ...        ...        ...        ...        ...   \n5595   1.448322   1.820360   1.662831   1.528763   0.759197   0.884931   \n5596   1.662831   1.528763   1.284089   0.070775   0.298171  -0.397560   \n5597   1.284089   0.070775   0.888589   1.545521  -0.540059  -0.498148   \n5598   0.888589   1.545521   1.166779   0.653970  -0.498148  -0.405942   \n5599   1.166779   0.653970   0.409296   0.137809   0.164054   0.331700   \n\n      surge2_t2  surge2_t3  surge2_t4  surge2_t5  surge2_t6  surge2_t7  \\\n1      0.348464   0.264641   0.901696   0.449052   0.113760  -0.422707   \n2      0.901696   0.449052   0.113760  -0.422707  -0.456236  -0.825057   \n3      0.113760  -0.422707  -0.456236  -0.825057  -0.992703  -0.992703   \n4     -0.456236  -0.825057  -0.992703  -0.992703  -0.322119  -0.883733   \n5     -0.992703  -0.992703  -0.322119  -0.883733  -0.473001  -0.422707   \n...         ...        ...        ...        ...        ...        ...   \n5595   0.298171  -0.397560  -0.540059  -0.498148  -0.498148  -0.405942   \n5596  -0.540059  -0.498148  -0.498148  -0.405942   0.164054   0.331700   \n5597  -0.498148  -0.405942   0.164054   0.331700   1.052577   1.220223   \n5598   0.164054   0.331700   1.052577   1.220223   1.446545   2.670360   \n5599   1.052577   1.220223   1.446545   2.670360   2.620066   2.678742   \n\n      surge2_t8  surge2_t9  \n1     -0.456236  -0.825057  \n2     -0.992703  -0.992703  \n3     -0.322119  -0.883733  \n4     -0.473001  -0.422707  \n5     -0.473001  -0.531677  \n...         ...        ...  \n5595   0.164054   0.331700  \n5596   1.052577   1.220223  \n5597   1.446545   2.670360  \n5598   2.620066   2.678742  \n5599   1.220223   0.725668  \n\n[5599 rows x 20 columns]",
      "text/html": "<div>\n<style scoped>\n    .dataframe tbody tr th:only-of-type {\n        vertical-align: middle;\n    }\n\n    .dataframe tbody tr th {\n        vertical-align: top;\n    }\n\n    .dataframe thead th {\n        text-align: right;\n    }\n</style>\n<table border=\"1\" class=\"dataframe\">\n  <thead>\n    <tr style=\"text-align: right;\">\n      <th></th>\n      <th>surge1_t0</th>\n      <th>surge1_t1</th>\n      <th>surge1_t2</th>\n      <th>surge1_t3</th>\n      <th>surge1_t4</th>\n      <th>surge1_t5</th>\n      <th>surge1_t6</th>\n      <th>surge1_t7</th>\n      <th>surge1_t8</th>\n      <th>surge1_t9</th>\n      <th>surge2_t0</th>\n      <th>surge2_t1</th>\n      <th>surge2_t2</th>\n      <th>surge2_t3</th>\n      <th>surge2_t4</th>\n      <th>surge2_t5</th>\n      <th>surge2_t6</th>\n      <th>surge2_t7</th>\n      <th>surge2_t8</th>\n      <th>surge2_t9</th>\n    </tr>\n  </thead>\n  <tbody>\n    <tr>\n      <th>1</th>\n      <td>0.586936</td>\n      <td>1.069580</td>\n      <td>0.767928</td>\n      <td>-0.100162</td>\n      <td>0.070775</td>\n      <td>-0.244285</td>\n      <td>-0.354891</td>\n      <td>-0.928031</td>\n      <td>-0.773853</td>\n      <td>-0.375001</td>\n      <td>-0.053886</td>\n      <td>0.356847</td>\n      <td>0.348464</td>\n      <td>0.264641</td>\n      <td>0.901696</td>\n      <td>0.449052</td>\n      <td>0.113760</td>\n      <td>-0.422707</td>\n      <td>-0.456236</td>\n      <td>-0.825057</td>\n    </tr>\n    <tr>\n      <th>2</th>\n      <td>0.767928</td>\n      <td>-0.100162</td>\n      <td>0.070775</td>\n      <td>-0.244285</td>\n      <td>-0.354891</td>\n      <td>-0.928031</td>\n      <td>-0.773853</td>\n      <td>-0.375001</td>\n      <td>-0.361594</td>\n      <td>-0.210768</td>\n      <td>0.348464</td>\n      <td>0.264641</td>\n      <td>0.901696</td>\n      <td>0.449052</td>\n      <td>0.113760</td>\n      <td>-0.422707</td>\n      <td>-0.456236</td>\n      <td>-0.825057</td>\n      <td>-0.992703</td>\n      <td>-0.992703</td>\n    </tr>\n    <tr>\n      <th>3</th>\n      <td>0.070775</td>\n      <td>-0.244285</td>\n      <td>-0.354891</td>\n      <td>-0.928031</td>\n      <td>-0.773853</td>\n      <td>-0.375001</td>\n      <td>-0.361594</td>\n      <td>-0.210768</td>\n      <td>0.288635</td>\n      <td>-0.726929</td>\n      <td>0.901696</td>\n      <td>0.449052</td>\n      <td>0.113760</td>\n      <td>-0.422707</td>\n      <td>-0.456236</td>\n      <td>-0.825057</td>\n      <td>-0.992703</td>\n      <td>-0.992703</td>\n      <td>-0.322119</td>\n      <td>-0.883733</td>\n    </tr>\n    <tr>\n      <th>4</th>\n      <td>-0.354891</td>\n      <td>-0.928031</td>\n      <td>-0.773853</td>\n      <td>-0.375001</td>\n      <td>-0.361594</td>\n      <td>-0.210768</td>\n      <td>0.288635</td>\n      <td>-0.726929</td>\n      <td>-0.576103</td>\n      <td>1.160076</td>\n      <td>0.113760</td>\n      <td>-0.422707</td>\n      <td>-0.456236</td>\n      <td>-0.825057</td>\n      <td>-0.992703</td>\n      <td>-0.992703</td>\n      <td>-0.322119</td>\n      <td>-0.883733</td>\n      <td>-0.473001</td>\n      <td>-0.422707</td>\n    </tr>\n    <tr>\n      <th>5</th>\n      <td>-0.773853</td>\n      <td>-0.375001</td>\n      <td>-0.361594</td>\n      <td>-0.210768</td>\n      <td>0.288635</td>\n      <td>-0.726929</td>\n      <td>-0.576103</td>\n      <td>1.160076</td>\n      <td>0.442813</td>\n      <td>0.305393</td>\n      <td>-0.456236</td>\n      <td>-0.825057</td>\n      <td>-0.992703</td>\n      <td>-0.992703</td>\n      <td>-0.322119</td>\n      <td>-0.883733</td>\n      <td>-0.473001</td>\n      <td>-0.422707</td>\n      <td>-0.473001</td>\n      <td>-0.531677</td>\n    </tr>\n    <tr>\n      <th>...</th>\n      <td>...</td>\n      <td>...</td>\n      <td>...</td>\n      <td>...</td>\n      <td>...</td>\n      <td>...</td>\n      <td>...</td>\n      <td>...</td>\n      <td>...</td>\n      <td>...</td>\n      <td>...</td>\n      <td>...</td>\n      <td>...</td>\n      <td>...</td>\n      <td>...</td>\n      <td>...</td>\n      <td>...</td>\n      <td>...</td>\n      <td>...</td>\n      <td>...</td>\n    </tr>\n    <tr>\n      <th>5595</th>\n      <td>1.451674</td>\n      <td>1.220407</td>\n      <td>0.556771</td>\n      <td>1.709754</td>\n      <td>0.483033</td>\n      <td>0.533309</td>\n      <td>1.448322</td>\n      <td>1.820360</td>\n      <td>1.662831</td>\n      <td>1.528763</td>\n      <td>0.759197</td>\n      <td>0.884931</td>\n      <td>0.298171</td>\n      <td>-0.397560</td>\n      <td>-0.540059</td>\n      <td>-0.498148</td>\n      <td>-0.498148</td>\n      <td>-0.405942</td>\n      <td>0.164054</td>\n      <td>0.331700</td>\n    </tr>\n    <tr>\n      <th>5596</th>\n      <td>0.556771</td>\n      <td>1.709754</td>\n      <td>0.483033</td>\n      <td>0.533309</td>\n      <td>1.448322</td>\n      <td>1.820360</td>\n      <td>1.662831</td>\n      <td>1.528763</td>\n      <td>1.284089</td>\n      <td>0.070775</td>\n      <td>0.298171</td>\n      <td>-0.397560</td>\n      <td>-0.540059</td>\n      <td>-0.498148</td>\n      <td>-0.498148</td>\n      <td>-0.405942</td>\n      <td>0.164054</td>\n      <td>0.331700</td>\n      <td>1.052577</td>\n      <td>1.220223</td>\n    </tr>\n    <tr>\n      <th>5597</th>\n      <td>0.483033</td>\n      <td>0.533309</td>\n      <td>1.448322</td>\n      <td>1.820360</td>\n      <td>1.662831</td>\n      <td>1.528763</td>\n      <td>1.284089</td>\n      <td>0.070775</td>\n      <td>0.888589</td>\n      <td>1.545521</td>\n      <td>-0.540059</td>\n      <td>-0.498148</td>\n      <td>-0.498148</td>\n      <td>-0.405942</td>\n      <td>0.164054</td>\n      <td>0.331700</td>\n      <td>1.052577</td>\n      <td>1.220223</td>\n      <td>1.446545</td>\n      <td>2.670360</td>\n    </tr>\n    <tr>\n      <th>5598</th>\n      <td>1.448322</td>\n      <td>1.820360</td>\n      <td>1.662831</td>\n      <td>1.528763</td>\n      <td>1.284089</td>\n      <td>0.070775</td>\n      <td>0.888589</td>\n      <td>1.545521</td>\n      <td>1.166779</td>\n      <td>0.653970</td>\n      <td>-0.498148</td>\n      <td>-0.405942</td>\n      <td>0.164054</td>\n      <td>0.331700</td>\n      <td>1.052577</td>\n      <td>1.220223</td>\n      <td>1.446545</td>\n      <td>2.670360</td>\n      <td>2.620066</td>\n      <td>2.678742</td>\n    </tr>\n    <tr>\n      <th>5599</th>\n      <td>1.662831</td>\n      <td>1.528763</td>\n      <td>1.284089</td>\n      <td>0.070775</td>\n      <td>0.888589</td>\n      <td>1.545521</td>\n      <td>1.166779</td>\n      <td>0.653970</td>\n      <td>0.409296</td>\n      <td>0.137809</td>\n      <td>0.164054</td>\n      <td>0.331700</td>\n      <td>1.052577</td>\n      <td>1.220223</td>\n      <td>1.446545</td>\n      <td>2.670360</td>\n      <td>2.620066</td>\n      <td>2.678742</td>\n      <td>1.220223</td>\n      <td>0.725668</td>\n    </tr>\n  </tbody>\n</table>\n<p>5599 rows × 20 columns</p>\n</div>"
     },
     "execution_count": 34,
     "metadata": {},
     "output_type": "execute_result"
    }
   ],
   "source": [
    "surge_train_df"
   ],
   "metadata": {
    "collapsed": false,
    "pycharm": {
     "name": "#%%\n"
    }
   }
  },
  {
   "cell_type": "raw",
   "source": [
    "model_name = \"best_model\"\n",
    "filename = './model/' + model_name + \".sav\"\n",
    "\n",
    "loaded_best_model = pickle.load(open(filename, 'rb'))\n",
    "Y_test_pred = loaded_best_model.predict(slp_test)\n",
    "save_y_pred(model_name, output_path + \"/submit/\", Y_test_pred, X_test['id_sequence'], submit=True)"
   ],
   "metadata": {
    "collapsed": false,
    "pycharm": {
     "name": "#%% raw\n"
    }
   }
  },
  {
   "cell_type": "raw",
   "source": [
    "Y_test_pred"
   ],
   "metadata": {
    "collapsed": false,
    "pycharm": {
     "name": "#%% raw\n"
    }
   }
  },
  {
   "cell_type": "code",
   "execution_count": 34,
   "outputs": [],
   "source": [],
   "metadata": {
    "collapsed": false,
    "pycharm": {
     "name": "#%%\n"
    }
   }
  },
  {
   "cell_type": "code",
   "execution_count": 34,
   "outputs": [],
   "source": [],
   "metadata": {
    "collapsed": false,
    "pycharm": {
     "name": "#%%\n"
    }
   }
  },
  {
   "cell_type": "markdown",
   "source": [
    "###  End of notebook"
   ],
   "metadata": {
    "collapsed": false,
    "pycharm": {
     "name": "#%% md\n"
    }
   }
  },
  {
   "cell_type": "code",
   "execution_count": null,
   "outputs": [],
   "source": [
    "# End of pipeline time\n",
    "t1 = time()\n",
    "print(\"computing time : {:8.6f} sec\".format(t1 - t0))\n",
    "print(\"computing time : \" + strftime('%H:%M:%S', gmtime(t1 - t0)))"
   ],
   "metadata": {
    "collapsed": false,
    "pycharm": {
     "name": "#%%\n"
    }
   }
  }
 ],
 "metadata": {
  "kernelspec": {
   "display_name": "Python 3",
   "language": "python",
   "name": "python3"
  },
  "language_info": {
   "codemirror_mode": {
    "name": "ipython",
    "version": 2
   },
   "file_extension": ".py",
   "mimetype": "text/x-python",
   "name": "python",
   "nbconvert_exporter": "python",
   "pygments_lexer": "ipython2",
   "version": "2.7.6"
  }
 },
 "nbformat": 4,
 "nbformat_minor": 0
}