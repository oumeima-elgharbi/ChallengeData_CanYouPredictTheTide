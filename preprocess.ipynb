{
 "cells": [
  {
   "cell_type": "markdown",
   "source": [
    "Data Challenge : Can you predict the tide ?\n",
    "Author : Oumeima EL GHARBI\n",
    "Date : November 2022"
   ],
   "metadata": {
    "collapsed": false,
    "pycharm": {
     "name": "#%% md\n"
    }
   }
  },
  {
   "cell_type": "markdown",
   "source": [
    "# PART 1 : Cleaning dataset"
   ],
   "metadata": {
    "collapsed": false,
    "pycharm": {
     "name": "#%% md\n"
    }
   }
  },
  {
   "cell_type": "markdown",
   "source": [
    "### Importing libraries"
   ],
   "metadata": {
    "collapsed": false,
    "pycharm": {
     "name": "#%% md\n"
    }
   }
  },
  {
   "cell_type": "code",
   "execution_count": 245,
   "outputs": [
    {
     "data": {
      "application/javascript": "IPython.notebook.set_autosave_interval(300000)"
     },
     "metadata": {},
     "output_type": "display_data"
    },
    {
     "name": "stdout",
     "output_type": "stream",
     "text": [
      "Autosaving every 300 seconds\n"
     ]
    }
   ],
   "source": [
    "import numpy as np\n",
    "import pandas as pd\n",
    "%reset -f\n",
    "\n",
    "from cleaning import *\n",
    "\n",
    "import warnings\n",
    "warnings.filterwarnings('ignore')\n",
    "#warnings.filterwarnings(action=\"once\")\n",
    "\n",
    "%matplotlib inline\n",
    "%autosave 300"
   ],
   "metadata": {
    "collapsed": false,
    "pycharm": {
     "name": "#%%\n"
    }
   }
  },
  {
   "cell_type": "code",
   "execution_count": 246,
   "outputs": [],
   "source": [
    "# Starting time\n",
    "t0 = time()"
   ],
   "metadata": {
    "collapsed": false,
    "pycharm": {
     "name": "#%%\n"
    }
   }
  },
  {
   "cell_type": "markdown",
   "source": [
    "### 1) Visualizing dataset"
   ],
   "metadata": {
    "collapsed": false,
    "pycharm": {
     "name": "#%% md\n"
    }
   }
  },
  {
   "cell_type": "markdown",
   "source": [
    "#### Loading dataset"
   ],
   "metadata": {
    "collapsed": false,
    "pycharm": {
     "name": "#%% md\n"
    }
   }
  },
  {
   "cell_type": "code",
   "execution_count": 247,
   "outputs": [],
   "source": [
    "#pd.set_option('display.float_format', lambda x: '%.2f' % x)\n",
    "#pd.set_option('display.max_columns', None)\n",
    "\n",
    "# load raw dataset\n",
    "input_path = \"./dataset/source/\"\n",
    "\n",
    "X_train_filename = \"X_train_surge_new.npz\"\n",
    "Y_train_filename = \"Y_train_surge.csv\"\n",
    "X_test_filename = \"X_test_surge_new.npz\"\n",
    "\n",
    "X_train_file = \"{}{}\".format(input_path, X_train_filename)\n",
    "Y_train_file = \"{}{}\".format(input_path, Y_train_filename)\n",
    "X_test_file = \"{}{}\".format(input_path, X_test_filename)"
   ],
   "metadata": {
    "collapsed": false,
    "pycharm": {
     "name": "#%%\n"
    }
   }
  },
  {
   "cell_type": "code",
   "execution_count": 248,
   "outputs": [],
   "source": [
    "X_train = np.load(X_train_file)\n",
    "Y_train = pd.read_csv(Y_train_file)\n",
    "X_test = np.load(X_test_file)"
   ],
   "metadata": {
    "collapsed": false,
    "pycharm": {
     "name": "#%%\n"
    }
   }
  },
  {
   "cell_type": "code",
   "execution_count": 249,
   "outputs": [
    {
     "data": {
      "text/plain": "<numpy.lib.npyio.NpzFile at 0x206160d9d30>"
     },
     "execution_count": 249,
     "metadata": {},
     "output_type": "execute_result"
    }
   ],
   "source": [
    "X_train"
   ],
   "metadata": {
    "collapsed": false,
    "pycharm": {
     "name": "#%%\n"
    }
   }
  },
  {
   "cell_type": "code",
   "execution_count": 250,
   "outputs": [],
   "source": [
    "surge_train = np.array(Y_train)[:,1:]"
   ],
   "metadata": {
    "collapsed": false,
    "pycharm": {
     "name": "#%%\n"
    }
   }
  },
  {
   "cell_type": "code",
   "execution_count": 251,
   "outputs": [
    {
     "data": {
      "text/plain": "array([[ 0.58693592,  1.06958024,  0.76792754, ..., -0.42270688,\n        -0.45623606, -0.82505705],\n       [ 0.76792754, -0.1001619 ,  0.07077463, ..., -0.82505705,\n        -0.99270295, -0.99270295],\n       [ 0.07077463, -0.24428486, -0.35489084, ..., -0.99270295,\n        -0.32211934, -0.88373311],\n       ...,\n       [ 0.48303332,  0.53330877,  1.44832196, ...,  1.22022298,\n         1.44654495,  2.67036005],\n       [ 1.44832196,  1.82036029,  1.66283054, ...,  2.67036005,\n         2.62006628,  2.67874235],\n       [ 1.66283054,  1.52876268,  1.28408882, ...,  2.67874235,\n         1.22022298,  0.72566756]])"
     },
     "execution_count": 251,
     "metadata": {},
     "output_type": "execute_result"
    }
   ],
   "source": [
    "surge_train"
   ],
   "metadata": {
    "collapsed": false,
    "pycharm": {
     "name": "#%%\n"
    }
   }
  },
  {
   "cell_type": "code",
   "execution_count": 252,
   "outputs": [
    {
     "data": {
      "text/plain": "array(['id_sequence', 't_slp', 'slp', 't_surge1_input', 'surge1_input',\n       't_surge2_input', 'surge2_input', 't_surge1_output',\n       't_surge2_output'], dtype='<U15')"
     },
     "execution_count": 252,
     "metadata": {},
     "output_type": "execute_result"
    }
   ],
   "source": [
    "np.array(X_train)"
   ],
   "metadata": {
    "collapsed": false,
    "pycharm": {
     "name": "#%%\n"
    }
   }
  },
  {
   "cell_type": "code",
   "execution_count": 253,
   "outputs": [
    {
     "data": {
      "text/plain": "                 0\n0      id_sequence\n1            t_slp\n2              slp\n3   t_surge1_input\n4     surge1_input\n5   t_surge2_input\n6     surge2_input\n7  t_surge1_output\n8  t_surge2_output",
      "text/html": "<div>\n<style scoped>\n    .dataframe tbody tr th:only-of-type {\n        vertical-align: middle;\n    }\n\n    .dataframe tbody tr th {\n        vertical-align: top;\n    }\n\n    .dataframe thead th {\n        text-align: right;\n    }\n</style>\n<table border=\"1\" class=\"dataframe\">\n  <thead>\n    <tr style=\"text-align: right;\">\n      <th></th>\n      <th>0</th>\n    </tr>\n  </thead>\n  <tbody>\n    <tr>\n      <th>0</th>\n      <td>id_sequence</td>\n    </tr>\n    <tr>\n      <th>1</th>\n      <td>t_slp</td>\n    </tr>\n    <tr>\n      <th>2</th>\n      <td>slp</td>\n    </tr>\n    <tr>\n      <th>3</th>\n      <td>t_surge1_input</td>\n    </tr>\n    <tr>\n      <th>4</th>\n      <td>surge1_input</td>\n    </tr>\n    <tr>\n      <th>5</th>\n      <td>t_surge2_input</td>\n    </tr>\n    <tr>\n      <th>6</th>\n      <td>surge2_input</td>\n    </tr>\n    <tr>\n      <th>7</th>\n      <td>t_surge1_output</td>\n    </tr>\n    <tr>\n      <th>8</th>\n      <td>t_surge2_output</td>\n    </tr>\n  </tbody>\n</table>\n</div>"
     },
     "execution_count": 253,
     "metadata": {},
     "output_type": "execute_result"
    }
   ],
   "source": [
    "pd.DataFrame(X_train)#.shape"
   ],
   "metadata": {
    "collapsed": false,
    "pycharm": {
     "name": "#%%\n"
    }
   }
  },
  {
   "cell_type": "code",
   "execution_count": 254,
   "outputs": [
    {
     "data": {
      "text/plain": "(5599, 40, 41, 41)"
     },
     "execution_count": 254,
     "metadata": {},
     "output_type": "execute_result"
    }
   ],
   "source": [
    "X_train['slp'].shape"
   ],
   "metadata": {
    "collapsed": false,
    "pycharm": {
     "name": "#%%\n"
    }
   }
  },
  {
   "cell_type": "code",
   "execution_count": 255,
   "outputs": [
    {
     "data": {
      "text/plain": "array([[100849.72, 100797.72, 100754.72, ..., 101970.81, 101981.81,\n        101990.81],\n       [100940.37, 100881.37, 100823.37, ..., 101515.72, 101562.72,\n        101611.72],\n       [101862.91, 101879.91, 101894.91, ..., 101005.37, 101038.37,\n        101076.37],\n       ...,\n       [102048.13, 102080.13, 102106.13, ..., 100781.81, 100724.81,\n        100664.81],\n       [102111.95, 102134.95, 102149.95, ..., 101352.13, 101376.13,\n        101392.13],\n       [101972.53, 101984.53, 101993.53, ..., 100412.28, 100450.28,\n        100483.28]], dtype=float32)"
     },
     "execution_count": 255,
     "metadata": {},
     "output_type": "execute_result"
    }
   ],
   "source": [
    "nfields = 2; time_step_slp = 8\n",
    "slp_train = []\n",
    "slp_all = X_train['slp']\n",
    "# ena :\n",
    "n_slp = slp_all.shape[0]\n",
    "\n",
    "for i in range(n_slp):\n",
    "    slp_train.append(np.ndarray.flatten(slp_all[i,-1]))\n",
    "    for j in range(1,nfields):\n",
    "        slp_train[-1] = np.concatenate( ( slp_train[-1], np.ndarray.flatten(slp_all[i,-1-j*time_step_slp]) ) )\n",
    "slp_train = np.array(slp_train)\n",
    "\n",
    "slp_train"
   ],
   "metadata": {
    "collapsed": false,
    "pycharm": {
     "name": "#%%\n"
    }
   }
  },
  {
   "cell_type": "code",
   "execution_count": 256,
   "outputs": [
    {
     "data": {
      "text/plain": "array([[ 0.58693592,  1.06958024,  0.76792754, ..., -0.42270688,\n        -0.45623606, -0.82505705],\n       [ 0.76792754, -0.1001619 ,  0.07077463, ..., -0.82505705,\n        -0.99270295, -0.99270295],\n       [ 0.07077463, -0.24428486, -0.35489084, ..., -0.99270295,\n        -0.32211934, -0.88373311],\n       ...,\n       [ 0.48303332,  0.53330877,  1.44832196, ...,  1.22022298,\n         1.44654495,  2.67036005],\n       [ 1.44832196,  1.82036029,  1.66283054, ...,  2.67036005,\n         2.62006628,  2.67874235],\n       [ 1.66283054,  1.52876268,  1.28408882, ...,  2.67874235,\n         1.22022298,  0.72566756]])"
     },
     "execution_count": 256,
     "metadata": {},
     "output_type": "execute_result"
    }
   ],
   "source": [
    "surge_train = np.array(Y_train)[:,1:]\n",
    "surge_train"
   ],
   "metadata": {
    "collapsed": false,
    "pycharm": {
     "name": "#%%\n"
    }
   }
  },
  {
   "cell_type": "code",
   "execution_count": 257,
   "outputs": [
    {
     "data": {
      "text/plain": "      surge1_t0  surge1_t1  surge1_t2  surge1_t3  surge1_t4  surge1_t5  \\\n1      0.586936   1.069580   0.767928  -0.100162   0.070775  -0.244285   \n2      0.767928  -0.100162   0.070775  -0.244285  -0.354891  -0.928031   \n3      0.070775  -0.244285  -0.354891  -0.928031  -0.773853  -0.375001   \n4     -0.354891  -0.928031  -0.773853  -0.375001  -0.361594  -0.210768   \n5     -0.773853  -0.375001  -0.361594  -0.210768   0.288635  -0.726929   \n...         ...        ...        ...        ...        ...        ...   \n5595   1.451674   1.220407   0.556771   1.709754   0.483033   0.533309   \n5596   0.556771   1.709754   0.483033   0.533309   1.448322   1.820360   \n5597   0.483033   0.533309   1.448322   1.820360   1.662831   1.528763   \n5598   1.448322   1.820360   1.662831   1.528763   1.284089   0.070775   \n5599   1.662831   1.528763   1.284089   0.070775   0.888589   1.545521   \n\n      surge1_t6  surge1_t7  surge1_t8  surge1_t9  surge2_t0  surge2_t1  \\\n1     -0.354891  -0.928031  -0.773853  -0.375001  -0.053886   0.356847   \n2     -0.773853  -0.375001  -0.361594  -0.210768   0.348464   0.264641   \n3     -0.361594  -0.210768   0.288635  -0.726929   0.901696   0.449052   \n4      0.288635  -0.726929  -0.576103   1.160076   0.113760  -0.422707   \n5     -0.576103   1.160076   0.442813   0.305393  -0.456236  -0.825057   \n...         ...        ...        ...        ...        ...        ...   \n5595   1.448322   1.820360   1.662831   1.528763   0.759197   0.884931   \n5596   1.662831   1.528763   1.284089   0.070775   0.298171  -0.397560   \n5597   1.284089   0.070775   0.888589   1.545521  -0.540059  -0.498148   \n5598   0.888589   1.545521   1.166779   0.653970  -0.498148  -0.405942   \n5599   1.166779   0.653970   0.409296   0.137809   0.164054   0.331700   \n\n      surge2_t2  surge2_t3  surge2_t4  surge2_t5  surge2_t6  surge2_t7  \\\n1      0.348464   0.264641   0.901696   0.449052   0.113760  -0.422707   \n2      0.901696   0.449052   0.113760  -0.422707  -0.456236  -0.825057   \n3      0.113760  -0.422707  -0.456236  -0.825057  -0.992703  -0.992703   \n4     -0.456236  -0.825057  -0.992703  -0.992703  -0.322119  -0.883733   \n5     -0.992703  -0.992703  -0.322119  -0.883733  -0.473001  -0.422707   \n...         ...        ...        ...        ...        ...        ...   \n5595   0.298171  -0.397560  -0.540059  -0.498148  -0.498148  -0.405942   \n5596  -0.540059  -0.498148  -0.498148  -0.405942   0.164054   0.331700   \n5597  -0.498148  -0.405942   0.164054   0.331700   1.052577   1.220223   \n5598   0.164054   0.331700   1.052577   1.220223   1.446545   2.670360   \n5599   1.052577   1.220223   1.446545   2.670360   2.620066   2.678742   \n\n      surge2_t8  surge2_t9  \n1     -0.456236  -0.825057  \n2     -0.992703  -0.992703  \n3     -0.322119  -0.883733  \n4     -0.473001  -0.422707  \n5     -0.473001  -0.531677  \n...         ...        ...  \n5595   0.164054   0.331700  \n5596   1.052577   1.220223  \n5597   1.446545   2.670360  \n5598   2.620066   2.678742  \n5599   1.220223   0.725668  \n\n[5599 rows x 20 columns]",
      "text/html": "<div>\n<style scoped>\n    .dataframe tbody tr th:only-of-type {\n        vertical-align: middle;\n    }\n\n    .dataframe tbody tr th {\n        vertical-align: top;\n    }\n\n    .dataframe thead th {\n        text-align: right;\n    }\n</style>\n<table border=\"1\" class=\"dataframe\">\n  <thead>\n    <tr style=\"text-align: right;\">\n      <th></th>\n      <th>surge1_t0</th>\n      <th>surge1_t1</th>\n      <th>surge1_t2</th>\n      <th>surge1_t3</th>\n      <th>surge1_t4</th>\n      <th>surge1_t5</th>\n      <th>surge1_t6</th>\n      <th>surge1_t7</th>\n      <th>surge1_t8</th>\n      <th>surge1_t9</th>\n      <th>surge2_t0</th>\n      <th>surge2_t1</th>\n      <th>surge2_t2</th>\n      <th>surge2_t3</th>\n      <th>surge2_t4</th>\n      <th>surge2_t5</th>\n      <th>surge2_t6</th>\n      <th>surge2_t7</th>\n      <th>surge2_t8</th>\n      <th>surge2_t9</th>\n    </tr>\n  </thead>\n  <tbody>\n    <tr>\n      <th>1</th>\n      <td>0.586936</td>\n      <td>1.069580</td>\n      <td>0.767928</td>\n      <td>-0.100162</td>\n      <td>0.070775</td>\n      <td>-0.244285</td>\n      <td>-0.354891</td>\n      <td>-0.928031</td>\n      <td>-0.773853</td>\n      <td>-0.375001</td>\n      <td>-0.053886</td>\n      <td>0.356847</td>\n      <td>0.348464</td>\n      <td>0.264641</td>\n      <td>0.901696</td>\n      <td>0.449052</td>\n      <td>0.113760</td>\n      <td>-0.422707</td>\n      <td>-0.456236</td>\n      <td>-0.825057</td>\n    </tr>\n    <tr>\n      <th>2</th>\n      <td>0.767928</td>\n      <td>-0.100162</td>\n      <td>0.070775</td>\n      <td>-0.244285</td>\n      <td>-0.354891</td>\n      <td>-0.928031</td>\n      <td>-0.773853</td>\n      <td>-0.375001</td>\n      <td>-0.361594</td>\n      <td>-0.210768</td>\n      <td>0.348464</td>\n      <td>0.264641</td>\n      <td>0.901696</td>\n      <td>0.449052</td>\n      <td>0.113760</td>\n      <td>-0.422707</td>\n      <td>-0.456236</td>\n      <td>-0.825057</td>\n      <td>-0.992703</td>\n      <td>-0.992703</td>\n    </tr>\n    <tr>\n      <th>3</th>\n      <td>0.070775</td>\n      <td>-0.244285</td>\n      <td>-0.354891</td>\n      <td>-0.928031</td>\n      <td>-0.773853</td>\n      <td>-0.375001</td>\n      <td>-0.361594</td>\n      <td>-0.210768</td>\n      <td>0.288635</td>\n      <td>-0.726929</td>\n      <td>0.901696</td>\n      <td>0.449052</td>\n      <td>0.113760</td>\n      <td>-0.422707</td>\n      <td>-0.456236</td>\n      <td>-0.825057</td>\n      <td>-0.992703</td>\n      <td>-0.992703</td>\n      <td>-0.322119</td>\n      <td>-0.883733</td>\n    </tr>\n    <tr>\n      <th>4</th>\n      <td>-0.354891</td>\n      <td>-0.928031</td>\n      <td>-0.773853</td>\n      <td>-0.375001</td>\n      <td>-0.361594</td>\n      <td>-0.210768</td>\n      <td>0.288635</td>\n      <td>-0.726929</td>\n      <td>-0.576103</td>\n      <td>1.160076</td>\n      <td>0.113760</td>\n      <td>-0.422707</td>\n      <td>-0.456236</td>\n      <td>-0.825057</td>\n      <td>-0.992703</td>\n      <td>-0.992703</td>\n      <td>-0.322119</td>\n      <td>-0.883733</td>\n      <td>-0.473001</td>\n      <td>-0.422707</td>\n    </tr>\n    <tr>\n      <th>5</th>\n      <td>-0.773853</td>\n      <td>-0.375001</td>\n      <td>-0.361594</td>\n      <td>-0.210768</td>\n      <td>0.288635</td>\n      <td>-0.726929</td>\n      <td>-0.576103</td>\n      <td>1.160076</td>\n      <td>0.442813</td>\n      <td>0.305393</td>\n      <td>-0.456236</td>\n      <td>-0.825057</td>\n      <td>-0.992703</td>\n      <td>-0.992703</td>\n      <td>-0.322119</td>\n      <td>-0.883733</td>\n      <td>-0.473001</td>\n      <td>-0.422707</td>\n      <td>-0.473001</td>\n      <td>-0.531677</td>\n    </tr>\n    <tr>\n      <th>...</th>\n      <td>...</td>\n      <td>...</td>\n      <td>...</td>\n      <td>...</td>\n      <td>...</td>\n      <td>...</td>\n      <td>...</td>\n      <td>...</td>\n      <td>...</td>\n      <td>...</td>\n      <td>...</td>\n      <td>...</td>\n      <td>...</td>\n      <td>...</td>\n      <td>...</td>\n      <td>...</td>\n      <td>...</td>\n      <td>...</td>\n      <td>...</td>\n      <td>...</td>\n    </tr>\n    <tr>\n      <th>5595</th>\n      <td>1.451674</td>\n      <td>1.220407</td>\n      <td>0.556771</td>\n      <td>1.709754</td>\n      <td>0.483033</td>\n      <td>0.533309</td>\n      <td>1.448322</td>\n      <td>1.820360</td>\n      <td>1.662831</td>\n      <td>1.528763</td>\n      <td>0.759197</td>\n      <td>0.884931</td>\n      <td>0.298171</td>\n      <td>-0.397560</td>\n      <td>-0.540059</td>\n      <td>-0.498148</td>\n      <td>-0.498148</td>\n      <td>-0.405942</td>\n      <td>0.164054</td>\n      <td>0.331700</td>\n    </tr>\n    <tr>\n      <th>5596</th>\n      <td>0.556771</td>\n      <td>1.709754</td>\n      <td>0.483033</td>\n      <td>0.533309</td>\n      <td>1.448322</td>\n      <td>1.820360</td>\n      <td>1.662831</td>\n      <td>1.528763</td>\n      <td>1.284089</td>\n      <td>0.070775</td>\n      <td>0.298171</td>\n      <td>-0.397560</td>\n      <td>-0.540059</td>\n      <td>-0.498148</td>\n      <td>-0.498148</td>\n      <td>-0.405942</td>\n      <td>0.164054</td>\n      <td>0.331700</td>\n      <td>1.052577</td>\n      <td>1.220223</td>\n    </tr>\n    <tr>\n      <th>5597</th>\n      <td>0.483033</td>\n      <td>0.533309</td>\n      <td>1.448322</td>\n      <td>1.820360</td>\n      <td>1.662831</td>\n      <td>1.528763</td>\n      <td>1.284089</td>\n      <td>0.070775</td>\n      <td>0.888589</td>\n      <td>1.545521</td>\n      <td>-0.540059</td>\n      <td>-0.498148</td>\n      <td>-0.498148</td>\n      <td>-0.405942</td>\n      <td>0.164054</td>\n      <td>0.331700</td>\n      <td>1.052577</td>\n      <td>1.220223</td>\n      <td>1.446545</td>\n      <td>2.670360</td>\n    </tr>\n    <tr>\n      <th>5598</th>\n      <td>1.448322</td>\n      <td>1.820360</td>\n      <td>1.662831</td>\n      <td>1.528763</td>\n      <td>1.284089</td>\n      <td>0.070775</td>\n      <td>0.888589</td>\n      <td>1.545521</td>\n      <td>1.166779</td>\n      <td>0.653970</td>\n      <td>-0.498148</td>\n      <td>-0.405942</td>\n      <td>0.164054</td>\n      <td>0.331700</td>\n      <td>1.052577</td>\n      <td>1.220223</td>\n      <td>1.446545</td>\n      <td>2.670360</td>\n      <td>2.620066</td>\n      <td>2.678742</td>\n    </tr>\n    <tr>\n      <th>5599</th>\n      <td>1.662831</td>\n      <td>1.528763</td>\n      <td>1.284089</td>\n      <td>0.070775</td>\n      <td>0.888589</td>\n      <td>1.545521</td>\n      <td>1.166779</td>\n      <td>0.653970</td>\n      <td>0.409296</td>\n      <td>0.137809</td>\n      <td>0.164054</td>\n      <td>0.331700</td>\n      <td>1.052577</td>\n      <td>1.220223</td>\n      <td>1.446545</td>\n      <td>2.670360</td>\n      <td>2.620066</td>\n      <td>2.678742</td>\n      <td>1.220223</td>\n      <td>0.725668</td>\n    </tr>\n  </tbody>\n</table>\n<p>5599 rows × 20 columns</p>\n</div>"
     },
     "execution_count": 257,
     "metadata": {},
     "output_type": "execute_result"
    }
   ],
   "source": [
    "y_columns = [f'surge1_t{i}' for i in range(10)] + [f'surge2_t{i}' for i in range(10)]\n",
    "surge_train_df = pd.DataFrame(data=surge_train, columns=y_columns, index=X_train['id_sequence'])\n",
    "\n",
    "surge_train_df"
   ],
   "metadata": {
    "collapsed": false,
    "pycharm": {
     "name": "#%%\n"
    }
   }
  },
  {
   "cell_type": "code",
   "execution_count": 257,
   "outputs": [],
   "source": [],
   "metadata": {
    "collapsed": false,
    "pycharm": {
     "name": "#%%\n"
    }
   }
  },
  {
   "cell_type": "code",
   "execution_count": 258,
   "outputs": [],
   "source": [
    "from sklearn.model_selection import train_test_split\n",
    "\n",
    "X_train_surge, X_test_surge, y_train_surge, y_test_surge = train_test_split(slp_train, surge_train_df, test_size=0.3, random_state=42)"
   ],
   "metadata": {
    "collapsed": false,
    "pycharm": {
     "name": "#%%\n"
    }
   }
  },
  {
   "cell_type": "code",
   "execution_count": 259,
   "outputs": [
    {
     "data": {
      "text/plain": "(5599, 3362)"
     },
     "execution_count": 259,
     "metadata": {},
     "output_type": "execute_result"
    }
   ],
   "source": [
    "slp_train.shape"
   ],
   "metadata": {
    "collapsed": false,
    "pycharm": {
     "name": "#%%\n"
    }
   }
  },
  {
   "cell_type": "code",
   "execution_count": 260,
   "outputs": [
    {
     "data": {
      "text/plain": "(5599, 20)"
     },
     "execution_count": 260,
     "metadata": {},
     "output_type": "execute_result"
    }
   ],
   "source": [
    "surge_train.shape"
   ],
   "metadata": {
    "collapsed": false,
    "pycharm": {
     "name": "#%%\n"
    }
   }
  },
  {
   "cell_type": "code",
   "execution_count": 261,
   "outputs": [
    {
     "data": {
      "text/plain": "(3919, 3362)"
     },
     "execution_count": 261,
     "metadata": {},
     "output_type": "execute_result"
    }
   ],
   "source": [
    "X_train_surge.shape"
   ],
   "metadata": {
    "collapsed": false,
    "pycharm": {
     "name": "#%%\n"
    }
   }
  },
  {
   "cell_type": "code",
   "execution_count": 262,
   "outputs": [
    {
     "data": {
      "text/plain": "(1680, 20)"
     },
     "execution_count": 262,
     "metadata": {},
     "output_type": "execute_result"
    }
   ],
   "source": [
    "y_test_surge.shape"
   ],
   "metadata": {
    "collapsed": false,
    "pycharm": {
     "name": "#%%\n"
    }
   }
  },
  {
   "cell_type": "code",
   "execution_count": 263,
   "outputs": [
    {
     "data": {
      "text/plain": "array([[102176.35, 102156.35, 102133.35, ..., 101640.01, 101663.01,\n        101685.01],\n       [101805.57, 101868.57, 101921.57, ..., 100350.2 , 100314.2 ,\n        100281.2 ],\n       [102114.1 , 102082.1 , 102049.1 , ..., 101215.24, 101180.24,\n        101145.24],\n       ...,\n       [101786.12, 101687.12, 101576.12, ..., 100236.8 , 100318.8 ,\n        100393.8 ],\n       [102499.41, 102499.41, 102497.41, ..., 100472.49, 100492.49,\n        100510.49],\n       [101569.21, 101633.21, 101687.21, ...,  98750.56,  98741.56,\n         98742.56]], dtype=float32)"
     },
     "execution_count": 263,
     "metadata": {},
     "output_type": "execute_result"
    }
   ],
   "source": [
    "X_train_surge"
   ],
   "metadata": {
    "collapsed": false,
    "pycharm": {
     "name": "#%%\n"
    }
   }
  },
  {
   "cell_type": "code",
   "execution_count": 264,
   "outputs": [
    {
     "data": {
      "text/plain": "      surge1_t0  surge1_t1  surge1_t2  surge1_t3  surge1_t4  surge1_t5  \\\n4441  -0.167196  -0.234230  -0.110217  -0.029776   0.047313  -0.046535   \n2472   0.238359   2.105255   0.888589   1.062877   1.103097  -1.638591   \n3317  -0.096810  -0.100162  -0.103514   0.265173  -0.244285  -0.321374   \n81     1.331013   0.553419   1.220407   0.637211  -0.013018  -0.150437   \n4806   1.776788   3.053785   3.516319   2.557734   0.922106   2.068386   \n...         ...        ...        ...        ...        ...        ...   \n1392  -1.440841  -1.135836  -0.760446  -0.747039  -0.271098  -0.499014   \n4351  -0.116920  -0.328077  -0.371649  -0.455442  -0.455442  -0.499014   \n221   -1.420730  -1.561502  -1.702273  -1.826286  -1.779362  -1.283311   \n1746  -0.163844  -0.458793  -0.006314  -0.090107  -0.250988  -0.368298   \n628    0.070775  -0.971603  -0.877756  -1.427434  -1.507874  -0.944789   \n\n      surge1_t6  surge1_t7  surge1_t8  surge1_t9  surge2_t0  surge2_t1  \\\n4441  -0.354891  -0.405166  -0.314670  -0.690061  -0.104180  -0.162856   \n2472  -1.145891  -0.321374  -0.579455  -0.666599  -1.336377  -0.967556   \n3317  -0.552641  -0.579455  -0.646488  -0.110217   1.002283   0.960372   \n81     0.141160   0.198139   0.060720  -0.371649  -0.925645  -1.403435   \n4806   1.713106   1.153373   2.406907   1.947725   0.901696   1.236988   \n...         ...        ...        ...        ...        ...        ...   \n1392  -0.539234  -0.696764  -0.874404  -0.901217   1.295664   1.589044   \n4351  -0.143734  -0.009666  -0.096810  -0.485607  -0.364031  -0.322119   \n221   -1.249794  -0.921328  -0.991713  -0.777205  -0.380795   0.843020   \n1746  -0.214120   0.208194   0.074126  -0.056590   0.423905   0.524492   \n628   -0.418573  -0.254340   0.258470   0.808148   0.910078   0.264641   \n\n      surge2_t2  surge2_t3  surge2_t4  surge2_t5  surge2_t6  surge2_t7  \\\n4441  -0.104180  -0.548441  -0.783146  -0.481383  -0.774763  -0.422707   \n2472  -0.892115  -0.011974  -0.095797   0.105378  -0.095797  -0.162856   \n3317   0.893313   0.943607   0.700521   0.457434   0.365229   0.608315   \n81    -1.252554  -1.420200  -1.026232  -0.833439  -0.045504  -0.028739   \n4806   0.717285   0.650227   0.708903   0.356847   0.474199   0.222730   \n...         ...        ...        ...        ...        ...        ...   \n1392   1.228605   0.273024  -0.305355  -0.355649  -0.716087  -1.051379   \n4351  -0.489765  -0.791528  -0.556824  -0.690940  -0.422707  -0.674176   \n221   -0.028739  -0.120944  -0.540059  -0.313737  -1.219025  -1.235790   \n1746   0.750814   0.532875   1.060959   0.641845   0.708903   0.775961   \n628   -0.095797  -0.313737  -0.062268  -0.146091  -0.347266  -1.068144   \n\n      surge2_t8  surge2_t9  \n4441  -0.296972   0.398758  \n2472   0.113760   0.331700  \n3317   0.289788   0.390376  \n81    -0.347266  -0.975938  \n4806   0.247877   0.055084  \n...         ...        ...  \n1392  -0.489765  -0.188003  \n4351  -0.196385  -0.313737  \n221   -1.587846  -1.638140  \n1746   0.616698   0.474199  \n628   -1.277701  -0.917262  \n\n[1680 rows x 20 columns]",
      "text/html": "<div>\n<style scoped>\n    .dataframe tbody tr th:only-of-type {\n        vertical-align: middle;\n    }\n\n    .dataframe tbody tr th {\n        vertical-align: top;\n    }\n\n    .dataframe thead th {\n        text-align: right;\n    }\n</style>\n<table border=\"1\" class=\"dataframe\">\n  <thead>\n    <tr style=\"text-align: right;\">\n      <th></th>\n      <th>surge1_t0</th>\n      <th>surge1_t1</th>\n      <th>surge1_t2</th>\n      <th>surge1_t3</th>\n      <th>surge1_t4</th>\n      <th>surge1_t5</th>\n      <th>surge1_t6</th>\n      <th>surge1_t7</th>\n      <th>surge1_t8</th>\n      <th>surge1_t9</th>\n      <th>surge2_t0</th>\n      <th>surge2_t1</th>\n      <th>surge2_t2</th>\n      <th>surge2_t3</th>\n      <th>surge2_t4</th>\n      <th>surge2_t5</th>\n      <th>surge2_t6</th>\n      <th>surge2_t7</th>\n      <th>surge2_t8</th>\n      <th>surge2_t9</th>\n    </tr>\n  </thead>\n  <tbody>\n    <tr>\n      <th>4441</th>\n      <td>-0.167196</td>\n      <td>-0.234230</td>\n      <td>-0.110217</td>\n      <td>-0.029776</td>\n      <td>0.047313</td>\n      <td>-0.046535</td>\n      <td>-0.354891</td>\n      <td>-0.405166</td>\n      <td>-0.314670</td>\n      <td>-0.690061</td>\n      <td>-0.104180</td>\n      <td>-0.162856</td>\n      <td>-0.104180</td>\n      <td>-0.548441</td>\n      <td>-0.783146</td>\n      <td>-0.481383</td>\n      <td>-0.774763</td>\n      <td>-0.422707</td>\n      <td>-0.296972</td>\n      <td>0.398758</td>\n    </tr>\n    <tr>\n      <th>2472</th>\n      <td>0.238359</td>\n      <td>2.105255</td>\n      <td>0.888589</td>\n      <td>1.062877</td>\n      <td>1.103097</td>\n      <td>-1.638591</td>\n      <td>-1.145891</td>\n      <td>-0.321374</td>\n      <td>-0.579455</td>\n      <td>-0.666599</td>\n      <td>-1.336377</td>\n      <td>-0.967556</td>\n      <td>-0.892115</td>\n      <td>-0.011974</td>\n      <td>-0.095797</td>\n      <td>0.105378</td>\n      <td>-0.095797</td>\n      <td>-0.162856</td>\n      <td>0.113760</td>\n      <td>0.331700</td>\n    </tr>\n    <tr>\n      <th>3317</th>\n      <td>-0.096810</td>\n      <td>-0.100162</td>\n      <td>-0.103514</td>\n      <td>0.265173</td>\n      <td>-0.244285</td>\n      <td>-0.321374</td>\n      <td>-0.552641</td>\n      <td>-0.579455</td>\n      <td>-0.646488</td>\n      <td>-0.110217</td>\n      <td>1.002283</td>\n      <td>0.960372</td>\n      <td>0.893313</td>\n      <td>0.943607</td>\n      <td>0.700521</td>\n      <td>0.457434</td>\n      <td>0.365229</td>\n      <td>0.608315</td>\n      <td>0.289788</td>\n      <td>0.390376</td>\n    </tr>\n    <tr>\n      <th>81</th>\n      <td>1.331013</td>\n      <td>0.553419</td>\n      <td>1.220407</td>\n      <td>0.637211</td>\n      <td>-0.013018</td>\n      <td>-0.150437</td>\n      <td>0.141160</td>\n      <td>0.198139</td>\n      <td>0.060720</td>\n      <td>-0.371649</td>\n      <td>-0.925645</td>\n      <td>-1.403435</td>\n      <td>-1.252554</td>\n      <td>-1.420200</td>\n      <td>-1.026232</td>\n      <td>-0.833439</td>\n      <td>-0.045504</td>\n      <td>-0.028739</td>\n      <td>-0.347266</td>\n      <td>-0.975938</td>\n    </tr>\n    <tr>\n      <th>4806</th>\n      <td>1.776788</td>\n      <td>3.053785</td>\n      <td>3.516319</td>\n      <td>2.557734</td>\n      <td>0.922106</td>\n      <td>2.068386</td>\n      <td>1.713106</td>\n      <td>1.153373</td>\n      <td>2.406907</td>\n      <td>1.947725</td>\n      <td>0.901696</td>\n      <td>1.236988</td>\n      <td>0.717285</td>\n      <td>0.650227</td>\n      <td>0.708903</td>\n      <td>0.356847</td>\n      <td>0.474199</td>\n      <td>0.222730</td>\n      <td>0.247877</td>\n      <td>0.055084</td>\n    </tr>\n    <tr>\n      <th>...</th>\n      <td>...</td>\n      <td>...</td>\n      <td>...</td>\n      <td>...</td>\n      <td>...</td>\n      <td>...</td>\n      <td>...</td>\n      <td>...</td>\n      <td>...</td>\n      <td>...</td>\n      <td>...</td>\n      <td>...</td>\n      <td>...</td>\n      <td>...</td>\n      <td>...</td>\n      <td>...</td>\n      <td>...</td>\n      <td>...</td>\n      <td>...</td>\n      <td>...</td>\n    </tr>\n    <tr>\n      <th>1392</th>\n      <td>-1.440841</td>\n      <td>-1.135836</td>\n      <td>-0.760446</td>\n      <td>-0.747039</td>\n      <td>-0.271098</td>\n      <td>-0.499014</td>\n      <td>-0.539234</td>\n      <td>-0.696764</td>\n      <td>-0.874404</td>\n      <td>-0.901217</td>\n      <td>1.295664</td>\n      <td>1.589044</td>\n      <td>1.228605</td>\n      <td>0.273024</td>\n      <td>-0.305355</td>\n      <td>-0.355649</td>\n      <td>-0.716087</td>\n      <td>-1.051379</td>\n      <td>-0.489765</td>\n      <td>-0.188003</td>\n    </tr>\n    <tr>\n      <th>4351</th>\n      <td>-0.116920</td>\n      <td>-0.328077</td>\n      <td>-0.371649</td>\n      <td>-0.455442</td>\n      <td>-0.455442</td>\n      <td>-0.499014</td>\n      <td>-0.143734</td>\n      <td>-0.009666</td>\n      <td>-0.096810</td>\n      <td>-0.485607</td>\n      <td>-0.364031</td>\n      <td>-0.322119</td>\n      <td>-0.489765</td>\n      <td>-0.791528</td>\n      <td>-0.556824</td>\n      <td>-0.690940</td>\n      <td>-0.422707</td>\n      <td>-0.674176</td>\n      <td>-0.196385</td>\n      <td>-0.313737</td>\n    </tr>\n    <tr>\n      <th>221</th>\n      <td>-1.420730</td>\n      <td>-1.561502</td>\n      <td>-1.702273</td>\n      <td>-1.826286</td>\n      <td>-1.779362</td>\n      <td>-1.283311</td>\n      <td>-1.249794</td>\n      <td>-0.921328</td>\n      <td>-0.991713</td>\n      <td>-0.777205</td>\n      <td>-0.380795</td>\n      <td>0.843020</td>\n      <td>-0.028739</td>\n      <td>-0.120944</td>\n      <td>-0.540059</td>\n      <td>-0.313737</td>\n      <td>-1.219025</td>\n      <td>-1.235790</td>\n      <td>-1.587846</td>\n      <td>-1.638140</td>\n    </tr>\n    <tr>\n      <th>1746</th>\n      <td>-0.163844</td>\n      <td>-0.458793</td>\n      <td>-0.006314</td>\n      <td>-0.090107</td>\n      <td>-0.250988</td>\n      <td>-0.368298</td>\n      <td>-0.214120</td>\n      <td>0.208194</td>\n      <td>0.074126</td>\n      <td>-0.056590</td>\n      <td>0.423905</td>\n      <td>0.524492</td>\n      <td>0.750814</td>\n      <td>0.532875</td>\n      <td>1.060959</td>\n      <td>0.641845</td>\n      <td>0.708903</td>\n      <td>0.775961</td>\n      <td>0.616698</td>\n      <td>0.474199</td>\n    </tr>\n    <tr>\n      <th>628</th>\n      <td>0.070775</td>\n      <td>-0.971603</td>\n      <td>-0.877756</td>\n      <td>-1.427434</td>\n      <td>-1.507874</td>\n      <td>-0.944789</td>\n      <td>-0.418573</td>\n      <td>-0.254340</td>\n      <td>0.258470</td>\n      <td>0.808148</td>\n      <td>0.910078</td>\n      <td>0.264641</td>\n      <td>-0.095797</td>\n      <td>-0.313737</td>\n      <td>-0.062268</td>\n      <td>-0.146091</td>\n      <td>-0.347266</td>\n      <td>-1.068144</td>\n      <td>-1.277701</td>\n      <td>-0.917262</td>\n    </tr>\n  </tbody>\n</table>\n<p>1680 rows × 20 columns</p>\n</div>"
     },
     "execution_count": 264,
     "metadata": {},
     "output_type": "execute_result"
    }
   ],
   "source": [
    "y_test_surge"
   ],
   "metadata": {
    "collapsed": false,
    "pycharm": {
     "name": "#%%\n"
    }
   }
  },
  {
   "cell_type": "code",
   "execution_count": 265,
   "outputs": [
    {
     "data": {
      "text/plain": "         0\n0        1\n1        2\n2        3\n3        4\n4        5\n...    ...\n5594  5595\n5595  5596\n5596  5597\n5597  5598\n5598  5599\n\n[5599 rows x 1 columns]",
      "text/html": "<div>\n<style scoped>\n    .dataframe tbody tr th:only-of-type {\n        vertical-align: middle;\n    }\n\n    .dataframe tbody tr th {\n        vertical-align: top;\n    }\n\n    .dataframe thead th {\n        text-align: right;\n    }\n</style>\n<table border=\"1\" class=\"dataframe\">\n  <thead>\n    <tr style=\"text-align: right;\">\n      <th></th>\n      <th>0</th>\n    </tr>\n  </thead>\n  <tbody>\n    <tr>\n      <th>0</th>\n      <td>1</td>\n    </tr>\n    <tr>\n      <th>1</th>\n      <td>2</td>\n    </tr>\n    <tr>\n      <th>2</th>\n      <td>3</td>\n    </tr>\n    <tr>\n      <th>3</th>\n      <td>4</td>\n    </tr>\n    <tr>\n      <th>4</th>\n      <td>5</td>\n    </tr>\n    <tr>\n      <th>...</th>\n      <td>...</td>\n    </tr>\n    <tr>\n      <th>5594</th>\n      <td>5595</td>\n    </tr>\n    <tr>\n      <th>5595</th>\n      <td>5596</td>\n    </tr>\n    <tr>\n      <th>5596</th>\n      <td>5597</td>\n    </tr>\n    <tr>\n      <th>5597</th>\n      <td>5598</td>\n    </tr>\n    <tr>\n      <th>5598</th>\n      <td>5599</td>\n    </tr>\n  </tbody>\n</table>\n<p>5599 rows × 1 columns</p>\n</div>"
     },
     "execution_count": 265,
     "metadata": {},
     "output_type": "execute_result"
    }
   ],
   "source": [
    "X = pd.DataFrame(X_train[\"id_sequence\"])\n",
    "X"
   ],
   "metadata": {
    "collapsed": false,
    "pycharm": {
     "name": "#%%\n"
    }
   }
  },
  {
   "cell_type": "code",
   "execution_count": 266,
   "outputs": [
    {
     "data": {
      "text/plain": "      id_sequence  surge1_t0  surge1_t1  surge1_t2  surge1_t3  surge1_t4  \\\n0               1   0.586936   1.069580   0.767928  -0.100162   0.070775   \n1               2   0.767928  -0.100162   0.070775  -0.244285  -0.354891   \n2               3   0.070775  -0.244285  -0.354891  -0.928031  -0.773853   \n3               4  -0.354891  -0.928031  -0.773853  -0.375001  -0.361594   \n4               5  -0.773853  -0.375001  -0.361594  -0.210768   0.288635   \n...           ...        ...        ...        ...        ...        ...   \n5594         5595   1.451674   1.220407   0.556771   1.709754   0.483033   \n5595         5596   0.556771   1.709754   0.483033   0.533309   1.448322   \n5596         5597   0.483033   0.533309   1.448322   1.820360   1.662831   \n5597         5598   1.448322   1.820360   1.662831   1.528763   1.284089   \n5598         5599   1.662831   1.528763   1.284089   0.070775   0.888589   \n\n      surge1_t5  surge1_t6  surge1_t7  surge1_t8  ...  surge2_t0  surge2_t1  \\\n0     -0.244285  -0.354891  -0.928031  -0.773853  ...  -0.053886   0.356847   \n1     -0.928031  -0.773853  -0.375001  -0.361594  ...   0.348464   0.264641   \n2     -0.375001  -0.361594  -0.210768   0.288635  ...   0.901696   0.449052   \n3     -0.210768   0.288635  -0.726929  -0.576103  ...   0.113760  -0.422707   \n4     -0.726929  -0.576103   1.160076   0.442813  ...  -0.456236  -0.825057   \n...         ...        ...        ...        ...  ...        ...        ...   \n5594   0.533309   1.448322   1.820360   1.662831  ...   0.759197   0.884931   \n5595   1.820360   1.662831   1.528763   1.284089  ...   0.298171  -0.397560   \n5596   1.528763   1.284089   0.070775   0.888589  ...  -0.540059  -0.498148   \n5597   0.070775   0.888589   1.545521   1.166779  ...  -0.498148  -0.405942   \n5598   1.545521   1.166779   0.653970   0.409296  ...   0.164054   0.331700   \n\n      surge2_t2  surge2_t3  surge2_t4  surge2_t5  surge2_t6  surge2_t7  \\\n0      0.348464   0.264641   0.901696   0.449052   0.113760  -0.422707   \n1      0.901696   0.449052   0.113760  -0.422707  -0.456236  -0.825057   \n2      0.113760  -0.422707  -0.456236  -0.825057  -0.992703  -0.992703   \n3     -0.456236  -0.825057  -0.992703  -0.992703  -0.322119  -0.883733   \n4     -0.992703  -0.992703  -0.322119  -0.883733  -0.473001  -0.422707   \n...         ...        ...        ...        ...        ...        ...   \n5594   0.298171  -0.397560  -0.540059  -0.498148  -0.498148  -0.405942   \n5595  -0.540059  -0.498148  -0.498148  -0.405942   0.164054   0.331700   \n5596  -0.498148  -0.405942   0.164054   0.331700   1.052577   1.220223   \n5597   0.164054   0.331700   1.052577   1.220223   1.446545   2.670360   \n5598   1.052577   1.220223   1.446545   2.670360   2.620066   2.678742   \n\n      surge2_t8  surge2_t9  \n0     -0.456236  -0.825057  \n1     -0.992703  -0.992703  \n2     -0.322119  -0.883733  \n3     -0.473001  -0.422707  \n4     -0.473001  -0.531677  \n...         ...        ...  \n5594   0.164054   0.331700  \n5595   1.052577   1.220223  \n5596   1.446545   2.670360  \n5597   2.620066   2.678742  \n5598   1.220223   0.725668  \n\n[5599 rows x 21 columns]",
      "text/html": "<div>\n<style scoped>\n    .dataframe tbody tr th:only-of-type {\n        vertical-align: middle;\n    }\n\n    .dataframe tbody tr th {\n        vertical-align: top;\n    }\n\n    .dataframe thead th {\n        text-align: right;\n    }\n</style>\n<table border=\"1\" class=\"dataframe\">\n  <thead>\n    <tr style=\"text-align: right;\">\n      <th></th>\n      <th>id_sequence</th>\n      <th>surge1_t0</th>\n      <th>surge1_t1</th>\n      <th>surge1_t2</th>\n      <th>surge1_t3</th>\n      <th>surge1_t4</th>\n      <th>surge1_t5</th>\n      <th>surge1_t6</th>\n      <th>surge1_t7</th>\n      <th>surge1_t8</th>\n      <th>...</th>\n      <th>surge2_t0</th>\n      <th>surge2_t1</th>\n      <th>surge2_t2</th>\n      <th>surge2_t3</th>\n      <th>surge2_t4</th>\n      <th>surge2_t5</th>\n      <th>surge2_t6</th>\n      <th>surge2_t7</th>\n      <th>surge2_t8</th>\n      <th>surge2_t9</th>\n    </tr>\n  </thead>\n  <tbody>\n    <tr>\n      <th>0</th>\n      <td>1</td>\n      <td>0.586936</td>\n      <td>1.069580</td>\n      <td>0.767928</td>\n      <td>-0.100162</td>\n      <td>0.070775</td>\n      <td>-0.244285</td>\n      <td>-0.354891</td>\n      <td>-0.928031</td>\n      <td>-0.773853</td>\n      <td>...</td>\n      <td>-0.053886</td>\n      <td>0.356847</td>\n      <td>0.348464</td>\n      <td>0.264641</td>\n      <td>0.901696</td>\n      <td>0.449052</td>\n      <td>0.113760</td>\n      <td>-0.422707</td>\n      <td>-0.456236</td>\n      <td>-0.825057</td>\n    </tr>\n    <tr>\n      <th>1</th>\n      <td>2</td>\n      <td>0.767928</td>\n      <td>-0.100162</td>\n      <td>0.070775</td>\n      <td>-0.244285</td>\n      <td>-0.354891</td>\n      <td>-0.928031</td>\n      <td>-0.773853</td>\n      <td>-0.375001</td>\n      <td>-0.361594</td>\n      <td>...</td>\n      <td>0.348464</td>\n      <td>0.264641</td>\n      <td>0.901696</td>\n      <td>0.449052</td>\n      <td>0.113760</td>\n      <td>-0.422707</td>\n      <td>-0.456236</td>\n      <td>-0.825057</td>\n      <td>-0.992703</td>\n      <td>-0.992703</td>\n    </tr>\n    <tr>\n      <th>2</th>\n      <td>3</td>\n      <td>0.070775</td>\n      <td>-0.244285</td>\n      <td>-0.354891</td>\n      <td>-0.928031</td>\n      <td>-0.773853</td>\n      <td>-0.375001</td>\n      <td>-0.361594</td>\n      <td>-0.210768</td>\n      <td>0.288635</td>\n      <td>...</td>\n      <td>0.901696</td>\n      <td>0.449052</td>\n      <td>0.113760</td>\n      <td>-0.422707</td>\n      <td>-0.456236</td>\n      <td>-0.825057</td>\n      <td>-0.992703</td>\n      <td>-0.992703</td>\n      <td>-0.322119</td>\n      <td>-0.883733</td>\n    </tr>\n    <tr>\n      <th>3</th>\n      <td>4</td>\n      <td>-0.354891</td>\n      <td>-0.928031</td>\n      <td>-0.773853</td>\n      <td>-0.375001</td>\n      <td>-0.361594</td>\n      <td>-0.210768</td>\n      <td>0.288635</td>\n      <td>-0.726929</td>\n      <td>-0.576103</td>\n      <td>...</td>\n      <td>0.113760</td>\n      <td>-0.422707</td>\n      <td>-0.456236</td>\n      <td>-0.825057</td>\n      <td>-0.992703</td>\n      <td>-0.992703</td>\n      <td>-0.322119</td>\n      <td>-0.883733</td>\n      <td>-0.473001</td>\n      <td>-0.422707</td>\n    </tr>\n    <tr>\n      <th>4</th>\n      <td>5</td>\n      <td>-0.773853</td>\n      <td>-0.375001</td>\n      <td>-0.361594</td>\n      <td>-0.210768</td>\n      <td>0.288635</td>\n      <td>-0.726929</td>\n      <td>-0.576103</td>\n      <td>1.160076</td>\n      <td>0.442813</td>\n      <td>...</td>\n      <td>-0.456236</td>\n      <td>-0.825057</td>\n      <td>-0.992703</td>\n      <td>-0.992703</td>\n      <td>-0.322119</td>\n      <td>-0.883733</td>\n      <td>-0.473001</td>\n      <td>-0.422707</td>\n      <td>-0.473001</td>\n      <td>-0.531677</td>\n    </tr>\n    <tr>\n      <th>...</th>\n      <td>...</td>\n      <td>...</td>\n      <td>...</td>\n      <td>...</td>\n      <td>...</td>\n      <td>...</td>\n      <td>...</td>\n      <td>...</td>\n      <td>...</td>\n      <td>...</td>\n      <td>...</td>\n      <td>...</td>\n      <td>...</td>\n      <td>...</td>\n      <td>...</td>\n      <td>...</td>\n      <td>...</td>\n      <td>...</td>\n      <td>...</td>\n      <td>...</td>\n      <td>...</td>\n    </tr>\n    <tr>\n      <th>5594</th>\n      <td>5595</td>\n      <td>1.451674</td>\n      <td>1.220407</td>\n      <td>0.556771</td>\n      <td>1.709754</td>\n      <td>0.483033</td>\n      <td>0.533309</td>\n      <td>1.448322</td>\n      <td>1.820360</td>\n      <td>1.662831</td>\n      <td>...</td>\n      <td>0.759197</td>\n      <td>0.884931</td>\n      <td>0.298171</td>\n      <td>-0.397560</td>\n      <td>-0.540059</td>\n      <td>-0.498148</td>\n      <td>-0.498148</td>\n      <td>-0.405942</td>\n      <td>0.164054</td>\n      <td>0.331700</td>\n    </tr>\n    <tr>\n      <th>5595</th>\n      <td>5596</td>\n      <td>0.556771</td>\n      <td>1.709754</td>\n      <td>0.483033</td>\n      <td>0.533309</td>\n      <td>1.448322</td>\n      <td>1.820360</td>\n      <td>1.662831</td>\n      <td>1.528763</td>\n      <td>1.284089</td>\n      <td>...</td>\n      <td>0.298171</td>\n      <td>-0.397560</td>\n      <td>-0.540059</td>\n      <td>-0.498148</td>\n      <td>-0.498148</td>\n      <td>-0.405942</td>\n      <td>0.164054</td>\n      <td>0.331700</td>\n      <td>1.052577</td>\n      <td>1.220223</td>\n    </tr>\n    <tr>\n      <th>5596</th>\n      <td>5597</td>\n      <td>0.483033</td>\n      <td>0.533309</td>\n      <td>1.448322</td>\n      <td>1.820360</td>\n      <td>1.662831</td>\n      <td>1.528763</td>\n      <td>1.284089</td>\n      <td>0.070775</td>\n      <td>0.888589</td>\n      <td>...</td>\n      <td>-0.540059</td>\n      <td>-0.498148</td>\n      <td>-0.498148</td>\n      <td>-0.405942</td>\n      <td>0.164054</td>\n      <td>0.331700</td>\n      <td>1.052577</td>\n      <td>1.220223</td>\n      <td>1.446545</td>\n      <td>2.670360</td>\n    </tr>\n    <tr>\n      <th>5597</th>\n      <td>5598</td>\n      <td>1.448322</td>\n      <td>1.820360</td>\n      <td>1.662831</td>\n      <td>1.528763</td>\n      <td>1.284089</td>\n      <td>0.070775</td>\n      <td>0.888589</td>\n      <td>1.545521</td>\n      <td>1.166779</td>\n      <td>...</td>\n      <td>-0.498148</td>\n      <td>-0.405942</td>\n      <td>0.164054</td>\n      <td>0.331700</td>\n      <td>1.052577</td>\n      <td>1.220223</td>\n      <td>1.446545</td>\n      <td>2.670360</td>\n      <td>2.620066</td>\n      <td>2.678742</td>\n    </tr>\n    <tr>\n      <th>5598</th>\n      <td>5599</td>\n      <td>1.662831</td>\n      <td>1.528763</td>\n      <td>1.284089</td>\n      <td>0.070775</td>\n      <td>0.888589</td>\n      <td>1.545521</td>\n      <td>1.166779</td>\n      <td>0.653970</td>\n      <td>0.409296</td>\n      <td>...</td>\n      <td>0.164054</td>\n      <td>0.331700</td>\n      <td>1.052577</td>\n      <td>1.220223</td>\n      <td>1.446545</td>\n      <td>2.670360</td>\n      <td>2.620066</td>\n      <td>2.678742</td>\n      <td>1.220223</td>\n      <td>0.725668</td>\n    </tr>\n  </tbody>\n</table>\n<p>5599 rows × 21 columns</p>\n</div>"
     },
     "execution_count": 266,
     "metadata": {},
     "output_type": "execute_result"
    }
   ],
   "source": [
    "y = pd.DataFrame(Y_train)\n",
    "y"
   ],
   "metadata": {
    "collapsed": false,
    "pycharm": {
     "name": "#%%\n"
    }
   }
  },
  {
   "cell_type": "code",
   "execution_count": 267,
   "outputs": [],
   "source": [
    "#X_train_surge, X_test_surge = train_test_split(slp_train, test_size=0.3, random_state=42)"
   ],
   "metadata": {
    "collapsed": false,
    "pycharm": {
     "name": "#%%\n"
    }
   }
  },
  {
   "cell_type": "code",
   "execution_count": 268,
   "outputs": [],
   "source": [
    "#y_train_surge, y_test_surge = train_test_split(surge_train, test_size=0.3, random_state=42)"
   ],
   "metadata": {
    "collapsed": false,
    "pycharm": {
     "name": "#%%\n"
    }
   }
  },
  {
   "cell_type": "code",
   "execution_count": 269,
   "outputs": [
    {
     "data": {
      "text/plain": "(3919, 3362)"
     },
     "execution_count": 269,
     "metadata": {},
     "output_type": "execute_result"
    }
   ],
   "source": [
    "X_train_surge.shape"
   ],
   "metadata": {
    "collapsed": false,
    "pycharm": {
     "name": "#%%\n"
    }
   }
  },
  {
   "cell_type": "code",
   "execution_count": 270,
   "outputs": [
    {
     "data": {
      "text/plain": "(3919, 20)"
     },
     "execution_count": 270,
     "metadata": {},
     "output_type": "execute_result"
    }
   ],
   "source": [
    "y_train_surge.shape"
   ],
   "metadata": {
    "collapsed": false,
    "pycharm": {
     "name": "#%%\n"
    }
   }
  },
  {
   "cell_type": "code",
   "execution_count": 271,
   "outputs": [],
   "source": [
    "#y_columns = [f'surge1_t{i}' for i in range(10)] + [f'surge2_t{i}' for i in range(10)]\n",
    "#y_test_surge_save = pd.DataFrame(data=y_test_surge, columns=y_columns, index=X_test_surge['id_sequence'])\n",
    "\n",
    "y_test_surge.to_csv(\"./dataset/output/Y_test_true.csv\", index_label='id_sequence', sep=',')"
   ],
   "metadata": {
    "collapsed": false,
    "pycharm": {
     "name": "#%%\n"
    }
   }
  },
  {
   "cell_type": "code",
   "execution_count": 271,
   "outputs": [],
   "source": [],
   "metadata": {
    "collapsed": false,
    "pycharm": {
     "name": "#%%\n"
    }
   }
  },
  {
   "cell_type": "markdown",
   "source": [
    "### Predictive modeling"
   ],
   "metadata": {
    "collapsed": false,
    "pycharm": {
     "name": "#%% md\n"
    }
   }
  },
  {
   "cell_type": "code",
   "execution_count": 272,
   "outputs": [
    {
     "data": {
      "text/plain": "array([[102176.35, 102156.35, 102133.35, ..., 101640.01, 101663.01,\n        101685.01],\n       [101805.57, 101868.57, 101921.57, ..., 100350.2 , 100314.2 ,\n        100281.2 ],\n       [102114.1 , 102082.1 , 102049.1 , ..., 101215.24, 101180.24,\n        101145.24],\n       ...,\n       [101786.12, 101687.12, 101576.12, ..., 100236.8 , 100318.8 ,\n        100393.8 ],\n       [102499.41, 102499.41, 102497.41, ..., 100472.49, 100492.49,\n        100510.49],\n       [101569.21, 101633.21, 101687.21, ...,  98750.56,  98741.56,\n         98742.56]], dtype=float32)"
     },
     "execution_count": 272,
     "metadata": {},
     "output_type": "execute_result"
    }
   ],
   "source": [
    "X_train_surge"
   ],
   "metadata": {
    "collapsed": false,
    "pycharm": {
     "name": "#%%\n"
    }
   }
  },
  {
   "cell_type": "code",
   "execution_count": 273,
   "outputs": [
    {
     "data": {
      "text/plain": "      surge1_t0  surge1_t1  surge1_t2  surge1_t3  surge1_t4  surge1_t5  \\\n5569   0.013796   0.000389   0.315448   0.107643  -0.086755   0.010444   \n2837   0.845017   0.556771   1.857229   0.372427  -0.914624  -0.304615   \n84     0.141160   0.198139   0.060720  -0.371649   0.265173   1.297496   \n3659  -0.854294  -0.904569  -1.008472  -1.078857  -1.072154  -0.669950   \n791   -0.814073  -0.807370  -0.961548  -1.162650  -1.380510  -1.112374   \n...         ...        ...        ...        ...        ...        ...   \n3773   1.072932   1.049470   0.741114   0.707597   0.848368   0.499792   \n5192  -0.187306   0.070775   0.241711   0.402593   0.945567   1.448322   \n5227  -0.180603  -0.086755   0.754521   0.054016   0.975733   0.228304   \n5391   0.395889   0.808148   0.590288   0.348965   0.077478   0.238359   \n861    2.721967   2.671691   2.095199  -0.073348  -1.330235  -1.538040   \n\n      surge1_t6  surge1_t7  surge1_t8  surge1_t9  surge2_t0  surge2_t1  \\\n5569   0.271876   0.375779   0.281932   0.271876   0.432287   0.516110   \n2837  -0.411870  -0.750391  -0.626378  -0.559344  -1.302848  -1.042997   \n84     1.860581   1.284089   1.274034  -0.133679  -0.045504  -0.028739   \n3659  -0.562696  -0.006314   0.245063   0.332207  -5.762229  -4.194740   \n791   -0.626378  -0.123624   0.214898   0.000389  -1.135202  -1.026232   \n...         ...        ...        ...        ...        ...        ...   \n3773   0.335559   1.485191   1.565631   1.213703   0.465816  -0.540059   \n5192   0.868478   0.781334   0.204842  -0.039831   0.155671   0.063466   \n5227   0.224953  -0.190658  -0.328077  -0.485607  -0.070650   0.281406   \n5391   0.188084   0.543364   1.062877   0.295338   0.901696   0.901696   \n861   -1.501171  -0.730281  -0.817425  -0.944789  -1.763874  -1.344759   \n\n      surge2_t2  surge2_t3  surge2_t4  surge2_t5  surge2_t6  surge2_t7  \\\n5569   0.105378   0.130525   0.440670   0.415523   0.138907   0.298171   \n2837  -1.084908  -0.783146  -0.992703  -1.571081  -1.403435  -1.017850   \n84    -0.347266  -0.975938  -0.908880  -1.219025  -1.260936  -1.068144   \n3659  -5.720317  -4.286945  -4.999440  -4.949146  -4.270180  -4.714442   \n791   -0.959174  -0.607117  -0.841822  -0.355649  -0.514912  -0.196385   \n...         ...        ...        ...        ...        ...        ...   \n3773  -0.674176  -0.975938  -0.489765  -0.372413   0.340082   0.599933   \n5192   0.390376   0.507728   0.306553   0.365229   0.432287   0.088613   \n5227  -0.020357   0.197583   0.004790   0.490963   0.071849   0.843020   \n5391   0.331700   0.692138  -0.196385  -0.296972  -0.850204  -0.598735   \n861   -1.001085  -0.858586  -0.481383   0.700521   0.189201   0.407140   \n\n      surge2_t8  surge2_t9  \n5569   0.122142   0.340082  \n2837  -0.313737  -0.598735  \n84    -0.732852  -0.196385  \n3659  -3.993565  -3.054748  \n791   -0.003592  -0.548441  \n...         ...        ...  \n3773   0.348464   0.314935  \n5192   0.080231  -0.179620  \n5227   0.457434   0.558022  \n5391  -0.892115  -0.598735  \n861    0.264641   0.901696  \n\n[3919 rows x 20 columns]",
      "text/html": "<div>\n<style scoped>\n    .dataframe tbody tr th:only-of-type {\n        vertical-align: middle;\n    }\n\n    .dataframe tbody tr th {\n        vertical-align: top;\n    }\n\n    .dataframe thead th {\n        text-align: right;\n    }\n</style>\n<table border=\"1\" class=\"dataframe\">\n  <thead>\n    <tr style=\"text-align: right;\">\n      <th></th>\n      <th>surge1_t0</th>\n      <th>surge1_t1</th>\n      <th>surge1_t2</th>\n      <th>surge1_t3</th>\n      <th>surge1_t4</th>\n      <th>surge1_t5</th>\n      <th>surge1_t6</th>\n      <th>surge1_t7</th>\n      <th>surge1_t8</th>\n      <th>surge1_t9</th>\n      <th>surge2_t0</th>\n      <th>surge2_t1</th>\n      <th>surge2_t2</th>\n      <th>surge2_t3</th>\n      <th>surge2_t4</th>\n      <th>surge2_t5</th>\n      <th>surge2_t6</th>\n      <th>surge2_t7</th>\n      <th>surge2_t8</th>\n      <th>surge2_t9</th>\n    </tr>\n  </thead>\n  <tbody>\n    <tr>\n      <th>5569</th>\n      <td>0.013796</td>\n      <td>0.000389</td>\n      <td>0.315448</td>\n      <td>0.107643</td>\n      <td>-0.086755</td>\n      <td>0.010444</td>\n      <td>0.271876</td>\n      <td>0.375779</td>\n      <td>0.281932</td>\n      <td>0.271876</td>\n      <td>0.432287</td>\n      <td>0.516110</td>\n      <td>0.105378</td>\n      <td>0.130525</td>\n      <td>0.440670</td>\n      <td>0.415523</td>\n      <td>0.138907</td>\n      <td>0.298171</td>\n      <td>0.122142</td>\n      <td>0.340082</td>\n    </tr>\n    <tr>\n      <th>2837</th>\n      <td>0.845017</td>\n      <td>0.556771</td>\n      <td>1.857229</td>\n      <td>0.372427</td>\n      <td>-0.914624</td>\n      <td>-0.304615</td>\n      <td>-0.411870</td>\n      <td>-0.750391</td>\n      <td>-0.626378</td>\n      <td>-0.559344</td>\n      <td>-1.302848</td>\n      <td>-1.042997</td>\n      <td>-1.084908</td>\n      <td>-0.783146</td>\n      <td>-0.992703</td>\n      <td>-1.571081</td>\n      <td>-1.403435</td>\n      <td>-1.017850</td>\n      <td>-0.313737</td>\n      <td>-0.598735</td>\n    </tr>\n    <tr>\n      <th>84</th>\n      <td>0.141160</td>\n      <td>0.198139</td>\n      <td>0.060720</td>\n      <td>-0.371649</td>\n      <td>0.265173</td>\n      <td>1.297496</td>\n      <td>1.860581</td>\n      <td>1.284089</td>\n      <td>1.274034</td>\n      <td>-0.133679</td>\n      <td>-0.045504</td>\n      <td>-0.028739</td>\n      <td>-0.347266</td>\n      <td>-0.975938</td>\n      <td>-0.908880</td>\n      <td>-1.219025</td>\n      <td>-1.260936</td>\n      <td>-1.068144</td>\n      <td>-0.732852</td>\n      <td>-0.196385</td>\n    </tr>\n    <tr>\n      <th>3659</th>\n      <td>-0.854294</td>\n      <td>-0.904569</td>\n      <td>-1.008472</td>\n      <td>-1.078857</td>\n      <td>-1.072154</td>\n      <td>-0.669950</td>\n      <td>-0.562696</td>\n      <td>-0.006314</td>\n      <td>0.245063</td>\n      <td>0.332207</td>\n      <td>-5.762229</td>\n      <td>-4.194740</td>\n      <td>-5.720317</td>\n      <td>-4.286945</td>\n      <td>-4.999440</td>\n      <td>-4.949146</td>\n      <td>-4.270180</td>\n      <td>-4.714442</td>\n      <td>-3.993565</td>\n      <td>-3.054748</td>\n    </tr>\n    <tr>\n      <th>791</th>\n      <td>-0.814073</td>\n      <td>-0.807370</td>\n      <td>-0.961548</td>\n      <td>-1.162650</td>\n      <td>-1.380510</td>\n      <td>-1.112374</td>\n      <td>-0.626378</td>\n      <td>-0.123624</td>\n      <td>0.214898</td>\n      <td>0.000389</td>\n      <td>-1.135202</td>\n      <td>-1.026232</td>\n      <td>-0.959174</td>\n      <td>-0.607117</td>\n      <td>-0.841822</td>\n      <td>-0.355649</td>\n      <td>-0.514912</td>\n      <td>-0.196385</td>\n      <td>-0.003592</td>\n      <td>-0.548441</td>\n    </tr>\n    <tr>\n      <th>...</th>\n      <td>...</td>\n      <td>...</td>\n      <td>...</td>\n      <td>...</td>\n      <td>...</td>\n      <td>...</td>\n      <td>...</td>\n      <td>...</td>\n      <td>...</td>\n      <td>...</td>\n      <td>...</td>\n      <td>...</td>\n      <td>...</td>\n      <td>...</td>\n      <td>...</td>\n      <td>...</td>\n      <td>...</td>\n      <td>...</td>\n      <td>...</td>\n      <td>...</td>\n    </tr>\n    <tr>\n      <th>3773</th>\n      <td>1.072932</td>\n      <td>1.049470</td>\n      <td>0.741114</td>\n      <td>0.707597</td>\n      <td>0.848368</td>\n      <td>0.499792</td>\n      <td>0.335559</td>\n      <td>1.485191</td>\n      <td>1.565631</td>\n      <td>1.213703</td>\n      <td>0.465816</td>\n      <td>-0.540059</td>\n      <td>-0.674176</td>\n      <td>-0.975938</td>\n      <td>-0.489765</td>\n      <td>-0.372413</td>\n      <td>0.340082</td>\n      <td>0.599933</td>\n      <td>0.348464</td>\n      <td>0.314935</td>\n    </tr>\n    <tr>\n      <th>5192</th>\n      <td>-0.187306</td>\n      <td>0.070775</td>\n      <td>0.241711</td>\n      <td>0.402593</td>\n      <td>0.945567</td>\n      <td>1.448322</td>\n      <td>0.868478</td>\n      <td>0.781334</td>\n      <td>0.204842</td>\n      <td>-0.039831</td>\n      <td>0.155671</td>\n      <td>0.063466</td>\n      <td>0.390376</td>\n      <td>0.507728</td>\n      <td>0.306553</td>\n      <td>0.365229</td>\n      <td>0.432287</td>\n      <td>0.088613</td>\n      <td>0.080231</td>\n      <td>-0.179620</td>\n    </tr>\n    <tr>\n      <th>5227</th>\n      <td>-0.180603</td>\n      <td>-0.086755</td>\n      <td>0.754521</td>\n      <td>0.054016</td>\n      <td>0.975733</td>\n      <td>0.228304</td>\n      <td>0.224953</td>\n      <td>-0.190658</td>\n      <td>-0.328077</td>\n      <td>-0.485607</td>\n      <td>-0.070650</td>\n      <td>0.281406</td>\n      <td>-0.020357</td>\n      <td>0.197583</td>\n      <td>0.004790</td>\n      <td>0.490963</td>\n      <td>0.071849</td>\n      <td>0.843020</td>\n      <td>0.457434</td>\n      <td>0.558022</td>\n    </tr>\n    <tr>\n      <th>5391</th>\n      <td>0.395889</td>\n      <td>0.808148</td>\n      <td>0.590288</td>\n      <td>0.348965</td>\n      <td>0.077478</td>\n      <td>0.238359</td>\n      <td>0.188084</td>\n      <td>0.543364</td>\n      <td>1.062877</td>\n      <td>0.295338</td>\n      <td>0.901696</td>\n      <td>0.901696</td>\n      <td>0.331700</td>\n      <td>0.692138</td>\n      <td>-0.196385</td>\n      <td>-0.296972</td>\n      <td>-0.850204</td>\n      <td>-0.598735</td>\n      <td>-0.892115</td>\n      <td>-0.598735</td>\n    </tr>\n    <tr>\n      <th>861</th>\n      <td>2.721967</td>\n      <td>2.671691</td>\n      <td>2.095199</td>\n      <td>-0.073348</td>\n      <td>-1.330235</td>\n      <td>-1.538040</td>\n      <td>-1.501171</td>\n      <td>-0.730281</td>\n      <td>-0.817425</td>\n      <td>-0.944789</td>\n      <td>-1.763874</td>\n      <td>-1.344759</td>\n      <td>-1.001085</td>\n      <td>-0.858586</td>\n      <td>-0.481383</td>\n      <td>0.700521</td>\n      <td>0.189201</td>\n      <td>0.407140</td>\n      <td>0.264641</td>\n      <td>0.901696</td>\n    </tr>\n  </tbody>\n</table>\n<p>3919 rows × 20 columns</p>\n</div>"
     },
     "execution_count": 273,
     "metadata": {},
     "output_type": "execute_result"
    }
   ],
   "source": [
    "y_train_surge"
   ],
   "metadata": {
    "collapsed": false,
    "pycharm": {
     "name": "#%%\n"
    }
   }
  },
  {
   "cell_type": "code",
   "execution_count": 273,
   "outputs": [],
   "source": [],
   "metadata": {
    "collapsed": false,
    "pycharm": {
     "name": "#%%\n"
    }
   }
  },
  {
   "cell_type": "code",
   "execution_count": 273,
   "outputs": [],
   "source": [],
   "metadata": {
    "collapsed": false,
    "pycharm": {
     "name": "#%%\n"
    }
   }
  },
  {
   "cell_type": "raw",
   "source": [
    "X, y = X_train_surge, y_train_surge"
   ],
   "metadata": {
    "collapsed": false,
    "pycharm": {
     "name": "#%% raw\n"
    }
   }
  },
  {
   "cell_type": "markdown",
   "source": [
    "#### 1) Ridge"
   ],
   "metadata": {
    "collapsed": false,
    "pycharm": {
     "name": "#%% md\n"
    }
   }
  },
  {
   "cell_type": "code",
   "execution_count": 274,
   "outputs": [],
   "source": [
    "from sklearn.multioutput import MultiOutputRegressor\n",
    "from sklearn.linear_model import Ridge\n"
   ],
   "metadata": {
    "collapsed": false,
    "pycharm": {
     "name": "#%%\n"
    }
   }
  },
  {
   "cell_type": "code",
   "execution_count": 275,
   "outputs": [
    {
     "data": {
      "text/plain": "array([[ 1.37957876e-02,  3.89000943e-04,  3.15448487e-01, ...,\n         2.98170509e-01,  1.22142310e-01,  3.40081985e-01],\n       [ 8.45016559e-01,  5.56770646e-01,  1.85722895e+00, ...,\n        -1.01784984e+00, -3.13737041e-01, -5.98735077e-01],\n       [ 1.41160261e-01,  1.98139104e-01,  6.07195408e-02, ...,\n        -1.06814361e+00, -7.32851800e-01, -1.96384908e-01],\n       ...,\n       [-1.80602619e-01, -8.67551122e-02,  7.54520749e-01, ...,\n         8.43019697e-01,  4.57434118e-01,  5.58021660e-01],\n       [ 3.95889207e-01,  8.08147896e-01,  5.90287613e-01, ...,\n        -5.98735077e-01, -8.92115409e-01, -5.98735077e-01],\n       [ 2.72196669e+00,  2.67169124e+00,  2.09519941e+00, ...,\n         4.07140347e-01,  2.64641328e-01,  9.01695763e-01]])"
     },
     "execution_count": 275,
     "metadata": {},
     "output_type": "execute_result"
    }
   ],
   "source": [
    "y_train_surge.values"
   ],
   "metadata": {
    "collapsed": false,
    "pycharm": {
     "name": "#%%\n"
    }
   }
  },
  {
   "cell_type": "code",
   "execution_count": 276,
   "outputs": [],
   "source": [
    "regr_ridge = MultiOutputRegressor(Ridge(random_state=123)).fit(X_train_surge, y_train_surge)\n"
   ],
   "metadata": {
    "collapsed": false,
    "pycharm": {
     "name": "#%%\n"
    }
   }
  },
  {
   "cell_type": "code",
   "execution_count": 277,
   "outputs": [
    {
     "data": {
      "text/plain": "array([[ 0.0022316 , -0.14286804,  0.11506271, -0.57261276, -0.40707397,\n         0.10398102,  0.49999428,  0.60402966,  0.46846724,  0.43014908,\n         0.6303539 ,  0.8986492 ,  0.6192169 ,  0.4835968 ,  0.7785721 ,\n         0.77897644,  0.49280548,  0.3391571 ,  0.41448975,  0.5651169 ]],\n      dtype=float32)"
     },
     "execution_count": 277,
     "metadata": {},
     "output_type": "execute_result"
    }
   ],
   "source": [
    "regr_ridge.predict(X_train_surge[[0]])"
   ],
   "metadata": {
    "collapsed": false,
    "pycharm": {
     "name": "#%%\n"
    }
   }
  },
  {
   "cell_type": "code",
   "execution_count": 278,
   "outputs": [
    {
     "data": {
      "text/plain": "array([[ 0.19655609,  0.12863922,  0.2917347 , ...,  0.63274384,\n         0.17908478,  1.1499405 ],\n       [ 2.1715126 ,  1.0897999 , -1.5926685 , ...,  2.5770912 ,\n         2.4026527 ,  1.5600471 ],\n       [ 1.1728554 ,  1.0215015 ,  0.20205307, ...,  0.66345596,\n         0.6383686 ,  1.4873161 ],\n       ...,\n       [-0.59316254, -1.2878208 , -1.3967476 , ...,  1.8958855 ,\n         1.6743107 ,  1.9851456 ],\n       [ 0.6678734 ,  0.6780529 ,  1.1950817 , ..., -0.25061417,\n         0.03788185,  0.8955536 ],\n       [ 1.8836098 , -0.94682884, -0.6076412 , ..., -1.313076  ,\n        -0.55200577,  0.2815628 ]], dtype=float32)"
     },
     "execution_count": 278,
     "metadata": {},
     "output_type": "execute_result"
    }
   ],
   "source": [
    "y_test_surge_pred_ridge = regr_ridge.predict(X_test_surge)\n",
    "y_test_surge_pred_ridge"
   ],
   "metadata": {
    "collapsed": false,
    "pycharm": {
     "name": "#%%\n"
    }
   }
  },
  {
   "cell_type": "code",
   "execution_count": 279,
   "outputs": [
    {
     "data": {
      "text/plain": "      surge1_t0  surge1_t1  surge1_t2  surge1_t3  surge1_t4  surge1_t5  \\\n4441   0.196556   0.128639   0.291735  -0.439983  -2.459488  -1.779236   \n2472   2.171513   1.089800  -1.592669  -2.470081   0.383476   1.465034   \n3317   1.172855   1.021502   0.202053   0.241264  -0.982498  -0.284241   \n81     1.817589   2.019026   0.993914   1.459831   1.317787   0.863800   \n4806   1.116028   2.719082   1.704102   1.559845   1.064926   2.725563   \n...         ...        ...        ...        ...        ...        ...   \n1392  -0.464973  -1.131605  -2.678904  -3.450100  -1.650322  -0.415817   \n4351   0.184101   0.062391   0.781113   0.543354   1.110390  -2.669464   \n221   -0.593163  -1.287821  -1.396748  -2.327122  -2.369865  -4.128220   \n1746   0.667873   0.678053   1.195082  -0.178394  -0.975800   0.521553   \n628    1.883610  -0.946829  -0.607641  -0.447769  -2.005699  -0.167702   \n\n      surge1_t6  surge1_t7  surge1_t8  surge1_t9  surge2_t0  surge2_t1  \\\n4441  -0.693396  -2.179199  -1.655435  -0.199747   0.410568   0.974117   \n2472  -0.310947   1.585719   0.483756  -0.826050  -2.505810  -2.610470   \n3317  -0.353062  -0.840775   0.058126  -0.177046   1.457232   0.781893   \n81     0.917665   0.281094   0.910346   2.258522   1.199459   0.652483   \n4806   2.252949   2.058954  -1.413400  -1.988955   1.966385   1.854366   \n...         ...        ...        ...        ...        ...        ...   \n1392   0.347073   0.987684   2.628694  -0.024794   4.040983   4.040279   \n4351  -1.891502  -1.048905  -1.448190  -0.792767  -0.460892   0.029673   \n221   -2.235771  -2.986576  -3.286747  -3.927686   2.892214   1.555674   \n1746   0.404459   0.769419   1.076203   0.958242   0.763554   0.600649   \n628    1.581923  -0.590754   0.060253  -1.262085   1.892178  -0.361397   \n\n      surge2_t2  surge2_t3  surge2_t4  surge2_t5  surge2_t6  surge2_t7  \\\n4441  -0.003826  -0.091866   0.337498   0.412544   0.056135   0.632744   \n2472  -2.843552  -0.573395   0.386337   0.839920   0.960018   2.577091   \n3317   1.039833   1.174107   0.769917   0.235550   0.506546   0.663456   \n81     0.624050   0.276680   0.183144  -0.473152  -0.185604   0.023769   \n4806   3.251984   3.441391   3.196735   2.501152   2.224129   0.897083   \n...         ...        ...        ...        ...        ...        ...   \n1392   3.682251   3.223328   1.042717   1.370262   1.403122   1.572796   \n4351   0.851696   0.739040   1.374779   1.142799   1.597317   3.536461   \n221    2.063347   1.347095   1.562855   0.230370   1.723152   1.895885   \n1746   0.610382   0.463791   0.298901  -0.023552  -0.452873  -0.250614   \n628   -0.607277  -0.902882   0.330605  -0.409874  -0.907631  -1.313076   \n\n      surge2_t8  surge2_t9  \n4441   0.179085   1.149940  \n2472   2.402653   1.560047  \n3317   0.638369   1.487316  \n81     0.097548   0.567280  \n4806  -0.656326  -3.018978  \n...         ...        ...  \n1392   1.486095   0.808834  \n4351   2.565464   1.891441  \n221    1.674311   1.985146  \n1746   0.037882   0.895554  \n628   -0.552006   0.281563  \n\n[1680 rows x 20 columns]",
      "text/html": "<div>\n<style scoped>\n    .dataframe tbody tr th:only-of-type {\n        vertical-align: middle;\n    }\n\n    .dataframe tbody tr th {\n        vertical-align: top;\n    }\n\n    .dataframe thead th {\n        text-align: right;\n    }\n</style>\n<table border=\"1\" class=\"dataframe\">\n  <thead>\n    <tr style=\"text-align: right;\">\n      <th></th>\n      <th>surge1_t0</th>\n      <th>surge1_t1</th>\n      <th>surge1_t2</th>\n      <th>surge1_t3</th>\n      <th>surge1_t4</th>\n      <th>surge1_t5</th>\n      <th>surge1_t6</th>\n      <th>surge1_t7</th>\n      <th>surge1_t8</th>\n      <th>surge1_t9</th>\n      <th>surge2_t0</th>\n      <th>surge2_t1</th>\n      <th>surge2_t2</th>\n      <th>surge2_t3</th>\n      <th>surge2_t4</th>\n      <th>surge2_t5</th>\n      <th>surge2_t6</th>\n      <th>surge2_t7</th>\n      <th>surge2_t8</th>\n      <th>surge2_t9</th>\n    </tr>\n  </thead>\n  <tbody>\n    <tr>\n      <th>4441</th>\n      <td>0.196556</td>\n      <td>0.128639</td>\n      <td>0.291735</td>\n      <td>-0.439983</td>\n      <td>-2.459488</td>\n      <td>-1.779236</td>\n      <td>-0.693396</td>\n      <td>-2.179199</td>\n      <td>-1.655435</td>\n      <td>-0.199747</td>\n      <td>0.410568</td>\n      <td>0.974117</td>\n      <td>-0.003826</td>\n      <td>-0.091866</td>\n      <td>0.337498</td>\n      <td>0.412544</td>\n      <td>0.056135</td>\n      <td>0.632744</td>\n      <td>0.179085</td>\n      <td>1.149940</td>\n    </tr>\n    <tr>\n      <th>2472</th>\n      <td>2.171513</td>\n      <td>1.089800</td>\n      <td>-1.592669</td>\n      <td>-2.470081</td>\n      <td>0.383476</td>\n      <td>1.465034</td>\n      <td>-0.310947</td>\n      <td>1.585719</td>\n      <td>0.483756</td>\n      <td>-0.826050</td>\n      <td>-2.505810</td>\n      <td>-2.610470</td>\n      <td>-2.843552</td>\n      <td>-0.573395</td>\n      <td>0.386337</td>\n      <td>0.839920</td>\n      <td>0.960018</td>\n      <td>2.577091</td>\n      <td>2.402653</td>\n      <td>1.560047</td>\n    </tr>\n    <tr>\n      <th>3317</th>\n      <td>1.172855</td>\n      <td>1.021502</td>\n      <td>0.202053</td>\n      <td>0.241264</td>\n      <td>-0.982498</td>\n      <td>-0.284241</td>\n      <td>-0.353062</td>\n      <td>-0.840775</td>\n      <td>0.058126</td>\n      <td>-0.177046</td>\n      <td>1.457232</td>\n      <td>0.781893</td>\n      <td>1.039833</td>\n      <td>1.174107</td>\n      <td>0.769917</td>\n      <td>0.235550</td>\n      <td>0.506546</td>\n      <td>0.663456</td>\n      <td>0.638369</td>\n      <td>1.487316</td>\n    </tr>\n    <tr>\n      <th>81</th>\n      <td>1.817589</td>\n      <td>2.019026</td>\n      <td>0.993914</td>\n      <td>1.459831</td>\n      <td>1.317787</td>\n      <td>0.863800</td>\n      <td>0.917665</td>\n      <td>0.281094</td>\n      <td>0.910346</td>\n      <td>2.258522</td>\n      <td>1.199459</td>\n      <td>0.652483</td>\n      <td>0.624050</td>\n      <td>0.276680</td>\n      <td>0.183144</td>\n      <td>-0.473152</td>\n      <td>-0.185604</td>\n      <td>0.023769</td>\n      <td>0.097548</td>\n      <td>0.567280</td>\n    </tr>\n    <tr>\n      <th>4806</th>\n      <td>1.116028</td>\n      <td>2.719082</td>\n      <td>1.704102</td>\n      <td>1.559845</td>\n      <td>1.064926</td>\n      <td>2.725563</td>\n      <td>2.252949</td>\n      <td>2.058954</td>\n      <td>-1.413400</td>\n      <td>-1.988955</td>\n      <td>1.966385</td>\n      <td>1.854366</td>\n      <td>3.251984</td>\n      <td>3.441391</td>\n      <td>3.196735</td>\n      <td>2.501152</td>\n      <td>2.224129</td>\n      <td>0.897083</td>\n      <td>-0.656326</td>\n      <td>-3.018978</td>\n    </tr>\n    <tr>\n      <th>...</th>\n      <td>...</td>\n      <td>...</td>\n      <td>...</td>\n      <td>...</td>\n      <td>...</td>\n      <td>...</td>\n      <td>...</td>\n      <td>...</td>\n      <td>...</td>\n      <td>...</td>\n      <td>...</td>\n      <td>...</td>\n      <td>...</td>\n      <td>...</td>\n      <td>...</td>\n      <td>...</td>\n      <td>...</td>\n      <td>...</td>\n      <td>...</td>\n      <td>...</td>\n    </tr>\n    <tr>\n      <th>1392</th>\n      <td>-0.464973</td>\n      <td>-1.131605</td>\n      <td>-2.678904</td>\n      <td>-3.450100</td>\n      <td>-1.650322</td>\n      <td>-0.415817</td>\n      <td>0.347073</td>\n      <td>0.987684</td>\n      <td>2.628694</td>\n      <td>-0.024794</td>\n      <td>4.040983</td>\n      <td>4.040279</td>\n      <td>3.682251</td>\n      <td>3.223328</td>\n      <td>1.042717</td>\n      <td>1.370262</td>\n      <td>1.403122</td>\n      <td>1.572796</td>\n      <td>1.486095</td>\n      <td>0.808834</td>\n    </tr>\n    <tr>\n      <th>4351</th>\n      <td>0.184101</td>\n      <td>0.062391</td>\n      <td>0.781113</td>\n      <td>0.543354</td>\n      <td>1.110390</td>\n      <td>-2.669464</td>\n      <td>-1.891502</td>\n      <td>-1.048905</td>\n      <td>-1.448190</td>\n      <td>-0.792767</td>\n      <td>-0.460892</td>\n      <td>0.029673</td>\n      <td>0.851696</td>\n      <td>0.739040</td>\n      <td>1.374779</td>\n      <td>1.142799</td>\n      <td>1.597317</td>\n      <td>3.536461</td>\n      <td>2.565464</td>\n      <td>1.891441</td>\n    </tr>\n    <tr>\n      <th>221</th>\n      <td>-0.593163</td>\n      <td>-1.287821</td>\n      <td>-1.396748</td>\n      <td>-2.327122</td>\n      <td>-2.369865</td>\n      <td>-4.128220</td>\n      <td>-2.235771</td>\n      <td>-2.986576</td>\n      <td>-3.286747</td>\n      <td>-3.927686</td>\n      <td>2.892214</td>\n      <td>1.555674</td>\n      <td>2.063347</td>\n      <td>1.347095</td>\n      <td>1.562855</td>\n      <td>0.230370</td>\n      <td>1.723152</td>\n      <td>1.895885</td>\n      <td>1.674311</td>\n      <td>1.985146</td>\n    </tr>\n    <tr>\n      <th>1746</th>\n      <td>0.667873</td>\n      <td>0.678053</td>\n      <td>1.195082</td>\n      <td>-0.178394</td>\n      <td>-0.975800</td>\n      <td>0.521553</td>\n      <td>0.404459</td>\n      <td>0.769419</td>\n      <td>1.076203</td>\n      <td>0.958242</td>\n      <td>0.763554</td>\n      <td>0.600649</td>\n      <td>0.610382</td>\n      <td>0.463791</td>\n      <td>0.298901</td>\n      <td>-0.023552</td>\n      <td>-0.452873</td>\n      <td>-0.250614</td>\n      <td>0.037882</td>\n      <td>0.895554</td>\n    </tr>\n    <tr>\n      <th>628</th>\n      <td>1.883610</td>\n      <td>-0.946829</td>\n      <td>-0.607641</td>\n      <td>-0.447769</td>\n      <td>-2.005699</td>\n      <td>-0.167702</td>\n      <td>1.581923</td>\n      <td>-0.590754</td>\n      <td>0.060253</td>\n      <td>-1.262085</td>\n      <td>1.892178</td>\n      <td>-0.361397</td>\n      <td>-0.607277</td>\n      <td>-0.902882</td>\n      <td>0.330605</td>\n      <td>-0.409874</td>\n      <td>-0.907631</td>\n      <td>-1.313076</td>\n      <td>-0.552006</td>\n      <td>0.281563</td>\n    </tr>\n  </tbody>\n</table>\n<p>1680 rows × 20 columns</p>\n</div>"
     },
     "execution_count": 279,
     "metadata": {},
     "output_type": "execute_result"
    }
   ],
   "source": [
    "y_columns = [f'surge1_t{i}' for i in range(10)] + [f'surge2_t{i}' for i in range(10)]\n",
    "y_test_surge_pred_df_ridge = pd.DataFrame(data=y_test_surge_pred_ridge, columns=y_columns, index=y_test_surge.index)\n",
    "\n",
    "y_test_surge_pred_df_ridge"
   ],
   "metadata": {
    "collapsed": false,
    "pycharm": {
     "name": "#%%\n"
    }
   }
  },
  {
   "cell_type": "code",
   "execution_count": 280,
   "outputs": [],
   "source": [
    "y_test_surge_pred_df_ridge.to_csv(\"./dataset/output/Y_test_pred_ridge.csv\", index_label='id_sequence', sep=',')"
   ],
   "metadata": {
    "collapsed": false,
    "pycharm": {
     "name": "#%%\n"
    }
   }
  },
  {
   "cell_type": "code",
   "execution_count": 281,
   "outputs": [
    {
     "data": {
      "text/plain": "      surge1_t0  surge1_t1  surge1_t2  surge1_t3  surge1_t4  surge1_t5  \\\n4441  -0.167196  -0.234230  -0.110217  -0.029776   0.047313  -0.046535   \n2472   0.238359   2.105255   0.888589   1.062877   1.103097  -1.638591   \n3317  -0.096810  -0.100162  -0.103514   0.265173  -0.244285  -0.321374   \n81     1.331013   0.553419   1.220407   0.637211  -0.013018  -0.150437   \n4806   1.776788   3.053785   3.516319   2.557734   0.922106   2.068386   \n...         ...        ...        ...        ...        ...        ...   \n1392  -1.440841  -1.135836  -0.760446  -0.747039  -0.271098  -0.499014   \n4351  -0.116920  -0.328077  -0.371649  -0.455442  -0.455442  -0.499014   \n221   -1.420730  -1.561502  -1.702273  -1.826286  -1.779362  -1.283311   \n1746  -0.163844  -0.458793  -0.006314  -0.090107  -0.250988  -0.368298   \n628    0.070775  -0.971603  -0.877756  -1.427434  -1.507874  -0.944789   \n\n      surge1_t6  surge1_t7  surge1_t8  surge1_t9  surge2_t0  surge2_t1  \\\n4441  -0.354891  -0.405166  -0.314670  -0.690061  -0.104180  -0.162856   \n2472  -1.145891  -0.321374  -0.579455  -0.666599  -1.336377  -0.967556   \n3317  -0.552641  -0.579455  -0.646488  -0.110217   1.002283   0.960372   \n81     0.141160   0.198139   0.060720  -0.371649  -0.925645  -1.403435   \n4806   1.713106   1.153373   2.406907   1.947725   0.901696   1.236988   \n...         ...        ...        ...        ...        ...        ...   \n1392  -0.539234  -0.696764  -0.874404  -0.901217   1.295664   1.589044   \n4351  -0.143734  -0.009666  -0.096810  -0.485607  -0.364031  -0.322119   \n221   -1.249794  -0.921328  -0.991713  -0.777205  -0.380795   0.843020   \n1746  -0.214120   0.208194   0.074126  -0.056590   0.423905   0.524492   \n628   -0.418573  -0.254340   0.258470   0.808148   0.910078   0.264641   \n\n      surge2_t2  surge2_t3  surge2_t4  surge2_t5  surge2_t6  surge2_t7  \\\n4441  -0.104180  -0.548441  -0.783146  -0.481383  -0.774763  -0.422707   \n2472  -0.892115  -0.011974  -0.095797   0.105378  -0.095797  -0.162856   \n3317   0.893313   0.943607   0.700521   0.457434   0.365229   0.608315   \n81    -1.252554  -1.420200  -1.026232  -0.833439  -0.045504  -0.028739   \n4806   0.717285   0.650227   0.708903   0.356847   0.474199   0.222730   \n...         ...        ...        ...        ...        ...        ...   \n1392   1.228605   0.273024  -0.305355  -0.355649  -0.716087  -1.051379   \n4351  -0.489765  -0.791528  -0.556824  -0.690940  -0.422707  -0.674176   \n221   -0.028739  -0.120944  -0.540059  -0.313737  -1.219025  -1.235790   \n1746   0.750814   0.532875   1.060959   0.641845   0.708903   0.775961   \n628   -0.095797  -0.313737  -0.062268  -0.146091  -0.347266  -1.068144   \n\n      surge2_t8  surge2_t9  \n4441  -0.296972   0.398758  \n2472   0.113760   0.331700  \n3317   0.289788   0.390376  \n81    -0.347266  -0.975938  \n4806   0.247877   0.055084  \n...         ...        ...  \n1392  -0.489765  -0.188003  \n4351  -0.196385  -0.313737  \n221   -1.587846  -1.638140  \n1746   0.616698   0.474199  \n628   -1.277701  -0.917262  \n\n[1680 rows x 20 columns]",
      "text/html": "<div>\n<style scoped>\n    .dataframe tbody tr th:only-of-type {\n        vertical-align: middle;\n    }\n\n    .dataframe tbody tr th {\n        vertical-align: top;\n    }\n\n    .dataframe thead th {\n        text-align: right;\n    }\n</style>\n<table border=\"1\" class=\"dataframe\">\n  <thead>\n    <tr style=\"text-align: right;\">\n      <th></th>\n      <th>surge1_t0</th>\n      <th>surge1_t1</th>\n      <th>surge1_t2</th>\n      <th>surge1_t3</th>\n      <th>surge1_t4</th>\n      <th>surge1_t5</th>\n      <th>surge1_t6</th>\n      <th>surge1_t7</th>\n      <th>surge1_t8</th>\n      <th>surge1_t9</th>\n      <th>surge2_t0</th>\n      <th>surge2_t1</th>\n      <th>surge2_t2</th>\n      <th>surge2_t3</th>\n      <th>surge2_t4</th>\n      <th>surge2_t5</th>\n      <th>surge2_t6</th>\n      <th>surge2_t7</th>\n      <th>surge2_t8</th>\n      <th>surge2_t9</th>\n    </tr>\n  </thead>\n  <tbody>\n    <tr>\n      <th>4441</th>\n      <td>-0.167196</td>\n      <td>-0.234230</td>\n      <td>-0.110217</td>\n      <td>-0.029776</td>\n      <td>0.047313</td>\n      <td>-0.046535</td>\n      <td>-0.354891</td>\n      <td>-0.405166</td>\n      <td>-0.314670</td>\n      <td>-0.690061</td>\n      <td>-0.104180</td>\n      <td>-0.162856</td>\n      <td>-0.104180</td>\n      <td>-0.548441</td>\n      <td>-0.783146</td>\n      <td>-0.481383</td>\n      <td>-0.774763</td>\n      <td>-0.422707</td>\n      <td>-0.296972</td>\n      <td>0.398758</td>\n    </tr>\n    <tr>\n      <th>2472</th>\n      <td>0.238359</td>\n      <td>2.105255</td>\n      <td>0.888589</td>\n      <td>1.062877</td>\n      <td>1.103097</td>\n      <td>-1.638591</td>\n      <td>-1.145891</td>\n      <td>-0.321374</td>\n      <td>-0.579455</td>\n      <td>-0.666599</td>\n      <td>-1.336377</td>\n      <td>-0.967556</td>\n      <td>-0.892115</td>\n      <td>-0.011974</td>\n      <td>-0.095797</td>\n      <td>0.105378</td>\n      <td>-0.095797</td>\n      <td>-0.162856</td>\n      <td>0.113760</td>\n      <td>0.331700</td>\n    </tr>\n    <tr>\n      <th>3317</th>\n      <td>-0.096810</td>\n      <td>-0.100162</td>\n      <td>-0.103514</td>\n      <td>0.265173</td>\n      <td>-0.244285</td>\n      <td>-0.321374</td>\n      <td>-0.552641</td>\n      <td>-0.579455</td>\n      <td>-0.646488</td>\n      <td>-0.110217</td>\n      <td>1.002283</td>\n      <td>0.960372</td>\n      <td>0.893313</td>\n      <td>0.943607</td>\n      <td>0.700521</td>\n      <td>0.457434</td>\n      <td>0.365229</td>\n      <td>0.608315</td>\n      <td>0.289788</td>\n      <td>0.390376</td>\n    </tr>\n    <tr>\n      <th>81</th>\n      <td>1.331013</td>\n      <td>0.553419</td>\n      <td>1.220407</td>\n      <td>0.637211</td>\n      <td>-0.013018</td>\n      <td>-0.150437</td>\n      <td>0.141160</td>\n      <td>0.198139</td>\n      <td>0.060720</td>\n      <td>-0.371649</td>\n      <td>-0.925645</td>\n      <td>-1.403435</td>\n      <td>-1.252554</td>\n      <td>-1.420200</td>\n      <td>-1.026232</td>\n      <td>-0.833439</td>\n      <td>-0.045504</td>\n      <td>-0.028739</td>\n      <td>-0.347266</td>\n      <td>-0.975938</td>\n    </tr>\n    <tr>\n      <th>4806</th>\n      <td>1.776788</td>\n      <td>3.053785</td>\n      <td>3.516319</td>\n      <td>2.557734</td>\n      <td>0.922106</td>\n      <td>2.068386</td>\n      <td>1.713106</td>\n      <td>1.153373</td>\n      <td>2.406907</td>\n      <td>1.947725</td>\n      <td>0.901696</td>\n      <td>1.236988</td>\n      <td>0.717285</td>\n      <td>0.650227</td>\n      <td>0.708903</td>\n      <td>0.356847</td>\n      <td>0.474199</td>\n      <td>0.222730</td>\n      <td>0.247877</td>\n      <td>0.055084</td>\n    </tr>\n    <tr>\n      <th>...</th>\n      <td>...</td>\n      <td>...</td>\n      <td>...</td>\n      <td>...</td>\n      <td>...</td>\n      <td>...</td>\n      <td>...</td>\n      <td>...</td>\n      <td>...</td>\n      <td>...</td>\n      <td>...</td>\n      <td>...</td>\n      <td>...</td>\n      <td>...</td>\n      <td>...</td>\n      <td>...</td>\n      <td>...</td>\n      <td>...</td>\n      <td>...</td>\n      <td>...</td>\n    </tr>\n    <tr>\n      <th>1392</th>\n      <td>-1.440841</td>\n      <td>-1.135836</td>\n      <td>-0.760446</td>\n      <td>-0.747039</td>\n      <td>-0.271098</td>\n      <td>-0.499014</td>\n      <td>-0.539234</td>\n      <td>-0.696764</td>\n      <td>-0.874404</td>\n      <td>-0.901217</td>\n      <td>1.295664</td>\n      <td>1.589044</td>\n      <td>1.228605</td>\n      <td>0.273024</td>\n      <td>-0.305355</td>\n      <td>-0.355649</td>\n      <td>-0.716087</td>\n      <td>-1.051379</td>\n      <td>-0.489765</td>\n      <td>-0.188003</td>\n    </tr>\n    <tr>\n      <th>4351</th>\n      <td>-0.116920</td>\n      <td>-0.328077</td>\n      <td>-0.371649</td>\n      <td>-0.455442</td>\n      <td>-0.455442</td>\n      <td>-0.499014</td>\n      <td>-0.143734</td>\n      <td>-0.009666</td>\n      <td>-0.096810</td>\n      <td>-0.485607</td>\n      <td>-0.364031</td>\n      <td>-0.322119</td>\n      <td>-0.489765</td>\n      <td>-0.791528</td>\n      <td>-0.556824</td>\n      <td>-0.690940</td>\n      <td>-0.422707</td>\n      <td>-0.674176</td>\n      <td>-0.196385</td>\n      <td>-0.313737</td>\n    </tr>\n    <tr>\n      <th>221</th>\n      <td>-1.420730</td>\n      <td>-1.561502</td>\n      <td>-1.702273</td>\n      <td>-1.826286</td>\n      <td>-1.779362</td>\n      <td>-1.283311</td>\n      <td>-1.249794</td>\n      <td>-0.921328</td>\n      <td>-0.991713</td>\n      <td>-0.777205</td>\n      <td>-0.380795</td>\n      <td>0.843020</td>\n      <td>-0.028739</td>\n      <td>-0.120944</td>\n      <td>-0.540059</td>\n      <td>-0.313737</td>\n      <td>-1.219025</td>\n      <td>-1.235790</td>\n      <td>-1.587846</td>\n      <td>-1.638140</td>\n    </tr>\n    <tr>\n      <th>1746</th>\n      <td>-0.163844</td>\n      <td>-0.458793</td>\n      <td>-0.006314</td>\n      <td>-0.090107</td>\n      <td>-0.250988</td>\n      <td>-0.368298</td>\n      <td>-0.214120</td>\n      <td>0.208194</td>\n      <td>0.074126</td>\n      <td>-0.056590</td>\n      <td>0.423905</td>\n      <td>0.524492</td>\n      <td>0.750814</td>\n      <td>0.532875</td>\n      <td>1.060959</td>\n      <td>0.641845</td>\n      <td>0.708903</td>\n      <td>0.775961</td>\n      <td>0.616698</td>\n      <td>0.474199</td>\n    </tr>\n    <tr>\n      <th>628</th>\n      <td>0.070775</td>\n      <td>-0.971603</td>\n      <td>-0.877756</td>\n      <td>-1.427434</td>\n      <td>-1.507874</td>\n      <td>-0.944789</td>\n      <td>-0.418573</td>\n      <td>-0.254340</td>\n      <td>0.258470</td>\n      <td>0.808148</td>\n      <td>0.910078</td>\n      <td>0.264641</td>\n      <td>-0.095797</td>\n      <td>-0.313737</td>\n      <td>-0.062268</td>\n      <td>-0.146091</td>\n      <td>-0.347266</td>\n      <td>-1.068144</td>\n      <td>-1.277701</td>\n      <td>-0.917262</td>\n    </tr>\n  </tbody>\n</table>\n<p>1680 rows × 20 columns</p>\n</div>"
     },
     "execution_count": 281,
     "metadata": {},
     "output_type": "execute_result"
    }
   ],
   "source": [
    "y_test_surge"
   ],
   "metadata": {
    "collapsed": false,
    "pycharm": {
     "name": "#%%\n"
    }
   }
  },
  {
   "cell_type": "markdown",
   "source": [
    "##### Evaluation"
   ],
   "metadata": {
    "collapsed": false,
    "pycharm": {
     "name": "#%% md\n"
    }
   }
  },
  {
   "cell_type": "code",
   "execution_count": 282,
   "outputs": [
    {
     "data": {
      "text/plain": "array([[-0.16719583, -0.23422977, -0.11021699, ..., -0.42270688,\n        -0.29697245,  0.39875805],\n       [ 0.23835946,  2.1052545 ,  0.88858862, ..., -0.16285573,\n         0.11376001,  0.33169969],\n       [-0.0968102 , -0.1001619 , -0.1035136 , ...,  0.60831543,\n         0.28978821,  0.39037576],\n       ...,\n       [-1.42073038, -1.56150164, -1.7022729 , ..., -1.23578951,\n        -1.58784591, -1.63813968],\n       [-0.16384414, -0.45879344, -0.00631439, ...,  0.77596134,\n         0.61669773,  0.47419871],\n       [ 0.07077463, -0.97160303, -0.87775552, ..., -1.06814361,\n        -1.27770099, -0.91726229]])"
     },
     "execution_count": 282,
     "metadata": {},
     "output_type": "execute_result"
    }
   ],
   "source": [
    "y_test_surge.values"
   ],
   "metadata": {
    "collapsed": false,
    "pycharm": {
     "name": "#%%\n"
    }
   }
  },
  {
   "cell_type": "markdown",
   "source": [
    "#### 2) Ball Tree"
   ],
   "metadata": {
    "collapsed": false,
    "pycharm": {
     "name": "#%% md\n"
    }
   }
  },
  {
   "cell_type": "code",
   "execution_count": 282,
   "outputs": [],
   "source": [],
   "metadata": {
    "collapsed": false,
    "pycharm": {
     "name": "#%%\n"
    }
   }
  },
  {
   "cell_type": "code",
   "execution_count": 283,
   "outputs": [],
   "source": [
    "from sklearn.neighbors import BallTree\n",
    "\n",
    "tree = BallTree(X_train_surge, metric='l2')"
   ],
   "metadata": {
    "collapsed": false,
    "pycharm": {
     "name": "#%%\n"
    }
   }
  },
  {
   "cell_type": "code",
   "execution_count": 284,
   "outputs": [
    {
     "data": {
      "text/plain": "1680"
     },
     "execution_count": 284,
     "metadata": {},
     "output_type": "execute_result"
    }
   ],
   "source": [
    "X_test_surge.shape[0]"
   ],
   "metadata": {
    "collapsed": false,
    "pycharm": {
     "name": "#%%\n"
    }
   }
  },
  {
   "cell_type": "code",
   "execution_count": 285,
   "outputs": [
    {
     "data": {
      "text/plain": "array([[ 0.58693592,  1.06958024,  0.76792754, ..., -0.42270688,\n        -0.45623606, -0.82505705],\n       [ 0.76792754, -0.1001619 ,  0.07077463, ..., -0.82505705,\n        -0.99270295, -0.99270295],\n       [ 0.07077463, -0.24428486, -0.35489084, ..., -0.99270295,\n        -0.32211934, -0.88373311],\n       ...,\n       [ 0.48303332,  0.53330877,  1.44832196, ...,  1.22022298,\n         1.44654495,  2.67036005],\n       [ 1.44832196,  1.82036029,  1.66283054, ...,  2.67036005,\n         2.62006628,  2.67874235],\n       [ 1.66283054,  1.52876268,  1.28408882, ...,  2.67874235,\n         1.22022298,  0.72566756]])"
     },
     "execution_count": 285,
     "metadata": {},
     "output_type": "execute_result"
    }
   ],
   "source": [
    "surge_train"
   ],
   "metadata": {
    "collapsed": false,
    "pycharm": {
     "name": "#%%\n"
    }
   }
  },
  {
   "cell_type": "code",
   "execution_count": 286,
   "outputs": [],
   "source": [
    "y_test_surge_pred_ballTree = []; k = 40\n",
    "\n",
    "for i in range(X_test_surge.shape[0]):\n",
    "    dist, ind = tree.query([X_test_surge[i]], k=k)\n",
    "    y_test_surge_pred_ballTree.append(np.mean(surge_train[ind[0]], axis=0)) # we get indexes in surge_train (Y_train) where all the training data is\n"
   ],
   "metadata": {
    "collapsed": false,
    "pycharm": {
     "name": "#%%\n"
    }
   }
  },
  {
   "cell_type": "code",
   "execution_count": 287,
   "outputs": [
    {
     "data": {
      "text/plain": "array([[-0.18202709, -0.0492999 ,  0.06381986, ...,  0.00919088,\n         0.04733033,  0.00688575],\n       [-0.17984849, -0.1620007 , -0.27503667, ..., -0.11046638,\n        -0.00589725, -0.00401123],\n       [-0.26992533, -0.08063827, -0.12027208, ..., -0.47907781,\n        -0.39609309, -0.36130657],\n       ...,\n       [-0.22886705, -0.09630745,  0.07295323, ..., -0.21126348,\n        -0.28397989, -0.2898475 ],\n       [-0.29707408, -0.40466354, -0.39276502, ..., -0.15782635,\n        -0.25275584, -0.2883806 ],\n       [-0.24110074, -0.11809348, -0.06446633, ..., -0.45476916,\n        -0.42186865, -0.32358624]])"
     },
     "execution_count": 287,
     "metadata": {},
     "output_type": "execute_result"
    }
   ],
   "source": [
    "y_test_surge_pred_ballTree = np.array(y_test_surge_pred_ballTree)\n",
    "y_test_surge_pred_ballTree"
   ],
   "metadata": {
    "collapsed": false,
    "pycharm": {
     "name": "#%%\n"
    }
   }
  },
  {
   "cell_type": "code",
   "execution_count": 288,
   "outputs": [],
   "source": [
    "y_columns = [f'surge1_t{i}' for i in range(10)] + [f'surge2_t{i}' for i in range(10)]\n",
    "\n",
    "y_test_surge_pred_df_ballTree = pd.DataFrame(data=y_test_surge_pred_ballTree, columns=y_columns, index=y_test_surge.index)\n",
    "y_test_surge_pred_df_ballTree.to_csv(\"./dataset/output/Y_test_pred_ballTree.csv\", index_label='id_sequence', sep=',')\n"
   ],
   "metadata": {
    "collapsed": false,
    "pycharm": {
     "name": "#%%\n"
    }
   }
  },
  {
   "cell_type": "markdown",
   "source": [
    "#### 3) XGBoost"
   ],
   "metadata": {
    "collapsed": false,
    "pycharm": {
     "name": "#%% md\n"
    }
   }
  },
  {
   "cell_type": "code",
   "execution_count": 290,
   "outputs": [],
   "source": [
    "from xgboost import XGBRegressor"
   ],
   "metadata": {
    "collapsed": false,
    "pycharm": {
     "name": "#%%\n"
    }
   }
  },
  {
   "cell_type": "code",
   "execution_count": 291,
   "outputs": [],
   "source": [
    "regr_XGBoost = MultiOutputRegressor(XGBRegressor(random_state=42)).fit(X_train_surge, y_train_surge)"
   ],
   "metadata": {
    "collapsed": false,
    "pycharm": {
     "name": "#%%\n"
    }
   }
  },
  {
   "cell_type": "code",
   "execution_count": 292,
   "outputs": [
    {
     "data": {
      "text/plain": "array([[-0.17394245, -0.07076971, -0.35313022, ..., -0.3765128 ,\n        -0.05057035,  0.23735075],\n       [ 0.61477417,  1.1349449 ,  1.5644692 , ...,  0.34753063,\n         0.3756748 , -0.30959523],\n       [ 0.20340942, -0.13879962,  0.00546361, ...,  0.19692692,\n        -0.04792346,  0.0370005 ],\n       ...,\n       [-0.92727125, -1.1750612 , -1.4002796 , ...,  0.11028803,\n         0.8300514 ,  0.48890892],\n       [ 0.05323436, -0.01420574,  0.07312743, ...,  0.01672565,\n        -0.26626652,  0.35633314],\n       [ 0.25047988,  0.31369486, -0.03632465, ...,  0.4509365 ,\n         0.10584661, -0.20588161]], dtype=float32)"
     },
     "execution_count": 292,
     "metadata": {},
     "output_type": "execute_result"
    }
   ],
   "source": [
    "y_test_surge_pred_XGBoost = regr_XGBoost.predict(X_test_surge)\n",
    "y_test_surge_pred_XGBoost"
   ],
   "metadata": {
    "collapsed": false,
    "pycharm": {
     "name": "#%%\n"
    }
   }
  },
  {
   "cell_type": "code",
   "execution_count": null,
   "outputs": [],
   "source": [],
   "metadata": {
    "collapsed": false,
    "pycharm": {
     "name": "#%%\n"
    }
   }
  },
  {
   "cell_type": "code",
   "execution_count": 293,
   "outputs": [],
   "source": [
    "y_columns = [f'surge1_t{i}' for i in range(10)] + [f'surge2_t{i}' for i in range(10)]\n",
    "\n",
    "y_test_surge_pred_df_XGBoost = pd.DataFrame(data=y_test_surge_pred_XGBoost, columns=y_columns, index=y_test_surge.index)\n",
    "y_test_surge_pred_df_XGBoost.to_csv(\"./dataset/output/Y_test_pred_XGBoost.csv\", index_label='id_sequence', sep=',')"
   ],
   "metadata": {
    "collapsed": false,
    "pycharm": {
     "name": "#%%\n"
    }
   }
  },
  {
   "cell_type": "markdown",
   "source": [
    "### Predict Y_test"
   ],
   "metadata": {
    "collapsed": false,
    "pycharm": {
     "name": "#%% md\n"
    }
   }
  },
  {
   "cell_type": "code",
   "execution_count": 294,
   "outputs": [],
   "source": [
    "slp_test = []\n",
    "slp_all_test = X_test['slp']\n",
    "for i in range(509):\n",
    "    slp_test.append(np.ndarray.flatten(slp_all_test[i,-1]))\n",
    "    for j in range(1,nfields):\n",
    "        slp_test[-1] = np.concatenate( ( slp_test[-1], np.ndarray.flatten(slp_all_test[i,-1-j*time_step_slp]) ) )\n",
    "slp_test = np.array(slp_test)\n",
    "\n"
   ],
   "metadata": {
    "collapsed": false,
    "pycharm": {
     "name": "#%%\n"
    }
   }
  },
  {
   "cell_type": "code",
   "execution_count": 296,
   "outputs": [
    {
     "data": {
      "text/plain": "array([5600, 5601, 5602, 5603, 5604, 5605, 5606, 5607, 5608, 5609, 5610,\n       5611, 5612, 5613, 5614, 5615, 5616, 5617, 5618, 5619, 5620, 5621,\n       5622, 5623, 5624, 5625, 5626, 5627, 5628, 5629, 5630, 5631, 5632,\n       5633, 5634, 5635, 5636, 5637, 5638, 5639, 5640, 5641, 5642, 5643,\n       5644, 5645, 5646, 5647, 5648, 5649, 5650, 5651, 5652, 5653, 5654,\n       5655, 5656, 5657, 5658, 5659, 5660, 5661, 5662, 5663, 5664, 5665,\n       5666, 5667, 5668, 5669, 5670, 5671, 5672, 5673, 5674, 5675, 5676,\n       5677, 5678, 5679, 5680, 5681, 5682, 5683, 5684, 5685, 5686, 5687,\n       5688, 5689, 5690, 5691, 5692, 5693, 5694, 5695, 5696, 5697, 5698,\n       5699, 5700, 5701, 5702, 5703, 5704, 5705, 5706, 5707, 5708, 5709,\n       5710, 5711, 5712, 5713, 5714, 5715, 5716, 5717, 5718, 5719, 5720,\n       5721, 5722, 5723, 5724, 5725, 5726, 5727, 5728, 5729, 5730, 5731,\n       5732, 5733, 5734, 5735, 5736, 5737, 5738, 5739, 5740, 5741, 5742,\n       5743, 5744, 5745, 5746, 5747, 5748, 5749, 5750, 5751, 5752, 5753,\n       5754, 5755, 5756, 5757, 5758, 5759, 5760, 5761, 5762, 5763, 5764,\n       5765, 5766, 5767, 5768, 5769, 5770, 5771, 5772, 5773, 5774, 5775,\n       5776, 5777, 5778, 5779, 5780, 5781, 5782, 5783, 5784, 5785, 5786,\n       5787, 5788, 5789, 5790, 5791, 5792, 5793, 5794, 5795, 5796, 5797,\n       5798, 5799, 5800, 5801, 5802, 5803, 5804, 5805, 5806, 5807, 5808,\n       5809, 5810, 5811, 5812, 5813, 5814, 5815, 5816, 5817, 5818, 5819,\n       5820, 5821, 5822, 5823, 5824, 5825, 5826, 5827, 5828, 5829, 5830,\n       5831, 5832, 5833, 5834, 5835, 5836, 5837, 5838, 5839, 5840, 5841,\n       5842, 5843, 5844, 5845, 5846, 5847, 5848, 5849, 5850, 5851, 5852,\n       5853, 5854, 5855, 5856, 5857, 5858, 5859, 5860, 5861, 5862, 5863,\n       5864, 5865, 5866, 5867, 5868, 5869, 5870, 5871, 5872, 5873, 5874,\n       5875, 5876, 5877, 5878, 5879, 5880, 5881, 5882, 5883, 5884, 5885,\n       5886, 5887, 5888, 5889, 5890, 5891, 5892, 5893, 5894, 5895, 5896,\n       5897, 5898, 5899, 5900, 5901, 5902, 5903, 5904, 5905, 5906, 5907,\n       5908, 5909, 5910, 5911, 5912, 5913, 5914, 5915, 5916, 5917, 5918,\n       5919, 5920, 5921, 5922, 5923, 5924, 5925, 5926, 5927, 5928, 5929,\n       5930, 5931, 5932, 5933, 5934, 5935, 5936, 5937, 5938, 5939, 5940,\n       5941, 5942, 5943, 5944, 5945, 5946, 5947, 5948, 5949, 5950, 5951,\n       5952, 5953, 5954, 5955, 5956, 5957, 5958, 5959, 5960, 5961, 5962,\n       5963, 5964, 5965, 5966, 5967, 5968, 5969, 5970, 5971, 5972, 5973,\n       5974, 5975, 5976, 5977, 5978, 5979, 5980, 5981, 5982, 5983, 5984,\n       5985, 5986, 5987, 5988, 5989, 5990, 5991, 5992, 5993, 5994, 5995,\n       5996, 5997, 5998, 5999, 6000, 6001, 6002, 6003, 6004, 6005, 6006,\n       6007, 6008, 6009, 6010, 6011, 6012, 6013, 6014, 6015, 6016, 6017,\n       6018, 6019, 6020, 6021, 6022, 6023, 6024, 6025, 6026, 6027, 6028,\n       6029, 6030, 6031, 6032, 6033, 6034, 6035, 6036, 6037, 6038, 6039,\n       6040, 6041, 6042, 6043, 6044, 6045, 6046, 6047, 6048, 6049, 6050,\n       6051, 6052, 6053, 6054, 6055, 6056, 6057, 6058, 6059, 6060, 6061,\n       6062, 6063, 6064, 6065, 6066, 6067, 6068, 6069, 6070, 6071, 6072,\n       6073, 6074, 6075, 6076, 6077, 6078, 6079, 6080, 6081, 6082, 6083,\n       6084, 6085, 6086, 6087, 6088, 6089, 6090, 6091, 6092, 6093, 6094,\n       6095, 6096, 6097, 6098, 6099, 6100, 6101, 6102, 6103, 6104, 6105,\n       6106, 6107, 6108], dtype=int64)"
     },
     "execution_count": 296,
     "metadata": {},
     "output_type": "execute_result"
    }
   ],
   "source": [
    "X_test['id_sequence']"
   ],
   "metadata": {
    "collapsed": false,
    "pycharm": {
     "name": "#%%\n"
    }
   }
  },
  {
   "cell_type": "code",
   "execution_count": 297,
   "outputs": [
    {
     "data": {
      "text/plain": "array([[-0.60546356, -0.35154304, -1.1281685 , ...,  0.3461988 ,\n         0.14868052,  0.23383072],\n       [-0.06356719, -0.13988079,  0.0609154 , ...,  0.84638095,\n         0.45737076, -0.29219326],\n       [-0.6290657 , -0.66719323, -0.28762132, ...,  0.04193096,\n        -0.06487922, -0.33558333],\n       ...,\n       [-0.14261234, -0.50919014, -0.23794046, ..., -0.17575198,\n         0.03501553, -0.06323517],\n       [ 0.08064176,  0.45702848,  0.42545798, ..., -0.24848711,\n         0.32236913,  0.36723155],\n       [-0.33488104,  0.74959296,  1.951795  , ...,  0.22775625,\n        -0.37415296,  0.07613017]], dtype=float32)"
     },
     "execution_count": 297,
     "metadata": {},
     "output_type": "execute_result"
    }
   ],
   "source": [
    "Y_test_pred = regr_XGBoost.predict(slp_test)\n",
    "Y_test_pred"
   ],
   "metadata": {
    "collapsed": false,
    "pycharm": {
     "name": "#%%\n"
    }
   }
  },
  {
   "cell_type": "code",
   "execution_count": 298,
   "outputs": [],
   "source": [
    "y_columns = [f'surge1_t{i}' for i in range(10)] + [f'surge2_t{i}' for i in range(10)]\n",
    "\n",
    "Y_test_pred_df = pd.DataFrame(data=Y_test_pred, columns=y_columns, index=X_test['id_sequence'])\n",
    "Y_test_pred_df.to_csv(\"./dataset/output/submit/Y_test.csv\", index_label='id_sequence', sep=',')"
   ],
   "metadata": {
    "collapsed": false,
    "pycharm": {
     "name": "#%%\n"
    }
   }
  },
  {
   "cell_type": "markdown",
   "source": [
    "### Saving final cleaned dataset"
   ],
   "metadata": {
    "collapsed": false,
    "pycharm": {
     "name": "#%% md\n"
    }
   }
  },
  {
   "cell_type": "code",
   "execution_count": 289,
   "outputs": [
    {
     "name": "stdout",
     "output_type": "stream",
     "text": [
      "computing time : 166.111978 sec\n",
      "computing time : 00:02:46\n"
     ]
    }
   ],
   "source": [
    "# End of pipeline time\n",
    "t1 = time()\n",
    "print(\"computing time : {:8.6f} sec\".format(t1 - t0))\n",
    "print(\"computing time : \" + strftime('%H:%M:%S', gmtime(t1 - t0)))"
   ],
   "metadata": {
    "collapsed": false,
    "pycharm": {
     "name": "#%%\n"
    }
   }
  }
 ],
 "metadata": {
  "kernelspec": {
   "display_name": "Python 3",
   "language": "python",
   "name": "python3"
  },
  "language_info": {
   "codemirror_mode": {
    "name": "ipython",
    "version": 2
   },
   "file_extension": ".py",
   "mimetype": "text/x-python",
   "name": "python",
   "nbconvert_exporter": "python",
   "pygments_lexer": "ipython2",
   "version": "2.7.6"
  }
 },
 "nbformat": 4,
 "nbformat_minor": 0
}