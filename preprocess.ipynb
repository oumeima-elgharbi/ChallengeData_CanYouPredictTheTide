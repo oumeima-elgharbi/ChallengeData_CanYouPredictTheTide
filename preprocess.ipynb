{
 "cells": [
  {
   "cell_type": "markdown",
   "source": [
    "Data Challenge : Can you predict the tide ?\n",
    "Author : Oumeima EL GHARBI\n",
    "Date : November 2022"
   ],
   "metadata": {
    "collapsed": false,
    "pycharm": {
     "name": "#%% md\n"
    }
   }
  },
  {
   "cell_type": "markdown",
   "source": [
    "# PART 1 : Preprocessing"
   ],
   "metadata": {
    "collapsed": false,
    "pycharm": {
     "name": "#%% md\n"
    }
   }
  },
  {
   "cell_type": "markdown",
   "source": [
    "### Importing libraries"
   ],
   "metadata": {
    "collapsed": false,
    "pycharm": {
     "name": "#%% md\n"
    }
   }
  },
  {
   "cell_type": "code",
   "execution_count": 1,
   "outputs": [
    {
     "name": "stderr",
     "output_type": "stream",
     "text": [
      "C:\\Users\\athen\\Anaconda3\\envs\\P4_OC\\lib\\site-packages\\xgboost\\compat.py:36: FutureWarning: pandas.Int64Index is deprecated and will be removed from pandas in a future version. Use pandas.Index with the appropriate dtype instead.\n",
      "  from pandas import MultiIndex, Int64Index\n"
     ]
    },
    {
     "data": {
      "application/javascript": "IPython.notebook.set_autosave_interval(300000)"
     },
     "metadata": {},
     "output_type": "display_data"
    },
    {
     "name": "stdout",
     "output_type": "stream",
     "text": [
      "Autosaving every 300 seconds\n"
     ]
    }
   ],
   "source": [
    "import pandas as pd\n",
    "%reset -f\n",
    "\n",
    "from functions import *\n",
    "from surge_prediction_metric import *\n",
    "\n",
    "from sklearn.model_selection import train_test_split\n",
    "from sklearn.neighbors import BallTree\n",
    "from sklearn.multioutput import MultiOutputRegressor\n",
    "from sklearn.kernel_ridge import KernelRidge\n",
    "from xgboost import XGBRegressor\n",
    "from sklearn.svm import SVR\n",
    "from sklearn.ensemble import RandomForestRegressor\n",
    "from sklearn.neural_network import MLPRegressor\n",
    "\n",
    "\n",
    "import warnings\n",
    "warnings.filterwarnings('ignore')\n",
    "#warnings.filterwarnings(action=\"once\")\n",
    "\n",
    "%matplotlib inline\n",
    "%autosave 300"
   ],
   "metadata": {
    "collapsed": false,
    "pycharm": {
     "name": "#%%\n"
    }
   }
  },
  {
   "cell_type": "code",
   "execution_count": 2,
   "outputs": [
    {
     "data": {
      "text/plain": "array([[1. , 0.9, 0.8, 0.7, 0.6, 0.5, 0.4, 0.3, 0.2, 0.1]])"
     },
     "execution_count": 2,
     "metadata": {},
     "output_type": "execute_result"
    }
   ],
   "source": [
    "w = np.linspace(1, 0.1, 10)[np.newaxis]\n",
    "w"
   ],
   "metadata": {
    "collapsed": false,
    "pycharm": {
     "name": "#%%\n"
    }
   }
  },
  {
   "cell_type": "code",
   "execution_count": 3,
   "outputs": [],
   "source": [
    "# Starting time\n",
    "t0 = time()\n",
    "\n",
    "seed = 42 #42\n",
    "baseline_error = 0.7720 # 0.62 SVR"
   ],
   "metadata": {
    "collapsed": false,
    "pycharm": {
     "name": "#%%\n"
    }
   }
  },
  {
   "cell_type": "markdown",
   "source": [
    "#### Loading dataset"
   ],
   "metadata": {
    "collapsed": false,
    "pycharm": {
     "name": "#%% md\n"
    }
   }
  },
  {
   "cell_type": "code",
   "execution_count": 4,
   "outputs": [],
   "source": [
    "# load raw dataset\n",
    "input_path = \"./dataset/source/\"\n",
    "output_path = \"./dataset/output/\"\n",
    "\n",
    "\n",
    "X_train_filename = \"X_train_surge_new.npz\"\n",
    "Y_train_filename = \"Y_train_surge.csv\"\n",
    "X_test_filename = \"X_test_surge_new.npz\"\n",
    "\n",
    "X_train_file = \"{}{}\".format(input_path, X_train_filename)\n",
    "Y_train_file = \"{}{}\".format(input_path, Y_train_filename)\n",
    "X_test_file = \"{}{}\".format(input_path, X_test_filename)"
   ],
   "metadata": {
    "collapsed": false,
    "pycharm": {
     "name": "#%%\n"
    }
   }
  },
  {
   "cell_type": "code",
   "execution_count": 5,
   "outputs": [],
   "source": [
    "X_train = np.load(X_train_file)\n",
    "Y_train = pd.read_csv(Y_train_file)\n",
    "X_test = np.load(X_test_file)"
   ],
   "metadata": {
    "collapsed": false,
    "pycharm": {
     "name": "#%%\n"
    }
   }
  },
  {
   "cell_type": "code",
   "execution_count": 5,
   "outputs": [],
   "source": [],
   "metadata": {
    "collapsed": false,
    "pycharm": {
     "name": "#%%\n"
    }
   }
  },
  {
   "cell_type": "code",
   "execution_count": 6,
   "outputs": [
    {
     "data": {
      "text/plain": "<numpy.lib.npyio.NpzFile at 0x225f8d8baf0>"
     },
     "execution_count": 6,
     "metadata": {},
     "output_type": "execute_result"
    }
   ],
   "source": [
    "X_train"
   ],
   "metadata": {
    "collapsed": false,
    "pycharm": {
     "name": "#%%\n"
    }
   }
  },
  {
   "cell_type": "code",
   "execution_count": 7,
   "outputs": [],
   "source": [
    "surge_train = np.array(Y_train)[:,1:]"
   ],
   "metadata": {
    "collapsed": false,
    "pycharm": {
     "name": "#%%\n"
    }
   }
  },
  {
   "cell_type": "code",
   "execution_count": 8,
   "outputs": [
    {
     "data": {
      "text/plain": "array([[ 0.58693592,  1.06958024,  0.76792754, ..., -0.42270688,\n        -0.45623606, -0.82505705],\n       [ 0.76792754, -0.1001619 ,  0.07077463, ..., -0.82505705,\n        -0.99270295, -0.99270295],\n       [ 0.07077463, -0.24428486, -0.35489084, ..., -0.99270295,\n        -0.32211934, -0.88373311],\n       ...,\n       [ 0.48303332,  0.53330877,  1.44832196, ...,  1.22022298,\n         1.44654495,  2.67036005],\n       [ 1.44832196,  1.82036029,  1.66283054, ...,  2.67036005,\n         2.62006628,  2.67874235],\n       [ 1.66283054,  1.52876268,  1.28408882, ...,  2.67874235,\n         1.22022298,  0.72566756]])"
     },
     "execution_count": 8,
     "metadata": {},
     "output_type": "execute_result"
    }
   ],
   "source": [
    "surge_train"
   ],
   "metadata": {
    "collapsed": false,
    "pycharm": {
     "name": "#%%\n"
    }
   }
  },
  {
   "cell_type": "code",
   "execution_count": 9,
   "outputs": [
    {
     "data": {
      "text/plain": "array(['id_sequence', 't_slp', 'slp', 't_surge1_input', 'surge1_input',\n       't_surge2_input', 'surge2_input', 't_surge1_output',\n       't_surge2_output'], dtype='<U15')"
     },
     "execution_count": 9,
     "metadata": {},
     "output_type": "execute_result"
    }
   ],
   "source": [
    "np.array(X_train)"
   ],
   "metadata": {
    "collapsed": false,
    "pycharm": {
     "name": "#%%\n"
    }
   }
  },
  {
   "cell_type": "code",
   "execution_count": 10,
   "outputs": [
    {
     "data": {
      "text/plain": "                 0\n0      id_sequence\n1            t_slp\n2              slp\n3   t_surge1_input\n4     surge1_input\n5   t_surge2_input\n6     surge2_input\n7  t_surge1_output\n8  t_surge2_output",
      "text/html": "<div>\n<style scoped>\n    .dataframe tbody tr th:only-of-type {\n        vertical-align: middle;\n    }\n\n    .dataframe tbody tr th {\n        vertical-align: top;\n    }\n\n    .dataframe thead th {\n        text-align: right;\n    }\n</style>\n<table border=\"1\" class=\"dataframe\">\n  <thead>\n    <tr style=\"text-align: right;\">\n      <th></th>\n      <th>0</th>\n    </tr>\n  </thead>\n  <tbody>\n    <tr>\n      <th>0</th>\n      <td>id_sequence</td>\n    </tr>\n    <tr>\n      <th>1</th>\n      <td>t_slp</td>\n    </tr>\n    <tr>\n      <th>2</th>\n      <td>slp</td>\n    </tr>\n    <tr>\n      <th>3</th>\n      <td>t_surge1_input</td>\n    </tr>\n    <tr>\n      <th>4</th>\n      <td>surge1_input</td>\n    </tr>\n    <tr>\n      <th>5</th>\n      <td>t_surge2_input</td>\n    </tr>\n    <tr>\n      <th>6</th>\n      <td>surge2_input</td>\n    </tr>\n    <tr>\n      <th>7</th>\n      <td>t_surge1_output</td>\n    </tr>\n    <tr>\n      <th>8</th>\n      <td>t_surge2_output</td>\n    </tr>\n  </tbody>\n</table>\n</div>"
     },
     "execution_count": 10,
     "metadata": {},
     "output_type": "execute_result"
    }
   ],
   "source": [
    "pd.DataFrame(X_train)#.shape"
   ],
   "metadata": {
    "collapsed": false,
    "pycharm": {
     "name": "#%%\n"
    }
   }
  },
  {
   "cell_type": "code",
   "execution_count": 11,
   "outputs": [
    {
     "data": {
      "text/plain": "(5599, 40, 41, 41)"
     },
     "execution_count": 11,
     "metadata": {},
     "output_type": "execute_result"
    }
   ],
   "source": [
    "X_train['slp'].shape"
   ],
   "metadata": {
    "collapsed": false,
    "pycharm": {
     "name": "#%%\n"
    }
   }
  },
  {
   "cell_type": "markdown",
   "source": [
    "#### Making X or slp_train for X_train and X_test"
   ],
   "metadata": {
    "collapsed": false,
    "pycharm": {
     "name": "#%% md\n"
    }
   }
  },
  {
   "cell_type": "markdown",
   "source": [
    "##### Preparing X_train to train"
   ],
   "metadata": {
    "collapsed": false,
    "pycharm": {
     "name": "#%% md\n"
    }
   }
  },
  {
   "cell_type": "code",
   "execution_count": 12,
   "outputs": [
    {
     "data": {
      "text/plain": "array([[100849.72, 100797.72, 100754.72, ..., 101970.81, 101981.81,\n        101990.81],\n       [100940.37, 100881.37, 100823.37, ..., 101515.72, 101562.72,\n        101611.72],\n       [101862.91, 101879.91, 101894.91, ..., 101005.37, 101038.37,\n        101076.37],\n       ...,\n       [102048.13, 102080.13, 102106.13, ..., 100781.81, 100724.81,\n        100664.81],\n       [102111.95, 102134.95, 102149.95, ..., 101352.13, 101376.13,\n        101392.13],\n       [101972.53, 101984.53, 101993.53, ..., 100412.28, 100450.28,\n        100483.28]], dtype=float32)"
     },
     "execution_count": 12,
     "metadata": {},
     "output_type": "execute_result"
    }
   ],
   "source": [
    "slp_train = generate_X_train_test(X_train)\n",
    "\n",
    "slp_train"
   ],
   "metadata": {
    "collapsed": false,
    "pycharm": {
     "name": "#%%\n"
    }
   }
  },
  {
   "cell_type": "markdown",
   "source": [
    "##### Preparing X_test for the submission"
   ],
   "metadata": {
    "collapsed": false,
    "pycharm": {
     "name": "#%% md\n"
    }
   }
  },
  {
   "cell_type": "code",
   "execution_count": 13,
   "outputs": [
    {
     "data": {
      "text/plain": "array([5600, 5601, 5602, 5603, 5604, 5605, 5606, 5607, 5608, 5609, 5610,\n       5611, 5612, 5613, 5614, 5615, 5616, 5617, 5618, 5619, 5620, 5621,\n       5622, 5623, 5624, 5625, 5626, 5627, 5628, 5629, 5630, 5631, 5632,\n       5633, 5634, 5635, 5636, 5637, 5638, 5639, 5640, 5641, 5642, 5643,\n       5644, 5645, 5646, 5647, 5648, 5649, 5650, 5651, 5652, 5653, 5654,\n       5655, 5656, 5657, 5658, 5659, 5660, 5661, 5662, 5663, 5664, 5665,\n       5666, 5667, 5668, 5669, 5670, 5671, 5672, 5673, 5674, 5675, 5676,\n       5677, 5678, 5679, 5680, 5681, 5682, 5683, 5684, 5685, 5686, 5687,\n       5688, 5689, 5690, 5691, 5692, 5693, 5694, 5695, 5696, 5697, 5698,\n       5699, 5700, 5701, 5702, 5703, 5704, 5705, 5706, 5707, 5708, 5709,\n       5710, 5711, 5712, 5713, 5714, 5715, 5716, 5717, 5718, 5719, 5720,\n       5721, 5722, 5723, 5724, 5725, 5726, 5727, 5728, 5729, 5730, 5731,\n       5732, 5733, 5734, 5735, 5736, 5737, 5738, 5739, 5740, 5741, 5742,\n       5743, 5744, 5745, 5746, 5747, 5748, 5749, 5750, 5751, 5752, 5753,\n       5754, 5755, 5756, 5757, 5758, 5759, 5760, 5761, 5762, 5763, 5764,\n       5765, 5766, 5767, 5768, 5769, 5770, 5771, 5772, 5773, 5774, 5775,\n       5776, 5777, 5778, 5779, 5780, 5781, 5782, 5783, 5784, 5785, 5786,\n       5787, 5788, 5789, 5790, 5791, 5792, 5793, 5794, 5795, 5796, 5797,\n       5798, 5799, 5800, 5801, 5802, 5803, 5804, 5805, 5806, 5807, 5808,\n       5809, 5810, 5811, 5812, 5813, 5814, 5815, 5816, 5817, 5818, 5819,\n       5820, 5821, 5822, 5823, 5824, 5825, 5826, 5827, 5828, 5829, 5830,\n       5831, 5832, 5833, 5834, 5835, 5836, 5837, 5838, 5839, 5840, 5841,\n       5842, 5843, 5844, 5845, 5846, 5847, 5848, 5849, 5850, 5851, 5852,\n       5853, 5854, 5855, 5856, 5857, 5858, 5859, 5860, 5861, 5862, 5863,\n       5864, 5865, 5866, 5867, 5868, 5869, 5870, 5871, 5872, 5873, 5874,\n       5875, 5876, 5877, 5878, 5879, 5880, 5881, 5882, 5883, 5884, 5885,\n       5886, 5887, 5888, 5889, 5890, 5891, 5892, 5893, 5894, 5895, 5896,\n       5897, 5898, 5899, 5900, 5901, 5902, 5903, 5904, 5905, 5906, 5907,\n       5908, 5909, 5910, 5911, 5912, 5913, 5914, 5915, 5916, 5917, 5918,\n       5919, 5920, 5921, 5922, 5923, 5924, 5925, 5926, 5927, 5928, 5929,\n       5930, 5931, 5932, 5933, 5934, 5935, 5936, 5937, 5938, 5939, 5940,\n       5941, 5942, 5943, 5944, 5945, 5946, 5947, 5948, 5949, 5950, 5951,\n       5952, 5953, 5954, 5955, 5956, 5957, 5958, 5959, 5960, 5961, 5962,\n       5963, 5964, 5965, 5966, 5967, 5968, 5969, 5970, 5971, 5972, 5973,\n       5974, 5975, 5976, 5977, 5978, 5979, 5980, 5981, 5982, 5983, 5984,\n       5985, 5986, 5987, 5988, 5989, 5990, 5991, 5992, 5993, 5994, 5995,\n       5996, 5997, 5998, 5999, 6000, 6001, 6002, 6003, 6004, 6005, 6006,\n       6007, 6008, 6009, 6010, 6011, 6012, 6013, 6014, 6015, 6016, 6017,\n       6018, 6019, 6020, 6021, 6022, 6023, 6024, 6025, 6026, 6027, 6028,\n       6029, 6030, 6031, 6032, 6033, 6034, 6035, 6036, 6037, 6038, 6039,\n       6040, 6041, 6042, 6043, 6044, 6045, 6046, 6047, 6048, 6049, 6050,\n       6051, 6052, 6053, 6054, 6055, 6056, 6057, 6058, 6059, 6060, 6061,\n       6062, 6063, 6064, 6065, 6066, 6067, 6068, 6069, 6070, 6071, 6072,\n       6073, 6074, 6075, 6076, 6077, 6078, 6079, 6080, 6081, 6082, 6083,\n       6084, 6085, 6086, 6087, 6088, 6089, 6090, 6091, 6092, 6093, 6094,\n       6095, 6096, 6097, 6098, 6099, 6100, 6101, 6102, 6103, 6104, 6105,\n       6106, 6107, 6108], dtype=int64)"
     },
     "execution_count": 13,
     "metadata": {},
     "output_type": "execute_result"
    }
   ],
   "source": [
    "slp_test = generate_X_train_test(X_test)\n",
    "X_test['id_sequence']"
   ],
   "metadata": {
    "collapsed": false,
    "pycharm": {
     "name": "#%%\n"
    }
   }
  },
  {
   "cell_type": "markdown",
   "source": [
    "#### Making y or surge_train / Y_train"
   ],
   "metadata": {
    "collapsed": false,
    "pycharm": {
     "name": "#%% md\n"
    }
   }
  },
  {
   "cell_type": "code",
   "execution_count": 14,
   "outputs": [
    {
     "data": {
      "text/plain": "array([[ 0.58693592,  1.06958024,  0.76792754, ..., -0.42270688,\n        -0.45623606, -0.82505705],\n       [ 0.76792754, -0.1001619 ,  0.07077463, ..., -0.82505705,\n        -0.99270295, -0.99270295],\n       [ 0.07077463, -0.24428486, -0.35489084, ..., -0.99270295,\n        -0.32211934, -0.88373311],\n       ...,\n       [ 0.48303332,  0.53330877,  1.44832196, ...,  1.22022298,\n         1.44654495,  2.67036005],\n       [ 1.44832196,  1.82036029,  1.66283054, ...,  2.67036005,\n         2.62006628,  2.67874235],\n       [ 1.66283054,  1.52876268,  1.28408882, ...,  2.67874235,\n         1.22022298,  0.72566756]])"
     },
     "execution_count": 14,
     "metadata": {},
     "output_type": "execute_result"
    }
   ],
   "source": [
    "surge_train = generate_Y_train(Y_train)\n",
    "surge_train"
   ],
   "metadata": {
    "collapsed": false,
    "pycharm": {
     "name": "#%%\n"
    }
   }
  },
  {
   "cell_type": "code",
   "execution_count": 15,
   "outputs": [
    {
     "data": {
      "text/plain": "      surge1_t0  surge1_t1  surge1_t2  surge1_t3  surge1_t4  surge1_t5  \\\n1      0.586936   1.069580   0.767928  -0.100162   0.070775  -0.244285   \n2      0.767928  -0.100162   0.070775  -0.244285  -0.354891  -0.928031   \n3      0.070775  -0.244285  -0.354891  -0.928031  -0.773853  -0.375001   \n4     -0.354891  -0.928031  -0.773853  -0.375001  -0.361594  -0.210768   \n5     -0.773853  -0.375001  -0.361594  -0.210768   0.288635  -0.726929   \n...         ...        ...        ...        ...        ...        ...   \n5595   1.451674   1.220407   0.556771   1.709754   0.483033   0.533309   \n5596   0.556771   1.709754   0.483033   0.533309   1.448322   1.820360   \n5597   0.483033   0.533309   1.448322   1.820360   1.662831   1.528763   \n5598   1.448322   1.820360   1.662831   1.528763   1.284089   0.070775   \n5599   1.662831   1.528763   1.284089   0.070775   0.888589   1.545521   \n\n      surge1_t6  surge1_t7  surge1_t8  surge1_t9  surge2_t0  surge2_t1  \\\n1     -0.354891  -0.928031  -0.773853  -0.375001  -0.053886   0.356847   \n2     -0.773853  -0.375001  -0.361594  -0.210768   0.348464   0.264641   \n3     -0.361594  -0.210768   0.288635  -0.726929   0.901696   0.449052   \n4      0.288635  -0.726929  -0.576103   1.160076   0.113760  -0.422707   \n5     -0.576103   1.160076   0.442813   0.305393  -0.456236  -0.825057   \n...         ...        ...        ...        ...        ...        ...   \n5595   1.448322   1.820360   1.662831   1.528763   0.759197   0.884931   \n5596   1.662831   1.528763   1.284089   0.070775   0.298171  -0.397560   \n5597   1.284089   0.070775   0.888589   1.545521  -0.540059  -0.498148   \n5598   0.888589   1.545521   1.166779   0.653970  -0.498148  -0.405942   \n5599   1.166779   0.653970   0.409296   0.137809   0.164054   0.331700   \n\n      surge2_t2  surge2_t3  surge2_t4  surge2_t5  surge2_t6  surge2_t7  \\\n1      0.348464   0.264641   0.901696   0.449052   0.113760  -0.422707   \n2      0.901696   0.449052   0.113760  -0.422707  -0.456236  -0.825057   \n3      0.113760  -0.422707  -0.456236  -0.825057  -0.992703  -0.992703   \n4     -0.456236  -0.825057  -0.992703  -0.992703  -0.322119  -0.883733   \n5     -0.992703  -0.992703  -0.322119  -0.883733  -0.473001  -0.422707   \n...         ...        ...        ...        ...        ...        ...   \n5595   0.298171  -0.397560  -0.540059  -0.498148  -0.498148  -0.405942   \n5596  -0.540059  -0.498148  -0.498148  -0.405942   0.164054   0.331700   \n5597  -0.498148  -0.405942   0.164054   0.331700   1.052577   1.220223   \n5598   0.164054   0.331700   1.052577   1.220223   1.446545   2.670360   \n5599   1.052577   1.220223   1.446545   2.670360   2.620066   2.678742   \n\n      surge2_t8  surge2_t9  \n1     -0.456236  -0.825057  \n2     -0.992703  -0.992703  \n3     -0.322119  -0.883733  \n4     -0.473001  -0.422707  \n5     -0.473001  -0.531677  \n...         ...        ...  \n5595   0.164054   0.331700  \n5596   1.052577   1.220223  \n5597   1.446545   2.670360  \n5598   2.620066   2.678742  \n5599   1.220223   0.725668  \n\n[5599 rows x 20 columns]",
      "text/html": "<div>\n<style scoped>\n    .dataframe tbody tr th:only-of-type {\n        vertical-align: middle;\n    }\n\n    .dataframe tbody tr th {\n        vertical-align: top;\n    }\n\n    .dataframe thead th {\n        text-align: right;\n    }\n</style>\n<table border=\"1\" class=\"dataframe\">\n  <thead>\n    <tr style=\"text-align: right;\">\n      <th></th>\n      <th>surge1_t0</th>\n      <th>surge1_t1</th>\n      <th>surge1_t2</th>\n      <th>surge1_t3</th>\n      <th>surge1_t4</th>\n      <th>surge1_t5</th>\n      <th>surge1_t6</th>\n      <th>surge1_t7</th>\n      <th>surge1_t8</th>\n      <th>surge1_t9</th>\n      <th>surge2_t0</th>\n      <th>surge2_t1</th>\n      <th>surge2_t2</th>\n      <th>surge2_t3</th>\n      <th>surge2_t4</th>\n      <th>surge2_t5</th>\n      <th>surge2_t6</th>\n      <th>surge2_t7</th>\n      <th>surge2_t8</th>\n      <th>surge2_t9</th>\n    </tr>\n  </thead>\n  <tbody>\n    <tr>\n      <th>1</th>\n      <td>0.586936</td>\n      <td>1.069580</td>\n      <td>0.767928</td>\n      <td>-0.100162</td>\n      <td>0.070775</td>\n      <td>-0.244285</td>\n      <td>-0.354891</td>\n      <td>-0.928031</td>\n      <td>-0.773853</td>\n      <td>-0.375001</td>\n      <td>-0.053886</td>\n      <td>0.356847</td>\n      <td>0.348464</td>\n      <td>0.264641</td>\n      <td>0.901696</td>\n      <td>0.449052</td>\n      <td>0.113760</td>\n      <td>-0.422707</td>\n      <td>-0.456236</td>\n      <td>-0.825057</td>\n    </tr>\n    <tr>\n      <th>2</th>\n      <td>0.767928</td>\n      <td>-0.100162</td>\n      <td>0.070775</td>\n      <td>-0.244285</td>\n      <td>-0.354891</td>\n      <td>-0.928031</td>\n      <td>-0.773853</td>\n      <td>-0.375001</td>\n      <td>-0.361594</td>\n      <td>-0.210768</td>\n      <td>0.348464</td>\n      <td>0.264641</td>\n      <td>0.901696</td>\n      <td>0.449052</td>\n      <td>0.113760</td>\n      <td>-0.422707</td>\n      <td>-0.456236</td>\n      <td>-0.825057</td>\n      <td>-0.992703</td>\n      <td>-0.992703</td>\n    </tr>\n    <tr>\n      <th>3</th>\n      <td>0.070775</td>\n      <td>-0.244285</td>\n      <td>-0.354891</td>\n      <td>-0.928031</td>\n      <td>-0.773853</td>\n      <td>-0.375001</td>\n      <td>-0.361594</td>\n      <td>-0.210768</td>\n      <td>0.288635</td>\n      <td>-0.726929</td>\n      <td>0.901696</td>\n      <td>0.449052</td>\n      <td>0.113760</td>\n      <td>-0.422707</td>\n      <td>-0.456236</td>\n      <td>-0.825057</td>\n      <td>-0.992703</td>\n      <td>-0.992703</td>\n      <td>-0.322119</td>\n      <td>-0.883733</td>\n    </tr>\n    <tr>\n      <th>4</th>\n      <td>-0.354891</td>\n      <td>-0.928031</td>\n      <td>-0.773853</td>\n      <td>-0.375001</td>\n      <td>-0.361594</td>\n      <td>-0.210768</td>\n      <td>0.288635</td>\n      <td>-0.726929</td>\n      <td>-0.576103</td>\n      <td>1.160076</td>\n      <td>0.113760</td>\n      <td>-0.422707</td>\n      <td>-0.456236</td>\n      <td>-0.825057</td>\n      <td>-0.992703</td>\n      <td>-0.992703</td>\n      <td>-0.322119</td>\n      <td>-0.883733</td>\n      <td>-0.473001</td>\n      <td>-0.422707</td>\n    </tr>\n    <tr>\n      <th>5</th>\n      <td>-0.773853</td>\n      <td>-0.375001</td>\n      <td>-0.361594</td>\n      <td>-0.210768</td>\n      <td>0.288635</td>\n      <td>-0.726929</td>\n      <td>-0.576103</td>\n      <td>1.160076</td>\n      <td>0.442813</td>\n      <td>0.305393</td>\n      <td>-0.456236</td>\n      <td>-0.825057</td>\n      <td>-0.992703</td>\n      <td>-0.992703</td>\n      <td>-0.322119</td>\n      <td>-0.883733</td>\n      <td>-0.473001</td>\n      <td>-0.422707</td>\n      <td>-0.473001</td>\n      <td>-0.531677</td>\n    </tr>\n    <tr>\n      <th>...</th>\n      <td>...</td>\n      <td>...</td>\n      <td>...</td>\n      <td>...</td>\n      <td>...</td>\n      <td>...</td>\n      <td>...</td>\n      <td>...</td>\n      <td>...</td>\n      <td>...</td>\n      <td>...</td>\n      <td>...</td>\n      <td>...</td>\n      <td>...</td>\n      <td>...</td>\n      <td>...</td>\n      <td>...</td>\n      <td>...</td>\n      <td>...</td>\n      <td>...</td>\n    </tr>\n    <tr>\n      <th>5595</th>\n      <td>1.451674</td>\n      <td>1.220407</td>\n      <td>0.556771</td>\n      <td>1.709754</td>\n      <td>0.483033</td>\n      <td>0.533309</td>\n      <td>1.448322</td>\n      <td>1.820360</td>\n      <td>1.662831</td>\n      <td>1.528763</td>\n      <td>0.759197</td>\n      <td>0.884931</td>\n      <td>0.298171</td>\n      <td>-0.397560</td>\n      <td>-0.540059</td>\n      <td>-0.498148</td>\n      <td>-0.498148</td>\n      <td>-0.405942</td>\n      <td>0.164054</td>\n      <td>0.331700</td>\n    </tr>\n    <tr>\n      <th>5596</th>\n      <td>0.556771</td>\n      <td>1.709754</td>\n      <td>0.483033</td>\n      <td>0.533309</td>\n      <td>1.448322</td>\n      <td>1.820360</td>\n      <td>1.662831</td>\n      <td>1.528763</td>\n      <td>1.284089</td>\n      <td>0.070775</td>\n      <td>0.298171</td>\n      <td>-0.397560</td>\n      <td>-0.540059</td>\n      <td>-0.498148</td>\n      <td>-0.498148</td>\n      <td>-0.405942</td>\n      <td>0.164054</td>\n      <td>0.331700</td>\n      <td>1.052577</td>\n      <td>1.220223</td>\n    </tr>\n    <tr>\n      <th>5597</th>\n      <td>0.483033</td>\n      <td>0.533309</td>\n      <td>1.448322</td>\n      <td>1.820360</td>\n      <td>1.662831</td>\n      <td>1.528763</td>\n      <td>1.284089</td>\n      <td>0.070775</td>\n      <td>0.888589</td>\n      <td>1.545521</td>\n      <td>-0.540059</td>\n      <td>-0.498148</td>\n      <td>-0.498148</td>\n      <td>-0.405942</td>\n      <td>0.164054</td>\n      <td>0.331700</td>\n      <td>1.052577</td>\n      <td>1.220223</td>\n      <td>1.446545</td>\n      <td>2.670360</td>\n    </tr>\n    <tr>\n      <th>5598</th>\n      <td>1.448322</td>\n      <td>1.820360</td>\n      <td>1.662831</td>\n      <td>1.528763</td>\n      <td>1.284089</td>\n      <td>0.070775</td>\n      <td>0.888589</td>\n      <td>1.545521</td>\n      <td>1.166779</td>\n      <td>0.653970</td>\n      <td>-0.498148</td>\n      <td>-0.405942</td>\n      <td>0.164054</td>\n      <td>0.331700</td>\n      <td>1.052577</td>\n      <td>1.220223</td>\n      <td>1.446545</td>\n      <td>2.670360</td>\n      <td>2.620066</td>\n      <td>2.678742</td>\n    </tr>\n    <tr>\n      <th>5599</th>\n      <td>1.662831</td>\n      <td>1.528763</td>\n      <td>1.284089</td>\n      <td>0.070775</td>\n      <td>0.888589</td>\n      <td>1.545521</td>\n      <td>1.166779</td>\n      <td>0.653970</td>\n      <td>0.409296</td>\n      <td>0.137809</td>\n      <td>0.164054</td>\n      <td>0.331700</td>\n      <td>1.052577</td>\n      <td>1.220223</td>\n      <td>1.446545</td>\n      <td>2.670360</td>\n      <td>2.620066</td>\n      <td>2.678742</td>\n      <td>1.220223</td>\n      <td>0.725668</td>\n    </tr>\n  </tbody>\n</table>\n<p>5599 rows × 20 columns</p>\n</div>"
     },
     "execution_count": 15,
     "metadata": {},
     "output_type": "execute_result"
    }
   ],
   "source": [
    "surge_train_df = Y_train_to_dataframe(surge_train, X_train)\n",
    "surge_train_df"
   ],
   "metadata": {
    "collapsed": false,
    "pycharm": {
     "name": "#%%\n"
    }
   }
  },
  {
   "cell_type": "code",
   "execution_count": 16,
   "outputs": [
    {
     "data": {
      "text/plain": "(5599, 3362)"
     },
     "execution_count": 16,
     "metadata": {},
     "output_type": "execute_result"
    }
   ],
   "source": [
    "slp_train.shape"
   ],
   "metadata": {
    "collapsed": false,
    "pycharm": {
     "name": "#%%\n"
    }
   }
  },
  {
   "cell_type": "code",
   "execution_count": 17,
   "outputs": [],
   "source": [
    "slp_train_df = slp_train_to_dataframe(slp_train)"
   ],
   "metadata": {
    "collapsed": false,
    "pycharm": {
     "name": "#%%\n"
    }
   }
  },
  {
   "cell_type": "markdown",
   "source": [
    "#### Splitting train / test set using X_train and Y_train"
   ],
   "metadata": {
    "collapsed": false,
    "pycharm": {
     "name": "#%% md\n"
    }
   }
  },
  {
   "cell_type": "code",
   "execution_count": 18,
   "outputs": [],
   "source": [
    "X_train_surge, X_val_surge, y_train_surge, y_val_surge = train_test_split(slp_train_df, surge_train_df, test_size=0.3, random_state=seed)"
   ],
   "metadata": {
    "collapsed": false,
    "pycharm": {
     "name": "#%%\n"
    }
   }
  },
  {
   "cell_type": "code",
   "execution_count": 19,
   "outputs": [
    {
     "data": {
      "text/plain": "(5599, 3362)"
     },
     "execution_count": 19,
     "metadata": {},
     "output_type": "execute_result"
    }
   ],
   "source": [
    "slp_train.shape"
   ],
   "metadata": {
    "collapsed": false,
    "pycharm": {
     "name": "#%%\n"
    }
   }
  },
  {
   "cell_type": "code",
   "execution_count": 20,
   "outputs": [
    {
     "data": {
      "text/plain": "(5599, 20)"
     },
     "execution_count": 20,
     "metadata": {},
     "output_type": "execute_result"
    }
   ],
   "source": [
    "surge_train.shape"
   ],
   "metadata": {
    "collapsed": false,
    "pycharm": {
     "name": "#%%\n"
    }
   }
  },
  {
   "cell_type": "code",
   "execution_count": 21,
   "outputs": [
    {
     "data": {
      "text/plain": "(3919, 3362)"
     },
     "execution_count": 21,
     "metadata": {},
     "output_type": "execute_result"
    }
   ],
   "source": [
    "X_train_surge.shape"
   ],
   "metadata": {
    "collapsed": false,
    "pycharm": {
     "name": "#%%\n"
    }
   }
  },
  {
   "cell_type": "code",
   "execution_count": 22,
   "outputs": [
    {
     "data": {
      "text/plain": "(1680, 20)"
     },
     "execution_count": 22,
     "metadata": {},
     "output_type": "execute_result"
    }
   ],
   "source": [
    "y_val_surge.shape"
   ],
   "metadata": {
    "collapsed": false,
    "pycharm": {
     "name": "#%%\n"
    }
   }
  },
  {
   "cell_type": "code",
   "execution_count": 23,
   "outputs": [
    {
     "data": {
      "text/plain": "                  0              1              2              3  \\\n5568  102176.351562  102156.351562  102133.351562  102105.351562   \n2836  101805.570312  101868.570312  101921.570312  101968.570312   \n83    102114.101562  102082.101562  102049.101562  102013.101562   \n3658  102364.898438  102332.898438  102299.898438  102262.898438   \n790   102082.367188  102077.367188  102069.367188  102056.367188   \n...             ...            ...            ...            ...   \n3772  102028.187500  102006.187500  101988.187500  101972.187500   \n5191  101813.210938  101799.210938  101784.210938  101765.210938   \n5226  101786.117188  101687.117188  101576.117188  101462.117188   \n5390  102499.406250  102499.406250  102497.406250  102493.406250   \n860   101569.210938  101633.210938  101687.210938  101730.210938   \n\n                  4              5              6              7  \\\n5568  102071.351562  102031.351562  101986.351562  101936.351562   \n2836  102012.570312  102051.570312  102078.570312  102093.570312   \n83    101976.101562  101937.101562  101895.101562  101850.101562   \n3658  102223.898438  102182.898438  102138.898438  102091.898438   \n790   102041.367188  102023.367188  102003.367188  101983.367188   \n...             ...            ...            ...            ...   \n3772  101957.187500  101943.187500  101928.187500  101911.187500   \n5191  101740.210938  101710.210938  101673.210938  101629.210938   \n5226  101375.117188  101357.117188  101414.117188  101496.117188   \n5390  102486.406250  102475.406250  102459.406250  102439.406250   \n860   101764.210938  101790.210938  101807.210938  101817.210938   \n\n                  8              9  ...           3352           3353  \\\n5568  101880.351562  101821.351562  ...  101417.007812  101455.007812   \n2836  102096.570312  102090.570312  ...  100549.203125  100531.203125   \n83    101804.101562  101754.101562  ...  101463.242188  101429.242188   \n3658  102040.898438  101987.898438  ...  101510.390625  101544.390625   \n790   101960.367188  101936.367188  ...  102172.421875  102084.421875   \n...             ...            ...  ...            ...            ...   \n3772  101891.187500  101868.187500  ...  101873.476562  101871.476562   \n5191  101579.210938  101526.210938  ...  100480.117188  100622.117188   \n5226  101565.117188  101606.117188  ...   99715.796875   99775.796875   \n5390  102415.406250  102386.406250  ...  100350.492188  100351.492188   \n860   101823.210938  101830.210938  ...   99121.562500   99039.562500   \n\n               3354           3355           3356           3357  \\\n5568  101493.007812  101527.007812  101556.007812  101585.007812   \n2836  100512.203125  100486.203125  100454.203125  100419.203125   \n83    101394.242188  101357.242188  101318.242188  101282.242188   \n3658  101572.390625  101592.390625  101603.390625  101609.390625   \n790   101991.421875  101886.421875  101771.421875  101650.421875   \n...             ...            ...            ...            ...   \n3772  101870.476562  101867.476562  101863.476562  101859.476562   \n5191  100769.117188  100912.117188  101051.117188  101187.117188   \n5226   99838.796875   99908.796875   99983.796875  100064.796875   \n5390  100362.492188  100378.492188  100398.492188  100422.492188   \n860    98966.562500   98902.562500   98847.562500   98803.562500   \n\n               3358           3359           3360           3361  \n5568  101613.007812  101640.007812  101663.007812  101685.007812  \n2836  100385.203125  100350.203125  100314.203125  100281.203125  \n83    101249.242188  101215.242188  101180.242188  101145.242188  \n3658  101611.390625  101608.390625  101600.390625  101590.390625  \n790   101528.421875  101401.421875  101272.421875  101145.421875  \n...             ...            ...            ...            ...  \n3772  101854.476562  101850.476562  101846.476562  101839.476562  \n5191  101319.117188  101446.117188  101563.117188  101670.117188  \n5226  100150.796875  100236.796875  100318.796875  100393.796875  \n5390  100448.492188  100472.492188  100492.492188  100510.492188  \n860    98771.562500   98750.562500   98741.562500   98742.562500  \n\n[3919 rows x 3362 columns]",
      "text/html": "<div>\n<style scoped>\n    .dataframe tbody tr th:only-of-type {\n        vertical-align: middle;\n    }\n\n    .dataframe tbody tr th {\n        vertical-align: top;\n    }\n\n    .dataframe thead th {\n        text-align: right;\n    }\n</style>\n<table border=\"1\" class=\"dataframe\">\n  <thead>\n    <tr style=\"text-align: right;\">\n      <th></th>\n      <th>0</th>\n      <th>1</th>\n      <th>2</th>\n      <th>3</th>\n      <th>4</th>\n      <th>5</th>\n      <th>6</th>\n      <th>7</th>\n      <th>8</th>\n      <th>9</th>\n      <th>...</th>\n      <th>3352</th>\n      <th>3353</th>\n      <th>3354</th>\n      <th>3355</th>\n      <th>3356</th>\n      <th>3357</th>\n      <th>3358</th>\n      <th>3359</th>\n      <th>3360</th>\n      <th>3361</th>\n    </tr>\n  </thead>\n  <tbody>\n    <tr>\n      <th>5568</th>\n      <td>102176.351562</td>\n      <td>102156.351562</td>\n      <td>102133.351562</td>\n      <td>102105.351562</td>\n      <td>102071.351562</td>\n      <td>102031.351562</td>\n      <td>101986.351562</td>\n      <td>101936.351562</td>\n      <td>101880.351562</td>\n      <td>101821.351562</td>\n      <td>...</td>\n      <td>101417.007812</td>\n      <td>101455.007812</td>\n      <td>101493.007812</td>\n      <td>101527.007812</td>\n      <td>101556.007812</td>\n      <td>101585.007812</td>\n      <td>101613.007812</td>\n      <td>101640.007812</td>\n      <td>101663.007812</td>\n      <td>101685.007812</td>\n    </tr>\n    <tr>\n      <th>2836</th>\n      <td>101805.570312</td>\n      <td>101868.570312</td>\n      <td>101921.570312</td>\n      <td>101968.570312</td>\n      <td>102012.570312</td>\n      <td>102051.570312</td>\n      <td>102078.570312</td>\n      <td>102093.570312</td>\n      <td>102096.570312</td>\n      <td>102090.570312</td>\n      <td>...</td>\n      <td>100549.203125</td>\n      <td>100531.203125</td>\n      <td>100512.203125</td>\n      <td>100486.203125</td>\n      <td>100454.203125</td>\n      <td>100419.203125</td>\n      <td>100385.203125</td>\n      <td>100350.203125</td>\n      <td>100314.203125</td>\n      <td>100281.203125</td>\n    </tr>\n    <tr>\n      <th>83</th>\n      <td>102114.101562</td>\n      <td>102082.101562</td>\n      <td>102049.101562</td>\n      <td>102013.101562</td>\n      <td>101976.101562</td>\n      <td>101937.101562</td>\n      <td>101895.101562</td>\n      <td>101850.101562</td>\n      <td>101804.101562</td>\n      <td>101754.101562</td>\n      <td>...</td>\n      <td>101463.242188</td>\n      <td>101429.242188</td>\n      <td>101394.242188</td>\n      <td>101357.242188</td>\n      <td>101318.242188</td>\n      <td>101282.242188</td>\n      <td>101249.242188</td>\n      <td>101215.242188</td>\n      <td>101180.242188</td>\n      <td>101145.242188</td>\n    </tr>\n    <tr>\n      <th>3658</th>\n      <td>102364.898438</td>\n      <td>102332.898438</td>\n      <td>102299.898438</td>\n      <td>102262.898438</td>\n      <td>102223.898438</td>\n      <td>102182.898438</td>\n      <td>102138.898438</td>\n      <td>102091.898438</td>\n      <td>102040.898438</td>\n      <td>101987.898438</td>\n      <td>...</td>\n      <td>101510.390625</td>\n      <td>101544.390625</td>\n      <td>101572.390625</td>\n      <td>101592.390625</td>\n      <td>101603.390625</td>\n      <td>101609.390625</td>\n      <td>101611.390625</td>\n      <td>101608.390625</td>\n      <td>101600.390625</td>\n      <td>101590.390625</td>\n    </tr>\n    <tr>\n      <th>790</th>\n      <td>102082.367188</td>\n      <td>102077.367188</td>\n      <td>102069.367188</td>\n      <td>102056.367188</td>\n      <td>102041.367188</td>\n      <td>102023.367188</td>\n      <td>102003.367188</td>\n      <td>101983.367188</td>\n      <td>101960.367188</td>\n      <td>101936.367188</td>\n      <td>...</td>\n      <td>102172.421875</td>\n      <td>102084.421875</td>\n      <td>101991.421875</td>\n      <td>101886.421875</td>\n      <td>101771.421875</td>\n      <td>101650.421875</td>\n      <td>101528.421875</td>\n      <td>101401.421875</td>\n      <td>101272.421875</td>\n      <td>101145.421875</td>\n    </tr>\n    <tr>\n      <th>...</th>\n      <td>...</td>\n      <td>...</td>\n      <td>...</td>\n      <td>...</td>\n      <td>...</td>\n      <td>...</td>\n      <td>...</td>\n      <td>...</td>\n      <td>...</td>\n      <td>...</td>\n      <td>...</td>\n      <td>...</td>\n      <td>...</td>\n      <td>...</td>\n      <td>...</td>\n      <td>...</td>\n      <td>...</td>\n      <td>...</td>\n      <td>...</td>\n      <td>...</td>\n      <td>...</td>\n    </tr>\n    <tr>\n      <th>3772</th>\n      <td>102028.187500</td>\n      <td>102006.187500</td>\n      <td>101988.187500</td>\n      <td>101972.187500</td>\n      <td>101957.187500</td>\n      <td>101943.187500</td>\n      <td>101928.187500</td>\n      <td>101911.187500</td>\n      <td>101891.187500</td>\n      <td>101868.187500</td>\n      <td>...</td>\n      <td>101873.476562</td>\n      <td>101871.476562</td>\n      <td>101870.476562</td>\n      <td>101867.476562</td>\n      <td>101863.476562</td>\n      <td>101859.476562</td>\n      <td>101854.476562</td>\n      <td>101850.476562</td>\n      <td>101846.476562</td>\n      <td>101839.476562</td>\n    </tr>\n    <tr>\n      <th>5191</th>\n      <td>101813.210938</td>\n      <td>101799.210938</td>\n      <td>101784.210938</td>\n      <td>101765.210938</td>\n      <td>101740.210938</td>\n      <td>101710.210938</td>\n      <td>101673.210938</td>\n      <td>101629.210938</td>\n      <td>101579.210938</td>\n      <td>101526.210938</td>\n      <td>...</td>\n      <td>100480.117188</td>\n      <td>100622.117188</td>\n      <td>100769.117188</td>\n      <td>100912.117188</td>\n      <td>101051.117188</td>\n      <td>101187.117188</td>\n      <td>101319.117188</td>\n      <td>101446.117188</td>\n      <td>101563.117188</td>\n      <td>101670.117188</td>\n    </tr>\n    <tr>\n      <th>5226</th>\n      <td>101786.117188</td>\n      <td>101687.117188</td>\n      <td>101576.117188</td>\n      <td>101462.117188</td>\n      <td>101375.117188</td>\n      <td>101357.117188</td>\n      <td>101414.117188</td>\n      <td>101496.117188</td>\n      <td>101565.117188</td>\n      <td>101606.117188</td>\n      <td>...</td>\n      <td>99715.796875</td>\n      <td>99775.796875</td>\n      <td>99838.796875</td>\n      <td>99908.796875</td>\n      <td>99983.796875</td>\n      <td>100064.796875</td>\n      <td>100150.796875</td>\n      <td>100236.796875</td>\n      <td>100318.796875</td>\n      <td>100393.796875</td>\n    </tr>\n    <tr>\n      <th>5390</th>\n      <td>102499.406250</td>\n      <td>102499.406250</td>\n      <td>102497.406250</td>\n      <td>102493.406250</td>\n      <td>102486.406250</td>\n      <td>102475.406250</td>\n      <td>102459.406250</td>\n      <td>102439.406250</td>\n      <td>102415.406250</td>\n      <td>102386.406250</td>\n      <td>...</td>\n      <td>100350.492188</td>\n      <td>100351.492188</td>\n      <td>100362.492188</td>\n      <td>100378.492188</td>\n      <td>100398.492188</td>\n      <td>100422.492188</td>\n      <td>100448.492188</td>\n      <td>100472.492188</td>\n      <td>100492.492188</td>\n      <td>100510.492188</td>\n    </tr>\n    <tr>\n      <th>860</th>\n      <td>101569.210938</td>\n      <td>101633.210938</td>\n      <td>101687.210938</td>\n      <td>101730.210938</td>\n      <td>101764.210938</td>\n      <td>101790.210938</td>\n      <td>101807.210938</td>\n      <td>101817.210938</td>\n      <td>101823.210938</td>\n      <td>101830.210938</td>\n      <td>...</td>\n      <td>99121.562500</td>\n      <td>99039.562500</td>\n      <td>98966.562500</td>\n      <td>98902.562500</td>\n      <td>98847.562500</td>\n      <td>98803.562500</td>\n      <td>98771.562500</td>\n      <td>98750.562500</td>\n      <td>98741.562500</td>\n      <td>98742.562500</td>\n    </tr>\n  </tbody>\n</table>\n<p>3919 rows × 3362 columns</p>\n</div>"
     },
     "execution_count": 23,
     "metadata": {},
     "output_type": "execute_result"
    }
   ],
   "source": [
    "X_train_surge"
   ],
   "metadata": {
    "collapsed": false,
    "pycharm": {
     "name": "#%%\n"
    }
   }
  },
  {
   "cell_type": "code",
   "execution_count": 24,
   "outputs": [
    {
     "data": {
      "text/plain": "      surge1_t0  surge1_t1  surge1_t2  surge1_t3  surge1_t4  surge1_t5  \\\n4441  -0.167196  -0.234230  -0.110217  -0.029776   0.047313  -0.046535   \n2472   0.238359   2.105255   0.888589   1.062877   1.103097  -1.638591   \n3317  -0.096810  -0.100162  -0.103514   0.265173  -0.244285  -0.321374   \n81     1.331013   0.553419   1.220407   0.637211  -0.013018  -0.150437   \n4806   1.776788   3.053785   3.516319   2.557734   0.922106   2.068386   \n...         ...        ...        ...        ...        ...        ...   \n1392  -1.440841  -1.135836  -0.760446  -0.747039  -0.271098  -0.499014   \n4351  -0.116920  -0.328077  -0.371649  -0.455442  -0.455442  -0.499014   \n221   -1.420730  -1.561502  -1.702273  -1.826286  -1.779362  -1.283311   \n1746  -0.163844  -0.458793  -0.006314  -0.090107  -0.250988  -0.368298   \n628    0.070775  -0.971603  -0.877756  -1.427434  -1.507874  -0.944789   \n\n      surge1_t6  surge1_t7  surge1_t8  surge1_t9  surge2_t0  surge2_t1  \\\n4441  -0.354891  -0.405166  -0.314670  -0.690061  -0.104180  -0.162856   \n2472  -1.145891  -0.321374  -0.579455  -0.666599  -1.336377  -0.967556   \n3317  -0.552641  -0.579455  -0.646488  -0.110217   1.002283   0.960372   \n81     0.141160   0.198139   0.060720  -0.371649  -0.925645  -1.403435   \n4806   1.713106   1.153373   2.406907   1.947725   0.901696   1.236988   \n...         ...        ...        ...        ...        ...        ...   \n1392  -0.539234  -0.696764  -0.874404  -0.901217   1.295664   1.589044   \n4351  -0.143734  -0.009666  -0.096810  -0.485607  -0.364031  -0.322119   \n221   -1.249794  -0.921328  -0.991713  -0.777205  -0.380795   0.843020   \n1746  -0.214120   0.208194   0.074126  -0.056590   0.423905   0.524492   \n628   -0.418573  -0.254340   0.258470   0.808148   0.910078   0.264641   \n\n      surge2_t2  surge2_t3  surge2_t4  surge2_t5  surge2_t6  surge2_t7  \\\n4441  -0.104180  -0.548441  -0.783146  -0.481383  -0.774763  -0.422707   \n2472  -0.892115  -0.011974  -0.095797   0.105378  -0.095797  -0.162856   \n3317   0.893313   0.943607   0.700521   0.457434   0.365229   0.608315   \n81    -1.252554  -1.420200  -1.026232  -0.833439  -0.045504  -0.028739   \n4806   0.717285   0.650227   0.708903   0.356847   0.474199   0.222730   \n...         ...        ...        ...        ...        ...        ...   \n1392   1.228605   0.273024  -0.305355  -0.355649  -0.716087  -1.051379   \n4351  -0.489765  -0.791528  -0.556824  -0.690940  -0.422707  -0.674176   \n221   -0.028739  -0.120944  -0.540059  -0.313737  -1.219025  -1.235790   \n1746   0.750814   0.532875   1.060959   0.641845   0.708903   0.775961   \n628   -0.095797  -0.313737  -0.062268  -0.146091  -0.347266  -1.068144   \n\n      surge2_t8  surge2_t9  \n4441  -0.296972   0.398758  \n2472   0.113760   0.331700  \n3317   0.289788   0.390376  \n81    -0.347266  -0.975938  \n4806   0.247877   0.055084  \n...         ...        ...  \n1392  -0.489765  -0.188003  \n4351  -0.196385  -0.313737  \n221   -1.587846  -1.638140  \n1746   0.616698   0.474199  \n628   -1.277701  -0.917262  \n\n[1680 rows x 20 columns]",
      "text/html": "<div>\n<style scoped>\n    .dataframe tbody tr th:only-of-type {\n        vertical-align: middle;\n    }\n\n    .dataframe tbody tr th {\n        vertical-align: top;\n    }\n\n    .dataframe thead th {\n        text-align: right;\n    }\n</style>\n<table border=\"1\" class=\"dataframe\">\n  <thead>\n    <tr style=\"text-align: right;\">\n      <th></th>\n      <th>surge1_t0</th>\n      <th>surge1_t1</th>\n      <th>surge1_t2</th>\n      <th>surge1_t3</th>\n      <th>surge1_t4</th>\n      <th>surge1_t5</th>\n      <th>surge1_t6</th>\n      <th>surge1_t7</th>\n      <th>surge1_t8</th>\n      <th>surge1_t9</th>\n      <th>surge2_t0</th>\n      <th>surge2_t1</th>\n      <th>surge2_t2</th>\n      <th>surge2_t3</th>\n      <th>surge2_t4</th>\n      <th>surge2_t5</th>\n      <th>surge2_t6</th>\n      <th>surge2_t7</th>\n      <th>surge2_t8</th>\n      <th>surge2_t9</th>\n    </tr>\n  </thead>\n  <tbody>\n    <tr>\n      <th>4441</th>\n      <td>-0.167196</td>\n      <td>-0.234230</td>\n      <td>-0.110217</td>\n      <td>-0.029776</td>\n      <td>0.047313</td>\n      <td>-0.046535</td>\n      <td>-0.354891</td>\n      <td>-0.405166</td>\n      <td>-0.314670</td>\n      <td>-0.690061</td>\n      <td>-0.104180</td>\n      <td>-0.162856</td>\n      <td>-0.104180</td>\n      <td>-0.548441</td>\n      <td>-0.783146</td>\n      <td>-0.481383</td>\n      <td>-0.774763</td>\n      <td>-0.422707</td>\n      <td>-0.296972</td>\n      <td>0.398758</td>\n    </tr>\n    <tr>\n      <th>2472</th>\n      <td>0.238359</td>\n      <td>2.105255</td>\n      <td>0.888589</td>\n      <td>1.062877</td>\n      <td>1.103097</td>\n      <td>-1.638591</td>\n      <td>-1.145891</td>\n      <td>-0.321374</td>\n      <td>-0.579455</td>\n      <td>-0.666599</td>\n      <td>-1.336377</td>\n      <td>-0.967556</td>\n      <td>-0.892115</td>\n      <td>-0.011974</td>\n      <td>-0.095797</td>\n      <td>0.105378</td>\n      <td>-0.095797</td>\n      <td>-0.162856</td>\n      <td>0.113760</td>\n      <td>0.331700</td>\n    </tr>\n    <tr>\n      <th>3317</th>\n      <td>-0.096810</td>\n      <td>-0.100162</td>\n      <td>-0.103514</td>\n      <td>0.265173</td>\n      <td>-0.244285</td>\n      <td>-0.321374</td>\n      <td>-0.552641</td>\n      <td>-0.579455</td>\n      <td>-0.646488</td>\n      <td>-0.110217</td>\n      <td>1.002283</td>\n      <td>0.960372</td>\n      <td>0.893313</td>\n      <td>0.943607</td>\n      <td>0.700521</td>\n      <td>0.457434</td>\n      <td>0.365229</td>\n      <td>0.608315</td>\n      <td>0.289788</td>\n      <td>0.390376</td>\n    </tr>\n    <tr>\n      <th>81</th>\n      <td>1.331013</td>\n      <td>0.553419</td>\n      <td>1.220407</td>\n      <td>0.637211</td>\n      <td>-0.013018</td>\n      <td>-0.150437</td>\n      <td>0.141160</td>\n      <td>0.198139</td>\n      <td>0.060720</td>\n      <td>-0.371649</td>\n      <td>-0.925645</td>\n      <td>-1.403435</td>\n      <td>-1.252554</td>\n      <td>-1.420200</td>\n      <td>-1.026232</td>\n      <td>-0.833439</td>\n      <td>-0.045504</td>\n      <td>-0.028739</td>\n      <td>-0.347266</td>\n      <td>-0.975938</td>\n    </tr>\n    <tr>\n      <th>4806</th>\n      <td>1.776788</td>\n      <td>3.053785</td>\n      <td>3.516319</td>\n      <td>2.557734</td>\n      <td>0.922106</td>\n      <td>2.068386</td>\n      <td>1.713106</td>\n      <td>1.153373</td>\n      <td>2.406907</td>\n      <td>1.947725</td>\n      <td>0.901696</td>\n      <td>1.236988</td>\n      <td>0.717285</td>\n      <td>0.650227</td>\n      <td>0.708903</td>\n      <td>0.356847</td>\n      <td>0.474199</td>\n      <td>0.222730</td>\n      <td>0.247877</td>\n      <td>0.055084</td>\n    </tr>\n    <tr>\n      <th>...</th>\n      <td>...</td>\n      <td>...</td>\n      <td>...</td>\n      <td>...</td>\n      <td>...</td>\n      <td>...</td>\n      <td>...</td>\n      <td>...</td>\n      <td>...</td>\n      <td>...</td>\n      <td>...</td>\n      <td>...</td>\n      <td>...</td>\n      <td>...</td>\n      <td>...</td>\n      <td>...</td>\n      <td>...</td>\n      <td>...</td>\n      <td>...</td>\n      <td>...</td>\n    </tr>\n    <tr>\n      <th>1392</th>\n      <td>-1.440841</td>\n      <td>-1.135836</td>\n      <td>-0.760446</td>\n      <td>-0.747039</td>\n      <td>-0.271098</td>\n      <td>-0.499014</td>\n      <td>-0.539234</td>\n      <td>-0.696764</td>\n      <td>-0.874404</td>\n      <td>-0.901217</td>\n      <td>1.295664</td>\n      <td>1.589044</td>\n      <td>1.228605</td>\n      <td>0.273024</td>\n      <td>-0.305355</td>\n      <td>-0.355649</td>\n      <td>-0.716087</td>\n      <td>-1.051379</td>\n      <td>-0.489765</td>\n      <td>-0.188003</td>\n    </tr>\n    <tr>\n      <th>4351</th>\n      <td>-0.116920</td>\n      <td>-0.328077</td>\n      <td>-0.371649</td>\n      <td>-0.455442</td>\n      <td>-0.455442</td>\n      <td>-0.499014</td>\n      <td>-0.143734</td>\n      <td>-0.009666</td>\n      <td>-0.096810</td>\n      <td>-0.485607</td>\n      <td>-0.364031</td>\n      <td>-0.322119</td>\n      <td>-0.489765</td>\n      <td>-0.791528</td>\n      <td>-0.556824</td>\n      <td>-0.690940</td>\n      <td>-0.422707</td>\n      <td>-0.674176</td>\n      <td>-0.196385</td>\n      <td>-0.313737</td>\n    </tr>\n    <tr>\n      <th>221</th>\n      <td>-1.420730</td>\n      <td>-1.561502</td>\n      <td>-1.702273</td>\n      <td>-1.826286</td>\n      <td>-1.779362</td>\n      <td>-1.283311</td>\n      <td>-1.249794</td>\n      <td>-0.921328</td>\n      <td>-0.991713</td>\n      <td>-0.777205</td>\n      <td>-0.380795</td>\n      <td>0.843020</td>\n      <td>-0.028739</td>\n      <td>-0.120944</td>\n      <td>-0.540059</td>\n      <td>-0.313737</td>\n      <td>-1.219025</td>\n      <td>-1.235790</td>\n      <td>-1.587846</td>\n      <td>-1.638140</td>\n    </tr>\n    <tr>\n      <th>1746</th>\n      <td>-0.163844</td>\n      <td>-0.458793</td>\n      <td>-0.006314</td>\n      <td>-0.090107</td>\n      <td>-0.250988</td>\n      <td>-0.368298</td>\n      <td>-0.214120</td>\n      <td>0.208194</td>\n      <td>0.074126</td>\n      <td>-0.056590</td>\n      <td>0.423905</td>\n      <td>0.524492</td>\n      <td>0.750814</td>\n      <td>0.532875</td>\n      <td>1.060959</td>\n      <td>0.641845</td>\n      <td>0.708903</td>\n      <td>0.775961</td>\n      <td>0.616698</td>\n      <td>0.474199</td>\n    </tr>\n    <tr>\n      <th>628</th>\n      <td>0.070775</td>\n      <td>-0.971603</td>\n      <td>-0.877756</td>\n      <td>-1.427434</td>\n      <td>-1.507874</td>\n      <td>-0.944789</td>\n      <td>-0.418573</td>\n      <td>-0.254340</td>\n      <td>0.258470</td>\n      <td>0.808148</td>\n      <td>0.910078</td>\n      <td>0.264641</td>\n      <td>-0.095797</td>\n      <td>-0.313737</td>\n      <td>-0.062268</td>\n      <td>-0.146091</td>\n      <td>-0.347266</td>\n      <td>-1.068144</td>\n      <td>-1.277701</td>\n      <td>-0.917262</td>\n    </tr>\n  </tbody>\n</table>\n<p>1680 rows × 20 columns</p>\n</div>"
     },
     "execution_count": 24,
     "metadata": {},
     "output_type": "execute_result"
    }
   ],
   "source": [
    "y_val_surge"
   ],
   "metadata": {
    "collapsed": false,
    "pycharm": {
     "name": "#%%\n"
    }
   }
  },
  {
   "cell_type": "code",
   "execution_count": 25,
   "outputs": [
    {
     "data": {
      "text/plain": "         0\n0        1\n1        2\n2        3\n3        4\n4        5\n...    ...\n5594  5595\n5595  5596\n5596  5597\n5597  5598\n5598  5599\n\n[5599 rows x 1 columns]",
      "text/html": "<div>\n<style scoped>\n    .dataframe tbody tr th:only-of-type {\n        vertical-align: middle;\n    }\n\n    .dataframe tbody tr th {\n        vertical-align: top;\n    }\n\n    .dataframe thead th {\n        text-align: right;\n    }\n</style>\n<table border=\"1\" class=\"dataframe\">\n  <thead>\n    <tr style=\"text-align: right;\">\n      <th></th>\n      <th>0</th>\n    </tr>\n  </thead>\n  <tbody>\n    <tr>\n      <th>0</th>\n      <td>1</td>\n    </tr>\n    <tr>\n      <th>1</th>\n      <td>2</td>\n    </tr>\n    <tr>\n      <th>2</th>\n      <td>3</td>\n    </tr>\n    <tr>\n      <th>3</th>\n      <td>4</td>\n    </tr>\n    <tr>\n      <th>4</th>\n      <td>5</td>\n    </tr>\n    <tr>\n      <th>...</th>\n      <td>...</td>\n    </tr>\n    <tr>\n      <th>5594</th>\n      <td>5595</td>\n    </tr>\n    <tr>\n      <th>5595</th>\n      <td>5596</td>\n    </tr>\n    <tr>\n      <th>5596</th>\n      <td>5597</td>\n    </tr>\n    <tr>\n      <th>5597</th>\n      <td>5598</td>\n    </tr>\n    <tr>\n      <th>5598</th>\n      <td>5599</td>\n    </tr>\n  </tbody>\n</table>\n<p>5599 rows × 1 columns</p>\n</div>"
     },
     "execution_count": 25,
     "metadata": {},
     "output_type": "execute_result"
    }
   ],
   "source": [
    "pd.DataFrame(X_train[\"id_sequence\"])"
   ],
   "metadata": {
    "collapsed": false,
    "pycharm": {
     "name": "#%%\n"
    }
   }
  },
  {
   "cell_type": "code",
   "execution_count": 26,
   "outputs": [
    {
     "data": {
      "text/plain": "      id_sequence  surge1_t0  surge1_t1  surge1_t2  surge1_t3  surge1_t4  \\\n0               1   0.586936   1.069580   0.767928  -0.100162   0.070775   \n1               2   0.767928  -0.100162   0.070775  -0.244285  -0.354891   \n2               3   0.070775  -0.244285  -0.354891  -0.928031  -0.773853   \n3               4  -0.354891  -0.928031  -0.773853  -0.375001  -0.361594   \n4               5  -0.773853  -0.375001  -0.361594  -0.210768   0.288635   \n...           ...        ...        ...        ...        ...        ...   \n5594         5595   1.451674   1.220407   0.556771   1.709754   0.483033   \n5595         5596   0.556771   1.709754   0.483033   0.533309   1.448322   \n5596         5597   0.483033   0.533309   1.448322   1.820360   1.662831   \n5597         5598   1.448322   1.820360   1.662831   1.528763   1.284089   \n5598         5599   1.662831   1.528763   1.284089   0.070775   0.888589   \n\n      surge1_t5  surge1_t6  surge1_t7  surge1_t8  ...  surge2_t0  surge2_t1  \\\n0     -0.244285  -0.354891  -0.928031  -0.773853  ...  -0.053886   0.356847   \n1     -0.928031  -0.773853  -0.375001  -0.361594  ...   0.348464   0.264641   \n2     -0.375001  -0.361594  -0.210768   0.288635  ...   0.901696   0.449052   \n3     -0.210768   0.288635  -0.726929  -0.576103  ...   0.113760  -0.422707   \n4     -0.726929  -0.576103   1.160076   0.442813  ...  -0.456236  -0.825057   \n...         ...        ...        ...        ...  ...        ...        ...   \n5594   0.533309   1.448322   1.820360   1.662831  ...   0.759197   0.884931   \n5595   1.820360   1.662831   1.528763   1.284089  ...   0.298171  -0.397560   \n5596   1.528763   1.284089   0.070775   0.888589  ...  -0.540059  -0.498148   \n5597   0.070775   0.888589   1.545521   1.166779  ...  -0.498148  -0.405942   \n5598   1.545521   1.166779   0.653970   0.409296  ...   0.164054   0.331700   \n\n      surge2_t2  surge2_t3  surge2_t4  surge2_t5  surge2_t6  surge2_t7  \\\n0      0.348464   0.264641   0.901696   0.449052   0.113760  -0.422707   \n1      0.901696   0.449052   0.113760  -0.422707  -0.456236  -0.825057   \n2      0.113760  -0.422707  -0.456236  -0.825057  -0.992703  -0.992703   \n3     -0.456236  -0.825057  -0.992703  -0.992703  -0.322119  -0.883733   \n4     -0.992703  -0.992703  -0.322119  -0.883733  -0.473001  -0.422707   \n...         ...        ...        ...        ...        ...        ...   \n5594   0.298171  -0.397560  -0.540059  -0.498148  -0.498148  -0.405942   \n5595  -0.540059  -0.498148  -0.498148  -0.405942   0.164054   0.331700   \n5596  -0.498148  -0.405942   0.164054   0.331700   1.052577   1.220223   \n5597   0.164054   0.331700   1.052577   1.220223   1.446545   2.670360   \n5598   1.052577   1.220223   1.446545   2.670360   2.620066   2.678742   \n\n      surge2_t8  surge2_t9  \n0     -0.456236  -0.825057  \n1     -0.992703  -0.992703  \n2     -0.322119  -0.883733  \n3     -0.473001  -0.422707  \n4     -0.473001  -0.531677  \n...         ...        ...  \n5594   0.164054   0.331700  \n5595   1.052577   1.220223  \n5596   1.446545   2.670360  \n5597   2.620066   2.678742  \n5598   1.220223   0.725668  \n\n[5599 rows x 21 columns]",
      "text/html": "<div>\n<style scoped>\n    .dataframe tbody tr th:only-of-type {\n        vertical-align: middle;\n    }\n\n    .dataframe tbody tr th {\n        vertical-align: top;\n    }\n\n    .dataframe thead th {\n        text-align: right;\n    }\n</style>\n<table border=\"1\" class=\"dataframe\">\n  <thead>\n    <tr style=\"text-align: right;\">\n      <th></th>\n      <th>id_sequence</th>\n      <th>surge1_t0</th>\n      <th>surge1_t1</th>\n      <th>surge1_t2</th>\n      <th>surge1_t3</th>\n      <th>surge1_t4</th>\n      <th>surge1_t5</th>\n      <th>surge1_t6</th>\n      <th>surge1_t7</th>\n      <th>surge1_t8</th>\n      <th>...</th>\n      <th>surge2_t0</th>\n      <th>surge2_t1</th>\n      <th>surge2_t2</th>\n      <th>surge2_t3</th>\n      <th>surge2_t4</th>\n      <th>surge2_t5</th>\n      <th>surge2_t6</th>\n      <th>surge2_t7</th>\n      <th>surge2_t8</th>\n      <th>surge2_t9</th>\n    </tr>\n  </thead>\n  <tbody>\n    <tr>\n      <th>0</th>\n      <td>1</td>\n      <td>0.586936</td>\n      <td>1.069580</td>\n      <td>0.767928</td>\n      <td>-0.100162</td>\n      <td>0.070775</td>\n      <td>-0.244285</td>\n      <td>-0.354891</td>\n      <td>-0.928031</td>\n      <td>-0.773853</td>\n      <td>...</td>\n      <td>-0.053886</td>\n      <td>0.356847</td>\n      <td>0.348464</td>\n      <td>0.264641</td>\n      <td>0.901696</td>\n      <td>0.449052</td>\n      <td>0.113760</td>\n      <td>-0.422707</td>\n      <td>-0.456236</td>\n      <td>-0.825057</td>\n    </tr>\n    <tr>\n      <th>1</th>\n      <td>2</td>\n      <td>0.767928</td>\n      <td>-0.100162</td>\n      <td>0.070775</td>\n      <td>-0.244285</td>\n      <td>-0.354891</td>\n      <td>-0.928031</td>\n      <td>-0.773853</td>\n      <td>-0.375001</td>\n      <td>-0.361594</td>\n      <td>...</td>\n      <td>0.348464</td>\n      <td>0.264641</td>\n      <td>0.901696</td>\n      <td>0.449052</td>\n      <td>0.113760</td>\n      <td>-0.422707</td>\n      <td>-0.456236</td>\n      <td>-0.825057</td>\n      <td>-0.992703</td>\n      <td>-0.992703</td>\n    </tr>\n    <tr>\n      <th>2</th>\n      <td>3</td>\n      <td>0.070775</td>\n      <td>-0.244285</td>\n      <td>-0.354891</td>\n      <td>-0.928031</td>\n      <td>-0.773853</td>\n      <td>-0.375001</td>\n      <td>-0.361594</td>\n      <td>-0.210768</td>\n      <td>0.288635</td>\n      <td>...</td>\n      <td>0.901696</td>\n      <td>0.449052</td>\n      <td>0.113760</td>\n      <td>-0.422707</td>\n      <td>-0.456236</td>\n      <td>-0.825057</td>\n      <td>-0.992703</td>\n      <td>-0.992703</td>\n      <td>-0.322119</td>\n      <td>-0.883733</td>\n    </tr>\n    <tr>\n      <th>3</th>\n      <td>4</td>\n      <td>-0.354891</td>\n      <td>-0.928031</td>\n      <td>-0.773853</td>\n      <td>-0.375001</td>\n      <td>-0.361594</td>\n      <td>-0.210768</td>\n      <td>0.288635</td>\n      <td>-0.726929</td>\n      <td>-0.576103</td>\n      <td>...</td>\n      <td>0.113760</td>\n      <td>-0.422707</td>\n      <td>-0.456236</td>\n      <td>-0.825057</td>\n      <td>-0.992703</td>\n      <td>-0.992703</td>\n      <td>-0.322119</td>\n      <td>-0.883733</td>\n      <td>-0.473001</td>\n      <td>-0.422707</td>\n    </tr>\n    <tr>\n      <th>4</th>\n      <td>5</td>\n      <td>-0.773853</td>\n      <td>-0.375001</td>\n      <td>-0.361594</td>\n      <td>-0.210768</td>\n      <td>0.288635</td>\n      <td>-0.726929</td>\n      <td>-0.576103</td>\n      <td>1.160076</td>\n      <td>0.442813</td>\n      <td>...</td>\n      <td>-0.456236</td>\n      <td>-0.825057</td>\n      <td>-0.992703</td>\n      <td>-0.992703</td>\n      <td>-0.322119</td>\n      <td>-0.883733</td>\n      <td>-0.473001</td>\n      <td>-0.422707</td>\n      <td>-0.473001</td>\n      <td>-0.531677</td>\n    </tr>\n    <tr>\n      <th>...</th>\n      <td>...</td>\n      <td>...</td>\n      <td>...</td>\n      <td>...</td>\n      <td>...</td>\n      <td>...</td>\n      <td>...</td>\n      <td>...</td>\n      <td>...</td>\n      <td>...</td>\n      <td>...</td>\n      <td>...</td>\n      <td>...</td>\n      <td>...</td>\n      <td>...</td>\n      <td>...</td>\n      <td>...</td>\n      <td>...</td>\n      <td>...</td>\n      <td>...</td>\n      <td>...</td>\n    </tr>\n    <tr>\n      <th>5594</th>\n      <td>5595</td>\n      <td>1.451674</td>\n      <td>1.220407</td>\n      <td>0.556771</td>\n      <td>1.709754</td>\n      <td>0.483033</td>\n      <td>0.533309</td>\n      <td>1.448322</td>\n      <td>1.820360</td>\n      <td>1.662831</td>\n      <td>...</td>\n      <td>0.759197</td>\n      <td>0.884931</td>\n      <td>0.298171</td>\n      <td>-0.397560</td>\n      <td>-0.540059</td>\n      <td>-0.498148</td>\n      <td>-0.498148</td>\n      <td>-0.405942</td>\n      <td>0.164054</td>\n      <td>0.331700</td>\n    </tr>\n    <tr>\n      <th>5595</th>\n      <td>5596</td>\n      <td>0.556771</td>\n      <td>1.709754</td>\n      <td>0.483033</td>\n      <td>0.533309</td>\n      <td>1.448322</td>\n      <td>1.820360</td>\n      <td>1.662831</td>\n      <td>1.528763</td>\n      <td>1.284089</td>\n      <td>...</td>\n      <td>0.298171</td>\n      <td>-0.397560</td>\n      <td>-0.540059</td>\n      <td>-0.498148</td>\n      <td>-0.498148</td>\n      <td>-0.405942</td>\n      <td>0.164054</td>\n      <td>0.331700</td>\n      <td>1.052577</td>\n      <td>1.220223</td>\n    </tr>\n    <tr>\n      <th>5596</th>\n      <td>5597</td>\n      <td>0.483033</td>\n      <td>0.533309</td>\n      <td>1.448322</td>\n      <td>1.820360</td>\n      <td>1.662831</td>\n      <td>1.528763</td>\n      <td>1.284089</td>\n      <td>0.070775</td>\n      <td>0.888589</td>\n      <td>...</td>\n      <td>-0.540059</td>\n      <td>-0.498148</td>\n      <td>-0.498148</td>\n      <td>-0.405942</td>\n      <td>0.164054</td>\n      <td>0.331700</td>\n      <td>1.052577</td>\n      <td>1.220223</td>\n      <td>1.446545</td>\n      <td>2.670360</td>\n    </tr>\n    <tr>\n      <th>5597</th>\n      <td>5598</td>\n      <td>1.448322</td>\n      <td>1.820360</td>\n      <td>1.662831</td>\n      <td>1.528763</td>\n      <td>1.284089</td>\n      <td>0.070775</td>\n      <td>0.888589</td>\n      <td>1.545521</td>\n      <td>1.166779</td>\n      <td>...</td>\n      <td>-0.498148</td>\n      <td>-0.405942</td>\n      <td>0.164054</td>\n      <td>0.331700</td>\n      <td>1.052577</td>\n      <td>1.220223</td>\n      <td>1.446545</td>\n      <td>2.670360</td>\n      <td>2.620066</td>\n      <td>2.678742</td>\n    </tr>\n    <tr>\n      <th>5598</th>\n      <td>5599</td>\n      <td>1.662831</td>\n      <td>1.528763</td>\n      <td>1.284089</td>\n      <td>0.070775</td>\n      <td>0.888589</td>\n      <td>1.545521</td>\n      <td>1.166779</td>\n      <td>0.653970</td>\n      <td>0.409296</td>\n      <td>...</td>\n      <td>0.164054</td>\n      <td>0.331700</td>\n      <td>1.052577</td>\n      <td>1.220223</td>\n      <td>1.446545</td>\n      <td>2.670360</td>\n      <td>2.620066</td>\n      <td>2.678742</td>\n      <td>1.220223</td>\n      <td>0.725668</td>\n    </tr>\n  </tbody>\n</table>\n<p>5599 rows × 21 columns</p>\n</div>"
     },
     "execution_count": 26,
     "metadata": {},
     "output_type": "execute_result"
    }
   ],
   "source": [
    "pd.DataFrame(Y_train)"
   ],
   "metadata": {
    "collapsed": false,
    "pycharm": {
     "name": "#%%\n"
    }
   }
  },
  {
   "cell_type": "code",
   "execution_count": 27,
   "outputs": [
    {
     "data": {
      "text/plain": "(3919, 3362)"
     },
     "execution_count": 27,
     "metadata": {},
     "output_type": "execute_result"
    }
   ],
   "source": [
    "X_train_surge.shape"
   ],
   "metadata": {
    "collapsed": false,
    "pycharm": {
     "name": "#%%\n"
    }
   }
  },
  {
   "cell_type": "code",
   "execution_count": 28,
   "outputs": [
    {
     "data": {
      "text/plain": "(3919, 20)"
     },
     "execution_count": 28,
     "metadata": {},
     "output_type": "execute_result"
    }
   ],
   "source": [
    "y_train_surge.shape"
   ],
   "metadata": {
    "collapsed": false,
    "pycharm": {
     "name": "#%%\n"
    }
   }
  },
  {
   "cell_type": "markdown",
   "source": [
    "#### Saving testing set"
   ],
   "metadata": {
    "collapsed": false,
    "pycharm": {
     "name": "#%% md\n"
    }
   }
  },
  {
   "cell_type": "code",
   "execution_count": 29,
   "outputs": [],
   "source": [
    "y_val_surge.to_csv(output_path + \"Y_val_true.csv\", index_label='id_sequence', sep=',')"
   ],
   "metadata": {
    "collapsed": false,
    "pycharm": {
     "name": "#%%\n"
    }
   }
  },
  {
   "cell_type": "code",
   "execution_count": 31,
   "outputs": [
    {
     "data": {
      "text/plain": "(1680, 20)"
     },
     "execution_count": 31,
     "metadata": {},
     "output_type": "execute_result"
    }
   ],
   "source": [
    "y_val_surge.shape"
   ],
   "metadata": {
    "collapsed": false,
    "pycharm": {
     "name": "#%%\n"
    }
   }
  },
  {
   "cell_type": "markdown",
   "source": [
    "###  End of notebook"
   ],
   "metadata": {
    "collapsed": false,
    "pycharm": {
     "name": "#%% md\n"
    }
   }
  },
  {
   "cell_type": "code",
   "execution_count": 30,
   "outputs": [
    {
     "name": "stdout",
     "output_type": "stream",
     "text": [
      "computing time : 6.063065 sec\n",
      "computing time : 00:00:06\n"
     ]
    }
   ],
   "source": [
    "# End of pipeline time\n",
    "t1 = time()\n",
    "print(\"computing time : {:8.6f} sec\".format(t1 - t0))\n",
    "print(\"computing time : \" + strftime('%H:%M:%S', gmtime(t1 - t0)))"
   ],
   "metadata": {
    "collapsed": false,
    "pycharm": {
     "name": "#%%\n"
    }
   }
  }
 ],
 "metadata": {
  "kernelspec": {
   "display_name": "Python 3",
   "language": "python",
   "name": "python3"
  },
  "language_info": {
   "codemirror_mode": {
    "name": "ipython",
    "version": 2
   },
   "file_extension": ".py",
   "mimetype": "text/x-python",
   "name": "python",
   "nbconvert_exporter": "python",
   "pygments_lexer": "ipython2",
   "version": "2.7.6"
  }
 },
 "nbformat": 4,
 "nbformat_minor": 0
}