{
 "cells": [
  {
   "cell_type": "markdown",
   "source": [
    "Data Challenge : Can you predict the tide ?\n",
    "Author : Oumeima EL GHARBI\n",
    "Date : November 2022"
   ],
   "metadata": {
    "collapsed": false,
    "pycharm": {
     "name": "#%% md\n"
    }
   }
  },
  {
   "cell_type": "markdown",
   "source": [
    "# PART 1 : Preprocessing"
   ],
   "metadata": {
    "collapsed": false,
    "pycharm": {
     "name": "#%% md\n"
    }
   }
  },
  {
   "cell_type": "markdown",
   "source": [
    "### Importing libraries"
   ],
   "metadata": {
    "collapsed": false,
    "pycharm": {
     "name": "#%% md\n"
    }
   }
  },
  {
   "cell_type": "code",
   "execution_count": 1,
   "outputs": [
    {
     "data": {
      "application/javascript": "IPython.notebook.set_autosave_interval(300000)"
     },
     "metadata": {},
     "output_type": "display_data"
    },
    {
     "name": "stdout",
     "output_type": "stream",
     "text": [
      "Autosaving every 300 seconds\n"
     ]
    }
   ],
   "source": [
    "%reset -f\n",
    "\n",
    "from functions import *\n",
    "\n",
    "import warnings\n",
    "warnings.filterwarnings('ignore')\n",
    "#warnings.filterwarnings(action=\"once\")\n",
    "\n",
    "%matplotlib inline\n",
    "%autosave 300"
   ],
   "metadata": {
    "collapsed": false,
    "pycharm": {
     "name": "#%%\n"
    }
   }
  },
  {
   "cell_type": "code",
   "execution_count": 2,
   "outputs": [],
   "source": [
    "# Starting time\n",
    "t0 = time()\n",
    "\n",
    "seed = 42"
   ],
   "metadata": {
    "collapsed": false,
    "pycharm": {
     "name": "#%%\n"
    }
   }
  },
  {
   "cell_type": "markdown",
   "source": [
    "#### Loading dataset"
   ],
   "metadata": {
    "collapsed": false,
    "pycharm": {
     "name": "#%% md\n"
    }
   }
  },
  {
   "cell_type": "code",
   "execution_count": 3,
   "outputs": [],
   "source": [
    "# load raw dataset\n",
    "input_path = \"./dataset/source/\"\n",
    "output_path = \"./dataset/output/\"\n",
    "\n",
    "\n",
    "X_train_filename = \"X_train_surge_new.npz\"\n",
    "Y_train_filename = \"Y_train_surge.csv\"\n",
    "X_test_filename = \"X_test_surge_new.npz\"\n",
    "\n",
    "X_train_file = \"{}{}\".format(input_path, X_train_filename)\n",
    "Y_train_file = \"{}{}\".format(input_path, Y_train_filename)\n",
    "X_test_file = \"{}{}\".format(input_path, X_test_filename)"
   ],
   "metadata": {
    "collapsed": false,
    "pycharm": {
     "name": "#%%\n"
    }
   }
  },
  {
   "cell_type": "code",
   "execution_count": 4,
   "outputs": [],
   "source": [
    "X_train = np.load(X_train_file)\n",
    "Y_train = pd.read_csv(Y_train_file)\n",
    "X_test = np.load(X_test_file)"
   ],
   "metadata": {
    "collapsed": false,
    "pycharm": {
     "name": "#%%\n"
    }
   }
  },
  {
   "cell_type": "code",
   "execution_count": 4,
   "outputs": [],
   "source": [],
   "metadata": {
    "collapsed": false,
    "pycharm": {
     "name": "#%%\n"
    }
   }
  },
  {
   "cell_type": "code",
   "execution_count": 5,
   "outputs": [
    {
     "data": {
      "text/plain": "<numpy.lib.npyio.NpzFile at 0x298dd647be0>"
     },
     "execution_count": 5,
     "metadata": {},
     "output_type": "execute_result"
    }
   ],
   "source": [
    "X_train"
   ],
   "metadata": {
    "collapsed": false,
    "pycharm": {
     "name": "#%%\n"
    }
   }
  },
  {
   "cell_type": "code",
   "execution_count": 6,
   "outputs": [],
   "source": [
    "surge_train = np.array(Y_train)[:,1:]"
   ],
   "metadata": {
    "collapsed": false,
    "pycharm": {
     "name": "#%%\n"
    }
   }
  },
  {
   "cell_type": "code",
   "execution_count": 7,
   "outputs": [
    {
     "data": {
      "text/plain": "array([[ 0.58693592,  1.06958024,  0.76792754, ..., -0.42270688,\n        -0.45623606, -0.82505705],\n       [ 0.76792754, -0.1001619 ,  0.07077463, ..., -0.82505705,\n        -0.99270295, -0.99270295],\n       [ 0.07077463, -0.24428486, -0.35489084, ..., -0.99270295,\n        -0.32211934, -0.88373311],\n       ...,\n       [ 0.48303332,  0.53330877,  1.44832196, ...,  1.22022298,\n         1.44654495,  2.67036005],\n       [ 1.44832196,  1.82036029,  1.66283054, ...,  2.67036005,\n         2.62006628,  2.67874235],\n       [ 1.66283054,  1.52876268,  1.28408882, ...,  2.67874235,\n         1.22022298,  0.72566756]])"
     },
     "execution_count": 7,
     "metadata": {},
     "output_type": "execute_result"
    }
   ],
   "source": [
    "surge_train"
   ],
   "metadata": {
    "collapsed": false,
    "pycharm": {
     "name": "#%%\n"
    }
   }
  },
  {
   "cell_type": "code",
   "execution_count": 8,
   "outputs": [
    {
     "data": {
      "text/plain": "array(['id_sequence', 't_slp', 'slp', 't_surge1_input', 'surge1_input',\n       't_surge2_input', 'surge2_input', 't_surge1_output',\n       't_surge2_output'], dtype='<U15')"
     },
     "execution_count": 8,
     "metadata": {},
     "output_type": "execute_result"
    }
   ],
   "source": [
    "np.array(X_train)"
   ],
   "metadata": {
    "collapsed": false,
    "pycharm": {
     "name": "#%%\n"
    }
   }
  },
  {
   "cell_type": "code",
   "execution_count": 9,
   "outputs": [
    {
     "data": {
      "text/plain": "                 0\n0      id_sequence\n1            t_slp\n2              slp\n3   t_surge1_input\n4     surge1_input\n5   t_surge2_input\n6     surge2_input\n7  t_surge1_output\n8  t_surge2_output",
      "text/html": "<div>\n<style scoped>\n    .dataframe tbody tr th:only-of-type {\n        vertical-align: middle;\n    }\n\n    .dataframe tbody tr th {\n        vertical-align: top;\n    }\n\n    .dataframe thead th {\n        text-align: right;\n    }\n</style>\n<table border=\"1\" class=\"dataframe\">\n  <thead>\n    <tr style=\"text-align: right;\">\n      <th></th>\n      <th>0</th>\n    </tr>\n  </thead>\n  <tbody>\n    <tr>\n      <th>0</th>\n      <td>id_sequence</td>\n    </tr>\n    <tr>\n      <th>1</th>\n      <td>t_slp</td>\n    </tr>\n    <tr>\n      <th>2</th>\n      <td>slp</td>\n    </tr>\n    <tr>\n      <th>3</th>\n      <td>t_surge1_input</td>\n    </tr>\n    <tr>\n      <th>4</th>\n      <td>surge1_input</td>\n    </tr>\n    <tr>\n      <th>5</th>\n      <td>t_surge2_input</td>\n    </tr>\n    <tr>\n      <th>6</th>\n      <td>surge2_input</td>\n    </tr>\n    <tr>\n      <th>7</th>\n      <td>t_surge1_output</td>\n    </tr>\n    <tr>\n      <th>8</th>\n      <td>t_surge2_output</td>\n    </tr>\n  </tbody>\n</table>\n</div>"
     },
     "execution_count": 9,
     "metadata": {},
     "output_type": "execute_result"
    }
   ],
   "source": [
    "pd.DataFrame(X_train)#.shape"
   ],
   "metadata": {
    "collapsed": false,
    "pycharm": {
     "name": "#%%\n"
    }
   }
  },
  {
   "cell_type": "code",
   "execution_count": 10,
   "outputs": [
    {
     "data": {
      "text/plain": "(5599, 40, 41, 41)"
     },
     "execution_count": 10,
     "metadata": {},
     "output_type": "execute_result"
    }
   ],
   "source": [
    "X_train['slp'].shape"
   ],
   "metadata": {
    "collapsed": false,
    "pycharm": {
     "name": "#%%\n"
    }
   }
  },
  {
   "cell_type": "markdown",
   "source": [
    "#### Making X or slp_train for X_train and X_test"
   ],
   "metadata": {
    "collapsed": false,
    "pycharm": {
     "name": "#%% md\n"
    }
   }
  },
  {
   "cell_type": "markdown",
   "source": [
    "##### Preparing X_train to train"
   ],
   "metadata": {
    "collapsed": false,
    "pycharm": {
     "name": "#%% md\n"
    }
   }
  },
  {
   "cell_type": "code",
   "execution_count": 11,
   "outputs": [
    {
     "data": {
      "text/plain": "array([[100849.72, 100797.72, 100754.72, ..., 101970.81, 101981.81,\n        101990.81],\n       [100940.37, 100881.37, 100823.37, ..., 101515.72, 101562.72,\n        101611.72],\n       [101862.91, 101879.91, 101894.91, ..., 101005.37, 101038.37,\n        101076.37],\n       ...,\n       [102048.13, 102080.13, 102106.13, ..., 100781.81, 100724.81,\n        100664.81],\n       [102111.95, 102134.95, 102149.95, ..., 101352.13, 101376.13,\n        101392.13],\n       [101972.53, 101984.53, 101993.53, ..., 100412.28, 100450.28,\n        100483.28]], dtype=float32)"
     },
     "execution_count": 11,
     "metadata": {},
     "output_type": "execute_result"
    }
   ],
   "source": [
    "slp_train = generate_X_train_test(X_train)\n",
    "\n",
    "slp_train"
   ],
   "metadata": {
    "collapsed": false,
    "pycharm": {
     "name": "#%%\n"
    }
   }
  },
  {
   "cell_type": "markdown",
   "source": [
    "##### Preparing X_test for the submission"
   ],
   "metadata": {
    "collapsed": false,
    "pycharm": {
     "name": "#%% md\n"
    }
   }
  },
  {
   "cell_type": "code",
   "execution_count": 12,
   "outputs": [
    {
     "data": {
      "text/plain": "array([5600, 5601, 5602, 5603, 5604, 5605, 5606, 5607, 5608, 5609, 5610,\n       5611, 5612, 5613, 5614, 5615, 5616, 5617, 5618, 5619, 5620, 5621,\n       5622, 5623, 5624, 5625, 5626, 5627, 5628, 5629, 5630, 5631, 5632,\n       5633, 5634, 5635, 5636, 5637, 5638, 5639, 5640, 5641, 5642, 5643,\n       5644, 5645, 5646, 5647, 5648, 5649, 5650, 5651, 5652, 5653, 5654,\n       5655, 5656, 5657, 5658, 5659, 5660, 5661, 5662, 5663, 5664, 5665,\n       5666, 5667, 5668, 5669, 5670, 5671, 5672, 5673, 5674, 5675, 5676,\n       5677, 5678, 5679, 5680, 5681, 5682, 5683, 5684, 5685, 5686, 5687,\n       5688, 5689, 5690, 5691, 5692, 5693, 5694, 5695, 5696, 5697, 5698,\n       5699, 5700, 5701, 5702, 5703, 5704, 5705, 5706, 5707, 5708, 5709,\n       5710, 5711, 5712, 5713, 5714, 5715, 5716, 5717, 5718, 5719, 5720,\n       5721, 5722, 5723, 5724, 5725, 5726, 5727, 5728, 5729, 5730, 5731,\n       5732, 5733, 5734, 5735, 5736, 5737, 5738, 5739, 5740, 5741, 5742,\n       5743, 5744, 5745, 5746, 5747, 5748, 5749, 5750, 5751, 5752, 5753,\n       5754, 5755, 5756, 5757, 5758, 5759, 5760, 5761, 5762, 5763, 5764,\n       5765, 5766, 5767, 5768, 5769, 5770, 5771, 5772, 5773, 5774, 5775,\n       5776, 5777, 5778, 5779, 5780, 5781, 5782, 5783, 5784, 5785, 5786,\n       5787, 5788, 5789, 5790, 5791, 5792, 5793, 5794, 5795, 5796, 5797,\n       5798, 5799, 5800, 5801, 5802, 5803, 5804, 5805, 5806, 5807, 5808,\n       5809, 5810, 5811, 5812, 5813, 5814, 5815, 5816, 5817, 5818, 5819,\n       5820, 5821, 5822, 5823, 5824, 5825, 5826, 5827, 5828, 5829, 5830,\n       5831, 5832, 5833, 5834, 5835, 5836, 5837, 5838, 5839, 5840, 5841,\n       5842, 5843, 5844, 5845, 5846, 5847, 5848, 5849, 5850, 5851, 5852,\n       5853, 5854, 5855, 5856, 5857, 5858, 5859, 5860, 5861, 5862, 5863,\n       5864, 5865, 5866, 5867, 5868, 5869, 5870, 5871, 5872, 5873, 5874,\n       5875, 5876, 5877, 5878, 5879, 5880, 5881, 5882, 5883, 5884, 5885,\n       5886, 5887, 5888, 5889, 5890, 5891, 5892, 5893, 5894, 5895, 5896,\n       5897, 5898, 5899, 5900, 5901, 5902, 5903, 5904, 5905, 5906, 5907,\n       5908, 5909, 5910, 5911, 5912, 5913, 5914, 5915, 5916, 5917, 5918,\n       5919, 5920, 5921, 5922, 5923, 5924, 5925, 5926, 5927, 5928, 5929,\n       5930, 5931, 5932, 5933, 5934, 5935, 5936, 5937, 5938, 5939, 5940,\n       5941, 5942, 5943, 5944, 5945, 5946, 5947, 5948, 5949, 5950, 5951,\n       5952, 5953, 5954, 5955, 5956, 5957, 5958, 5959, 5960, 5961, 5962,\n       5963, 5964, 5965, 5966, 5967, 5968, 5969, 5970, 5971, 5972, 5973,\n       5974, 5975, 5976, 5977, 5978, 5979, 5980, 5981, 5982, 5983, 5984,\n       5985, 5986, 5987, 5988, 5989, 5990, 5991, 5992, 5993, 5994, 5995,\n       5996, 5997, 5998, 5999, 6000, 6001, 6002, 6003, 6004, 6005, 6006,\n       6007, 6008, 6009, 6010, 6011, 6012, 6013, 6014, 6015, 6016, 6017,\n       6018, 6019, 6020, 6021, 6022, 6023, 6024, 6025, 6026, 6027, 6028,\n       6029, 6030, 6031, 6032, 6033, 6034, 6035, 6036, 6037, 6038, 6039,\n       6040, 6041, 6042, 6043, 6044, 6045, 6046, 6047, 6048, 6049, 6050,\n       6051, 6052, 6053, 6054, 6055, 6056, 6057, 6058, 6059, 6060, 6061,\n       6062, 6063, 6064, 6065, 6066, 6067, 6068, 6069, 6070, 6071, 6072,\n       6073, 6074, 6075, 6076, 6077, 6078, 6079, 6080, 6081, 6082, 6083,\n       6084, 6085, 6086, 6087, 6088, 6089, 6090, 6091, 6092, 6093, 6094,\n       6095, 6096, 6097, 6098, 6099, 6100, 6101, 6102, 6103, 6104, 6105,\n       6106, 6107, 6108], dtype=int64)"
     },
     "execution_count": 12,
     "metadata": {},
     "output_type": "execute_result"
    }
   ],
   "source": [
    "slp_test = generate_X_train_test(X_test)\n",
    "X_test['id_sequence']"
   ],
   "metadata": {
    "collapsed": false,
    "pycharm": {
     "name": "#%%\n"
    }
   }
  },
  {
   "cell_type": "markdown",
   "source": [
    "#### Making y or surge_train / Y_train"
   ],
   "metadata": {
    "collapsed": false,
    "pycharm": {
     "name": "#%% md\n"
    }
   }
  },
  {
   "cell_type": "code",
   "execution_count": 13,
   "outputs": [
    {
     "data": {
      "text/plain": "array([[ 0.58693592,  1.06958024,  0.76792754, ..., -0.42270688,\n        -0.45623606, -0.82505705],\n       [ 0.76792754, -0.1001619 ,  0.07077463, ..., -0.82505705,\n        -0.99270295, -0.99270295],\n       [ 0.07077463, -0.24428486, -0.35489084, ..., -0.99270295,\n        -0.32211934, -0.88373311],\n       ...,\n       [ 0.48303332,  0.53330877,  1.44832196, ...,  1.22022298,\n         1.44654495,  2.67036005],\n       [ 1.44832196,  1.82036029,  1.66283054, ...,  2.67036005,\n         2.62006628,  2.67874235],\n       [ 1.66283054,  1.52876268,  1.28408882, ...,  2.67874235,\n         1.22022298,  0.72566756]])"
     },
     "execution_count": 13,
     "metadata": {},
     "output_type": "execute_result"
    }
   ],
   "source": [
    "surge_train = generate_Y_train(Y_train)\n",
    "surge_train"
   ],
   "metadata": {
    "collapsed": false,
    "pycharm": {
     "name": "#%%\n"
    }
   }
  },
  {
   "cell_type": "code",
   "execution_count": 14,
   "outputs": [
    {
     "data": {
      "text/plain": "      surge1_t0  surge1_t1  surge1_t2  surge1_t3  surge1_t4  surge1_t5  \\\n1      0.586936   1.069580   0.767928  -0.100162   0.070775  -0.244285   \n2      0.767928  -0.100162   0.070775  -0.244285  -0.354891  -0.928031   \n3      0.070775  -0.244285  -0.354891  -0.928031  -0.773853  -0.375001   \n4     -0.354891  -0.928031  -0.773853  -0.375001  -0.361594  -0.210768   \n5     -0.773853  -0.375001  -0.361594  -0.210768   0.288635  -0.726929   \n...         ...        ...        ...        ...        ...        ...   \n5595   1.451674   1.220407   0.556771   1.709754   0.483033   0.533309   \n5596   0.556771   1.709754   0.483033   0.533309   1.448322   1.820360   \n5597   0.483033   0.533309   1.448322   1.820360   1.662831   1.528763   \n5598   1.448322   1.820360   1.662831   1.528763   1.284089   0.070775   \n5599   1.662831   1.528763   1.284089   0.070775   0.888589   1.545521   \n\n      surge1_t6  surge1_t7  surge1_t8  surge1_t9  surge2_t0  surge2_t1  \\\n1     -0.354891  -0.928031  -0.773853  -0.375001  -0.053886   0.356847   \n2     -0.773853  -0.375001  -0.361594  -0.210768   0.348464   0.264641   \n3     -0.361594  -0.210768   0.288635  -0.726929   0.901696   0.449052   \n4      0.288635  -0.726929  -0.576103   1.160076   0.113760  -0.422707   \n5     -0.576103   1.160076   0.442813   0.305393  -0.456236  -0.825057   \n...         ...        ...        ...        ...        ...        ...   \n5595   1.448322   1.820360   1.662831   1.528763   0.759197   0.884931   \n5596   1.662831   1.528763   1.284089   0.070775   0.298171  -0.397560   \n5597   1.284089   0.070775   0.888589   1.545521  -0.540059  -0.498148   \n5598   0.888589   1.545521   1.166779   0.653970  -0.498148  -0.405942   \n5599   1.166779   0.653970   0.409296   0.137809   0.164054   0.331700   \n\n      surge2_t2  surge2_t3  surge2_t4  surge2_t5  surge2_t6  surge2_t7  \\\n1      0.348464   0.264641   0.901696   0.449052   0.113760  -0.422707   \n2      0.901696   0.449052   0.113760  -0.422707  -0.456236  -0.825057   \n3      0.113760  -0.422707  -0.456236  -0.825057  -0.992703  -0.992703   \n4     -0.456236  -0.825057  -0.992703  -0.992703  -0.322119  -0.883733   \n5     -0.992703  -0.992703  -0.322119  -0.883733  -0.473001  -0.422707   \n...         ...        ...        ...        ...        ...        ...   \n5595   0.298171  -0.397560  -0.540059  -0.498148  -0.498148  -0.405942   \n5596  -0.540059  -0.498148  -0.498148  -0.405942   0.164054   0.331700   \n5597  -0.498148  -0.405942   0.164054   0.331700   1.052577   1.220223   \n5598   0.164054   0.331700   1.052577   1.220223   1.446545   2.670360   \n5599   1.052577   1.220223   1.446545   2.670360   2.620066   2.678742   \n\n      surge2_t8  surge2_t9  \n1     -0.456236  -0.825057  \n2     -0.992703  -0.992703  \n3     -0.322119  -0.883733  \n4     -0.473001  -0.422707  \n5     -0.473001  -0.531677  \n...         ...        ...  \n5595   0.164054   0.331700  \n5596   1.052577   1.220223  \n5597   1.446545   2.670360  \n5598   2.620066   2.678742  \n5599   1.220223   0.725668  \n\n[5599 rows x 20 columns]",
      "text/html": "<div>\n<style scoped>\n    .dataframe tbody tr th:only-of-type {\n        vertical-align: middle;\n    }\n\n    .dataframe tbody tr th {\n        vertical-align: top;\n    }\n\n    .dataframe thead th {\n        text-align: right;\n    }\n</style>\n<table border=\"1\" class=\"dataframe\">\n  <thead>\n    <tr style=\"text-align: right;\">\n      <th></th>\n      <th>surge1_t0</th>\n      <th>surge1_t1</th>\n      <th>surge1_t2</th>\n      <th>surge1_t3</th>\n      <th>surge1_t4</th>\n      <th>surge1_t5</th>\n      <th>surge1_t6</th>\n      <th>surge1_t7</th>\n      <th>surge1_t8</th>\n      <th>surge1_t9</th>\n      <th>surge2_t0</th>\n      <th>surge2_t1</th>\n      <th>surge2_t2</th>\n      <th>surge2_t3</th>\n      <th>surge2_t4</th>\n      <th>surge2_t5</th>\n      <th>surge2_t6</th>\n      <th>surge2_t7</th>\n      <th>surge2_t8</th>\n      <th>surge2_t9</th>\n    </tr>\n  </thead>\n  <tbody>\n    <tr>\n      <th>1</th>\n      <td>0.586936</td>\n      <td>1.069580</td>\n      <td>0.767928</td>\n      <td>-0.100162</td>\n      <td>0.070775</td>\n      <td>-0.244285</td>\n      <td>-0.354891</td>\n      <td>-0.928031</td>\n      <td>-0.773853</td>\n      <td>-0.375001</td>\n      <td>-0.053886</td>\n      <td>0.356847</td>\n      <td>0.348464</td>\n      <td>0.264641</td>\n      <td>0.901696</td>\n      <td>0.449052</td>\n      <td>0.113760</td>\n      <td>-0.422707</td>\n      <td>-0.456236</td>\n      <td>-0.825057</td>\n    </tr>\n    <tr>\n      <th>2</th>\n      <td>0.767928</td>\n      <td>-0.100162</td>\n      <td>0.070775</td>\n      <td>-0.244285</td>\n      <td>-0.354891</td>\n      <td>-0.928031</td>\n      <td>-0.773853</td>\n      <td>-0.375001</td>\n      <td>-0.361594</td>\n      <td>-0.210768</td>\n      <td>0.348464</td>\n      <td>0.264641</td>\n      <td>0.901696</td>\n      <td>0.449052</td>\n      <td>0.113760</td>\n      <td>-0.422707</td>\n      <td>-0.456236</td>\n      <td>-0.825057</td>\n      <td>-0.992703</td>\n      <td>-0.992703</td>\n    </tr>\n    <tr>\n      <th>3</th>\n      <td>0.070775</td>\n      <td>-0.244285</td>\n      <td>-0.354891</td>\n      <td>-0.928031</td>\n      <td>-0.773853</td>\n      <td>-0.375001</td>\n      <td>-0.361594</td>\n      <td>-0.210768</td>\n      <td>0.288635</td>\n      <td>-0.726929</td>\n      <td>0.901696</td>\n      <td>0.449052</td>\n      <td>0.113760</td>\n      <td>-0.422707</td>\n      <td>-0.456236</td>\n      <td>-0.825057</td>\n      <td>-0.992703</td>\n      <td>-0.992703</td>\n      <td>-0.322119</td>\n      <td>-0.883733</td>\n    </tr>\n    <tr>\n      <th>4</th>\n      <td>-0.354891</td>\n      <td>-0.928031</td>\n      <td>-0.773853</td>\n      <td>-0.375001</td>\n      <td>-0.361594</td>\n      <td>-0.210768</td>\n      <td>0.288635</td>\n      <td>-0.726929</td>\n      <td>-0.576103</td>\n      <td>1.160076</td>\n      <td>0.113760</td>\n      <td>-0.422707</td>\n      <td>-0.456236</td>\n      <td>-0.825057</td>\n      <td>-0.992703</td>\n      <td>-0.992703</td>\n      <td>-0.322119</td>\n      <td>-0.883733</td>\n      <td>-0.473001</td>\n      <td>-0.422707</td>\n    </tr>\n    <tr>\n      <th>5</th>\n      <td>-0.773853</td>\n      <td>-0.375001</td>\n      <td>-0.361594</td>\n      <td>-0.210768</td>\n      <td>0.288635</td>\n      <td>-0.726929</td>\n      <td>-0.576103</td>\n      <td>1.160076</td>\n      <td>0.442813</td>\n      <td>0.305393</td>\n      <td>-0.456236</td>\n      <td>-0.825057</td>\n      <td>-0.992703</td>\n      <td>-0.992703</td>\n      <td>-0.322119</td>\n      <td>-0.883733</td>\n      <td>-0.473001</td>\n      <td>-0.422707</td>\n      <td>-0.473001</td>\n      <td>-0.531677</td>\n    </tr>\n    <tr>\n      <th>...</th>\n      <td>...</td>\n      <td>...</td>\n      <td>...</td>\n      <td>...</td>\n      <td>...</td>\n      <td>...</td>\n      <td>...</td>\n      <td>...</td>\n      <td>...</td>\n      <td>...</td>\n      <td>...</td>\n      <td>...</td>\n      <td>...</td>\n      <td>...</td>\n      <td>...</td>\n      <td>...</td>\n      <td>...</td>\n      <td>...</td>\n      <td>...</td>\n      <td>...</td>\n    </tr>\n    <tr>\n      <th>5595</th>\n      <td>1.451674</td>\n      <td>1.220407</td>\n      <td>0.556771</td>\n      <td>1.709754</td>\n      <td>0.483033</td>\n      <td>0.533309</td>\n      <td>1.448322</td>\n      <td>1.820360</td>\n      <td>1.662831</td>\n      <td>1.528763</td>\n      <td>0.759197</td>\n      <td>0.884931</td>\n      <td>0.298171</td>\n      <td>-0.397560</td>\n      <td>-0.540059</td>\n      <td>-0.498148</td>\n      <td>-0.498148</td>\n      <td>-0.405942</td>\n      <td>0.164054</td>\n      <td>0.331700</td>\n    </tr>\n    <tr>\n      <th>5596</th>\n      <td>0.556771</td>\n      <td>1.709754</td>\n      <td>0.483033</td>\n      <td>0.533309</td>\n      <td>1.448322</td>\n      <td>1.820360</td>\n      <td>1.662831</td>\n      <td>1.528763</td>\n      <td>1.284089</td>\n      <td>0.070775</td>\n      <td>0.298171</td>\n      <td>-0.397560</td>\n      <td>-0.540059</td>\n      <td>-0.498148</td>\n      <td>-0.498148</td>\n      <td>-0.405942</td>\n      <td>0.164054</td>\n      <td>0.331700</td>\n      <td>1.052577</td>\n      <td>1.220223</td>\n    </tr>\n    <tr>\n      <th>5597</th>\n      <td>0.483033</td>\n      <td>0.533309</td>\n      <td>1.448322</td>\n      <td>1.820360</td>\n      <td>1.662831</td>\n      <td>1.528763</td>\n      <td>1.284089</td>\n      <td>0.070775</td>\n      <td>0.888589</td>\n      <td>1.545521</td>\n      <td>-0.540059</td>\n      <td>-0.498148</td>\n      <td>-0.498148</td>\n      <td>-0.405942</td>\n      <td>0.164054</td>\n      <td>0.331700</td>\n      <td>1.052577</td>\n      <td>1.220223</td>\n      <td>1.446545</td>\n      <td>2.670360</td>\n    </tr>\n    <tr>\n      <th>5598</th>\n      <td>1.448322</td>\n      <td>1.820360</td>\n      <td>1.662831</td>\n      <td>1.528763</td>\n      <td>1.284089</td>\n      <td>0.070775</td>\n      <td>0.888589</td>\n      <td>1.545521</td>\n      <td>1.166779</td>\n      <td>0.653970</td>\n      <td>-0.498148</td>\n      <td>-0.405942</td>\n      <td>0.164054</td>\n      <td>0.331700</td>\n      <td>1.052577</td>\n      <td>1.220223</td>\n      <td>1.446545</td>\n      <td>2.670360</td>\n      <td>2.620066</td>\n      <td>2.678742</td>\n    </tr>\n    <tr>\n      <th>5599</th>\n      <td>1.662831</td>\n      <td>1.528763</td>\n      <td>1.284089</td>\n      <td>0.070775</td>\n      <td>0.888589</td>\n      <td>1.545521</td>\n      <td>1.166779</td>\n      <td>0.653970</td>\n      <td>0.409296</td>\n      <td>0.137809</td>\n      <td>0.164054</td>\n      <td>0.331700</td>\n      <td>1.052577</td>\n      <td>1.220223</td>\n      <td>1.446545</td>\n      <td>2.670360</td>\n      <td>2.620066</td>\n      <td>2.678742</td>\n      <td>1.220223</td>\n      <td>0.725668</td>\n    </tr>\n  </tbody>\n</table>\n<p>5599 rows × 20 columns</p>\n</div>"
     },
     "execution_count": 14,
     "metadata": {},
     "output_type": "execute_result"
    }
   ],
   "source": [
    "surge_train_df = Y_train_to_dataframe(surge_train, X_train)\n",
    "surge_train_df"
   ],
   "metadata": {
    "collapsed": false,
    "pycharm": {
     "name": "#%%\n"
    }
   }
  },
  {
   "cell_type": "markdown",
   "source": [
    "#### Splitting train / test set using X_train and Y_train"
   ],
   "metadata": {
    "collapsed": false,
    "pycharm": {
     "name": "#%% md\n"
    }
   }
  },
  {
   "cell_type": "code",
   "execution_count": 15,
   "outputs": [],
   "source": [
    "from sklearn.model_selection import train_test_split\n",
    "\n",
    "X_train_surge, X_val_surge, y_train_surge, y_val_surge = train_test_split(slp_train, surge_train_df, test_size=0.3, random_state=seed)"
   ],
   "metadata": {
    "collapsed": false,
    "pycharm": {
     "name": "#%%\n"
    }
   }
  },
  {
   "cell_type": "code",
   "execution_count": 16,
   "outputs": [
    {
     "data": {
      "text/plain": "(5599, 3362)"
     },
     "execution_count": 16,
     "metadata": {},
     "output_type": "execute_result"
    }
   ],
   "source": [
    "slp_train.shape"
   ],
   "metadata": {
    "collapsed": false,
    "pycharm": {
     "name": "#%%\n"
    }
   }
  },
  {
   "cell_type": "code",
   "execution_count": 17,
   "outputs": [
    {
     "data": {
      "text/plain": "(5599, 20)"
     },
     "execution_count": 17,
     "metadata": {},
     "output_type": "execute_result"
    }
   ],
   "source": [
    "surge_train.shape"
   ],
   "metadata": {
    "collapsed": false,
    "pycharm": {
     "name": "#%%\n"
    }
   }
  },
  {
   "cell_type": "code",
   "execution_count": 18,
   "outputs": [
    {
     "data": {
      "text/plain": "(3919, 3362)"
     },
     "execution_count": 18,
     "metadata": {},
     "output_type": "execute_result"
    }
   ],
   "source": [
    "X_train_surge.shape"
   ],
   "metadata": {
    "collapsed": false,
    "pycharm": {
     "name": "#%%\n"
    }
   }
  },
  {
   "cell_type": "code",
   "execution_count": 19,
   "outputs": [
    {
     "data": {
      "text/plain": "(1680, 20)"
     },
     "execution_count": 19,
     "metadata": {},
     "output_type": "execute_result"
    }
   ],
   "source": [
    "y_val_surge.shape"
   ],
   "metadata": {
    "collapsed": false,
    "pycharm": {
     "name": "#%%\n"
    }
   }
  },
  {
   "cell_type": "code",
   "execution_count": 20,
   "outputs": [
    {
     "data": {
      "text/plain": "array([[102176.35, 102156.35, 102133.35, ..., 101640.01, 101663.01,\n        101685.01],\n       [101805.57, 101868.57, 101921.57, ..., 100350.2 , 100314.2 ,\n        100281.2 ],\n       [102114.1 , 102082.1 , 102049.1 , ..., 101215.24, 101180.24,\n        101145.24],\n       ...,\n       [101786.12, 101687.12, 101576.12, ..., 100236.8 , 100318.8 ,\n        100393.8 ],\n       [102499.41, 102499.41, 102497.41, ..., 100472.49, 100492.49,\n        100510.49],\n       [101569.21, 101633.21, 101687.21, ...,  98750.56,  98741.56,\n         98742.56]], dtype=float32)"
     },
     "execution_count": 20,
     "metadata": {},
     "output_type": "execute_result"
    }
   ],
   "source": [
    "X_train_surge"
   ],
   "metadata": {
    "collapsed": false,
    "pycharm": {
     "name": "#%%\n"
    }
   }
  },
  {
   "cell_type": "code",
   "execution_count": 21,
   "outputs": [
    {
     "data": {
      "text/plain": "      surge1_t0  surge1_t1  surge1_t2  surge1_t3  surge1_t4  surge1_t5  \\\n4441  -0.167196  -0.234230  -0.110217  -0.029776   0.047313  -0.046535   \n2472   0.238359   2.105255   0.888589   1.062877   1.103097  -1.638591   \n3317  -0.096810  -0.100162  -0.103514   0.265173  -0.244285  -0.321374   \n81     1.331013   0.553419   1.220407   0.637211  -0.013018  -0.150437   \n4806   1.776788   3.053785   3.516319   2.557734   0.922106   2.068386   \n...         ...        ...        ...        ...        ...        ...   \n1392  -1.440841  -1.135836  -0.760446  -0.747039  -0.271098  -0.499014   \n4351  -0.116920  -0.328077  -0.371649  -0.455442  -0.455442  -0.499014   \n221   -1.420730  -1.561502  -1.702273  -1.826286  -1.779362  -1.283311   \n1746  -0.163844  -0.458793  -0.006314  -0.090107  -0.250988  -0.368298   \n628    0.070775  -0.971603  -0.877756  -1.427434  -1.507874  -0.944789   \n\n      surge1_t6  surge1_t7  surge1_t8  surge1_t9  surge2_t0  surge2_t1  \\\n4441  -0.354891  -0.405166  -0.314670  -0.690061  -0.104180  -0.162856   \n2472  -1.145891  -0.321374  -0.579455  -0.666599  -1.336377  -0.967556   \n3317  -0.552641  -0.579455  -0.646488  -0.110217   1.002283   0.960372   \n81     0.141160   0.198139   0.060720  -0.371649  -0.925645  -1.403435   \n4806   1.713106   1.153373   2.406907   1.947725   0.901696   1.236988   \n...         ...        ...        ...        ...        ...        ...   \n1392  -0.539234  -0.696764  -0.874404  -0.901217   1.295664   1.589044   \n4351  -0.143734  -0.009666  -0.096810  -0.485607  -0.364031  -0.322119   \n221   -1.249794  -0.921328  -0.991713  -0.777205  -0.380795   0.843020   \n1746  -0.214120   0.208194   0.074126  -0.056590   0.423905   0.524492   \n628   -0.418573  -0.254340   0.258470   0.808148   0.910078   0.264641   \n\n      surge2_t2  surge2_t3  surge2_t4  surge2_t5  surge2_t6  surge2_t7  \\\n4441  -0.104180  -0.548441  -0.783146  -0.481383  -0.774763  -0.422707   \n2472  -0.892115  -0.011974  -0.095797   0.105378  -0.095797  -0.162856   \n3317   0.893313   0.943607   0.700521   0.457434   0.365229   0.608315   \n81    -1.252554  -1.420200  -1.026232  -0.833439  -0.045504  -0.028739   \n4806   0.717285   0.650227   0.708903   0.356847   0.474199   0.222730   \n...         ...        ...        ...        ...        ...        ...   \n1392   1.228605   0.273024  -0.305355  -0.355649  -0.716087  -1.051379   \n4351  -0.489765  -0.791528  -0.556824  -0.690940  -0.422707  -0.674176   \n221   -0.028739  -0.120944  -0.540059  -0.313737  -1.219025  -1.235790   \n1746   0.750814   0.532875   1.060959   0.641845   0.708903   0.775961   \n628   -0.095797  -0.313737  -0.062268  -0.146091  -0.347266  -1.068144   \n\n      surge2_t8  surge2_t9  \n4441  -0.296972   0.398758  \n2472   0.113760   0.331700  \n3317   0.289788   0.390376  \n81    -0.347266  -0.975938  \n4806   0.247877   0.055084  \n...         ...        ...  \n1392  -0.489765  -0.188003  \n4351  -0.196385  -0.313737  \n221   -1.587846  -1.638140  \n1746   0.616698   0.474199  \n628   -1.277701  -0.917262  \n\n[1680 rows x 20 columns]",
      "text/html": "<div>\n<style scoped>\n    .dataframe tbody tr th:only-of-type {\n        vertical-align: middle;\n    }\n\n    .dataframe tbody tr th {\n        vertical-align: top;\n    }\n\n    .dataframe thead th {\n        text-align: right;\n    }\n</style>\n<table border=\"1\" class=\"dataframe\">\n  <thead>\n    <tr style=\"text-align: right;\">\n      <th></th>\n      <th>surge1_t0</th>\n      <th>surge1_t1</th>\n      <th>surge1_t2</th>\n      <th>surge1_t3</th>\n      <th>surge1_t4</th>\n      <th>surge1_t5</th>\n      <th>surge1_t6</th>\n      <th>surge1_t7</th>\n      <th>surge1_t8</th>\n      <th>surge1_t9</th>\n      <th>surge2_t0</th>\n      <th>surge2_t1</th>\n      <th>surge2_t2</th>\n      <th>surge2_t3</th>\n      <th>surge2_t4</th>\n      <th>surge2_t5</th>\n      <th>surge2_t6</th>\n      <th>surge2_t7</th>\n      <th>surge2_t8</th>\n      <th>surge2_t9</th>\n    </tr>\n  </thead>\n  <tbody>\n    <tr>\n      <th>4441</th>\n      <td>-0.167196</td>\n      <td>-0.234230</td>\n      <td>-0.110217</td>\n      <td>-0.029776</td>\n      <td>0.047313</td>\n      <td>-0.046535</td>\n      <td>-0.354891</td>\n      <td>-0.405166</td>\n      <td>-0.314670</td>\n      <td>-0.690061</td>\n      <td>-0.104180</td>\n      <td>-0.162856</td>\n      <td>-0.104180</td>\n      <td>-0.548441</td>\n      <td>-0.783146</td>\n      <td>-0.481383</td>\n      <td>-0.774763</td>\n      <td>-0.422707</td>\n      <td>-0.296972</td>\n      <td>0.398758</td>\n    </tr>\n    <tr>\n      <th>2472</th>\n      <td>0.238359</td>\n      <td>2.105255</td>\n      <td>0.888589</td>\n      <td>1.062877</td>\n      <td>1.103097</td>\n      <td>-1.638591</td>\n      <td>-1.145891</td>\n      <td>-0.321374</td>\n      <td>-0.579455</td>\n      <td>-0.666599</td>\n      <td>-1.336377</td>\n      <td>-0.967556</td>\n      <td>-0.892115</td>\n      <td>-0.011974</td>\n      <td>-0.095797</td>\n      <td>0.105378</td>\n      <td>-0.095797</td>\n      <td>-0.162856</td>\n      <td>0.113760</td>\n      <td>0.331700</td>\n    </tr>\n    <tr>\n      <th>3317</th>\n      <td>-0.096810</td>\n      <td>-0.100162</td>\n      <td>-0.103514</td>\n      <td>0.265173</td>\n      <td>-0.244285</td>\n      <td>-0.321374</td>\n      <td>-0.552641</td>\n      <td>-0.579455</td>\n      <td>-0.646488</td>\n      <td>-0.110217</td>\n      <td>1.002283</td>\n      <td>0.960372</td>\n      <td>0.893313</td>\n      <td>0.943607</td>\n      <td>0.700521</td>\n      <td>0.457434</td>\n      <td>0.365229</td>\n      <td>0.608315</td>\n      <td>0.289788</td>\n      <td>0.390376</td>\n    </tr>\n    <tr>\n      <th>81</th>\n      <td>1.331013</td>\n      <td>0.553419</td>\n      <td>1.220407</td>\n      <td>0.637211</td>\n      <td>-0.013018</td>\n      <td>-0.150437</td>\n      <td>0.141160</td>\n      <td>0.198139</td>\n      <td>0.060720</td>\n      <td>-0.371649</td>\n      <td>-0.925645</td>\n      <td>-1.403435</td>\n      <td>-1.252554</td>\n      <td>-1.420200</td>\n      <td>-1.026232</td>\n      <td>-0.833439</td>\n      <td>-0.045504</td>\n      <td>-0.028739</td>\n      <td>-0.347266</td>\n      <td>-0.975938</td>\n    </tr>\n    <tr>\n      <th>4806</th>\n      <td>1.776788</td>\n      <td>3.053785</td>\n      <td>3.516319</td>\n      <td>2.557734</td>\n      <td>0.922106</td>\n      <td>2.068386</td>\n      <td>1.713106</td>\n      <td>1.153373</td>\n      <td>2.406907</td>\n      <td>1.947725</td>\n      <td>0.901696</td>\n      <td>1.236988</td>\n      <td>0.717285</td>\n      <td>0.650227</td>\n      <td>0.708903</td>\n      <td>0.356847</td>\n      <td>0.474199</td>\n      <td>0.222730</td>\n      <td>0.247877</td>\n      <td>0.055084</td>\n    </tr>\n    <tr>\n      <th>...</th>\n      <td>...</td>\n      <td>...</td>\n      <td>...</td>\n      <td>...</td>\n      <td>...</td>\n      <td>...</td>\n      <td>...</td>\n      <td>...</td>\n      <td>...</td>\n      <td>...</td>\n      <td>...</td>\n      <td>...</td>\n      <td>...</td>\n      <td>...</td>\n      <td>...</td>\n      <td>...</td>\n      <td>...</td>\n      <td>...</td>\n      <td>...</td>\n      <td>...</td>\n    </tr>\n    <tr>\n      <th>1392</th>\n      <td>-1.440841</td>\n      <td>-1.135836</td>\n      <td>-0.760446</td>\n      <td>-0.747039</td>\n      <td>-0.271098</td>\n      <td>-0.499014</td>\n      <td>-0.539234</td>\n      <td>-0.696764</td>\n      <td>-0.874404</td>\n      <td>-0.901217</td>\n      <td>1.295664</td>\n      <td>1.589044</td>\n      <td>1.228605</td>\n      <td>0.273024</td>\n      <td>-0.305355</td>\n      <td>-0.355649</td>\n      <td>-0.716087</td>\n      <td>-1.051379</td>\n      <td>-0.489765</td>\n      <td>-0.188003</td>\n    </tr>\n    <tr>\n      <th>4351</th>\n      <td>-0.116920</td>\n      <td>-0.328077</td>\n      <td>-0.371649</td>\n      <td>-0.455442</td>\n      <td>-0.455442</td>\n      <td>-0.499014</td>\n      <td>-0.143734</td>\n      <td>-0.009666</td>\n      <td>-0.096810</td>\n      <td>-0.485607</td>\n      <td>-0.364031</td>\n      <td>-0.322119</td>\n      <td>-0.489765</td>\n      <td>-0.791528</td>\n      <td>-0.556824</td>\n      <td>-0.690940</td>\n      <td>-0.422707</td>\n      <td>-0.674176</td>\n      <td>-0.196385</td>\n      <td>-0.313737</td>\n    </tr>\n    <tr>\n      <th>221</th>\n      <td>-1.420730</td>\n      <td>-1.561502</td>\n      <td>-1.702273</td>\n      <td>-1.826286</td>\n      <td>-1.779362</td>\n      <td>-1.283311</td>\n      <td>-1.249794</td>\n      <td>-0.921328</td>\n      <td>-0.991713</td>\n      <td>-0.777205</td>\n      <td>-0.380795</td>\n      <td>0.843020</td>\n      <td>-0.028739</td>\n      <td>-0.120944</td>\n      <td>-0.540059</td>\n      <td>-0.313737</td>\n      <td>-1.219025</td>\n      <td>-1.235790</td>\n      <td>-1.587846</td>\n      <td>-1.638140</td>\n    </tr>\n    <tr>\n      <th>1746</th>\n      <td>-0.163844</td>\n      <td>-0.458793</td>\n      <td>-0.006314</td>\n      <td>-0.090107</td>\n      <td>-0.250988</td>\n      <td>-0.368298</td>\n      <td>-0.214120</td>\n      <td>0.208194</td>\n      <td>0.074126</td>\n      <td>-0.056590</td>\n      <td>0.423905</td>\n      <td>0.524492</td>\n      <td>0.750814</td>\n      <td>0.532875</td>\n      <td>1.060959</td>\n      <td>0.641845</td>\n      <td>0.708903</td>\n      <td>0.775961</td>\n      <td>0.616698</td>\n      <td>0.474199</td>\n    </tr>\n    <tr>\n      <th>628</th>\n      <td>0.070775</td>\n      <td>-0.971603</td>\n      <td>-0.877756</td>\n      <td>-1.427434</td>\n      <td>-1.507874</td>\n      <td>-0.944789</td>\n      <td>-0.418573</td>\n      <td>-0.254340</td>\n      <td>0.258470</td>\n      <td>0.808148</td>\n      <td>0.910078</td>\n      <td>0.264641</td>\n      <td>-0.095797</td>\n      <td>-0.313737</td>\n      <td>-0.062268</td>\n      <td>-0.146091</td>\n      <td>-0.347266</td>\n      <td>-1.068144</td>\n      <td>-1.277701</td>\n      <td>-0.917262</td>\n    </tr>\n  </tbody>\n</table>\n<p>1680 rows × 20 columns</p>\n</div>"
     },
     "execution_count": 21,
     "metadata": {},
     "output_type": "execute_result"
    }
   ],
   "source": [
    "y_val_surge"
   ],
   "metadata": {
    "collapsed": false,
    "pycharm": {
     "name": "#%%\n"
    }
   }
  },
  {
   "cell_type": "code",
   "execution_count": 22,
   "outputs": [
    {
     "data": {
      "text/plain": "         0\n0        1\n1        2\n2        3\n3        4\n4        5\n...    ...\n5594  5595\n5595  5596\n5596  5597\n5597  5598\n5598  5599\n\n[5599 rows x 1 columns]",
      "text/html": "<div>\n<style scoped>\n    .dataframe tbody tr th:only-of-type {\n        vertical-align: middle;\n    }\n\n    .dataframe tbody tr th {\n        vertical-align: top;\n    }\n\n    .dataframe thead th {\n        text-align: right;\n    }\n</style>\n<table border=\"1\" class=\"dataframe\">\n  <thead>\n    <tr style=\"text-align: right;\">\n      <th></th>\n      <th>0</th>\n    </tr>\n  </thead>\n  <tbody>\n    <tr>\n      <th>0</th>\n      <td>1</td>\n    </tr>\n    <tr>\n      <th>1</th>\n      <td>2</td>\n    </tr>\n    <tr>\n      <th>2</th>\n      <td>3</td>\n    </tr>\n    <tr>\n      <th>3</th>\n      <td>4</td>\n    </tr>\n    <tr>\n      <th>4</th>\n      <td>5</td>\n    </tr>\n    <tr>\n      <th>...</th>\n      <td>...</td>\n    </tr>\n    <tr>\n      <th>5594</th>\n      <td>5595</td>\n    </tr>\n    <tr>\n      <th>5595</th>\n      <td>5596</td>\n    </tr>\n    <tr>\n      <th>5596</th>\n      <td>5597</td>\n    </tr>\n    <tr>\n      <th>5597</th>\n      <td>5598</td>\n    </tr>\n    <tr>\n      <th>5598</th>\n      <td>5599</td>\n    </tr>\n  </tbody>\n</table>\n<p>5599 rows × 1 columns</p>\n</div>"
     },
     "execution_count": 22,
     "metadata": {},
     "output_type": "execute_result"
    }
   ],
   "source": [
    "pd.DataFrame(X_train[\"id_sequence\"])"
   ],
   "metadata": {
    "collapsed": false,
    "pycharm": {
     "name": "#%%\n"
    }
   }
  },
  {
   "cell_type": "code",
   "execution_count": 23,
   "outputs": [
    {
     "data": {
      "text/plain": "      id_sequence  surge1_t0  surge1_t1  surge1_t2  surge1_t3  surge1_t4  \\\n0               1   0.586936   1.069580   0.767928  -0.100162   0.070775   \n1               2   0.767928  -0.100162   0.070775  -0.244285  -0.354891   \n2               3   0.070775  -0.244285  -0.354891  -0.928031  -0.773853   \n3               4  -0.354891  -0.928031  -0.773853  -0.375001  -0.361594   \n4               5  -0.773853  -0.375001  -0.361594  -0.210768   0.288635   \n...           ...        ...        ...        ...        ...        ...   \n5594         5595   1.451674   1.220407   0.556771   1.709754   0.483033   \n5595         5596   0.556771   1.709754   0.483033   0.533309   1.448322   \n5596         5597   0.483033   0.533309   1.448322   1.820360   1.662831   \n5597         5598   1.448322   1.820360   1.662831   1.528763   1.284089   \n5598         5599   1.662831   1.528763   1.284089   0.070775   0.888589   \n\n      surge1_t5  surge1_t6  surge1_t7  surge1_t8  ...  surge2_t0  surge2_t1  \\\n0     -0.244285  -0.354891  -0.928031  -0.773853  ...  -0.053886   0.356847   \n1     -0.928031  -0.773853  -0.375001  -0.361594  ...   0.348464   0.264641   \n2     -0.375001  -0.361594  -0.210768   0.288635  ...   0.901696   0.449052   \n3     -0.210768   0.288635  -0.726929  -0.576103  ...   0.113760  -0.422707   \n4     -0.726929  -0.576103   1.160076   0.442813  ...  -0.456236  -0.825057   \n...         ...        ...        ...        ...  ...        ...        ...   \n5594   0.533309   1.448322   1.820360   1.662831  ...   0.759197   0.884931   \n5595   1.820360   1.662831   1.528763   1.284089  ...   0.298171  -0.397560   \n5596   1.528763   1.284089   0.070775   0.888589  ...  -0.540059  -0.498148   \n5597   0.070775   0.888589   1.545521   1.166779  ...  -0.498148  -0.405942   \n5598   1.545521   1.166779   0.653970   0.409296  ...   0.164054   0.331700   \n\n      surge2_t2  surge2_t3  surge2_t4  surge2_t5  surge2_t6  surge2_t7  \\\n0      0.348464   0.264641   0.901696   0.449052   0.113760  -0.422707   \n1      0.901696   0.449052   0.113760  -0.422707  -0.456236  -0.825057   \n2      0.113760  -0.422707  -0.456236  -0.825057  -0.992703  -0.992703   \n3     -0.456236  -0.825057  -0.992703  -0.992703  -0.322119  -0.883733   \n4     -0.992703  -0.992703  -0.322119  -0.883733  -0.473001  -0.422707   \n...         ...        ...        ...        ...        ...        ...   \n5594   0.298171  -0.397560  -0.540059  -0.498148  -0.498148  -0.405942   \n5595  -0.540059  -0.498148  -0.498148  -0.405942   0.164054   0.331700   \n5596  -0.498148  -0.405942   0.164054   0.331700   1.052577   1.220223   \n5597   0.164054   0.331700   1.052577   1.220223   1.446545   2.670360   \n5598   1.052577   1.220223   1.446545   2.670360   2.620066   2.678742   \n\n      surge2_t8  surge2_t9  \n0     -0.456236  -0.825057  \n1     -0.992703  -0.992703  \n2     -0.322119  -0.883733  \n3     -0.473001  -0.422707  \n4     -0.473001  -0.531677  \n...         ...        ...  \n5594   0.164054   0.331700  \n5595   1.052577   1.220223  \n5596   1.446545   2.670360  \n5597   2.620066   2.678742  \n5598   1.220223   0.725668  \n\n[5599 rows x 21 columns]",
      "text/html": "<div>\n<style scoped>\n    .dataframe tbody tr th:only-of-type {\n        vertical-align: middle;\n    }\n\n    .dataframe tbody tr th {\n        vertical-align: top;\n    }\n\n    .dataframe thead th {\n        text-align: right;\n    }\n</style>\n<table border=\"1\" class=\"dataframe\">\n  <thead>\n    <tr style=\"text-align: right;\">\n      <th></th>\n      <th>id_sequence</th>\n      <th>surge1_t0</th>\n      <th>surge1_t1</th>\n      <th>surge1_t2</th>\n      <th>surge1_t3</th>\n      <th>surge1_t4</th>\n      <th>surge1_t5</th>\n      <th>surge1_t6</th>\n      <th>surge1_t7</th>\n      <th>surge1_t8</th>\n      <th>...</th>\n      <th>surge2_t0</th>\n      <th>surge2_t1</th>\n      <th>surge2_t2</th>\n      <th>surge2_t3</th>\n      <th>surge2_t4</th>\n      <th>surge2_t5</th>\n      <th>surge2_t6</th>\n      <th>surge2_t7</th>\n      <th>surge2_t8</th>\n      <th>surge2_t9</th>\n    </tr>\n  </thead>\n  <tbody>\n    <tr>\n      <th>0</th>\n      <td>1</td>\n      <td>0.586936</td>\n      <td>1.069580</td>\n      <td>0.767928</td>\n      <td>-0.100162</td>\n      <td>0.070775</td>\n      <td>-0.244285</td>\n      <td>-0.354891</td>\n      <td>-0.928031</td>\n      <td>-0.773853</td>\n      <td>...</td>\n      <td>-0.053886</td>\n      <td>0.356847</td>\n      <td>0.348464</td>\n      <td>0.264641</td>\n      <td>0.901696</td>\n      <td>0.449052</td>\n      <td>0.113760</td>\n      <td>-0.422707</td>\n      <td>-0.456236</td>\n      <td>-0.825057</td>\n    </tr>\n    <tr>\n      <th>1</th>\n      <td>2</td>\n      <td>0.767928</td>\n      <td>-0.100162</td>\n      <td>0.070775</td>\n      <td>-0.244285</td>\n      <td>-0.354891</td>\n      <td>-0.928031</td>\n      <td>-0.773853</td>\n      <td>-0.375001</td>\n      <td>-0.361594</td>\n      <td>...</td>\n      <td>0.348464</td>\n      <td>0.264641</td>\n      <td>0.901696</td>\n      <td>0.449052</td>\n      <td>0.113760</td>\n      <td>-0.422707</td>\n      <td>-0.456236</td>\n      <td>-0.825057</td>\n      <td>-0.992703</td>\n      <td>-0.992703</td>\n    </tr>\n    <tr>\n      <th>2</th>\n      <td>3</td>\n      <td>0.070775</td>\n      <td>-0.244285</td>\n      <td>-0.354891</td>\n      <td>-0.928031</td>\n      <td>-0.773853</td>\n      <td>-0.375001</td>\n      <td>-0.361594</td>\n      <td>-0.210768</td>\n      <td>0.288635</td>\n      <td>...</td>\n      <td>0.901696</td>\n      <td>0.449052</td>\n      <td>0.113760</td>\n      <td>-0.422707</td>\n      <td>-0.456236</td>\n      <td>-0.825057</td>\n      <td>-0.992703</td>\n      <td>-0.992703</td>\n      <td>-0.322119</td>\n      <td>-0.883733</td>\n    </tr>\n    <tr>\n      <th>3</th>\n      <td>4</td>\n      <td>-0.354891</td>\n      <td>-0.928031</td>\n      <td>-0.773853</td>\n      <td>-0.375001</td>\n      <td>-0.361594</td>\n      <td>-0.210768</td>\n      <td>0.288635</td>\n      <td>-0.726929</td>\n      <td>-0.576103</td>\n      <td>...</td>\n      <td>0.113760</td>\n      <td>-0.422707</td>\n      <td>-0.456236</td>\n      <td>-0.825057</td>\n      <td>-0.992703</td>\n      <td>-0.992703</td>\n      <td>-0.322119</td>\n      <td>-0.883733</td>\n      <td>-0.473001</td>\n      <td>-0.422707</td>\n    </tr>\n    <tr>\n      <th>4</th>\n      <td>5</td>\n      <td>-0.773853</td>\n      <td>-0.375001</td>\n      <td>-0.361594</td>\n      <td>-0.210768</td>\n      <td>0.288635</td>\n      <td>-0.726929</td>\n      <td>-0.576103</td>\n      <td>1.160076</td>\n      <td>0.442813</td>\n      <td>...</td>\n      <td>-0.456236</td>\n      <td>-0.825057</td>\n      <td>-0.992703</td>\n      <td>-0.992703</td>\n      <td>-0.322119</td>\n      <td>-0.883733</td>\n      <td>-0.473001</td>\n      <td>-0.422707</td>\n      <td>-0.473001</td>\n      <td>-0.531677</td>\n    </tr>\n    <tr>\n      <th>...</th>\n      <td>...</td>\n      <td>...</td>\n      <td>...</td>\n      <td>...</td>\n      <td>...</td>\n      <td>...</td>\n      <td>...</td>\n      <td>...</td>\n      <td>...</td>\n      <td>...</td>\n      <td>...</td>\n      <td>...</td>\n      <td>...</td>\n      <td>...</td>\n      <td>...</td>\n      <td>...</td>\n      <td>...</td>\n      <td>...</td>\n      <td>...</td>\n      <td>...</td>\n      <td>...</td>\n    </tr>\n    <tr>\n      <th>5594</th>\n      <td>5595</td>\n      <td>1.451674</td>\n      <td>1.220407</td>\n      <td>0.556771</td>\n      <td>1.709754</td>\n      <td>0.483033</td>\n      <td>0.533309</td>\n      <td>1.448322</td>\n      <td>1.820360</td>\n      <td>1.662831</td>\n      <td>...</td>\n      <td>0.759197</td>\n      <td>0.884931</td>\n      <td>0.298171</td>\n      <td>-0.397560</td>\n      <td>-0.540059</td>\n      <td>-0.498148</td>\n      <td>-0.498148</td>\n      <td>-0.405942</td>\n      <td>0.164054</td>\n      <td>0.331700</td>\n    </tr>\n    <tr>\n      <th>5595</th>\n      <td>5596</td>\n      <td>0.556771</td>\n      <td>1.709754</td>\n      <td>0.483033</td>\n      <td>0.533309</td>\n      <td>1.448322</td>\n      <td>1.820360</td>\n      <td>1.662831</td>\n      <td>1.528763</td>\n      <td>1.284089</td>\n      <td>...</td>\n      <td>0.298171</td>\n      <td>-0.397560</td>\n      <td>-0.540059</td>\n      <td>-0.498148</td>\n      <td>-0.498148</td>\n      <td>-0.405942</td>\n      <td>0.164054</td>\n      <td>0.331700</td>\n      <td>1.052577</td>\n      <td>1.220223</td>\n    </tr>\n    <tr>\n      <th>5596</th>\n      <td>5597</td>\n      <td>0.483033</td>\n      <td>0.533309</td>\n      <td>1.448322</td>\n      <td>1.820360</td>\n      <td>1.662831</td>\n      <td>1.528763</td>\n      <td>1.284089</td>\n      <td>0.070775</td>\n      <td>0.888589</td>\n      <td>...</td>\n      <td>-0.540059</td>\n      <td>-0.498148</td>\n      <td>-0.498148</td>\n      <td>-0.405942</td>\n      <td>0.164054</td>\n      <td>0.331700</td>\n      <td>1.052577</td>\n      <td>1.220223</td>\n      <td>1.446545</td>\n      <td>2.670360</td>\n    </tr>\n    <tr>\n      <th>5597</th>\n      <td>5598</td>\n      <td>1.448322</td>\n      <td>1.820360</td>\n      <td>1.662831</td>\n      <td>1.528763</td>\n      <td>1.284089</td>\n      <td>0.070775</td>\n      <td>0.888589</td>\n      <td>1.545521</td>\n      <td>1.166779</td>\n      <td>...</td>\n      <td>-0.498148</td>\n      <td>-0.405942</td>\n      <td>0.164054</td>\n      <td>0.331700</td>\n      <td>1.052577</td>\n      <td>1.220223</td>\n      <td>1.446545</td>\n      <td>2.670360</td>\n      <td>2.620066</td>\n      <td>2.678742</td>\n    </tr>\n    <tr>\n      <th>5598</th>\n      <td>5599</td>\n      <td>1.662831</td>\n      <td>1.528763</td>\n      <td>1.284089</td>\n      <td>0.070775</td>\n      <td>0.888589</td>\n      <td>1.545521</td>\n      <td>1.166779</td>\n      <td>0.653970</td>\n      <td>0.409296</td>\n      <td>...</td>\n      <td>0.164054</td>\n      <td>0.331700</td>\n      <td>1.052577</td>\n      <td>1.220223</td>\n      <td>1.446545</td>\n      <td>2.670360</td>\n      <td>2.620066</td>\n      <td>2.678742</td>\n      <td>1.220223</td>\n      <td>0.725668</td>\n    </tr>\n  </tbody>\n</table>\n<p>5599 rows × 21 columns</p>\n</div>"
     },
     "execution_count": 23,
     "metadata": {},
     "output_type": "execute_result"
    }
   ],
   "source": [
    "pd.DataFrame(Y_train)"
   ],
   "metadata": {
    "collapsed": false,
    "pycharm": {
     "name": "#%%\n"
    }
   }
  },
  {
   "cell_type": "code",
   "execution_count": 24,
   "outputs": [
    {
     "data": {
      "text/plain": "(3919, 3362)"
     },
     "execution_count": 24,
     "metadata": {},
     "output_type": "execute_result"
    }
   ],
   "source": [
    "X_train_surge.shape"
   ],
   "metadata": {
    "collapsed": false,
    "pycharm": {
     "name": "#%%\n"
    }
   }
  },
  {
   "cell_type": "code",
   "execution_count": 25,
   "outputs": [
    {
     "data": {
      "text/plain": "(3919, 20)"
     },
     "execution_count": 25,
     "metadata": {},
     "output_type": "execute_result"
    }
   ],
   "source": [
    "y_train_surge.shape"
   ],
   "metadata": {
    "collapsed": false,
    "pycharm": {
     "name": "#%%\n"
    }
   }
  },
  {
   "cell_type": "markdown",
   "source": [
    "#### Saving testing set"
   ],
   "metadata": {
    "collapsed": false,
    "pycharm": {
     "name": "#%% md\n"
    }
   }
  },
  {
   "cell_type": "code",
   "execution_count": 26,
   "outputs": [],
   "source": [
    "y_val_surge.to_csv(output_path + \"Y_val_true.csv\", index_label='id_sequence', sep=',')"
   ],
   "metadata": {
    "collapsed": false,
    "pycharm": {
     "name": "#%%\n"
    }
   }
  },
  {
   "cell_type": "code",
   "execution_count": 26,
   "outputs": [],
   "source": [],
   "metadata": {
    "collapsed": false,
    "pycharm": {
     "name": "#%%\n"
    }
   }
  },
  {
   "cell_type": "markdown",
   "source": [
    "# Part II : Predictive modeling"
   ],
   "metadata": {
    "collapsed": false,
    "pycharm": {
     "name": "#%% md\n"
    }
   }
  },
  {
   "cell_type": "code",
   "execution_count": 27,
   "outputs": [
    {
     "data": {
      "text/plain": "array([[102176.35, 102156.35, 102133.35, ..., 101640.01, 101663.01,\n        101685.01],\n       [101805.57, 101868.57, 101921.57, ..., 100350.2 , 100314.2 ,\n        100281.2 ],\n       [102114.1 , 102082.1 , 102049.1 , ..., 101215.24, 101180.24,\n        101145.24],\n       ...,\n       [101786.12, 101687.12, 101576.12, ..., 100236.8 , 100318.8 ,\n        100393.8 ],\n       [102499.41, 102499.41, 102497.41, ..., 100472.49, 100492.49,\n        100510.49],\n       [101569.21, 101633.21, 101687.21, ...,  98750.56,  98741.56,\n         98742.56]], dtype=float32)"
     },
     "execution_count": 27,
     "metadata": {},
     "output_type": "execute_result"
    }
   ],
   "source": [
    "X_train_surge"
   ],
   "metadata": {
    "collapsed": false,
    "pycharm": {
     "name": "#%%\n"
    }
   }
  },
  {
   "cell_type": "code",
   "execution_count": 28,
   "outputs": [
    {
     "data": {
      "text/plain": "      surge1_t0  surge1_t1  surge1_t2  surge1_t3  surge1_t4  surge1_t5  \\\n5569   0.013796   0.000389   0.315448   0.107643  -0.086755   0.010444   \n2837   0.845017   0.556771   1.857229   0.372427  -0.914624  -0.304615   \n84     0.141160   0.198139   0.060720  -0.371649   0.265173   1.297496   \n3659  -0.854294  -0.904569  -1.008472  -1.078857  -1.072154  -0.669950   \n791   -0.814073  -0.807370  -0.961548  -1.162650  -1.380510  -1.112374   \n...         ...        ...        ...        ...        ...        ...   \n3773   1.072932   1.049470   0.741114   0.707597   0.848368   0.499792   \n5192  -0.187306   0.070775   0.241711   0.402593   0.945567   1.448322   \n5227  -0.180603  -0.086755   0.754521   0.054016   0.975733   0.228304   \n5391   0.395889   0.808148   0.590288   0.348965   0.077478   0.238359   \n861    2.721967   2.671691   2.095199  -0.073348  -1.330235  -1.538040   \n\n      surge1_t6  surge1_t7  surge1_t8  surge1_t9  surge2_t0  surge2_t1  \\\n5569   0.271876   0.375779   0.281932   0.271876   0.432287   0.516110   \n2837  -0.411870  -0.750391  -0.626378  -0.559344  -1.302848  -1.042997   \n84     1.860581   1.284089   1.274034  -0.133679  -0.045504  -0.028739   \n3659  -0.562696  -0.006314   0.245063   0.332207  -5.762229  -4.194740   \n791   -0.626378  -0.123624   0.214898   0.000389  -1.135202  -1.026232   \n...         ...        ...        ...        ...        ...        ...   \n3773   0.335559   1.485191   1.565631   1.213703   0.465816  -0.540059   \n5192   0.868478   0.781334   0.204842  -0.039831   0.155671   0.063466   \n5227   0.224953  -0.190658  -0.328077  -0.485607  -0.070650   0.281406   \n5391   0.188084   0.543364   1.062877   0.295338   0.901696   0.901696   \n861   -1.501171  -0.730281  -0.817425  -0.944789  -1.763874  -1.344759   \n\n      surge2_t2  surge2_t3  surge2_t4  surge2_t5  surge2_t6  surge2_t7  \\\n5569   0.105378   0.130525   0.440670   0.415523   0.138907   0.298171   \n2837  -1.084908  -0.783146  -0.992703  -1.571081  -1.403435  -1.017850   \n84    -0.347266  -0.975938  -0.908880  -1.219025  -1.260936  -1.068144   \n3659  -5.720317  -4.286945  -4.999440  -4.949146  -4.270180  -4.714442   \n791   -0.959174  -0.607117  -0.841822  -0.355649  -0.514912  -0.196385   \n...         ...        ...        ...        ...        ...        ...   \n3773  -0.674176  -0.975938  -0.489765  -0.372413   0.340082   0.599933   \n5192   0.390376   0.507728   0.306553   0.365229   0.432287   0.088613   \n5227  -0.020357   0.197583   0.004790   0.490963   0.071849   0.843020   \n5391   0.331700   0.692138  -0.196385  -0.296972  -0.850204  -0.598735   \n861   -1.001085  -0.858586  -0.481383   0.700521   0.189201   0.407140   \n\n      surge2_t8  surge2_t9  \n5569   0.122142   0.340082  \n2837  -0.313737  -0.598735  \n84    -0.732852  -0.196385  \n3659  -3.993565  -3.054748  \n791   -0.003592  -0.548441  \n...         ...        ...  \n3773   0.348464   0.314935  \n5192   0.080231  -0.179620  \n5227   0.457434   0.558022  \n5391  -0.892115  -0.598735  \n861    0.264641   0.901696  \n\n[3919 rows x 20 columns]",
      "text/html": "<div>\n<style scoped>\n    .dataframe tbody tr th:only-of-type {\n        vertical-align: middle;\n    }\n\n    .dataframe tbody tr th {\n        vertical-align: top;\n    }\n\n    .dataframe thead th {\n        text-align: right;\n    }\n</style>\n<table border=\"1\" class=\"dataframe\">\n  <thead>\n    <tr style=\"text-align: right;\">\n      <th></th>\n      <th>surge1_t0</th>\n      <th>surge1_t1</th>\n      <th>surge1_t2</th>\n      <th>surge1_t3</th>\n      <th>surge1_t4</th>\n      <th>surge1_t5</th>\n      <th>surge1_t6</th>\n      <th>surge1_t7</th>\n      <th>surge1_t8</th>\n      <th>surge1_t9</th>\n      <th>surge2_t0</th>\n      <th>surge2_t1</th>\n      <th>surge2_t2</th>\n      <th>surge2_t3</th>\n      <th>surge2_t4</th>\n      <th>surge2_t5</th>\n      <th>surge2_t6</th>\n      <th>surge2_t7</th>\n      <th>surge2_t8</th>\n      <th>surge2_t9</th>\n    </tr>\n  </thead>\n  <tbody>\n    <tr>\n      <th>5569</th>\n      <td>0.013796</td>\n      <td>0.000389</td>\n      <td>0.315448</td>\n      <td>0.107643</td>\n      <td>-0.086755</td>\n      <td>0.010444</td>\n      <td>0.271876</td>\n      <td>0.375779</td>\n      <td>0.281932</td>\n      <td>0.271876</td>\n      <td>0.432287</td>\n      <td>0.516110</td>\n      <td>0.105378</td>\n      <td>0.130525</td>\n      <td>0.440670</td>\n      <td>0.415523</td>\n      <td>0.138907</td>\n      <td>0.298171</td>\n      <td>0.122142</td>\n      <td>0.340082</td>\n    </tr>\n    <tr>\n      <th>2837</th>\n      <td>0.845017</td>\n      <td>0.556771</td>\n      <td>1.857229</td>\n      <td>0.372427</td>\n      <td>-0.914624</td>\n      <td>-0.304615</td>\n      <td>-0.411870</td>\n      <td>-0.750391</td>\n      <td>-0.626378</td>\n      <td>-0.559344</td>\n      <td>-1.302848</td>\n      <td>-1.042997</td>\n      <td>-1.084908</td>\n      <td>-0.783146</td>\n      <td>-0.992703</td>\n      <td>-1.571081</td>\n      <td>-1.403435</td>\n      <td>-1.017850</td>\n      <td>-0.313737</td>\n      <td>-0.598735</td>\n    </tr>\n    <tr>\n      <th>84</th>\n      <td>0.141160</td>\n      <td>0.198139</td>\n      <td>0.060720</td>\n      <td>-0.371649</td>\n      <td>0.265173</td>\n      <td>1.297496</td>\n      <td>1.860581</td>\n      <td>1.284089</td>\n      <td>1.274034</td>\n      <td>-0.133679</td>\n      <td>-0.045504</td>\n      <td>-0.028739</td>\n      <td>-0.347266</td>\n      <td>-0.975938</td>\n      <td>-0.908880</td>\n      <td>-1.219025</td>\n      <td>-1.260936</td>\n      <td>-1.068144</td>\n      <td>-0.732852</td>\n      <td>-0.196385</td>\n    </tr>\n    <tr>\n      <th>3659</th>\n      <td>-0.854294</td>\n      <td>-0.904569</td>\n      <td>-1.008472</td>\n      <td>-1.078857</td>\n      <td>-1.072154</td>\n      <td>-0.669950</td>\n      <td>-0.562696</td>\n      <td>-0.006314</td>\n      <td>0.245063</td>\n      <td>0.332207</td>\n      <td>-5.762229</td>\n      <td>-4.194740</td>\n      <td>-5.720317</td>\n      <td>-4.286945</td>\n      <td>-4.999440</td>\n      <td>-4.949146</td>\n      <td>-4.270180</td>\n      <td>-4.714442</td>\n      <td>-3.993565</td>\n      <td>-3.054748</td>\n    </tr>\n    <tr>\n      <th>791</th>\n      <td>-0.814073</td>\n      <td>-0.807370</td>\n      <td>-0.961548</td>\n      <td>-1.162650</td>\n      <td>-1.380510</td>\n      <td>-1.112374</td>\n      <td>-0.626378</td>\n      <td>-0.123624</td>\n      <td>0.214898</td>\n      <td>0.000389</td>\n      <td>-1.135202</td>\n      <td>-1.026232</td>\n      <td>-0.959174</td>\n      <td>-0.607117</td>\n      <td>-0.841822</td>\n      <td>-0.355649</td>\n      <td>-0.514912</td>\n      <td>-0.196385</td>\n      <td>-0.003592</td>\n      <td>-0.548441</td>\n    </tr>\n    <tr>\n      <th>...</th>\n      <td>...</td>\n      <td>...</td>\n      <td>...</td>\n      <td>...</td>\n      <td>...</td>\n      <td>...</td>\n      <td>...</td>\n      <td>...</td>\n      <td>...</td>\n      <td>...</td>\n      <td>...</td>\n      <td>...</td>\n      <td>...</td>\n      <td>...</td>\n      <td>...</td>\n      <td>...</td>\n      <td>...</td>\n      <td>...</td>\n      <td>...</td>\n      <td>...</td>\n    </tr>\n    <tr>\n      <th>3773</th>\n      <td>1.072932</td>\n      <td>1.049470</td>\n      <td>0.741114</td>\n      <td>0.707597</td>\n      <td>0.848368</td>\n      <td>0.499792</td>\n      <td>0.335559</td>\n      <td>1.485191</td>\n      <td>1.565631</td>\n      <td>1.213703</td>\n      <td>0.465816</td>\n      <td>-0.540059</td>\n      <td>-0.674176</td>\n      <td>-0.975938</td>\n      <td>-0.489765</td>\n      <td>-0.372413</td>\n      <td>0.340082</td>\n      <td>0.599933</td>\n      <td>0.348464</td>\n      <td>0.314935</td>\n    </tr>\n    <tr>\n      <th>5192</th>\n      <td>-0.187306</td>\n      <td>0.070775</td>\n      <td>0.241711</td>\n      <td>0.402593</td>\n      <td>0.945567</td>\n      <td>1.448322</td>\n      <td>0.868478</td>\n      <td>0.781334</td>\n      <td>0.204842</td>\n      <td>-0.039831</td>\n      <td>0.155671</td>\n      <td>0.063466</td>\n      <td>0.390376</td>\n      <td>0.507728</td>\n      <td>0.306553</td>\n      <td>0.365229</td>\n      <td>0.432287</td>\n      <td>0.088613</td>\n      <td>0.080231</td>\n      <td>-0.179620</td>\n    </tr>\n    <tr>\n      <th>5227</th>\n      <td>-0.180603</td>\n      <td>-0.086755</td>\n      <td>0.754521</td>\n      <td>0.054016</td>\n      <td>0.975733</td>\n      <td>0.228304</td>\n      <td>0.224953</td>\n      <td>-0.190658</td>\n      <td>-0.328077</td>\n      <td>-0.485607</td>\n      <td>-0.070650</td>\n      <td>0.281406</td>\n      <td>-0.020357</td>\n      <td>0.197583</td>\n      <td>0.004790</td>\n      <td>0.490963</td>\n      <td>0.071849</td>\n      <td>0.843020</td>\n      <td>0.457434</td>\n      <td>0.558022</td>\n    </tr>\n    <tr>\n      <th>5391</th>\n      <td>0.395889</td>\n      <td>0.808148</td>\n      <td>0.590288</td>\n      <td>0.348965</td>\n      <td>0.077478</td>\n      <td>0.238359</td>\n      <td>0.188084</td>\n      <td>0.543364</td>\n      <td>1.062877</td>\n      <td>0.295338</td>\n      <td>0.901696</td>\n      <td>0.901696</td>\n      <td>0.331700</td>\n      <td>0.692138</td>\n      <td>-0.196385</td>\n      <td>-0.296972</td>\n      <td>-0.850204</td>\n      <td>-0.598735</td>\n      <td>-0.892115</td>\n      <td>-0.598735</td>\n    </tr>\n    <tr>\n      <th>861</th>\n      <td>2.721967</td>\n      <td>2.671691</td>\n      <td>2.095199</td>\n      <td>-0.073348</td>\n      <td>-1.330235</td>\n      <td>-1.538040</td>\n      <td>-1.501171</td>\n      <td>-0.730281</td>\n      <td>-0.817425</td>\n      <td>-0.944789</td>\n      <td>-1.763874</td>\n      <td>-1.344759</td>\n      <td>-1.001085</td>\n      <td>-0.858586</td>\n      <td>-0.481383</td>\n      <td>0.700521</td>\n      <td>0.189201</td>\n      <td>0.407140</td>\n      <td>0.264641</td>\n      <td>0.901696</td>\n    </tr>\n  </tbody>\n</table>\n<p>3919 rows × 20 columns</p>\n</div>"
     },
     "execution_count": 28,
     "metadata": {},
     "output_type": "execute_result"
    }
   ],
   "source": [
    "y_train_surge"
   ],
   "metadata": {
    "collapsed": false,
    "pycharm": {
     "name": "#%%\n"
    }
   }
  },
  {
   "cell_type": "code",
   "execution_count": 28,
   "outputs": [],
   "source": [],
   "metadata": {
    "collapsed": false,
    "pycharm": {
     "name": "#%%\n"
    }
   }
  },
  {
   "cell_type": "markdown",
   "source": [
    "#### Baseline / Benchmark : Ball Tree"
   ],
   "metadata": {
    "collapsed": false,
    "pycharm": {
     "name": "#%% md\n"
    }
   }
  },
  {
   "cell_type": "code",
   "execution_count": 29,
   "outputs": [
    {
     "data": {
      "text/plain": "      surge1_t0  surge1_t1  surge1_t2  surge1_t3  surge1_t4  surge1_t5  \\\n4441  -0.182027  -0.049300   0.063820   0.046978  -0.151862  -0.185798   \n2472  -0.179848  -0.162001  -0.275037  -0.135606  -0.084912   0.068009   \n3317  -0.269925  -0.080638  -0.120272  -0.198953  -0.255932  -0.203813   \n81    -0.117172   0.118034  -0.059104  -0.141136  -0.056590   0.039771   \n4806  -0.019973   0.236265   0.138395  -0.110049  -0.266909  -0.253502   \n...         ...        ...        ...        ...        ...        ...   \n1392   0.014466  -0.089353  -0.120859  -0.140550  -0.220488  -0.254675   \n4351  -0.108541  -0.054579   0.060217   0.048151   0.053346  -0.129657   \n221   -0.228867  -0.096307   0.072953  -0.098318  -0.122702  -0.098821   \n1746  -0.297074  -0.404664  -0.392765  -0.368214  -0.387737  -0.376677   \n628   -0.241101  -0.118093  -0.064466  -0.175826  -0.083320  -0.020056   \n\n      surge1_t6  surge1_t7  surge1_t8  surge1_t9  surge2_t0  surge2_t1  \\\n4441  -0.054663   0.025024   0.072032   0.075467  -0.284399  -0.236620   \n2472   0.005668   0.030973  -0.071337  -0.224091  -0.113819   0.018202   \n3317  -0.028100  -0.052568  -0.188395  -0.228783  -0.487251  -0.492909   \n81    -0.108374  -0.015951  -0.083487  -0.082649  -0.302421  -0.261138   \n4806  -0.418154  -0.545183  -0.583477  -0.375336  -0.099569  -0.188003   \n...         ...        ...        ...        ...        ...        ...   \n1392  -0.158733  -0.225767  -0.220404  -0.057009  -0.376185  -0.316671   \n4351  -0.074773  -0.066729  -0.117591  -0.160157  -0.174591  -0.269730   \n221    0.007344  -0.083571  -0.299336  -0.129489  -0.252127  -0.227190   \n1746  -0.475887  -0.471865  -0.317436  -0.121110  -0.027691  -0.028949   \n628    0.098007   0.063904  -0.017207   0.067507  -0.044456  -0.087415   \n\n      surge2_t2  surge2_t3  surge2_t4  surge2_t5  surge2_t6  surge2_t7  \\\n4441  -0.237877  -0.136661  -0.152797  -0.165580  -0.039636   0.009191   \n2472   0.023650   0.016945  -0.092444  -0.120106  -0.157617  -0.110466   \n3317  -0.441986  -0.464199  -0.499195  -0.530838  -0.472791  -0.479078   \n81    -0.218808  -0.241440  -0.264072  -0.241021  -0.300744  -0.265958   \n4806  -0.134775  -0.228657  -0.164742  -0.243326  -0.177944  -0.150701   \n...         ...        ...        ...        ...        ...        ...   \n1392  -0.231171  -0.211473  -0.197223  -0.194708  -0.221322  -0.221741   \n4351  -0.299906  -0.422916  -0.504644  -0.533144  -0.567092  -0.539849   \n221   -0.154264  -0.066459  -0.122411  -0.217341  -0.168095  -0.211263   \n1746  -0.044456   0.026584  -0.063735  -0.058915  -0.112772  -0.157826   \n628   -0.182764  -0.291105  -0.397141  -0.400284  -0.447644  -0.454769   \n\n      surge2_t8  surge2_t9  \n4441   0.047330   0.006886  \n2472  -0.005897  -0.004011  \n3317  -0.396093  -0.361307  \n81    -0.399446  -0.368012  \n4806  -0.200576  -0.224046  \n...         ...        ...  \n1392  -0.278322  -0.382472  \n4351  -0.499614  -0.436328  \n221   -0.283980  -0.289847  \n1746  -0.252756  -0.288381  \n628   -0.421869  -0.323586  \n\n[1680 rows x 20 columns]",
      "text/html": "<div>\n<style scoped>\n    .dataframe tbody tr th:only-of-type {\n        vertical-align: middle;\n    }\n\n    .dataframe tbody tr th {\n        vertical-align: top;\n    }\n\n    .dataframe thead th {\n        text-align: right;\n    }\n</style>\n<table border=\"1\" class=\"dataframe\">\n  <thead>\n    <tr style=\"text-align: right;\">\n      <th></th>\n      <th>surge1_t0</th>\n      <th>surge1_t1</th>\n      <th>surge1_t2</th>\n      <th>surge1_t3</th>\n      <th>surge1_t4</th>\n      <th>surge1_t5</th>\n      <th>surge1_t6</th>\n      <th>surge1_t7</th>\n      <th>surge1_t8</th>\n      <th>surge1_t9</th>\n      <th>surge2_t0</th>\n      <th>surge2_t1</th>\n      <th>surge2_t2</th>\n      <th>surge2_t3</th>\n      <th>surge2_t4</th>\n      <th>surge2_t5</th>\n      <th>surge2_t6</th>\n      <th>surge2_t7</th>\n      <th>surge2_t8</th>\n      <th>surge2_t9</th>\n    </tr>\n  </thead>\n  <tbody>\n    <tr>\n      <th>4441</th>\n      <td>-0.182027</td>\n      <td>-0.049300</td>\n      <td>0.063820</td>\n      <td>0.046978</td>\n      <td>-0.151862</td>\n      <td>-0.185798</td>\n      <td>-0.054663</td>\n      <td>0.025024</td>\n      <td>0.072032</td>\n      <td>0.075467</td>\n      <td>-0.284399</td>\n      <td>-0.236620</td>\n      <td>-0.237877</td>\n      <td>-0.136661</td>\n      <td>-0.152797</td>\n      <td>-0.165580</td>\n      <td>-0.039636</td>\n      <td>0.009191</td>\n      <td>0.047330</td>\n      <td>0.006886</td>\n    </tr>\n    <tr>\n      <th>2472</th>\n      <td>-0.179848</td>\n      <td>-0.162001</td>\n      <td>-0.275037</td>\n      <td>-0.135606</td>\n      <td>-0.084912</td>\n      <td>0.068009</td>\n      <td>0.005668</td>\n      <td>0.030973</td>\n      <td>-0.071337</td>\n      <td>-0.224091</td>\n      <td>-0.113819</td>\n      <td>0.018202</td>\n      <td>0.023650</td>\n      <td>0.016945</td>\n      <td>-0.092444</td>\n      <td>-0.120106</td>\n      <td>-0.157617</td>\n      <td>-0.110466</td>\n      <td>-0.005897</td>\n      <td>-0.004011</td>\n    </tr>\n    <tr>\n      <th>3317</th>\n      <td>-0.269925</td>\n      <td>-0.080638</td>\n      <td>-0.120272</td>\n      <td>-0.198953</td>\n      <td>-0.255932</td>\n      <td>-0.203813</td>\n      <td>-0.028100</td>\n      <td>-0.052568</td>\n      <td>-0.188395</td>\n      <td>-0.228783</td>\n      <td>-0.487251</td>\n      <td>-0.492909</td>\n      <td>-0.441986</td>\n      <td>-0.464199</td>\n      <td>-0.499195</td>\n      <td>-0.530838</td>\n      <td>-0.472791</td>\n      <td>-0.479078</td>\n      <td>-0.396093</td>\n      <td>-0.361307</td>\n    </tr>\n    <tr>\n      <th>81</th>\n      <td>-0.117172</td>\n      <td>0.118034</td>\n      <td>-0.059104</td>\n      <td>-0.141136</td>\n      <td>-0.056590</td>\n      <td>0.039771</td>\n      <td>-0.108374</td>\n      <td>-0.015951</td>\n      <td>-0.083487</td>\n      <td>-0.082649</td>\n      <td>-0.302421</td>\n      <td>-0.261138</td>\n      <td>-0.218808</td>\n      <td>-0.241440</td>\n      <td>-0.264072</td>\n      <td>-0.241021</td>\n      <td>-0.300744</td>\n      <td>-0.265958</td>\n      <td>-0.399446</td>\n      <td>-0.368012</td>\n    </tr>\n    <tr>\n      <th>4806</th>\n      <td>-0.019973</td>\n      <td>0.236265</td>\n      <td>0.138395</td>\n      <td>-0.110049</td>\n      <td>-0.266909</td>\n      <td>-0.253502</td>\n      <td>-0.418154</td>\n      <td>-0.545183</td>\n      <td>-0.583477</td>\n      <td>-0.375336</td>\n      <td>-0.099569</td>\n      <td>-0.188003</td>\n      <td>-0.134775</td>\n      <td>-0.228657</td>\n      <td>-0.164742</td>\n      <td>-0.243326</td>\n      <td>-0.177944</td>\n      <td>-0.150701</td>\n      <td>-0.200576</td>\n      <td>-0.224046</td>\n    </tr>\n    <tr>\n      <th>...</th>\n      <td>...</td>\n      <td>...</td>\n      <td>...</td>\n      <td>...</td>\n      <td>...</td>\n      <td>...</td>\n      <td>...</td>\n      <td>...</td>\n      <td>...</td>\n      <td>...</td>\n      <td>...</td>\n      <td>...</td>\n      <td>...</td>\n      <td>...</td>\n      <td>...</td>\n      <td>...</td>\n      <td>...</td>\n      <td>...</td>\n      <td>...</td>\n      <td>...</td>\n    </tr>\n    <tr>\n      <th>1392</th>\n      <td>0.014466</td>\n      <td>-0.089353</td>\n      <td>-0.120859</td>\n      <td>-0.140550</td>\n      <td>-0.220488</td>\n      <td>-0.254675</td>\n      <td>-0.158733</td>\n      <td>-0.225767</td>\n      <td>-0.220404</td>\n      <td>-0.057009</td>\n      <td>-0.376185</td>\n      <td>-0.316671</td>\n      <td>-0.231171</td>\n      <td>-0.211473</td>\n      <td>-0.197223</td>\n      <td>-0.194708</td>\n      <td>-0.221322</td>\n      <td>-0.221741</td>\n      <td>-0.278322</td>\n      <td>-0.382472</td>\n    </tr>\n    <tr>\n      <th>4351</th>\n      <td>-0.108541</td>\n      <td>-0.054579</td>\n      <td>0.060217</td>\n      <td>0.048151</td>\n      <td>0.053346</td>\n      <td>-0.129657</td>\n      <td>-0.074773</td>\n      <td>-0.066729</td>\n      <td>-0.117591</td>\n      <td>-0.160157</td>\n      <td>-0.174591</td>\n      <td>-0.269730</td>\n      <td>-0.299906</td>\n      <td>-0.422916</td>\n      <td>-0.504644</td>\n      <td>-0.533144</td>\n      <td>-0.567092</td>\n      <td>-0.539849</td>\n      <td>-0.499614</td>\n      <td>-0.436328</td>\n    </tr>\n    <tr>\n      <th>221</th>\n      <td>-0.228867</td>\n      <td>-0.096307</td>\n      <td>0.072953</td>\n      <td>-0.098318</td>\n      <td>-0.122702</td>\n      <td>-0.098821</td>\n      <td>0.007344</td>\n      <td>-0.083571</td>\n      <td>-0.299336</td>\n      <td>-0.129489</td>\n      <td>-0.252127</td>\n      <td>-0.227190</td>\n      <td>-0.154264</td>\n      <td>-0.066459</td>\n      <td>-0.122411</td>\n      <td>-0.217341</td>\n      <td>-0.168095</td>\n      <td>-0.211263</td>\n      <td>-0.283980</td>\n      <td>-0.289847</td>\n    </tr>\n    <tr>\n      <th>1746</th>\n      <td>-0.297074</td>\n      <td>-0.404664</td>\n      <td>-0.392765</td>\n      <td>-0.368214</td>\n      <td>-0.387737</td>\n      <td>-0.376677</td>\n      <td>-0.475887</td>\n      <td>-0.471865</td>\n      <td>-0.317436</td>\n      <td>-0.121110</td>\n      <td>-0.027691</td>\n      <td>-0.028949</td>\n      <td>-0.044456</td>\n      <td>0.026584</td>\n      <td>-0.063735</td>\n      <td>-0.058915</td>\n      <td>-0.112772</td>\n      <td>-0.157826</td>\n      <td>-0.252756</td>\n      <td>-0.288381</td>\n    </tr>\n    <tr>\n      <th>628</th>\n      <td>-0.241101</td>\n      <td>-0.118093</td>\n      <td>-0.064466</td>\n      <td>-0.175826</td>\n      <td>-0.083320</td>\n      <td>-0.020056</td>\n      <td>0.098007</td>\n      <td>0.063904</td>\n      <td>-0.017207</td>\n      <td>0.067507</td>\n      <td>-0.044456</td>\n      <td>-0.087415</td>\n      <td>-0.182764</td>\n      <td>-0.291105</td>\n      <td>-0.397141</td>\n      <td>-0.400284</td>\n      <td>-0.447644</td>\n      <td>-0.454769</td>\n      <td>-0.421869</td>\n      <td>-0.323586</td>\n    </tr>\n  </tbody>\n</table>\n<p>1680 rows × 20 columns</p>\n</div>"
     },
     "metadata": {},
     "output_type": "display_data"
    }
   ],
   "source": [
    "from sklearn.neighbors import BallTree\n",
    "\n",
    "# 1) fit\n",
    "tree = BallTree(X_train_surge, metric='l2')\n",
    "\n",
    "# 2) predict\n",
    "y_val_surge_pred_ballTree = []; k = 40\n",
    "for i in range(X_val_surge.shape[0]):\n",
    "    dist, ind = tree.query([X_val_surge[i]], k=k)\n",
    "    y_val_surge_pred_ballTree.append(np.mean(surge_train[ind[0]], axis=0)) # we get indexes in surge_train (Y_train) where all the training data is\n",
    "\n",
    "# 3) to matrix\n",
    "y_val_surge_pred_ballTree = np.array(y_val_surge_pred_ballTree)\n",
    "\n",
    "# 4) save\n",
    "save_y_pred(\"BallTree\", output_path, y_val_surge_pred_ballTree, y_val_surge.index, submit=False)"
   ],
   "metadata": {
    "collapsed": false,
    "pycharm": {
     "name": "#%%\n"
    }
   }
  },
  {
   "cell_type": "markdown",
   "source": [
    "#### 1) Kernel Ridge"
   ],
   "metadata": {
    "collapsed": false,
    "pycharm": {
     "name": "#%% md\n"
    }
   }
  },
  {
   "cell_type": "code",
   "execution_count": 30,
   "outputs": [],
   "source": [
    "from sklearn.multioutput import MultiOutputRegressor\n",
    "from sklearn.kernel_ridge import KernelRidge"
   ],
   "metadata": {
    "collapsed": false,
    "pycharm": {
     "name": "#%%\n"
    }
   }
  },
  {
   "cell_type": "code",
   "execution_count": 31,
   "outputs": [
    {
     "data": {
      "text/plain": "array([[ 1.37957876e-02,  3.89000943e-04,  3.15448487e-01, ...,\n         2.98170509e-01,  1.22142310e-01,  3.40081985e-01],\n       [ 8.45016559e-01,  5.56770646e-01,  1.85722895e+00, ...,\n        -1.01784984e+00, -3.13737041e-01, -5.98735077e-01],\n       [ 1.41160261e-01,  1.98139104e-01,  6.07195408e-02, ...,\n        -1.06814361e+00, -7.32851800e-01, -1.96384908e-01],\n       ...,\n       [-1.80602619e-01, -8.67551122e-02,  7.54520749e-01, ...,\n         8.43019697e-01,  4.57434118e-01,  5.58021660e-01],\n       [ 3.95889207e-01,  8.08147896e-01,  5.90287613e-01, ...,\n        -5.98735077e-01, -8.92115409e-01, -5.98735077e-01],\n       [ 2.72196669e+00,  2.67169124e+00,  2.09519941e+00, ...,\n         4.07140347e-01,  2.64641328e-01,  9.01695763e-01]])"
     },
     "execution_count": 31,
     "metadata": {},
     "output_type": "execute_result"
    }
   ],
   "source": [
    "y_train_surge.values"
   ],
   "metadata": {
    "collapsed": false,
    "pycharm": {
     "name": "#%%\n"
    }
   }
  },
  {
   "cell_type": "code",
   "execution_count": 32,
   "outputs": [],
   "source": [
    "estimator = KernelRidge(kernel='rbf') # default = Linear\n",
    "# Valid values for metric are: [‘additive_chi2’, ‘chi2’, ‘linear’, ‘poly’, ‘polynomial’, ‘rbf’, ‘laplacian’, ‘sigmoid’, ‘cosine’]\n",
    "regr_ridge = MultiOutputRegressor(estimator).fit(X_train_surge, y_train_surge)\n"
   ],
   "metadata": {
    "collapsed": false,
    "pycharm": {
     "name": "#%%\n"
    }
   }
  },
  {
   "cell_type": "code",
   "execution_count": 33,
   "outputs": [
    {
     "data": {
      "text/plain": "array([[ 6.89638653e-03,  1.94457971e-04,  1.57689779e-01,\n         5.38098864e-02, -4.33680776e-02,  5.22090439e-03,\n         1.35908511e-01,  1.87848458e-01,  1.40934958e-01,\n         1.35908511e-01,  2.16096386e-01,  2.57998704e-01,\n         5.26773466e-02,  6.52480420e-02,  2.20286618e-01,\n         2.07715923e-01,  6.94382738e-02,  1.49052678e-01,\n         6.10578102e-02,  1.70003837e-01]])"
     },
     "execution_count": 33,
     "metadata": {},
     "output_type": "execute_result"
    }
   ],
   "source": [
    "regr_ridge.predict(X_train_surge[[0]])"
   ],
   "metadata": {
    "collapsed": false,
    "pycharm": {
     "name": "#%%\n"
    }
   }
  },
  {
   "cell_type": "code",
   "execution_count": 34,
   "outputs": [
    {
     "data": {
      "text/plain": "array([[0., 0., 0., ..., 0., 0., 0.],\n       [0., 0., 0., ..., 0., 0., 0.],\n       [0., 0., 0., ..., 0., 0., 0.],\n       ...,\n       [0., 0., 0., ..., 0., 0., 0.],\n       [0., 0., 0., ..., 0., 0., 0.],\n       [0., 0., 0., ..., 0., 0., 0.]])"
     },
     "execution_count": 34,
     "metadata": {},
     "output_type": "execute_result"
    }
   ],
   "source": [
    "y_val_surge_pred_ridge = regr_ridge.predict(X_val_surge)\n",
    "y_val_surge_pred_ridge"
   ],
   "metadata": {
    "collapsed": false,
    "pycharm": {
     "name": "#%%\n"
    }
   }
  },
  {
   "cell_type": "code",
   "execution_count": 35,
   "outputs": [
    {
     "data": {
      "text/plain": "      surge1_t0  surge1_t1  surge1_t2  surge1_t3  surge1_t4  surge1_t5  \\\n4441        0.0        0.0        0.0        0.0        0.0        0.0   \n2472        0.0        0.0        0.0        0.0        0.0        0.0   \n3317        0.0        0.0        0.0        0.0        0.0        0.0   \n81          0.0        0.0        0.0        0.0        0.0        0.0   \n4806        0.0        0.0        0.0        0.0        0.0        0.0   \n...         ...        ...        ...        ...        ...        ...   \n1392        0.0        0.0        0.0        0.0        0.0        0.0   \n4351        0.0        0.0        0.0        0.0        0.0        0.0   \n221         0.0        0.0        0.0        0.0        0.0        0.0   \n1746        0.0        0.0        0.0        0.0        0.0        0.0   \n628         0.0        0.0        0.0        0.0        0.0        0.0   \n\n      surge1_t6  surge1_t7  surge1_t8  surge1_t9  surge2_t0  surge2_t1  \\\n4441        0.0        0.0        0.0        0.0        0.0        0.0   \n2472        0.0        0.0        0.0        0.0        0.0        0.0   \n3317        0.0        0.0        0.0        0.0        0.0        0.0   \n81          0.0        0.0        0.0        0.0        0.0        0.0   \n4806        0.0        0.0        0.0        0.0        0.0        0.0   \n...         ...        ...        ...        ...        ...        ...   \n1392        0.0        0.0        0.0        0.0        0.0        0.0   \n4351        0.0        0.0        0.0        0.0        0.0        0.0   \n221         0.0        0.0        0.0        0.0        0.0        0.0   \n1746        0.0        0.0        0.0        0.0        0.0        0.0   \n628         0.0        0.0        0.0        0.0        0.0        0.0   \n\n      surge2_t2  surge2_t3  surge2_t4  surge2_t5  surge2_t6  surge2_t7  \\\n4441        0.0        0.0        0.0        0.0        0.0        0.0   \n2472        0.0        0.0        0.0        0.0        0.0        0.0   \n3317        0.0        0.0        0.0        0.0        0.0        0.0   \n81          0.0        0.0        0.0        0.0        0.0        0.0   \n4806        0.0        0.0        0.0        0.0        0.0        0.0   \n...         ...        ...        ...        ...        ...        ...   \n1392        0.0        0.0        0.0        0.0        0.0        0.0   \n4351        0.0        0.0        0.0        0.0        0.0        0.0   \n221         0.0        0.0        0.0        0.0        0.0        0.0   \n1746        0.0        0.0        0.0        0.0        0.0        0.0   \n628         0.0        0.0        0.0        0.0        0.0        0.0   \n\n      surge2_t8  surge2_t9  \n4441        0.0        0.0  \n2472        0.0        0.0  \n3317        0.0        0.0  \n81          0.0        0.0  \n4806        0.0        0.0  \n...         ...        ...  \n1392        0.0        0.0  \n4351        0.0        0.0  \n221         0.0        0.0  \n1746        0.0        0.0  \n628         0.0        0.0  \n\n[1680 rows x 20 columns]",
      "text/html": "<div>\n<style scoped>\n    .dataframe tbody tr th:only-of-type {\n        vertical-align: middle;\n    }\n\n    .dataframe tbody tr th {\n        vertical-align: top;\n    }\n\n    .dataframe thead th {\n        text-align: right;\n    }\n</style>\n<table border=\"1\" class=\"dataframe\">\n  <thead>\n    <tr style=\"text-align: right;\">\n      <th></th>\n      <th>surge1_t0</th>\n      <th>surge1_t1</th>\n      <th>surge1_t2</th>\n      <th>surge1_t3</th>\n      <th>surge1_t4</th>\n      <th>surge1_t5</th>\n      <th>surge1_t6</th>\n      <th>surge1_t7</th>\n      <th>surge1_t8</th>\n      <th>surge1_t9</th>\n      <th>surge2_t0</th>\n      <th>surge2_t1</th>\n      <th>surge2_t2</th>\n      <th>surge2_t3</th>\n      <th>surge2_t4</th>\n      <th>surge2_t5</th>\n      <th>surge2_t6</th>\n      <th>surge2_t7</th>\n      <th>surge2_t8</th>\n      <th>surge2_t9</th>\n    </tr>\n  </thead>\n  <tbody>\n    <tr>\n      <th>4441</th>\n      <td>0.0</td>\n      <td>0.0</td>\n      <td>0.0</td>\n      <td>0.0</td>\n      <td>0.0</td>\n      <td>0.0</td>\n      <td>0.0</td>\n      <td>0.0</td>\n      <td>0.0</td>\n      <td>0.0</td>\n      <td>0.0</td>\n      <td>0.0</td>\n      <td>0.0</td>\n      <td>0.0</td>\n      <td>0.0</td>\n      <td>0.0</td>\n      <td>0.0</td>\n      <td>0.0</td>\n      <td>0.0</td>\n      <td>0.0</td>\n    </tr>\n    <tr>\n      <th>2472</th>\n      <td>0.0</td>\n      <td>0.0</td>\n      <td>0.0</td>\n      <td>0.0</td>\n      <td>0.0</td>\n      <td>0.0</td>\n      <td>0.0</td>\n      <td>0.0</td>\n      <td>0.0</td>\n      <td>0.0</td>\n      <td>0.0</td>\n      <td>0.0</td>\n      <td>0.0</td>\n      <td>0.0</td>\n      <td>0.0</td>\n      <td>0.0</td>\n      <td>0.0</td>\n      <td>0.0</td>\n      <td>0.0</td>\n      <td>0.0</td>\n    </tr>\n    <tr>\n      <th>3317</th>\n      <td>0.0</td>\n      <td>0.0</td>\n      <td>0.0</td>\n      <td>0.0</td>\n      <td>0.0</td>\n      <td>0.0</td>\n      <td>0.0</td>\n      <td>0.0</td>\n      <td>0.0</td>\n      <td>0.0</td>\n      <td>0.0</td>\n      <td>0.0</td>\n      <td>0.0</td>\n      <td>0.0</td>\n      <td>0.0</td>\n      <td>0.0</td>\n      <td>0.0</td>\n      <td>0.0</td>\n      <td>0.0</td>\n      <td>0.0</td>\n    </tr>\n    <tr>\n      <th>81</th>\n      <td>0.0</td>\n      <td>0.0</td>\n      <td>0.0</td>\n      <td>0.0</td>\n      <td>0.0</td>\n      <td>0.0</td>\n      <td>0.0</td>\n      <td>0.0</td>\n      <td>0.0</td>\n      <td>0.0</td>\n      <td>0.0</td>\n      <td>0.0</td>\n      <td>0.0</td>\n      <td>0.0</td>\n      <td>0.0</td>\n      <td>0.0</td>\n      <td>0.0</td>\n      <td>0.0</td>\n      <td>0.0</td>\n      <td>0.0</td>\n    </tr>\n    <tr>\n      <th>4806</th>\n      <td>0.0</td>\n      <td>0.0</td>\n      <td>0.0</td>\n      <td>0.0</td>\n      <td>0.0</td>\n      <td>0.0</td>\n      <td>0.0</td>\n      <td>0.0</td>\n      <td>0.0</td>\n      <td>0.0</td>\n      <td>0.0</td>\n      <td>0.0</td>\n      <td>0.0</td>\n      <td>0.0</td>\n      <td>0.0</td>\n      <td>0.0</td>\n      <td>0.0</td>\n      <td>0.0</td>\n      <td>0.0</td>\n      <td>0.0</td>\n    </tr>\n    <tr>\n      <th>...</th>\n      <td>...</td>\n      <td>...</td>\n      <td>...</td>\n      <td>...</td>\n      <td>...</td>\n      <td>...</td>\n      <td>...</td>\n      <td>...</td>\n      <td>...</td>\n      <td>...</td>\n      <td>...</td>\n      <td>...</td>\n      <td>...</td>\n      <td>...</td>\n      <td>...</td>\n      <td>...</td>\n      <td>...</td>\n      <td>...</td>\n      <td>...</td>\n      <td>...</td>\n    </tr>\n    <tr>\n      <th>1392</th>\n      <td>0.0</td>\n      <td>0.0</td>\n      <td>0.0</td>\n      <td>0.0</td>\n      <td>0.0</td>\n      <td>0.0</td>\n      <td>0.0</td>\n      <td>0.0</td>\n      <td>0.0</td>\n      <td>0.0</td>\n      <td>0.0</td>\n      <td>0.0</td>\n      <td>0.0</td>\n      <td>0.0</td>\n      <td>0.0</td>\n      <td>0.0</td>\n      <td>0.0</td>\n      <td>0.0</td>\n      <td>0.0</td>\n      <td>0.0</td>\n    </tr>\n    <tr>\n      <th>4351</th>\n      <td>0.0</td>\n      <td>0.0</td>\n      <td>0.0</td>\n      <td>0.0</td>\n      <td>0.0</td>\n      <td>0.0</td>\n      <td>0.0</td>\n      <td>0.0</td>\n      <td>0.0</td>\n      <td>0.0</td>\n      <td>0.0</td>\n      <td>0.0</td>\n      <td>0.0</td>\n      <td>0.0</td>\n      <td>0.0</td>\n      <td>0.0</td>\n      <td>0.0</td>\n      <td>0.0</td>\n      <td>0.0</td>\n      <td>0.0</td>\n    </tr>\n    <tr>\n      <th>221</th>\n      <td>0.0</td>\n      <td>0.0</td>\n      <td>0.0</td>\n      <td>0.0</td>\n      <td>0.0</td>\n      <td>0.0</td>\n      <td>0.0</td>\n      <td>0.0</td>\n      <td>0.0</td>\n      <td>0.0</td>\n      <td>0.0</td>\n      <td>0.0</td>\n      <td>0.0</td>\n      <td>0.0</td>\n      <td>0.0</td>\n      <td>0.0</td>\n      <td>0.0</td>\n      <td>0.0</td>\n      <td>0.0</td>\n      <td>0.0</td>\n    </tr>\n    <tr>\n      <th>1746</th>\n      <td>0.0</td>\n      <td>0.0</td>\n      <td>0.0</td>\n      <td>0.0</td>\n      <td>0.0</td>\n      <td>0.0</td>\n      <td>0.0</td>\n      <td>0.0</td>\n      <td>0.0</td>\n      <td>0.0</td>\n      <td>0.0</td>\n      <td>0.0</td>\n      <td>0.0</td>\n      <td>0.0</td>\n      <td>0.0</td>\n      <td>0.0</td>\n      <td>0.0</td>\n      <td>0.0</td>\n      <td>0.0</td>\n      <td>0.0</td>\n    </tr>\n    <tr>\n      <th>628</th>\n      <td>0.0</td>\n      <td>0.0</td>\n      <td>0.0</td>\n      <td>0.0</td>\n      <td>0.0</td>\n      <td>0.0</td>\n      <td>0.0</td>\n      <td>0.0</td>\n      <td>0.0</td>\n      <td>0.0</td>\n      <td>0.0</td>\n      <td>0.0</td>\n      <td>0.0</td>\n      <td>0.0</td>\n      <td>0.0</td>\n      <td>0.0</td>\n      <td>0.0</td>\n      <td>0.0</td>\n      <td>0.0</td>\n      <td>0.0</td>\n    </tr>\n  </tbody>\n</table>\n<p>1680 rows × 20 columns</p>\n</div>"
     },
     "metadata": {},
     "output_type": "display_data"
    }
   ],
   "source": [
    "save_y_pred(\"KernelRidge\", output_path, y_val_surge_pred_ridge, y_val_surge.index, submit=False)"
   ],
   "metadata": {
    "collapsed": false,
    "pycharm": {
     "name": "#%%\n"
    }
   }
  },
  {
   "cell_type": "code",
   "execution_count": 36,
   "outputs": [
    {
     "data": {
      "text/plain": "      surge1_t0  surge1_t1  surge1_t2  surge1_t3  surge1_t4  surge1_t5  \\\n4441  -0.167196  -0.234230  -0.110217  -0.029776   0.047313  -0.046535   \n2472   0.238359   2.105255   0.888589   1.062877   1.103097  -1.638591   \n3317  -0.096810  -0.100162  -0.103514   0.265173  -0.244285  -0.321374   \n81     1.331013   0.553419   1.220407   0.637211  -0.013018  -0.150437   \n4806   1.776788   3.053785   3.516319   2.557734   0.922106   2.068386   \n...         ...        ...        ...        ...        ...        ...   \n1392  -1.440841  -1.135836  -0.760446  -0.747039  -0.271098  -0.499014   \n4351  -0.116920  -0.328077  -0.371649  -0.455442  -0.455442  -0.499014   \n221   -1.420730  -1.561502  -1.702273  -1.826286  -1.779362  -1.283311   \n1746  -0.163844  -0.458793  -0.006314  -0.090107  -0.250988  -0.368298   \n628    0.070775  -0.971603  -0.877756  -1.427434  -1.507874  -0.944789   \n\n      surge1_t6  surge1_t7  surge1_t8  surge1_t9  surge2_t0  surge2_t1  \\\n4441  -0.354891  -0.405166  -0.314670  -0.690061  -0.104180  -0.162856   \n2472  -1.145891  -0.321374  -0.579455  -0.666599  -1.336377  -0.967556   \n3317  -0.552641  -0.579455  -0.646488  -0.110217   1.002283   0.960372   \n81     0.141160   0.198139   0.060720  -0.371649  -0.925645  -1.403435   \n4806   1.713106   1.153373   2.406907   1.947725   0.901696   1.236988   \n...         ...        ...        ...        ...        ...        ...   \n1392  -0.539234  -0.696764  -0.874404  -0.901217   1.295664   1.589044   \n4351  -0.143734  -0.009666  -0.096810  -0.485607  -0.364031  -0.322119   \n221   -1.249794  -0.921328  -0.991713  -0.777205  -0.380795   0.843020   \n1746  -0.214120   0.208194   0.074126  -0.056590   0.423905   0.524492   \n628   -0.418573  -0.254340   0.258470   0.808148   0.910078   0.264641   \n\n      surge2_t2  surge2_t3  surge2_t4  surge2_t5  surge2_t6  surge2_t7  \\\n4441  -0.104180  -0.548441  -0.783146  -0.481383  -0.774763  -0.422707   \n2472  -0.892115  -0.011974  -0.095797   0.105378  -0.095797  -0.162856   \n3317   0.893313   0.943607   0.700521   0.457434   0.365229   0.608315   \n81    -1.252554  -1.420200  -1.026232  -0.833439  -0.045504  -0.028739   \n4806   0.717285   0.650227   0.708903   0.356847   0.474199   0.222730   \n...         ...        ...        ...        ...        ...        ...   \n1392   1.228605   0.273024  -0.305355  -0.355649  -0.716087  -1.051379   \n4351  -0.489765  -0.791528  -0.556824  -0.690940  -0.422707  -0.674176   \n221   -0.028739  -0.120944  -0.540059  -0.313737  -1.219025  -1.235790   \n1746   0.750814   0.532875   1.060959   0.641845   0.708903   0.775961   \n628   -0.095797  -0.313737  -0.062268  -0.146091  -0.347266  -1.068144   \n\n      surge2_t8  surge2_t9  \n4441  -0.296972   0.398758  \n2472   0.113760   0.331700  \n3317   0.289788   0.390376  \n81    -0.347266  -0.975938  \n4806   0.247877   0.055084  \n...         ...        ...  \n1392  -0.489765  -0.188003  \n4351  -0.196385  -0.313737  \n221   -1.587846  -1.638140  \n1746   0.616698   0.474199  \n628   -1.277701  -0.917262  \n\n[1680 rows x 20 columns]",
      "text/html": "<div>\n<style scoped>\n    .dataframe tbody tr th:only-of-type {\n        vertical-align: middle;\n    }\n\n    .dataframe tbody tr th {\n        vertical-align: top;\n    }\n\n    .dataframe thead th {\n        text-align: right;\n    }\n</style>\n<table border=\"1\" class=\"dataframe\">\n  <thead>\n    <tr style=\"text-align: right;\">\n      <th></th>\n      <th>surge1_t0</th>\n      <th>surge1_t1</th>\n      <th>surge1_t2</th>\n      <th>surge1_t3</th>\n      <th>surge1_t4</th>\n      <th>surge1_t5</th>\n      <th>surge1_t6</th>\n      <th>surge1_t7</th>\n      <th>surge1_t8</th>\n      <th>surge1_t9</th>\n      <th>surge2_t0</th>\n      <th>surge2_t1</th>\n      <th>surge2_t2</th>\n      <th>surge2_t3</th>\n      <th>surge2_t4</th>\n      <th>surge2_t5</th>\n      <th>surge2_t6</th>\n      <th>surge2_t7</th>\n      <th>surge2_t8</th>\n      <th>surge2_t9</th>\n    </tr>\n  </thead>\n  <tbody>\n    <tr>\n      <th>4441</th>\n      <td>-0.167196</td>\n      <td>-0.234230</td>\n      <td>-0.110217</td>\n      <td>-0.029776</td>\n      <td>0.047313</td>\n      <td>-0.046535</td>\n      <td>-0.354891</td>\n      <td>-0.405166</td>\n      <td>-0.314670</td>\n      <td>-0.690061</td>\n      <td>-0.104180</td>\n      <td>-0.162856</td>\n      <td>-0.104180</td>\n      <td>-0.548441</td>\n      <td>-0.783146</td>\n      <td>-0.481383</td>\n      <td>-0.774763</td>\n      <td>-0.422707</td>\n      <td>-0.296972</td>\n      <td>0.398758</td>\n    </tr>\n    <tr>\n      <th>2472</th>\n      <td>0.238359</td>\n      <td>2.105255</td>\n      <td>0.888589</td>\n      <td>1.062877</td>\n      <td>1.103097</td>\n      <td>-1.638591</td>\n      <td>-1.145891</td>\n      <td>-0.321374</td>\n      <td>-0.579455</td>\n      <td>-0.666599</td>\n      <td>-1.336377</td>\n      <td>-0.967556</td>\n      <td>-0.892115</td>\n      <td>-0.011974</td>\n      <td>-0.095797</td>\n      <td>0.105378</td>\n      <td>-0.095797</td>\n      <td>-0.162856</td>\n      <td>0.113760</td>\n      <td>0.331700</td>\n    </tr>\n    <tr>\n      <th>3317</th>\n      <td>-0.096810</td>\n      <td>-0.100162</td>\n      <td>-0.103514</td>\n      <td>0.265173</td>\n      <td>-0.244285</td>\n      <td>-0.321374</td>\n      <td>-0.552641</td>\n      <td>-0.579455</td>\n      <td>-0.646488</td>\n      <td>-0.110217</td>\n      <td>1.002283</td>\n      <td>0.960372</td>\n      <td>0.893313</td>\n      <td>0.943607</td>\n      <td>0.700521</td>\n      <td>0.457434</td>\n      <td>0.365229</td>\n      <td>0.608315</td>\n      <td>0.289788</td>\n      <td>0.390376</td>\n    </tr>\n    <tr>\n      <th>81</th>\n      <td>1.331013</td>\n      <td>0.553419</td>\n      <td>1.220407</td>\n      <td>0.637211</td>\n      <td>-0.013018</td>\n      <td>-0.150437</td>\n      <td>0.141160</td>\n      <td>0.198139</td>\n      <td>0.060720</td>\n      <td>-0.371649</td>\n      <td>-0.925645</td>\n      <td>-1.403435</td>\n      <td>-1.252554</td>\n      <td>-1.420200</td>\n      <td>-1.026232</td>\n      <td>-0.833439</td>\n      <td>-0.045504</td>\n      <td>-0.028739</td>\n      <td>-0.347266</td>\n      <td>-0.975938</td>\n    </tr>\n    <tr>\n      <th>4806</th>\n      <td>1.776788</td>\n      <td>3.053785</td>\n      <td>3.516319</td>\n      <td>2.557734</td>\n      <td>0.922106</td>\n      <td>2.068386</td>\n      <td>1.713106</td>\n      <td>1.153373</td>\n      <td>2.406907</td>\n      <td>1.947725</td>\n      <td>0.901696</td>\n      <td>1.236988</td>\n      <td>0.717285</td>\n      <td>0.650227</td>\n      <td>0.708903</td>\n      <td>0.356847</td>\n      <td>0.474199</td>\n      <td>0.222730</td>\n      <td>0.247877</td>\n      <td>0.055084</td>\n    </tr>\n    <tr>\n      <th>...</th>\n      <td>...</td>\n      <td>...</td>\n      <td>...</td>\n      <td>...</td>\n      <td>...</td>\n      <td>...</td>\n      <td>...</td>\n      <td>...</td>\n      <td>...</td>\n      <td>...</td>\n      <td>...</td>\n      <td>...</td>\n      <td>...</td>\n      <td>...</td>\n      <td>...</td>\n      <td>...</td>\n      <td>...</td>\n      <td>...</td>\n      <td>...</td>\n      <td>...</td>\n    </tr>\n    <tr>\n      <th>1392</th>\n      <td>-1.440841</td>\n      <td>-1.135836</td>\n      <td>-0.760446</td>\n      <td>-0.747039</td>\n      <td>-0.271098</td>\n      <td>-0.499014</td>\n      <td>-0.539234</td>\n      <td>-0.696764</td>\n      <td>-0.874404</td>\n      <td>-0.901217</td>\n      <td>1.295664</td>\n      <td>1.589044</td>\n      <td>1.228605</td>\n      <td>0.273024</td>\n      <td>-0.305355</td>\n      <td>-0.355649</td>\n      <td>-0.716087</td>\n      <td>-1.051379</td>\n      <td>-0.489765</td>\n      <td>-0.188003</td>\n    </tr>\n    <tr>\n      <th>4351</th>\n      <td>-0.116920</td>\n      <td>-0.328077</td>\n      <td>-0.371649</td>\n      <td>-0.455442</td>\n      <td>-0.455442</td>\n      <td>-0.499014</td>\n      <td>-0.143734</td>\n      <td>-0.009666</td>\n      <td>-0.096810</td>\n      <td>-0.485607</td>\n      <td>-0.364031</td>\n      <td>-0.322119</td>\n      <td>-0.489765</td>\n      <td>-0.791528</td>\n      <td>-0.556824</td>\n      <td>-0.690940</td>\n      <td>-0.422707</td>\n      <td>-0.674176</td>\n      <td>-0.196385</td>\n      <td>-0.313737</td>\n    </tr>\n    <tr>\n      <th>221</th>\n      <td>-1.420730</td>\n      <td>-1.561502</td>\n      <td>-1.702273</td>\n      <td>-1.826286</td>\n      <td>-1.779362</td>\n      <td>-1.283311</td>\n      <td>-1.249794</td>\n      <td>-0.921328</td>\n      <td>-0.991713</td>\n      <td>-0.777205</td>\n      <td>-0.380795</td>\n      <td>0.843020</td>\n      <td>-0.028739</td>\n      <td>-0.120944</td>\n      <td>-0.540059</td>\n      <td>-0.313737</td>\n      <td>-1.219025</td>\n      <td>-1.235790</td>\n      <td>-1.587846</td>\n      <td>-1.638140</td>\n    </tr>\n    <tr>\n      <th>1746</th>\n      <td>-0.163844</td>\n      <td>-0.458793</td>\n      <td>-0.006314</td>\n      <td>-0.090107</td>\n      <td>-0.250988</td>\n      <td>-0.368298</td>\n      <td>-0.214120</td>\n      <td>0.208194</td>\n      <td>0.074126</td>\n      <td>-0.056590</td>\n      <td>0.423905</td>\n      <td>0.524492</td>\n      <td>0.750814</td>\n      <td>0.532875</td>\n      <td>1.060959</td>\n      <td>0.641845</td>\n      <td>0.708903</td>\n      <td>0.775961</td>\n      <td>0.616698</td>\n      <td>0.474199</td>\n    </tr>\n    <tr>\n      <th>628</th>\n      <td>0.070775</td>\n      <td>-0.971603</td>\n      <td>-0.877756</td>\n      <td>-1.427434</td>\n      <td>-1.507874</td>\n      <td>-0.944789</td>\n      <td>-0.418573</td>\n      <td>-0.254340</td>\n      <td>0.258470</td>\n      <td>0.808148</td>\n      <td>0.910078</td>\n      <td>0.264641</td>\n      <td>-0.095797</td>\n      <td>-0.313737</td>\n      <td>-0.062268</td>\n      <td>-0.146091</td>\n      <td>-0.347266</td>\n      <td>-1.068144</td>\n      <td>-1.277701</td>\n      <td>-0.917262</td>\n    </tr>\n  </tbody>\n</table>\n<p>1680 rows × 20 columns</p>\n</div>"
     },
     "execution_count": 36,
     "metadata": {},
     "output_type": "execute_result"
    }
   ],
   "source": [
    "y_val_surge"
   ],
   "metadata": {
    "collapsed": false,
    "pycharm": {
     "name": "#%%\n"
    }
   }
  },
  {
   "cell_type": "code",
   "execution_count": 36,
   "outputs": [],
   "source": [],
   "metadata": {
    "collapsed": false,
    "pycharm": {
     "name": "#%%\n"
    }
   }
  },
  {
   "cell_type": "markdown",
   "source": [
    "#### 2) XGBoost"
   ],
   "metadata": {
    "collapsed": false,
    "pycharm": {
     "name": "#%% md\n"
    }
   }
  },
  {
   "cell_type": "code",
   "execution_count": 37,
   "outputs": [],
   "source": [
    "from xgboost import XGBRegressor\n",
    "\n",
    "estimator = XGBRegressor(random_state=seed)\n",
    "regr_XGBoost = MultiOutputRegressor(estimator).fit(X_train_surge, y_train_surge)"
   ],
   "metadata": {
    "collapsed": false,
    "pycharm": {
     "name": "#%%\n"
    }
   }
  },
  {
   "cell_type": "code",
   "execution_count": 38,
   "outputs": [
    {
     "data": {
      "text/plain": "array([[-0.17394245, -0.07076971, -0.35313022, ..., -0.3765128 ,\n        -0.05057035,  0.23735075],\n       [ 0.61477417,  1.1349449 ,  1.5644692 , ...,  0.34753063,\n         0.3756748 , -0.30959523],\n       [ 0.20340942, -0.13879962,  0.00546361, ...,  0.19692692,\n        -0.04792346,  0.0370005 ],\n       ...,\n       [-0.92727125, -1.1750612 , -1.4002796 , ...,  0.11028803,\n         0.8300514 ,  0.48890892],\n       [ 0.05323436, -0.01420574,  0.07312743, ...,  0.01672565,\n        -0.26626652,  0.35633314],\n       [ 0.25047988,  0.31369486, -0.03632465, ...,  0.4509365 ,\n         0.10584661, -0.20588161]], dtype=float32)"
     },
     "execution_count": 38,
     "metadata": {},
     "output_type": "execute_result"
    }
   ],
   "source": [
    "y_val_surge_pred_XGBoost = regr_XGBoost.predict(X_val_surge)\n",
    "y_val_surge_pred_XGBoost"
   ],
   "metadata": {
    "collapsed": false,
    "pycharm": {
     "name": "#%%\n"
    }
   }
  },
  {
   "cell_type": "code",
   "execution_count": 39,
   "outputs": [
    {
     "data": {
      "text/plain": "      surge1_t0  surge1_t1  surge1_t2  surge1_t3  surge1_t4  surge1_t5  \\\n4441  -0.173942  -0.070770  -0.353130  -0.383810  -0.505295  -0.307391   \n2472   0.614774   1.134945   1.564469   1.031873   1.309477   1.755210   \n3317   0.203409  -0.138800   0.005464  -0.185794   0.082401  -0.386898   \n81     1.172857   1.126813   0.657712   0.867534   0.631532   0.124433   \n4806   1.079612   1.182355   1.225871   1.077304   1.118167   0.891174   \n...         ...        ...        ...        ...        ...        ...   \n1392  -1.256905  -0.620431  -0.806367  -0.610411  -1.205162  -0.552843   \n4351  -0.323627  -0.587912  -0.659794  -1.061428  -1.153828  -0.729594   \n221   -0.927271  -1.175061  -1.400280  -1.622731  -1.067377  -0.850352   \n1746   0.053234  -0.014206   0.073127  -0.081643   0.197606   0.024559   \n628    0.250480   0.313695  -0.036325  -0.804061  -0.465514   0.019093   \n\n      surge1_t6  surge1_t7  surge1_t8  surge1_t9  surge2_t0  surge2_t1  \\\n4441  -0.731394  -0.200193  -0.752075  -0.816275  -0.316694   0.238220   \n2472   0.717624   1.367895   1.298472   0.460322  -0.720934  -0.082967   \n3317  -0.892648   0.187614  -0.042331  -0.180237   0.352511   0.461237   \n81     0.292626  -0.229069  -0.219759   0.091416  -0.375403  -0.566127   \n4806   1.609118   0.461662   0.388083   0.231583   1.090408   0.249673   \n...         ...        ...        ...        ...        ...        ...   \n1392  -0.535135  -0.245093  -1.260429  -0.326143   2.083113   1.710531   \n4351  -0.518364  -0.462018  -0.274667  -0.293458  -0.347720  -0.445304   \n221   -0.924509  -0.667455  -0.652718  -0.598471   0.566718   0.269512   \n1746  -0.152650   0.687059   0.114019   0.138354   0.455451   0.261056   \n628    0.195546  -0.094372  -0.532104   0.645202   1.537438   0.803774   \n\n      surge2_t2  surge2_t3  surge2_t4  surge2_t5  surge2_t6  surge2_t7  \\\n4441  -0.123579  -0.314661  -0.252999  -0.475811   0.127526  -0.376513   \n2472   0.211081   0.009084  -0.192652   0.167428  -0.577683   0.347531   \n3317   0.031217  -0.058290  -0.208260   0.149302  -0.134528   0.196927   \n81    -0.929993  -1.160924  -1.246985  -0.691676  -0.919890  -0.600992   \n4806   1.502108   1.518855   1.408874   1.435064   0.964953   0.677888   \n...         ...        ...        ...        ...        ...        ...   \n1392   1.798219   0.965244   0.877634   0.823777   1.051440   0.894268   \n4351   0.231904  -0.292358  -0.239131   0.061368  -0.086685   0.034887   \n221    1.051771   0.476219   0.416763   0.587012   0.497564   0.110288   \n1746   0.215103   0.150538   0.484324   0.186388   0.268131   0.016726   \n628    0.141941   0.088704  -0.226542  -0.656551  -0.072673   0.450936   \n\n      surge2_t8  surge2_t9  \n4441  -0.050570   0.237351  \n2472   0.375675  -0.309595  \n3317  -0.047923   0.037000  \n81    -0.460480  -0.662106  \n4806   0.806588   0.308270  \n...         ...        ...  \n1392   1.374831   0.356735  \n4351  -0.119078   0.270711  \n221    0.830051   0.488909  \n1746  -0.266267   0.356333  \n628    0.105847  -0.205882  \n\n[1680 rows x 20 columns]",
      "text/html": "<div>\n<style scoped>\n    .dataframe tbody tr th:only-of-type {\n        vertical-align: middle;\n    }\n\n    .dataframe tbody tr th {\n        vertical-align: top;\n    }\n\n    .dataframe thead th {\n        text-align: right;\n    }\n</style>\n<table border=\"1\" class=\"dataframe\">\n  <thead>\n    <tr style=\"text-align: right;\">\n      <th></th>\n      <th>surge1_t0</th>\n      <th>surge1_t1</th>\n      <th>surge1_t2</th>\n      <th>surge1_t3</th>\n      <th>surge1_t4</th>\n      <th>surge1_t5</th>\n      <th>surge1_t6</th>\n      <th>surge1_t7</th>\n      <th>surge1_t8</th>\n      <th>surge1_t9</th>\n      <th>surge2_t0</th>\n      <th>surge2_t1</th>\n      <th>surge2_t2</th>\n      <th>surge2_t3</th>\n      <th>surge2_t4</th>\n      <th>surge2_t5</th>\n      <th>surge2_t6</th>\n      <th>surge2_t7</th>\n      <th>surge2_t8</th>\n      <th>surge2_t9</th>\n    </tr>\n  </thead>\n  <tbody>\n    <tr>\n      <th>4441</th>\n      <td>-0.173942</td>\n      <td>-0.070770</td>\n      <td>-0.353130</td>\n      <td>-0.383810</td>\n      <td>-0.505295</td>\n      <td>-0.307391</td>\n      <td>-0.731394</td>\n      <td>-0.200193</td>\n      <td>-0.752075</td>\n      <td>-0.816275</td>\n      <td>-0.316694</td>\n      <td>0.238220</td>\n      <td>-0.123579</td>\n      <td>-0.314661</td>\n      <td>-0.252999</td>\n      <td>-0.475811</td>\n      <td>0.127526</td>\n      <td>-0.376513</td>\n      <td>-0.050570</td>\n      <td>0.237351</td>\n    </tr>\n    <tr>\n      <th>2472</th>\n      <td>0.614774</td>\n      <td>1.134945</td>\n      <td>1.564469</td>\n      <td>1.031873</td>\n      <td>1.309477</td>\n      <td>1.755210</td>\n      <td>0.717624</td>\n      <td>1.367895</td>\n      <td>1.298472</td>\n      <td>0.460322</td>\n      <td>-0.720934</td>\n      <td>-0.082967</td>\n      <td>0.211081</td>\n      <td>0.009084</td>\n      <td>-0.192652</td>\n      <td>0.167428</td>\n      <td>-0.577683</td>\n      <td>0.347531</td>\n      <td>0.375675</td>\n      <td>-0.309595</td>\n    </tr>\n    <tr>\n      <th>3317</th>\n      <td>0.203409</td>\n      <td>-0.138800</td>\n      <td>0.005464</td>\n      <td>-0.185794</td>\n      <td>0.082401</td>\n      <td>-0.386898</td>\n      <td>-0.892648</td>\n      <td>0.187614</td>\n      <td>-0.042331</td>\n      <td>-0.180237</td>\n      <td>0.352511</td>\n      <td>0.461237</td>\n      <td>0.031217</td>\n      <td>-0.058290</td>\n      <td>-0.208260</td>\n      <td>0.149302</td>\n      <td>-0.134528</td>\n      <td>0.196927</td>\n      <td>-0.047923</td>\n      <td>0.037000</td>\n    </tr>\n    <tr>\n      <th>81</th>\n      <td>1.172857</td>\n      <td>1.126813</td>\n      <td>0.657712</td>\n      <td>0.867534</td>\n      <td>0.631532</td>\n      <td>0.124433</td>\n      <td>0.292626</td>\n      <td>-0.229069</td>\n      <td>-0.219759</td>\n      <td>0.091416</td>\n      <td>-0.375403</td>\n      <td>-0.566127</td>\n      <td>-0.929993</td>\n      <td>-1.160924</td>\n      <td>-1.246985</td>\n      <td>-0.691676</td>\n      <td>-0.919890</td>\n      <td>-0.600992</td>\n      <td>-0.460480</td>\n      <td>-0.662106</td>\n    </tr>\n    <tr>\n      <th>4806</th>\n      <td>1.079612</td>\n      <td>1.182355</td>\n      <td>1.225871</td>\n      <td>1.077304</td>\n      <td>1.118167</td>\n      <td>0.891174</td>\n      <td>1.609118</td>\n      <td>0.461662</td>\n      <td>0.388083</td>\n      <td>0.231583</td>\n      <td>1.090408</td>\n      <td>0.249673</td>\n      <td>1.502108</td>\n      <td>1.518855</td>\n      <td>1.408874</td>\n      <td>1.435064</td>\n      <td>0.964953</td>\n      <td>0.677888</td>\n      <td>0.806588</td>\n      <td>0.308270</td>\n    </tr>\n    <tr>\n      <th>...</th>\n      <td>...</td>\n      <td>...</td>\n      <td>...</td>\n      <td>...</td>\n      <td>...</td>\n      <td>...</td>\n      <td>...</td>\n      <td>...</td>\n      <td>...</td>\n      <td>...</td>\n      <td>...</td>\n      <td>...</td>\n      <td>...</td>\n      <td>...</td>\n      <td>...</td>\n      <td>...</td>\n      <td>...</td>\n      <td>...</td>\n      <td>...</td>\n      <td>...</td>\n    </tr>\n    <tr>\n      <th>1392</th>\n      <td>-1.256905</td>\n      <td>-0.620431</td>\n      <td>-0.806367</td>\n      <td>-0.610411</td>\n      <td>-1.205162</td>\n      <td>-0.552843</td>\n      <td>-0.535135</td>\n      <td>-0.245093</td>\n      <td>-1.260429</td>\n      <td>-0.326143</td>\n      <td>2.083113</td>\n      <td>1.710531</td>\n      <td>1.798219</td>\n      <td>0.965244</td>\n      <td>0.877634</td>\n      <td>0.823777</td>\n      <td>1.051440</td>\n      <td>0.894268</td>\n      <td>1.374831</td>\n      <td>0.356735</td>\n    </tr>\n    <tr>\n      <th>4351</th>\n      <td>-0.323627</td>\n      <td>-0.587912</td>\n      <td>-0.659794</td>\n      <td>-1.061428</td>\n      <td>-1.153828</td>\n      <td>-0.729594</td>\n      <td>-0.518364</td>\n      <td>-0.462018</td>\n      <td>-0.274667</td>\n      <td>-0.293458</td>\n      <td>-0.347720</td>\n      <td>-0.445304</td>\n      <td>0.231904</td>\n      <td>-0.292358</td>\n      <td>-0.239131</td>\n      <td>0.061368</td>\n      <td>-0.086685</td>\n      <td>0.034887</td>\n      <td>-0.119078</td>\n      <td>0.270711</td>\n    </tr>\n    <tr>\n      <th>221</th>\n      <td>-0.927271</td>\n      <td>-1.175061</td>\n      <td>-1.400280</td>\n      <td>-1.622731</td>\n      <td>-1.067377</td>\n      <td>-0.850352</td>\n      <td>-0.924509</td>\n      <td>-0.667455</td>\n      <td>-0.652718</td>\n      <td>-0.598471</td>\n      <td>0.566718</td>\n      <td>0.269512</td>\n      <td>1.051771</td>\n      <td>0.476219</td>\n      <td>0.416763</td>\n      <td>0.587012</td>\n      <td>0.497564</td>\n      <td>0.110288</td>\n      <td>0.830051</td>\n      <td>0.488909</td>\n    </tr>\n    <tr>\n      <th>1746</th>\n      <td>0.053234</td>\n      <td>-0.014206</td>\n      <td>0.073127</td>\n      <td>-0.081643</td>\n      <td>0.197606</td>\n      <td>0.024559</td>\n      <td>-0.152650</td>\n      <td>0.687059</td>\n      <td>0.114019</td>\n      <td>0.138354</td>\n      <td>0.455451</td>\n      <td>0.261056</td>\n      <td>0.215103</td>\n      <td>0.150538</td>\n      <td>0.484324</td>\n      <td>0.186388</td>\n      <td>0.268131</td>\n      <td>0.016726</td>\n      <td>-0.266267</td>\n      <td>0.356333</td>\n    </tr>\n    <tr>\n      <th>628</th>\n      <td>0.250480</td>\n      <td>0.313695</td>\n      <td>-0.036325</td>\n      <td>-0.804061</td>\n      <td>-0.465514</td>\n      <td>0.019093</td>\n      <td>0.195546</td>\n      <td>-0.094372</td>\n      <td>-0.532104</td>\n      <td>0.645202</td>\n      <td>1.537438</td>\n      <td>0.803774</td>\n      <td>0.141941</td>\n      <td>0.088704</td>\n      <td>-0.226542</td>\n      <td>-0.656551</td>\n      <td>-0.072673</td>\n      <td>0.450936</td>\n      <td>0.105847</td>\n      <td>-0.205882</td>\n    </tr>\n  </tbody>\n</table>\n<p>1680 rows × 20 columns</p>\n</div>"
     },
     "metadata": {},
     "output_type": "display_data"
    }
   ],
   "source": [
    "save_y_pred(\"XGBoost\", output_path, y_val_surge_pred_XGBoost, y_val_surge.index, submit=False)"
   ],
   "metadata": {
    "collapsed": false,
    "pycharm": {
     "name": "#%%\n"
    }
   }
  },
  {
   "cell_type": "code",
   "execution_count": 39,
   "outputs": [],
   "source": [],
   "metadata": {
    "collapsed": false,
    "pycharm": {
     "name": "#%%\n"
    }
   }
  },
  {
   "cell_type": "markdown",
   "source": [
    "#### 3) Random Forest"
   ],
   "metadata": {
    "collapsed": false,
    "pycharm": {
     "name": "#%% md\n"
    }
   }
  },
  {
   "cell_type": "code",
   "execution_count": null,
   "outputs": [],
   "source": [
    "from sklearn.ensemble import RandomForestRegressor\n",
    "\n",
    "estimator = RandomForestRegressor(random_state=seed)\n",
    "regr_RFR = MultiOutputRegressor(estimator).fit(X_train_surge, y_train_surge)\n",
    "\n",
    "y_val_surge_pred_RFR = regr_RFR.predict(X_val_surge)\n",
    "\n",
    "save_y_pred(\"RFR\", output_path, y_val_surge_pred_RFR, y_val_surge.index, submit=False)"
   ],
   "metadata": {
    "collapsed": false,
    "pycharm": {
     "name": "#%%\n",
     "is_executing": true
    }
   }
  },
  {
   "cell_type": "code",
   "execution_count": null,
   "outputs": [],
   "source": [],
   "metadata": {
    "collapsed": false,
    "pycharm": {
     "name": "#%%\n",
     "is_executing": true
    }
   }
  },
  {
   "cell_type": "markdown",
   "source": [
    "#### 4) SVR"
   ],
   "metadata": {
    "collapsed": false,
    "pycharm": {
     "name": "#%% md\n"
    }
   }
  },
  {
   "cell_type": "code",
   "execution_count": 54,
   "outputs": [
    {
     "data": {
      "text/plain": "      surge1_t0  surge1_t1  surge1_t2  surge1_t3  surge1_t4  surge1_t5  \\\n4441  -0.247597  -0.211064  -0.282102  -0.392997  -0.463498  -0.466259   \n2472   0.572923   1.205507   0.762563   0.770125   0.801942   0.348437   \n3317   0.191325  -0.223647  -0.423724  -0.412265  -0.384088  -0.295603   \n81     1.183496   1.021942   0.907097   0.549792   0.208992   0.103292   \n4806   1.129001   1.071098   0.856926   0.868327   0.916647   1.121682   \n...         ...        ...        ...        ...        ...        ...   \n1392  -0.847464  -0.729394  -0.478737  -0.571919  -0.816197  -0.890224   \n4351  -0.431684  -0.570863  -0.752220  -0.808735  -0.808566  -0.694422   \n221   -0.941483  -0.946069  -1.006190  -0.997230  -0.818067  -0.774965   \n1746  -0.294947  -0.264980  -0.212398  -0.061770  -0.198787  -0.218439   \n628    0.110877  -0.589798  -0.691958  -0.588485  -0.741596  -0.551541   \n\n      surge1_t6  surge1_t7  surge1_t8  surge1_t9  surge2_t0  surge2_t1  \\\n4441  -0.386534  -0.513686  -0.297398  -0.305398  -0.501813  -0.338972   \n2472   0.090358  -0.022249  -0.133709   0.160304  -0.707824  -0.297000   \n3317  -0.197447  -0.137466  -0.171123  -0.313275   0.280723   0.240141   \n81     0.028497  -0.151097  -0.266589  -0.227564  -0.678842  -0.851404   \n4806   0.788127   1.070869   0.858960   0.621370   0.751145   0.806144   \n...         ...        ...        ...        ...        ...        ...   \n1392  -0.930442  -0.859001  -0.456612  -0.354545   1.611140   1.384839   \n4351  -0.477864  -0.423831  -0.204767  -0.158221  -0.799932  -0.478343   \n221   -0.754395  -0.780513  -0.724545  -0.611675   0.745156   0.596708   \n1746  -0.017505  -0.108719  -0.117765  -0.229303  -0.046243   0.083439   \n628   -0.452193  -0.386870  -0.213942  -0.216990   1.041738   0.636604   \n\n      surge2_t2  surge2_t3  surge2_t4  surge2_t5  surge2_t6  surge2_t7  \\\n4441  -0.335722  -0.325250  -0.320408  -0.206188  -0.137147   0.096302   \n2472  -0.316430  -0.085894   0.041440   0.193335   0.184989   0.227364   \n3317   0.114708  -0.010752  -0.144363  -0.191949  -0.232896  -0.303449   \n81    -0.932268  -0.877397  -0.899179  -0.640107  -0.592906  -0.354378   \n4806   0.818703   0.822006   0.900412   0.705086   0.762424   0.579513   \n...         ...        ...        ...        ...        ...        ...   \n1392   1.108165   0.955735   0.780967   1.049272   0.924423   0.849695   \n4351  -0.450440  -0.334236  -0.258129  -0.277853  -0.169850  -0.068237   \n221    0.572264   0.267383   0.208195   0.290018   0.202063   0.257679   \n1746   0.076778   0.246800   0.086198   0.138402  -0.083994  -0.018845   \n628    0.191314  -0.142335  -0.017053  -0.138154  -0.108589  -0.164300   \n\n      surge2_t8  surge2_t9  \n4441   0.143223   0.237061  \n2472   0.161235  -0.048561  \n3317  -0.163204  -0.231737  \n81    -0.161380  -0.206971  \n4806   0.619767   0.692577  \n...         ...        ...  \n1392   0.885091   0.519358  \n4351   0.004580   0.117441  \n221    0.179069   0.305292  \n1746  -0.116496  -0.152176  \n628    0.142376   0.021967  \n\n[1680 rows x 20 columns]",
      "text/html": "<div>\n<style scoped>\n    .dataframe tbody tr th:only-of-type {\n        vertical-align: middle;\n    }\n\n    .dataframe tbody tr th {\n        vertical-align: top;\n    }\n\n    .dataframe thead th {\n        text-align: right;\n    }\n</style>\n<table border=\"1\" class=\"dataframe\">\n  <thead>\n    <tr style=\"text-align: right;\">\n      <th></th>\n      <th>surge1_t0</th>\n      <th>surge1_t1</th>\n      <th>surge1_t2</th>\n      <th>surge1_t3</th>\n      <th>surge1_t4</th>\n      <th>surge1_t5</th>\n      <th>surge1_t6</th>\n      <th>surge1_t7</th>\n      <th>surge1_t8</th>\n      <th>surge1_t9</th>\n      <th>surge2_t0</th>\n      <th>surge2_t1</th>\n      <th>surge2_t2</th>\n      <th>surge2_t3</th>\n      <th>surge2_t4</th>\n      <th>surge2_t5</th>\n      <th>surge2_t6</th>\n      <th>surge2_t7</th>\n      <th>surge2_t8</th>\n      <th>surge2_t9</th>\n    </tr>\n  </thead>\n  <tbody>\n    <tr>\n      <th>4441</th>\n      <td>-0.247597</td>\n      <td>-0.211064</td>\n      <td>-0.282102</td>\n      <td>-0.392997</td>\n      <td>-0.463498</td>\n      <td>-0.466259</td>\n      <td>-0.386534</td>\n      <td>-0.513686</td>\n      <td>-0.297398</td>\n      <td>-0.305398</td>\n      <td>-0.501813</td>\n      <td>-0.338972</td>\n      <td>-0.335722</td>\n      <td>-0.325250</td>\n      <td>-0.320408</td>\n      <td>-0.206188</td>\n      <td>-0.137147</td>\n      <td>0.096302</td>\n      <td>0.143223</td>\n      <td>0.237061</td>\n    </tr>\n    <tr>\n      <th>2472</th>\n      <td>0.572923</td>\n      <td>1.205507</td>\n      <td>0.762563</td>\n      <td>0.770125</td>\n      <td>0.801942</td>\n      <td>0.348437</td>\n      <td>0.090358</td>\n      <td>-0.022249</td>\n      <td>-0.133709</td>\n      <td>0.160304</td>\n      <td>-0.707824</td>\n      <td>-0.297000</td>\n      <td>-0.316430</td>\n      <td>-0.085894</td>\n      <td>0.041440</td>\n      <td>0.193335</td>\n      <td>0.184989</td>\n      <td>0.227364</td>\n      <td>0.161235</td>\n      <td>-0.048561</td>\n    </tr>\n    <tr>\n      <th>3317</th>\n      <td>0.191325</td>\n      <td>-0.223647</td>\n      <td>-0.423724</td>\n      <td>-0.412265</td>\n      <td>-0.384088</td>\n      <td>-0.295603</td>\n      <td>-0.197447</td>\n      <td>-0.137466</td>\n      <td>-0.171123</td>\n      <td>-0.313275</td>\n      <td>0.280723</td>\n      <td>0.240141</td>\n      <td>0.114708</td>\n      <td>-0.010752</td>\n      <td>-0.144363</td>\n      <td>-0.191949</td>\n      <td>-0.232896</td>\n      <td>-0.303449</td>\n      <td>-0.163204</td>\n      <td>-0.231737</td>\n    </tr>\n    <tr>\n      <th>81</th>\n      <td>1.183496</td>\n      <td>1.021942</td>\n      <td>0.907097</td>\n      <td>0.549792</td>\n      <td>0.208992</td>\n      <td>0.103292</td>\n      <td>0.028497</td>\n      <td>-0.151097</td>\n      <td>-0.266589</td>\n      <td>-0.227564</td>\n      <td>-0.678842</td>\n      <td>-0.851404</td>\n      <td>-0.932268</td>\n      <td>-0.877397</td>\n      <td>-0.899179</td>\n      <td>-0.640107</td>\n      <td>-0.592906</td>\n      <td>-0.354378</td>\n      <td>-0.161380</td>\n      <td>-0.206971</td>\n    </tr>\n    <tr>\n      <th>4806</th>\n      <td>1.129001</td>\n      <td>1.071098</td>\n      <td>0.856926</td>\n      <td>0.868327</td>\n      <td>0.916647</td>\n      <td>1.121682</td>\n      <td>0.788127</td>\n      <td>1.070869</td>\n      <td>0.858960</td>\n      <td>0.621370</td>\n      <td>0.751145</td>\n      <td>0.806144</td>\n      <td>0.818703</td>\n      <td>0.822006</td>\n      <td>0.900412</td>\n      <td>0.705086</td>\n      <td>0.762424</td>\n      <td>0.579513</td>\n      <td>0.619767</td>\n      <td>0.692577</td>\n    </tr>\n    <tr>\n      <th>...</th>\n      <td>...</td>\n      <td>...</td>\n      <td>...</td>\n      <td>...</td>\n      <td>...</td>\n      <td>...</td>\n      <td>...</td>\n      <td>...</td>\n      <td>...</td>\n      <td>...</td>\n      <td>...</td>\n      <td>...</td>\n      <td>...</td>\n      <td>...</td>\n      <td>...</td>\n      <td>...</td>\n      <td>...</td>\n      <td>...</td>\n      <td>...</td>\n      <td>...</td>\n    </tr>\n    <tr>\n      <th>1392</th>\n      <td>-0.847464</td>\n      <td>-0.729394</td>\n      <td>-0.478737</td>\n      <td>-0.571919</td>\n      <td>-0.816197</td>\n      <td>-0.890224</td>\n      <td>-0.930442</td>\n      <td>-0.859001</td>\n      <td>-0.456612</td>\n      <td>-0.354545</td>\n      <td>1.611140</td>\n      <td>1.384839</td>\n      <td>1.108165</td>\n      <td>0.955735</td>\n      <td>0.780967</td>\n      <td>1.049272</td>\n      <td>0.924423</td>\n      <td>0.849695</td>\n      <td>0.885091</td>\n      <td>0.519358</td>\n    </tr>\n    <tr>\n      <th>4351</th>\n      <td>-0.431684</td>\n      <td>-0.570863</td>\n      <td>-0.752220</td>\n      <td>-0.808735</td>\n      <td>-0.808566</td>\n      <td>-0.694422</td>\n      <td>-0.477864</td>\n      <td>-0.423831</td>\n      <td>-0.204767</td>\n      <td>-0.158221</td>\n      <td>-0.799932</td>\n      <td>-0.478343</td>\n      <td>-0.450440</td>\n      <td>-0.334236</td>\n      <td>-0.258129</td>\n      <td>-0.277853</td>\n      <td>-0.169850</td>\n      <td>-0.068237</td>\n      <td>0.004580</td>\n      <td>0.117441</td>\n    </tr>\n    <tr>\n      <th>221</th>\n      <td>-0.941483</td>\n      <td>-0.946069</td>\n      <td>-1.006190</td>\n      <td>-0.997230</td>\n      <td>-0.818067</td>\n      <td>-0.774965</td>\n      <td>-0.754395</td>\n      <td>-0.780513</td>\n      <td>-0.724545</td>\n      <td>-0.611675</td>\n      <td>0.745156</td>\n      <td>0.596708</td>\n      <td>0.572264</td>\n      <td>0.267383</td>\n      <td>0.208195</td>\n      <td>0.290018</td>\n      <td>0.202063</td>\n      <td>0.257679</td>\n      <td>0.179069</td>\n      <td>0.305292</td>\n    </tr>\n    <tr>\n      <th>1746</th>\n      <td>-0.294947</td>\n      <td>-0.264980</td>\n      <td>-0.212398</td>\n      <td>-0.061770</td>\n      <td>-0.198787</td>\n      <td>-0.218439</td>\n      <td>-0.017505</td>\n      <td>-0.108719</td>\n      <td>-0.117765</td>\n      <td>-0.229303</td>\n      <td>-0.046243</td>\n      <td>0.083439</td>\n      <td>0.076778</td>\n      <td>0.246800</td>\n      <td>0.086198</td>\n      <td>0.138402</td>\n      <td>-0.083994</td>\n      <td>-0.018845</td>\n      <td>-0.116496</td>\n      <td>-0.152176</td>\n    </tr>\n    <tr>\n      <th>628</th>\n      <td>0.110877</td>\n      <td>-0.589798</td>\n      <td>-0.691958</td>\n      <td>-0.588485</td>\n      <td>-0.741596</td>\n      <td>-0.551541</td>\n      <td>-0.452193</td>\n      <td>-0.386870</td>\n      <td>-0.213942</td>\n      <td>-0.216990</td>\n      <td>1.041738</td>\n      <td>0.636604</td>\n      <td>0.191314</td>\n      <td>-0.142335</td>\n      <td>-0.017053</td>\n      <td>-0.138154</td>\n      <td>-0.108589</td>\n      <td>-0.164300</td>\n      <td>0.142376</td>\n      <td>0.021967</td>\n    </tr>\n  </tbody>\n</table>\n<p>1680 rows × 20 columns</p>\n</div>"
     },
     "metadata": {},
     "output_type": "display_data"
    }
   ],
   "source": [
    "from sklearn.svm import SVR\n",
    "\n",
    "estimator = SVR(kernel='rbf')\n",
    "regr_SVR = MultiOutputRegressor(estimator).fit(X_train_surge, y_train_surge)\n",
    "\n",
    "y_val_surge_pred_SVR = regr_SVR.predict(X_val_surge)\n",
    "\n",
    "save_y_pred(\"SVR\", output_path, y_val_surge_pred_SVR, y_val_surge.index, submit=False)"
   ],
   "metadata": {
    "collapsed": false,
    "pycharm": {
     "name": "#%%\n"
    }
   }
  },
  {
   "cell_type": "code",
   "execution_count": null,
   "outputs": [],
   "source": [],
   "metadata": {
    "collapsed": false,
    "pycharm": {
     "name": "#%%\n"
    }
   }
  },
  {
   "cell_type": "markdown",
   "source": [
    "#### Saving models"
   ],
   "metadata": {
    "collapsed": false,
    "pycharm": {
     "name": "#%% md\n"
    }
   }
  },
  {
   "cell_type": "code",
   "execution_count": 40,
   "outputs": [],
   "source": [
    "dict_models = {\n",
    "    'KernelRidge': regr_ridge,\n",
    "    'XGBoost': regr_XGBoost,\n",
    "    'SVR': regr_SVR,\n",
    "    'RFR': regr_RFR\n",
    "}\n",
    "#    'BallTree': tree, # no predict method"
   ],
   "metadata": {
    "collapsed": false,
    "pycharm": {
     "name": "#%%\n"
    }
   }
  },
  {
   "cell_type": "code",
   "execution_count": 41,
   "outputs": [],
   "source": [
    "path_model = './model/'\n",
    "for name, model in dict_models.items():\n",
    "    filename = path_model + name + '.sav'\n",
    "    # save the model to disk\n",
    "    pickle.dump(model, open(filename, 'wb'))"
   ],
   "metadata": {
    "collapsed": false,
    "pycharm": {
     "name": "#%%\n"
    }
   }
  },
  {
   "cell_type": "code",
   "execution_count": 41,
   "outputs": [],
   "source": [],
   "metadata": {
    "collapsed": false,
    "pycharm": {
     "name": "#%%\n"
    }
   }
  },
  {
   "cell_type": "markdown",
   "source": [
    "# Part III : Submission prediction"
   ],
   "metadata": {
    "collapsed": false,
    "pycharm": {
     "name": "#%% md\n"
    }
   }
  },
  {
   "cell_type": "markdown",
   "source": [
    "#### Predicting Y_test for each model using models trained using split X_train"
   ],
   "metadata": {
    "collapsed": false,
    "pycharm": {
     "name": "#%% md\n"
    }
   }
  },
  {
   "cell_type": "code",
   "execution_count": 42,
   "outputs": [
    {
     "data": {
      "text/plain": "      surge1_t0  surge1_t1  surge1_t2  surge1_t3  surge1_t4  surge1_t5  \\\n5600        0.0        0.0        0.0        0.0        0.0        0.0   \n5601        0.0        0.0        0.0        0.0        0.0        0.0   \n5602        0.0        0.0        0.0        0.0        0.0        0.0   \n5603        0.0        0.0        0.0        0.0        0.0        0.0   \n5604        0.0        0.0        0.0        0.0        0.0        0.0   \n...         ...        ...        ...        ...        ...        ...   \n6104        0.0        0.0        0.0        0.0        0.0        0.0   \n6105        0.0        0.0        0.0        0.0        0.0        0.0   \n6106        0.0        0.0        0.0        0.0        0.0        0.0   \n6107        0.0        0.0        0.0        0.0        0.0        0.0   \n6108        0.0        0.0        0.0        0.0        0.0        0.0   \n\n      surge1_t6  surge1_t7  surge1_t8  surge1_t9  surge2_t0  surge2_t1  \\\n5600        0.0        0.0        0.0        0.0        0.0        0.0   \n5601        0.0        0.0        0.0        0.0        0.0        0.0   \n5602        0.0        0.0        0.0        0.0        0.0        0.0   \n5603        0.0        0.0        0.0        0.0        0.0        0.0   \n5604        0.0        0.0        0.0        0.0        0.0        0.0   \n...         ...        ...        ...        ...        ...        ...   \n6104        0.0        0.0        0.0        0.0        0.0        0.0   \n6105        0.0        0.0        0.0        0.0        0.0        0.0   \n6106        0.0        0.0        0.0        0.0        0.0        0.0   \n6107        0.0        0.0        0.0        0.0        0.0        0.0   \n6108        0.0        0.0        0.0        0.0        0.0        0.0   \n\n      surge2_t2  surge2_t3  surge2_t4  surge2_t5  surge2_t6  surge2_t7  \\\n5600        0.0        0.0        0.0        0.0        0.0        0.0   \n5601        0.0        0.0        0.0        0.0        0.0        0.0   \n5602        0.0        0.0        0.0        0.0        0.0        0.0   \n5603        0.0        0.0        0.0        0.0        0.0        0.0   \n5604        0.0        0.0        0.0        0.0        0.0        0.0   \n...         ...        ...        ...        ...        ...        ...   \n6104        0.0        0.0        0.0        0.0        0.0        0.0   \n6105        0.0        0.0        0.0        0.0        0.0        0.0   \n6106        0.0        0.0        0.0        0.0        0.0        0.0   \n6107        0.0        0.0        0.0        0.0        0.0        0.0   \n6108        0.0        0.0        0.0        0.0        0.0        0.0   \n\n      surge2_t8  surge2_t9  \n5600        0.0        0.0  \n5601        0.0        0.0  \n5602        0.0        0.0  \n5603        0.0        0.0  \n5604        0.0        0.0  \n...         ...        ...  \n6104        0.0        0.0  \n6105        0.0        0.0  \n6106        0.0        0.0  \n6107        0.0        0.0  \n6108        0.0        0.0  \n\n[509 rows x 20 columns]",
      "text/html": "<div>\n<style scoped>\n    .dataframe tbody tr th:only-of-type {\n        vertical-align: middle;\n    }\n\n    .dataframe tbody tr th {\n        vertical-align: top;\n    }\n\n    .dataframe thead th {\n        text-align: right;\n    }\n</style>\n<table border=\"1\" class=\"dataframe\">\n  <thead>\n    <tr style=\"text-align: right;\">\n      <th></th>\n      <th>surge1_t0</th>\n      <th>surge1_t1</th>\n      <th>surge1_t2</th>\n      <th>surge1_t3</th>\n      <th>surge1_t4</th>\n      <th>surge1_t5</th>\n      <th>surge1_t6</th>\n      <th>surge1_t7</th>\n      <th>surge1_t8</th>\n      <th>surge1_t9</th>\n      <th>surge2_t0</th>\n      <th>surge2_t1</th>\n      <th>surge2_t2</th>\n      <th>surge2_t3</th>\n      <th>surge2_t4</th>\n      <th>surge2_t5</th>\n      <th>surge2_t6</th>\n      <th>surge2_t7</th>\n      <th>surge2_t8</th>\n      <th>surge2_t9</th>\n    </tr>\n  </thead>\n  <tbody>\n    <tr>\n      <th>5600</th>\n      <td>0.0</td>\n      <td>0.0</td>\n      <td>0.0</td>\n      <td>0.0</td>\n      <td>0.0</td>\n      <td>0.0</td>\n      <td>0.0</td>\n      <td>0.0</td>\n      <td>0.0</td>\n      <td>0.0</td>\n      <td>0.0</td>\n      <td>0.0</td>\n      <td>0.0</td>\n      <td>0.0</td>\n      <td>0.0</td>\n      <td>0.0</td>\n      <td>0.0</td>\n      <td>0.0</td>\n      <td>0.0</td>\n      <td>0.0</td>\n    </tr>\n    <tr>\n      <th>5601</th>\n      <td>0.0</td>\n      <td>0.0</td>\n      <td>0.0</td>\n      <td>0.0</td>\n      <td>0.0</td>\n      <td>0.0</td>\n      <td>0.0</td>\n      <td>0.0</td>\n      <td>0.0</td>\n      <td>0.0</td>\n      <td>0.0</td>\n      <td>0.0</td>\n      <td>0.0</td>\n      <td>0.0</td>\n      <td>0.0</td>\n      <td>0.0</td>\n      <td>0.0</td>\n      <td>0.0</td>\n      <td>0.0</td>\n      <td>0.0</td>\n    </tr>\n    <tr>\n      <th>5602</th>\n      <td>0.0</td>\n      <td>0.0</td>\n      <td>0.0</td>\n      <td>0.0</td>\n      <td>0.0</td>\n      <td>0.0</td>\n      <td>0.0</td>\n      <td>0.0</td>\n      <td>0.0</td>\n      <td>0.0</td>\n      <td>0.0</td>\n      <td>0.0</td>\n      <td>0.0</td>\n      <td>0.0</td>\n      <td>0.0</td>\n      <td>0.0</td>\n      <td>0.0</td>\n      <td>0.0</td>\n      <td>0.0</td>\n      <td>0.0</td>\n    </tr>\n    <tr>\n      <th>5603</th>\n      <td>0.0</td>\n      <td>0.0</td>\n      <td>0.0</td>\n      <td>0.0</td>\n      <td>0.0</td>\n      <td>0.0</td>\n      <td>0.0</td>\n      <td>0.0</td>\n      <td>0.0</td>\n      <td>0.0</td>\n      <td>0.0</td>\n      <td>0.0</td>\n      <td>0.0</td>\n      <td>0.0</td>\n      <td>0.0</td>\n      <td>0.0</td>\n      <td>0.0</td>\n      <td>0.0</td>\n      <td>0.0</td>\n      <td>0.0</td>\n    </tr>\n    <tr>\n      <th>5604</th>\n      <td>0.0</td>\n      <td>0.0</td>\n      <td>0.0</td>\n      <td>0.0</td>\n      <td>0.0</td>\n      <td>0.0</td>\n      <td>0.0</td>\n      <td>0.0</td>\n      <td>0.0</td>\n      <td>0.0</td>\n      <td>0.0</td>\n      <td>0.0</td>\n      <td>0.0</td>\n      <td>0.0</td>\n      <td>0.0</td>\n      <td>0.0</td>\n      <td>0.0</td>\n      <td>0.0</td>\n      <td>0.0</td>\n      <td>0.0</td>\n    </tr>\n    <tr>\n      <th>...</th>\n      <td>...</td>\n      <td>...</td>\n      <td>...</td>\n      <td>...</td>\n      <td>...</td>\n      <td>...</td>\n      <td>...</td>\n      <td>...</td>\n      <td>...</td>\n      <td>...</td>\n      <td>...</td>\n      <td>...</td>\n      <td>...</td>\n      <td>...</td>\n      <td>...</td>\n      <td>...</td>\n      <td>...</td>\n      <td>...</td>\n      <td>...</td>\n      <td>...</td>\n    </tr>\n    <tr>\n      <th>6104</th>\n      <td>0.0</td>\n      <td>0.0</td>\n      <td>0.0</td>\n      <td>0.0</td>\n      <td>0.0</td>\n      <td>0.0</td>\n      <td>0.0</td>\n      <td>0.0</td>\n      <td>0.0</td>\n      <td>0.0</td>\n      <td>0.0</td>\n      <td>0.0</td>\n      <td>0.0</td>\n      <td>0.0</td>\n      <td>0.0</td>\n      <td>0.0</td>\n      <td>0.0</td>\n      <td>0.0</td>\n      <td>0.0</td>\n      <td>0.0</td>\n    </tr>\n    <tr>\n      <th>6105</th>\n      <td>0.0</td>\n      <td>0.0</td>\n      <td>0.0</td>\n      <td>0.0</td>\n      <td>0.0</td>\n      <td>0.0</td>\n      <td>0.0</td>\n      <td>0.0</td>\n      <td>0.0</td>\n      <td>0.0</td>\n      <td>0.0</td>\n      <td>0.0</td>\n      <td>0.0</td>\n      <td>0.0</td>\n      <td>0.0</td>\n      <td>0.0</td>\n      <td>0.0</td>\n      <td>0.0</td>\n      <td>0.0</td>\n      <td>0.0</td>\n    </tr>\n    <tr>\n      <th>6106</th>\n      <td>0.0</td>\n      <td>0.0</td>\n      <td>0.0</td>\n      <td>0.0</td>\n      <td>0.0</td>\n      <td>0.0</td>\n      <td>0.0</td>\n      <td>0.0</td>\n      <td>0.0</td>\n      <td>0.0</td>\n      <td>0.0</td>\n      <td>0.0</td>\n      <td>0.0</td>\n      <td>0.0</td>\n      <td>0.0</td>\n      <td>0.0</td>\n      <td>0.0</td>\n      <td>0.0</td>\n      <td>0.0</td>\n      <td>0.0</td>\n    </tr>\n    <tr>\n      <th>6107</th>\n      <td>0.0</td>\n      <td>0.0</td>\n      <td>0.0</td>\n      <td>0.0</td>\n      <td>0.0</td>\n      <td>0.0</td>\n      <td>0.0</td>\n      <td>0.0</td>\n      <td>0.0</td>\n      <td>0.0</td>\n      <td>0.0</td>\n      <td>0.0</td>\n      <td>0.0</td>\n      <td>0.0</td>\n      <td>0.0</td>\n      <td>0.0</td>\n      <td>0.0</td>\n      <td>0.0</td>\n      <td>0.0</td>\n      <td>0.0</td>\n    </tr>\n    <tr>\n      <th>6108</th>\n      <td>0.0</td>\n      <td>0.0</td>\n      <td>0.0</td>\n      <td>0.0</td>\n      <td>0.0</td>\n      <td>0.0</td>\n      <td>0.0</td>\n      <td>0.0</td>\n      <td>0.0</td>\n      <td>0.0</td>\n      <td>0.0</td>\n      <td>0.0</td>\n      <td>0.0</td>\n      <td>0.0</td>\n      <td>0.0</td>\n      <td>0.0</td>\n      <td>0.0</td>\n      <td>0.0</td>\n      <td>0.0</td>\n      <td>0.0</td>\n    </tr>\n  </tbody>\n</table>\n<p>509 rows × 20 columns</p>\n</div>"
     },
     "metadata": {},
     "output_type": "display_data"
    },
    {
     "data": {
      "text/plain": "      surge1_t0  surge1_t1  surge1_t2  surge1_t3  surge1_t4  surge1_t5  \\\n5600  -0.605464  -0.351543  -1.128168  -0.759401  -0.380316  -0.775113   \n5601  -0.063567  -0.139881   0.060915   0.025186   0.042977   0.409761   \n5602  -0.629066  -0.667193  -0.287621   0.032828  -0.135341  -0.066547   \n5603  -0.004705  -0.184260   0.050467   0.300543   0.152876  -0.031064   \n5604  -0.231194   0.275523   0.122968  -0.056975   0.472361   0.632787   \n...         ...        ...        ...        ...        ...        ...   \n6104  -0.646428  -0.808937  -1.060435  -0.944934  -0.560933  -0.663096   \n6105  -0.301380   0.068825   0.265179   0.525372   0.119438   0.221580   \n6106  -0.142612  -0.509190  -0.237940  -0.353024  -0.140853   0.229921   \n6107   0.080642   0.457028   0.425458  -0.050720   0.750792  -0.839876   \n6108  -0.334881   0.749593   1.951795   1.490407   3.002601   1.064544   \n\n      surge1_t6  surge1_t7  surge1_t8  surge1_t9  surge2_t0  surge2_t1  \\\n5600  -0.930347  -0.971967  -0.997146  -0.564322  -0.300176  -0.118046   \n5601  -0.122775  -0.086519   0.708204   0.686313  -0.019024   0.021283   \n5602  -0.231525  -0.390095  -0.123147  -0.455520   0.090600   0.476812   \n5603  -0.076724  -0.231616  -0.151012   0.528224   0.210657   0.880883   \n5604  -0.037728  -0.363414   0.155538   0.489215   0.564906   0.001292   \n...         ...        ...        ...        ...        ...        ...   \n6104  -0.587086  -0.286144  -0.409666  -0.244688   0.069139  -0.609462   \n6105   0.187955   0.402369   0.217725  -0.022953   0.460683   0.376788   \n6106  -0.244428  -0.580071  -0.334371  -0.152009  -0.523621  -0.652117   \n6107   0.252422   0.706774   0.235498  -0.142840   0.392574   0.105053   \n6108   0.908496   0.823064   0.354190  -0.541486  -0.421022   0.024369   \n\n      surge2_t2  surge2_t3  surge2_t4  surge2_t5  surge2_t6  surge2_t7  \\\n5600  -0.246792  -0.249534   0.129161  -0.033038  -0.523397   0.346199   \n5601  -0.077324   0.747948   0.642704   0.348651  -0.115248   0.846381   \n5602   0.291283   0.004482   0.653666   0.918983   0.133319   0.041931   \n5603   0.650131   0.699566   0.450404   0.641901   0.205088   0.572806   \n5604   0.861486   0.192273   0.941854   0.815560  -0.429089   0.709424   \n...         ...        ...        ...        ...        ...        ...   \n6104  -0.659200  -0.991651  -0.911690  -0.702406  -0.100041   0.004690   \n6105   0.409784   0.774568   0.991786   0.591912   0.843347   0.295935   \n6106  -0.315269  -0.086796  -0.127246  -0.379799  -0.067569  -0.175752   \n6107  -0.590026   0.064705  -0.103954  -0.452475  -0.292673  -0.248487   \n6108  -0.433752  -0.973147  -0.947557  -0.101721   0.170076   0.227756   \n\n      surge2_t8  surge2_t9  \n5600   0.148681   0.233831  \n5601   0.457371  -0.292193  \n5602  -0.064879  -0.335583  \n5603  -0.142747   0.483519  \n5604   0.697304   0.063574  \n...         ...        ...  \n6104  -0.574959  -0.763780  \n6105   0.381149  -0.013975  \n6106   0.035016  -0.063235  \n6107   0.322369   0.367232  \n6108  -0.374153   0.076130  \n\n[509 rows x 20 columns]",
      "text/html": "<div>\n<style scoped>\n    .dataframe tbody tr th:only-of-type {\n        vertical-align: middle;\n    }\n\n    .dataframe tbody tr th {\n        vertical-align: top;\n    }\n\n    .dataframe thead th {\n        text-align: right;\n    }\n</style>\n<table border=\"1\" class=\"dataframe\">\n  <thead>\n    <tr style=\"text-align: right;\">\n      <th></th>\n      <th>surge1_t0</th>\n      <th>surge1_t1</th>\n      <th>surge1_t2</th>\n      <th>surge1_t3</th>\n      <th>surge1_t4</th>\n      <th>surge1_t5</th>\n      <th>surge1_t6</th>\n      <th>surge1_t7</th>\n      <th>surge1_t8</th>\n      <th>surge1_t9</th>\n      <th>surge2_t0</th>\n      <th>surge2_t1</th>\n      <th>surge2_t2</th>\n      <th>surge2_t3</th>\n      <th>surge2_t4</th>\n      <th>surge2_t5</th>\n      <th>surge2_t6</th>\n      <th>surge2_t7</th>\n      <th>surge2_t8</th>\n      <th>surge2_t9</th>\n    </tr>\n  </thead>\n  <tbody>\n    <tr>\n      <th>5600</th>\n      <td>-0.605464</td>\n      <td>-0.351543</td>\n      <td>-1.128168</td>\n      <td>-0.759401</td>\n      <td>-0.380316</td>\n      <td>-0.775113</td>\n      <td>-0.930347</td>\n      <td>-0.971967</td>\n      <td>-0.997146</td>\n      <td>-0.564322</td>\n      <td>-0.300176</td>\n      <td>-0.118046</td>\n      <td>-0.246792</td>\n      <td>-0.249534</td>\n      <td>0.129161</td>\n      <td>-0.033038</td>\n      <td>-0.523397</td>\n      <td>0.346199</td>\n      <td>0.148681</td>\n      <td>0.233831</td>\n    </tr>\n    <tr>\n      <th>5601</th>\n      <td>-0.063567</td>\n      <td>-0.139881</td>\n      <td>0.060915</td>\n      <td>0.025186</td>\n      <td>0.042977</td>\n      <td>0.409761</td>\n      <td>-0.122775</td>\n      <td>-0.086519</td>\n      <td>0.708204</td>\n      <td>0.686313</td>\n      <td>-0.019024</td>\n      <td>0.021283</td>\n      <td>-0.077324</td>\n      <td>0.747948</td>\n      <td>0.642704</td>\n      <td>0.348651</td>\n      <td>-0.115248</td>\n      <td>0.846381</td>\n      <td>0.457371</td>\n      <td>-0.292193</td>\n    </tr>\n    <tr>\n      <th>5602</th>\n      <td>-0.629066</td>\n      <td>-0.667193</td>\n      <td>-0.287621</td>\n      <td>0.032828</td>\n      <td>-0.135341</td>\n      <td>-0.066547</td>\n      <td>-0.231525</td>\n      <td>-0.390095</td>\n      <td>-0.123147</td>\n      <td>-0.455520</td>\n      <td>0.090600</td>\n      <td>0.476812</td>\n      <td>0.291283</td>\n      <td>0.004482</td>\n      <td>0.653666</td>\n      <td>0.918983</td>\n      <td>0.133319</td>\n      <td>0.041931</td>\n      <td>-0.064879</td>\n      <td>-0.335583</td>\n    </tr>\n    <tr>\n      <th>5603</th>\n      <td>-0.004705</td>\n      <td>-0.184260</td>\n      <td>0.050467</td>\n      <td>0.300543</td>\n      <td>0.152876</td>\n      <td>-0.031064</td>\n      <td>-0.076724</td>\n      <td>-0.231616</td>\n      <td>-0.151012</td>\n      <td>0.528224</td>\n      <td>0.210657</td>\n      <td>0.880883</td>\n      <td>0.650131</td>\n      <td>0.699566</td>\n      <td>0.450404</td>\n      <td>0.641901</td>\n      <td>0.205088</td>\n      <td>0.572806</td>\n      <td>-0.142747</td>\n      <td>0.483519</td>\n    </tr>\n    <tr>\n      <th>5604</th>\n      <td>-0.231194</td>\n      <td>0.275523</td>\n      <td>0.122968</td>\n      <td>-0.056975</td>\n      <td>0.472361</td>\n      <td>0.632787</td>\n      <td>-0.037728</td>\n      <td>-0.363414</td>\n      <td>0.155538</td>\n      <td>0.489215</td>\n      <td>0.564906</td>\n      <td>0.001292</td>\n      <td>0.861486</td>\n      <td>0.192273</td>\n      <td>0.941854</td>\n      <td>0.815560</td>\n      <td>-0.429089</td>\n      <td>0.709424</td>\n      <td>0.697304</td>\n      <td>0.063574</td>\n    </tr>\n    <tr>\n      <th>...</th>\n      <td>...</td>\n      <td>...</td>\n      <td>...</td>\n      <td>...</td>\n      <td>...</td>\n      <td>...</td>\n      <td>...</td>\n      <td>...</td>\n      <td>...</td>\n      <td>...</td>\n      <td>...</td>\n      <td>...</td>\n      <td>...</td>\n      <td>...</td>\n      <td>...</td>\n      <td>...</td>\n      <td>...</td>\n      <td>...</td>\n      <td>...</td>\n      <td>...</td>\n    </tr>\n    <tr>\n      <th>6104</th>\n      <td>-0.646428</td>\n      <td>-0.808937</td>\n      <td>-1.060435</td>\n      <td>-0.944934</td>\n      <td>-0.560933</td>\n      <td>-0.663096</td>\n      <td>-0.587086</td>\n      <td>-0.286144</td>\n      <td>-0.409666</td>\n      <td>-0.244688</td>\n      <td>0.069139</td>\n      <td>-0.609462</td>\n      <td>-0.659200</td>\n      <td>-0.991651</td>\n      <td>-0.911690</td>\n      <td>-0.702406</td>\n      <td>-0.100041</td>\n      <td>0.004690</td>\n      <td>-0.574959</td>\n      <td>-0.763780</td>\n    </tr>\n    <tr>\n      <th>6105</th>\n      <td>-0.301380</td>\n      <td>0.068825</td>\n      <td>0.265179</td>\n      <td>0.525372</td>\n      <td>0.119438</td>\n      <td>0.221580</td>\n      <td>0.187955</td>\n      <td>0.402369</td>\n      <td>0.217725</td>\n      <td>-0.022953</td>\n      <td>0.460683</td>\n      <td>0.376788</td>\n      <td>0.409784</td>\n      <td>0.774568</td>\n      <td>0.991786</td>\n      <td>0.591912</td>\n      <td>0.843347</td>\n      <td>0.295935</td>\n      <td>0.381149</td>\n      <td>-0.013975</td>\n    </tr>\n    <tr>\n      <th>6106</th>\n      <td>-0.142612</td>\n      <td>-0.509190</td>\n      <td>-0.237940</td>\n      <td>-0.353024</td>\n      <td>-0.140853</td>\n      <td>0.229921</td>\n      <td>-0.244428</td>\n      <td>-0.580071</td>\n      <td>-0.334371</td>\n      <td>-0.152009</td>\n      <td>-0.523621</td>\n      <td>-0.652117</td>\n      <td>-0.315269</td>\n      <td>-0.086796</td>\n      <td>-0.127246</td>\n      <td>-0.379799</td>\n      <td>-0.067569</td>\n      <td>-0.175752</td>\n      <td>0.035016</td>\n      <td>-0.063235</td>\n    </tr>\n    <tr>\n      <th>6107</th>\n      <td>0.080642</td>\n      <td>0.457028</td>\n      <td>0.425458</td>\n      <td>-0.050720</td>\n      <td>0.750792</td>\n      <td>-0.839876</td>\n      <td>0.252422</td>\n      <td>0.706774</td>\n      <td>0.235498</td>\n      <td>-0.142840</td>\n      <td>0.392574</td>\n      <td>0.105053</td>\n      <td>-0.590026</td>\n      <td>0.064705</td>\n      <td>-0.103954</td>\n      <td>-0.452475</td>\n      <td>-0.292673</td>\n      <td>-0.248487</td>\n      <td>0.322369</td>\n      <td>0.367232</td>\n    </tr>\n    <tr>\n      <th>6108</th>\n      <td>-0.334881</td>\n      <td>0.749593</td>\n      <td>1.951795</td>\n      <td>1.490407</td>\n      <td>3.002601</td>\n      <td>1.064544</td>\n      <td>0.908496</td>\n      <td>0.823064</td>\n      <td>0.354190</td>\n      <td>-0.541486</td>\n      <td>-0.421022</td>\n      <td>0.024369</td>\n      <td>-0.433752</td>\n      <td>-0.973147</td>\n      <td>-0.947557</td>\n      <td>-0.101721</td>\n      <td>0.170076</td>\n      <td>0.227756</td>\n      <td>-0.374153</td>\n      <td>0.076130</td>\n    </tr>\n  </tbody>\n</table>\n<p>509 rows × 20 columns</p>\n</div>"
     },
     "metadata": {},
     "output_type": "display_data"
    }
   ],
   "source": [
    "# load the model from disk\n",
    "all_models = [f for f in listdir(path_model) if isfile(join(path_model, f))]\n",
    "\n",
    "for model_name in all_models:\n",
    "    filename = './model/' + model_name\n",
    "    loaded_model = pickle.load(open(filename, 'rb'))\n",
    "\n",
    "    Y_test_pred = loaded_model.predict(slp_test)\n",
    "\n",
    "    save_y_pred(model_name, output_path + \"/submit/\", Y_test_pred, X_test['id_sequence'], submit=True)"
   ],
   "metadata": {
    "collapsed": false,
    "pycharm": {
     "name": "#%%\n"
    }
   }
  },
  {
   "cell_type": "code",
   "execution_count": 42,
   "outputs": [],
   "source": [],
   "metadata": {
    "collapsed": false,
    "pycharm": {
     "name": "#%%\n"
    }
   }
  },
  {
   "cell_type": "markdown",
   "source": [
    "#### Predicting Y_test for the best model using all of X_train to train : no gain for XGBoost"
   ],
   "metadata": {
    "collapsed": false,
    "pycharm": {
     "name": "#%% md\n"
    }
   }
  },
  {
   "cell_type": "raw",
   "source": [
    "best_estimator = XGBRegressor(random_state=seed)\n",
    "best_regr = MultiOutputRegressor(best_estimator).fit(slp_train, surge_train_df)\n",
    "\n",
    "name, model = \"best_model\", best_regr\n",
    "filename = path_model + name + '.sav'\n",
    "# save the model to disk\n",
    "pickle.dump(model, open(filename, 'wb'))"
   ],
   "metadata": {
    "collapsed": false,
    "pycharm": {
     "name": "#%% raw\n"
    }
   }
  },
  {
   "cell_type": "code",
   "execution_count": 49,
   "outputs": [
    {
     "data": {
      "text/plain": "array([[100849.72, 100797.72, 100754.72, ..., 101970.81, 101981.81,\n        101990.81],\n       [100940.37, 100881.37, 100823.37, ..., 101515.72, 101562.72,\n        101611.72],\n       [101862.91, 101879.91, 101894.91, ..., 101005.37, 101038.37,\n        101076.37],\n       ...,\n       [102048.13, 102080.13, 102106.13, ..., 100781.81, 100724.81,\n        100664.81],\n       [102111.95, 102134.95, 102149.95, ..., 101352.13, 101376.13,\n        101392.13],\n       [101972.53, 101984.53, 101993.53, ..., 100412.28, 100450.28,\n        100483.28]], dtype=float32)"
     },
     "execution_count": 49,
     "metadata": {},
     "output_type": "execute_result"
    }
   ],
   "source": [
    "slp_train"
   ],
   "metadata": {
    "collapsed": false,
    "pycharm": {
     "name": "#%%\n"
    }
   }
  },
  {
   "cell_type": "code",
   "execution_count": 50,
   "outputs": [
    {
     "data": {
      "text/plain": "      surge1_t0  surge1_t1  surge1_t2  surge1_t3  surge1_t4  surge1_t5  \\\n1      0.586936   1.069580   0.767928  -0.100162   0.070775  -0.244285   \n2      0.767928  -0.100162   0.070775  -0.244285  -0.354891  -0.928031   \n3      0.070775  -0.244285  -0.354891  -0.928031  -0.773853  -0.375001   \n4     -0.354891  -0.928031  -0.773853  -0.375001  -0.361594  -0.210768   \n5     -0.773853  -0.375001  -0.361594  -0.210768   0.288635  -0.726929   \n...         ...        ...        ...        ...        ...        ...   \n5595   1.451674   1.220407   0.556771   1.709754   0.483033   0.533309   \n5596   0.556771   1.709754   0.483033   0.533309   1.448322   1.820360   \n5597   0.483033   0.533309   1.448322   1.820360   1.662831   1.528763   \n5598   1.448322   1.820360   1.662831   1.528763   1.284089   0.070775   \n5599   1.662831   1.528763   1.284089   0.070775   0.888589   1.545521   \n\n      surge1_t6  surge1_t7  surge1_t8  surge1_t9  surge2_t0  surge2_t1  \\\n1     -0.354891  -0.928031  -0.773853  -0.375001  -0.053886   0.356847   \n2     -0.773853  -0.375001  -0.361594  -0.210768   0.348464   0.264641   \n3     -0.361594  -0.210768   0.288635  -0.726929   0.901696   0.449052   \n4      0.288635  -0.726929  -0.576103   1.160076   0.113760  -0.422707   \n5     -0.576103   1.160076   0.442813   0.305393  -0.456236  -0.825057   \n...         ...        ...        ...        ...        ...        ...   \n5595   1.448322   1.820360   1.662831   1.528763   0.759197   0.884931   \n5596   1.662831   1.528763   1.284089   0.070775   0.298171  -0.397560   \n5597   1.284089   0.070775   0.888589   1.545521  -0.540059  -0.498148   \n5598   0.888589   1.545521   1.166779   0.653970  -0.498148  -0.405942   \n5599   1.166779   0.653970   0.409296   0.137809   0.164054   0.331700   \n\n      surge2_t2  surge2_t3  surge2_t4  surge2_t5  surge2_t6  surge2_t7  \\\n1      0.348464   0.264641   0.901696   0.449052   0.113760  -0.422707   \n2      0.901696   0.449052   0.113760  -0.422707  -0.456236  -0.825057   \n3      0.113760  -0.422707  -0.456236  -0.825057  -0.992703  -0.992703   \n4     -0.456236  -0.825057  -0.992703  -0.992703  -0.322119  -0.883733   \n5     -0.992703  -0.992703  -0.322119  -0.883733  -0.473001  -0.422707   \n...         ...        ...        ...        ...        ...        ...   \n5595   0.298171  -0.397560  -0.540059  -0.498148  -0.498148  -0.405942   \n5596  -0.540059  -0.498148  -0.498148  -0.405942   0.164054   0.331700   \n5597  -0.498148  -0.405942   0.164054   0.331700   1.052577   1.220223   \n5598   0.164054   0.331700   1.052577   1.220223   1.446545   2.670360   \n5599   1.052577   1.220223   1.446545   2.670360   2.620066   2.678742   \n\n      surge2_t8  surge2_t9  \n1     -0.456236  -0.825057  \n2     -0.992703  -0.992703  \n3     -0.322119  -0.883733  \n4     -0.473001  -0.422707  \n5     -0.473001  -0.531677  \n...         ...        ...  \n5595   0.164054   0.331700  \n5596   1.052577   1.220223  \n5597   1.446545   2.670360  \n5598   2.620066   2.678742  \n5599   1.220223   0.725668  \n\n[5599 rows x 20 columns]",
      "text/html": "<div>\n<style scoped>\n    .dataframe tbody tr th:only-of-type {\n        vertical-align: middle;\n    }\n\n    .dataframe tbody tr th {\n        vertical-align: top;\n    }\n\n    .dataframe thead th {\n        text-align: right;\n    }\n</style>\n<table border=\"1\" class=\"dataframe\">\n  <thead>\n    <tr style=\"text-align: right;\">\n      <th></th>\n      <th>surge1_t0</th>\n      <th>surge1_t1</th>\n      <th>surge1_t2</th>\n      <th>surge1_t3</th>\n      <th>surge1_t4</th>\n      <th>surge1_t5</th>\n      <th>surge1_t6</th>\n      <th>surge1_t7</th>\n      <th>surge1_t8</th>\n      <th>surge1_t9</th>\n      <th>surge2_t0</th>\n      <th>surge2_t1</th>\n      <th>surge2_t2</th>\n      <th>surge2_t3</th>\n      <th>surge2_t4</th>\n      <th>surge2_t5</th>\n      <th>surge2_t6</th>\n      <th>surge2_t7</th>\n      <th>surge2_t8</th>\n      <th>surge2_t9</th>\n    </tr>\n  </thead>\n  <tbody>\n    <tr>\n      <th>1</th>\n      <td>0.586936</td>\n      <td>1.069580</td>\n      <td>0.767928</td>\n      <td>-0.100162</td>\n      <td>0.070775</td>\n      <td>-0.244285</td>\n      <td>-0.354891</td>\n      <td>-0.928031</td>\n      <td>-0.773853</td>\n      <td>-0.375001</td>\n      <td>-0.053886</td>\n      <td>0.356847</td>\n      <td>0.348464</td>\n      <td>0.264641</td>\n      <td>0.901696</td>\n      <td>0.449052</td>\n      <td>0.113760</td>\n      <td>-0.422707</td>\n      <td>-0.456236</td>\n      <td>-0.825057</td>\n    </tr>\n    <tr>\n      <th>2</th>\n      <td>0.767928</td>\n      <td>-0.100162</td>\n      <td>0.070775</td>\n      <td>-0.244285</td>\n      <td>-0.354891</td>\n      <td>-0.928031</td>\n      <td>-0.773853</td>\n      <td>-0.375001</td>\n      <td>-0.361594</td>\n      <td>-0.210768</td>\n      <td>0.348464</td>\n      <td>0.264641</td>\n      <td>0.901696</td>\n      <td>0.449052</td>\n      <td>0.113760</td>\n      <td>-0.422707</td>\n      <td>-0.456236</td>\n      <td>-0.825057</td>\n      <td>-0.992703</td>\n      <td>-0.992703</td>\n    </tr>\n    <tr>\n      <th>3</th>\n      <td>0.070775</td>\n      <td>-0.244285</td>\n      <td>-0.354891</td>\n      <td>-0.928031</td>\n      <td>-0.773853</td>\n      <td>-0.375001</td>\n      <td>-0.361594</td>\n      <td>-0.210768</td>\n      <td>0.288635</td>\n      <td>-0.726929</td>\n      <td>0.901696</td>\n      <td>0.449052</td>\n      <td>0.113760</td>\n      <td>-0.422707</td>\n      <td>-0.456236</td>\n      <td>-0.825057</td>\n      <td>-0.992703</td>\n      <td>-0.992703</td>\n      <td>-0.322119</td>\n      <td>-0.883733</td>\n    </tr>\n    <tr>\n      <th>4</th>\n      <td>-0.354891</td>\n      <td>-0.928031</td>\n      <td>-0.773853</td>\n      <td>-0.375001</td>\n      <td>-0.361594</td>\n      <td>-0.210768</td>\n      <td>0.288635</td>\n      <td>-0.726929</td>\n      <td>-0.576103</td>\n      <td>1.160076</td>\n      <td>0.113760</td>\n      <td>-0.422707</td>\n      <td>-0.456236</td>\n      <td>-0.825057</td>\n      <td>-0.992703</td>\n      <td>-0.992703</td>\n      <td>-0.322119</td>\n      <td>-0.883733</td>\n      <td>-0.473001</td>\n      <td>-0.422707</td>\n    </tr>\n    <tr>\n      <th>5</th>\n      <td>-0.773853</td>\n      <td>-0.375001</td>\n      <td>-0.361594</td>\n      <td>-0.210768</td>\n      <td>0.288635</td>\n      <td>-0.726929</td>\n      <td>-0.576103</td>\n      <td>1.160076</td>\n      <td>0.442813</td>\n      <td>0.305393</td>\n      <td>-0.456236</td>\n      <td>-0.825057</td>\n      <td>-0.992703</td>\n      <td>-0.992703</td>\n      <td>-0.322119</td>\n      <td>-0.883733</td>\n      <td>-0.473001</td>\n      <td>-0.422707</td>\n      <td>-0.473001</td>\n      <td>-0.531677</td>\n    </tr>\n    <tr>\n      <th>...</th>\n      <td>...</td>\n      <td>...</td>\n      <td>...</td>\n      <td>...</td>\n      <td>...</td>\n      <td>...</td>\n      <td>...</td>\n      <td>...</td>\n      <td>...</td>\n      <td>...</td>\n      <td>...</td>\n      <td>...</td>\n      <td>...</td>\n      <td>...</td>\n      <td>...</td>\n      <td>...</td>\n      <td>...</td>\n      <td>...</td>\n      <td>...</td>\n      <td>...</td>\n    </tr>\n    <tr>\n      <th>5595</th>\n      <td>1.451674</td>\n      <td>1.220407</td>\n      <td>0.556771</td>\n      <td>1.709754</td>\n      <td>0.483033</td>\n      <td>0.533309</td>\n      <td>1.448322</td>\n      <td>1.820360</td>\n      <td>1.662831</td>\n      <td>1.528763</td>\n      <td>0.759197</td>\n      <td>0.884931</td>\n      <td>0.298171</td>\n      <td>-0.397560</td>\n      <td>-0.540059</td>\n      <td>-0.498148</td>\n      <td>-0.498148</td>\n      <td>-0.405942</td>\n      <td>0.164054</td>\n      <td>0.331700</td>\n    </tr>\n    <tr>\n      <th>5596</th>\n      <td>0.556771</td>\n      <td>1.709754</td>\n      <td>0.483033</td>\n      <td>0.533309</td>\n      <td>1.448322</td>\n      <td>1.820360</td>\n      <td>1.662831</td>\n      <td>1.528763</td>\n      <td>1.284089</td>\n      <td>0.070775</td>\n      <td>0.298171</td>\n      <td>-0.397560</td>\n      <td>-0.540059</td>\n      <td>-0.498148</td>\n      <td>-0.498148</td>\n      <td>-0.405942</td>\n      <td>0.164054</td>\n      <td>0.331700</td>\n      <td>1.052577</td>\n      <td>1.220223</td>\n    </tr>\n    <tr>\n      <th>5597</th>\n      <td>0.483033</td>\n      <td>0.533309</td>\n      <td>1.448322</td>\n      <td>1.820360</td>\n      <td>1.662831</td>\n      <td>1.528763</td>\n      <td>1.284089</td>\n      <td>0.070775</td>\n      <td>0.888589</td>\n      <td>1.545521</td>\n      <td>-0.540059</td>\n      <td>-0.498148</td>\n      <td>-0.498148</td>\n      <td>-0.405942</td>\n      <td>0.164054</td>\n      <td>0.331700</td>\n      <td>1.052577</td>\n      <td>1.220223</td>\n      <td>1.446545</td>\n      <td>2.670360</td>\n    </tr>\n    <tr>\n      <th>5598</th>\n      <td>1.448322</td>\n      <td>1.820360</td>\n      <td>1.662831</td>\n      <td>1.528763</td>\n      <td>1.284089</td>\n      <td>0.070775</td>\n      <td>0.888589</td>\n      <td>1.545521</td>\n      <td>1.166779</td>\n      <td>0.653970</td>\n      <td>-0.498148</td>\n      <td>-0.405942</td>\n      <td>0.164054</td>\n      <td>0.331700</td>\n      <td>1.052577</td>\n      <td>1.220223</td>\n      <td>1.446545</td>\n      <td>2.670360</td>\n      <td>2.620066</td>\n      <td>2.678742</td>\n    </tr>\n    <tr>\n      <th>5599</th>\n      <td>1.662831</td>\n      <td>1.528763</td>\n      <td>1.284089</td>\n      <td>0.070775</td>\n      <td>0.888589</td>\n      <td>1.545521</td>\n      <td>1.166779</td>\n      <td>0.653970</td>\n      <td>0.409296</td>\n      <td>0.137809</td>\n      <td>0.164054</td>\n      <td>0.331700</td>\n      <td>1.052577</td>\n      <td>1.220223</td>\n      <td>1.446545</td>\n      <td>2.670360</td>\n      <td>2.620066</td>\n      <td>2.678742</td>\n      <td>1.220223</td>\n      <td>0.725668</td>\n    </tr>\n  </tbody>\n</table>\n<p>5599 rows × 20 columns</p>\n</div>"
     },
     "execution_count": 50,
     "metadata": {},
     "output_type": "execute_result"
    }
   ],
   "source": [
    "surge_train_df"
   ],
   "metadata": {
    "collapsed": false,
    "pycharm": {
     "name": "#%%\n"
    }
   }
  },
  {
   "cell_type": "raw",
   "source": [
    "model_name = \"best_model\"\n",
    "filename = './model/' + model_name + \".sav\"\n",
    "\n",
    "loaded_best_model = pickle.load(open(filename, 'rb'))\n",
    "Y_test_pred = loaded_best_model.predict(slp_test)\n",
    "save_y_pred(model_name, output_path + \"/submit/\", Y_test_pred, X_test['id_sequence'], submit=True)"
   ],
   "metadata": {
    "collapsed": false,
    "pycharm": {
     "name": "#%% raw\n"
    }
   }
  },
  {
   "cell_type": "raw",
   "source": [
    "Y_test_pred"
   ],
   "metadata": {
    "collapsed": false,
    "pycharm": {
     "name": "#%% raw\n"
    }
   }
  },
  {
   "cell_type": "code",
   "execution_count": 42,
   "outputs": [],
   "source": [],
   "metadata": {
    "collapsed": false,
    "pycharm": {
     "name": "#%%\n"
    }
   }
  },
  {
   "cell_type": "code",
   "execution_count": null,
   "outputs": [],
   "source": [],
   "metadata": {
    "collapsed": false,
    "pycharm": {
     "name": "#%%\n"
    }
   }
  },
  {
   "cell_type": "markdown",
   "source": [
    "###  End of notebook"
   ],
   "metadata": {
    "collapsed": false,
    "pycharm": {
     "name": "#%% md\n"
    }
   }
  },
  {
   "cell_type": "code",
   "execution_count": 43,
   "outputs": [
    {
     "name": "stdout",
     "output_type": "stream",
     "text": [
      "computing time : 1575.047060 sec\n",
      "computing time : 00:26:15\n"
     ]
    }
   ],
   "source": [
    "# End of pipeline time\n",
    "t1 = time()\n",
    "print(\"computing time : {:8.6f} sec\".format(t1 - t0))\n",
    "print(\"computing time : \" + strftime('%H:%M:%S', gmtime(t1 - t0)))"
   ],
   "metadata": {
    "collapsed": false,
    "pycharm": {
     "name": "#%%\n"
    }
   }
  }
 ],
 "metadata": {
  "kernelspec": {
   "display_name": "Python 3",
   "language": "python",
   "name": "python3"
  },
  "language_info": {
   "codemirror_mode": {
    "name": "ipython",
    "version": 2
   },
   "file_extension": ".py",
   "mimetype": "text/x-python",
   "name": "python",
   "nbconvert_exporter": "python",
   "pygments_lexer": "ipython2",
   "version": "2.7.6"
  }
 },
 "nbformat": 4,
 "nbformat_minor": 0
}