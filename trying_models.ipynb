{
 "cells": [
  {
   "cell_type": "markdown",
   "source": [
    "Data Challenge : Can you predict the tide ?\n",
    "Author : Oumeima EL GHARBI\n",
    "Date : November 2022"
   ],
   "metadata": {
    "collapsed": false,
    "pycharm": {
     "name": "#%% md\n"
    }
   }
  },
  {
   "cell_type": "markdown",
   "source": [
    "# PART 2 : Regression predictive modelling"
   ],
   "metadata": {
    "collapsed": false,
    "pycharm": {
     "name": "#%% md\n"
    }
   }
  },
  {
   "cell_type": "markdown",
   "source": [
    "### Importing libraries"
   ],
   "metadata": {
    "collapsed": false,
    "pycharm": {
     "name": "#%% md\n"
    }
   }
  },
  {
   "cell_type": "code",
   "execution_count": 1,
   "outputs": [
    {
     "data": {
      "application/javascript": "IPython.notebook.set_autosave_interval(300000)"
     },
     "metadata": {},
     "output_type": "display_data"
    },
    {
     "name": "stdout",
     "output_type": "stream",
     "text": [
      "Autosaving every 300 seconds\n"
     ]
    }
   ],
   "source": [
    "import pandas as pd\n",
    "%reset -f\n",
    "\n",
    "from functions import *\n",
    "from surge_prediction_metric import *\n",
    "\n",
    "import warnings\n",
    "warnings.filterwarnings('ignore')\n",
    "#warnings.filterwarnings(action=\"once\")\n",
    "\n",
    "from sklearn.neighbors import BallTree\n",
    "from sklearn.multioutput import MultiOutputRegressor\n",
    "from sklearn.kernel_ridge import KernelRidge\n",
    "from xgboost import XGBRegressor\n",
    "from sklearn.svm import SVR\n",
    "from sklearn.ensemble import RandomForestRegressor\n",
    "from sklearn.neural_network import MLPRegressor\n",
    "\n",
    "%matplotlib inline\n",
    "%autosave 300"
   ],
   "metadata": {
    "collapsed": false,
    "pycharm": {
     "name": "#%%\n"
    }
   }
  },
  {
   "cell_type": "code",
   "execution_count": 2,
   "outputs": [],
   "source": [
    "# Starting time\n",
    "t0 = time()\n",
    "\n",
    "baseline_error = 0.62 # SVR\n",
    "seed = 42"
   ],
   "metadata": {
    "collapsed": false,
    "pycharm": {
     "name": "#%%\n"
    }
   }
  },
  {
   "cell_type": "markdown",
   "source": [
    "#### Loading dataset"
   ],
   "metadata": {
    "collapsed": false,
    "pycharm": {
     "name": "#%% md\n"
    }
   }
  },
  {
   "cell_type": "code",
   "execution_count": 3,
   "outputs": [],
   "source": [
    "# load raw dataset\n",
    "input_path = \"./dataset/output/\"\n",
    "output_path = \"./dataset/output/\"\n",
    "\n",
    "X_train_filename = \"X_train_std.csv\"\n",
    "y_train_filename = \"Y_train.csv\"\n",
    "X_val_filename = \"X_val_std.csv\"\n",
    "y_val_filename = \"Y_val_true.csv\"\n",
    "X_test_filename = \"X_test_std.csv\"\n",
    "\n",
    "X_train_file = \"{}{}\".format(input_path, X_train_filename)\n",
    "y_train_file = \"{}{}\".format(input_path, y_train_filename)\n",
    "X_val_file = \"{}{}\".format(input_path, X_val_filename)\n",
    "y_val_file = \"{}{}\".format(input_path, y_val_filename)\n",
    "X_test_file = \"{}{}\".format(input_path, X_test_filename)"
   ],
   "metadata": {
    "collapsed": false,
    "pycharm": {
     "name": "#%%\n"
    }
   }
  },
  {
   "cell_type": "code",
   "execution_count": 4,
   "outputs": [],
   "source": [
    "X_train = pd.read_csv(X_train_file)\n",
    "y_train = pd.read_csv(y_train_file)\n",
    "X_val = pd.read_csv(X_val_file)\n",
    "y_val = pd.read_csv(y_val_file)\n",
    "X_test = pd.read_csv(X_test_file)"
   ],
   "metadata": {
    "collapsed": false,
    "pycharm": {
     "name": "#%%\n"
    }
   }
  },
  {
   "cell_type": "code",
   "execution_count": 5,
   "outputs": [],
   "source": [
    "y_train_index = y_train[\"id_sequence\"].tolist() # for Ball Tree\n",
    "y_val_index = y_val[\"id_sequence\"].tolist()\n",
    "X_test_index = X_test[\"id_sequence\"].tolist()"
   ],
   "metadata": {
    "collapsed": false,
    "pycharm": {
     "name": "#%%\n"
    }
   }
  },
  {
   "cell_type": "code",
   "execution_count": 6,
   "outputs": [],
   "source": [
    "X_train, X_val, y_train, X_val, X_test = X_train.iloc[:,1:], X_val.iloc[:,1:], y_train.iloc[:,1:], X_val.iloc[:,1:], X_test.iloc[:,1:]"
   ],
   "metadata": {
    "collapsed": false,
    "pycharm": {
     "name": "#%%\n"
    }
   }
  },
  {
   "cell_type": "code",
   "execution_count": 7,
   "outputs": [
    {
     "data": {
      "text/plain": "array([-0.45637918, -0.532156  , -0.61048055, ...,  0.75181955,\n        0.71798766,  0.68441993])"
     },
     "execution_count": 7,
     "metadata": {},
     "output_type": "execute_result"
    }
   ],
   "source": [
    "X_val.values[0]"
   ],
   "metadata": {
    "collapsed": false,
    "pycharm": {
     "name": "#%%\n"
    }
   }
  },
  {
   "cell_type": "markdown",
   "source": [
    "# Part II : Predictive modeling"
   ],
   "metadata": {
    "collapsed": false,
    "pycharm": {
     "name": "#%% md\n"
    }
   }
  },
  {
   "cell_type": "markdown",
   "source": [
    "#### Baseline / Benchmark : Ball Tree"
   ],
   "metadata": {
    "collapsed": false,
    "pycharm": {
     "name": "#%% md\n"
    }
   }
  },
  {
   "cell_type": "code",
   "execution_count": 8,
   "outputs": [
    {
     "data": {
      "text/plain": "array([[ 0.58693592,  1.06958024,  0.76792754, ..., -0.42270688,\n        -0.45623606, -0.82505705],\n       [ 0.76792754, -0.1001619 ,  0.07077463, ..., -0.82505705,\n        -0.99270295, -0.99270295],\n       [ 0.07077463, -0.24428486, -0.35489084, ..., -0.99270295,\n        -0.32211934, -0.88373311],\n       ...,\n       [ 0.48303332,  0.53330877,  1.44832196, ...,  1.22022298,\n         1.44654495,  2.67036005],\n       [ 1.44832196,  1.82036029,  1.66283054, ...,  2.67036005,\n         2.62006628,  2.67874235],\n       [ 1.66283054,  1.52876268,  1.28408882, ...,  2.67874235,\n         1.22022298,  0.72566756]])"
     },
     "execution_count": 8,
     "metadata": {},
     "output_type": "execute_result"
    }
   ],
   "source": [
    "Y_train = pd.read_csv(r\"C:\\Users\\athen\\Documents\\Scolarité\\Alternance\\DataChallenge\\ChallengeData_CanYouPredictTheTide\\dataset\\source\\Y_train_surge.csv\")\n",
    "\n",
    "surge_train = np.array(Y_train)[:, 1:]\n",
    "surge_train"
   ],
   "metadata": {
    "collapsed": false,
    "pycharm": {
     "name": "#%%\n"
    }
   }
  },
  {
   "cell_type": "code",
   "execution_count": 112,
   "outputs": [
    {
     "name": "stdout",
     "output_type": "stream",
     "text": [
      "1.1156099325586981\n"
     ]
    },
    {
     "data": {
      "text/plain": "1.1156099325586981"
     },
     "execution_count": 112,
     "metadata": {},
     "output_type": "execute_result"
    }
   ],
   "source": [
    "# 1) fit\n",
    "tree = BallTree(X_train.values, metric='l2')\n",
    "\n",
    "# 2.1) predict\n",
    "y_val_pred_ballTree = []; k = 40\n",
    "for i in range(X_val.shape[0]): # 1680 rows\n",
    "    dist, ind = tree.query([X_val.values[i]], k=k) # X_val from Df to np array\n",
    "    y_val_pred_ballTree.append(np.mean(surge_train[ind[0]], axis=0)) # we get indexes in surge_train (Y_train) where all the training data is\n",
    "\n",
    "# 2.2) to matrix\n",
    "y_val_pred_ballTree = np.array(y_val_pred_ballTree)\n",
    "\n",
    "# 3) save\n",
    "save_y_pred(\"BallTree\", output_path, y_val_pred_ballTree, y_val_index, submit=False) # y_val_surge\n",
    "\n",
    "# 4) evaluate\n",
    "evaluate_surge(y_pred_filename=\"Y_val_pred_BallTree.csv\", y_true_filename=\"Y_val_true.csv\", path_output=output_path)\n",
    "display_scatterplot(y_val_true=y_val, y_val_pred=y_val_pred_ballTree)"
   ],
   "metadata": {
    "collapsed": false,
    "pycharm": {
     "name": "#%%\n"
    }
   }
  },
  {
   "cell_type": "code",
   "execution_count": 29,
   "outputs": [],
   "source": [],
   "metadata": {
    "collapsed": false,
    "pycharm": {
     "name": "#%%\n"
    }
   }
  },
  {
   "cell_type": "markdown",
   "source": [
    "#### 1) Kernel Ridge"
   ],
   "metadata": {
    "collapsed": false,
    "pycharm": {
     "name": "#%% md\n"
    }
   }
  },
  {
   "cell_type": "code",
   "execution_count": 8,
   "outputs": [
    {
     "name": "stdout",
     "output_type": "stream",
     "text": [
      "0.6090066039045541\n"
     ]
    },
    {
     "data": {
      "text/plain": "<Figure size 720x2880 with 20 Axes>",
      "image/png": "[encoded data removed]"
     },
     "metadata": {
      "needs_background": "light"
     },
     "output_type": "display_data"
    }
   ],
   "source": [
    "# 1) fit\n",
    "estimator = KernelRidge(kernel='rbf', alpha=0.372759372031494) # default = Linear\n",
    "# Valid values for metric are: [‘additive_chi2’, ‘chi2’, ‘linear’, ‘poly’, ‘polynomial’, ‘rbf’, ‘laplacian’, ‘sigmoid’, ‘cosine’]\n",
    "regr_ridge = MultiOutputRegressor(estimator).fit(X_train, y_train)\n",
    "\n",
    "# 2) save model\n",
    "path_model = './model/'\n",
    "dict_models = {'KernelRidge': regr_ridge}\n",
    "for name, model in dict_models.items():\n",
    "    filename = path_model + name + '.sav'\n",
    "    # save the model to disk\n",
    "    pickle.dump(model, open(filename, 'wb'))\n",
    "\n",
    "# 3) predict\n",
    "y_val_surge_pred_ridge = regr_ridge.predict(X_val)\n",
    "\n",
    "# 4) save predictions\n",
    "save_y_pred(\"KernelRidge\", output_path, y_val_surge_pred_ridge, y_val_index, submit=False)\n",
    "\n",
    "# 5) evaluate\n",
    "evaluate_surge(y_pred_filename=\"Y_val_pred_KernelRidge.csv\", y_true_filename=\"Y_val_true.csv\", path_output=output_path)\n",
    "display_scatterplot(y_val_true=y_val, y_val_pred=y_val_surge_pred_ridge)"
   ],
   "metadata": {
    "collapsed": false,
    "pycharm": {
     "name": "#%%\n"
    }
   }
  },
  {
   "cell_type": "code",
   "execution_count": 10,
   "outputs": [],
   "source": [
    "# 6) submit\n",
    "all_models = [\"KernelRidge.sav\"]\n",
    "for model_name in all_models:\n",
    "    filename = './model/' + model_name\n",
    "    loaded_model = pickle.load(open(filename, 'rb'))\n",
    "\n",
    "    Y_test_pred = loaded_model.predict(X_test)\n",
    "    # while saving the model we remove .sav\n",
    "    save_y_pred(model_name[:-4], output_path + \"/submit/\", Y_test_pred, X_test_index, submit=True)"
   ],
   "metadata": {
    "collapsed": false,
    "pycharm": {
     "name": "#%%\n"
    }
   }
  },
  {
   "cell_type": "code",
   "execution_count": null,
   "outputs": [],
   "source": [
    "#regr_ridge.predict(X_train.values[[0]])"
   ],
   "metadata": {
    "collapsed": false,
    "pycharm": {
     "name": "#%%\n"
    }
   }
  },
  {
   "cell_type": "markdown",
   "source": [
    "##### Hyperparameters tuning"
   ],
   "metadata": {
    "collapsed": false,
    "pycharm": {
     "name": "#%% md\n"
    }
   }
  },
  {
   "cell_type": "markdown",
   "source": [
    "##### 1) best alpha"
   ],
   "metadata": {
    "collapsed": false,
    "pycharm": {
     "name": "#%% md\n"
    }
   }
  },
  {
   "cell_type": "code",
   "execution_count": 130,
   "outputs": [
    {
     "name": "stdout",
     "output_type": "stream",
     "text": [
      "0.7904264984173132\n",
      "0.7842459164541606\n",
      "0.7653033610191133\n",
      "0.7236838730011976\n",
      "0.6693273761108416\n",
      "0.62739005365469\n",
      "0.6096038177715166\n",
      "0.6156680655872695\n",
      "0.6426846677912613\n",
      "0.6924588292268318\n",
      "0.770310958605962\n",
      "0.8720413440468915\n",
      "0.977217198638823\n",
      "1.040198502940785\n",
      "1.0638307720514049\n"
     ]
    }
   ],
   "source": [
    "a, b = -4, 4 # default 10**-4\n",
    "n_alphas = 15  # hyperparametre alpha\n",
    "alphas = np.logspace(a, b, n_alphas)\n",
    "\n",
    "regr_KernelRidge = KernelRidge(kernel='rbf')\n",
    "\n",
    "coefs = []\n",
    "errors = []\n",
    "\n",
    "for index, a in enumerate(alphas):\n",
    "    # 1) fit\n",
    "    regr_KernelRidge.set_params(alpha=a)\n",
    "    regr_KernelRidge.fit(X_train, y_train)\n",
    "    # 2) predict\n",
    "    y_val_surge_pred_KernelRidge = regr_KernelRidge.predict(X_val)\n",
    "\n",
    "    coefs.append(a)\n",
    "\n",
    "    # 3) save\n",
    "    save_y_pred(\"KernelRidge_{}\".format(index), output_path, y_val_surge_pred_KernelRidge, y_val_index, submit=False)\n",
    "\n",
    "    # 4) evaluate\n",
    "    score_surge = evaluate_surge(y_pred_filename=\"Y_val_pred_KernelRidge_{}.csv\".format(index),\n",
    "                                 y_true_filename=\"Y_val_true.csv\", path_output=output_path)\n",
    "    errors.append(score_surge)\n",
    "    #print(score_surge)"
   ],
   "metadata": {
    "collapsed": false,
    "pycharm": {
     "name": "#%%\n"
    }
   }
  },
  {
   "cell_type": "code",
   "execution_count": 131,
   "outputs": [
    {
     "name": "stdout",
     "output_type": "stream",
     "text": [
      "Minimum Mean Squared Error for Ridge Regression : 0.6096038177715166\n",
      "Best alpha for that minimal MSE :  0.2682695795279725\n"
     ]
    },
    {
     "data": {
      "text/plain": "(3.9810717055349695e-05,\n 25118.864315095823,\n 0.5868924700575222,\n 1.0865421197653993)"
     },
     "execution_count": 131,
     "metadata": {},
     "output_type": "execute_result"
    },
    {
     "data": {
      "text/plain": "<Figure size 432x288 with 1 Axes>",
      "image/png": "[encoded data removed]"
     },
     "metadata": {
      "needs_background": "light"
     },
     "output_type": "display_data"
    }
   ],
   "source": [
    "# recupere l'erreur min\n",
    "print(\"Minimum Mean Squared Error for Ridge Regression :\", errors[np.argmin(errors)])\n",
    "print(\"Best alpha for that minimal MSE : \", alphas[np.argmin(errors)])\n",
    "\n",
    "#Observation of the error behaviour\n",
    "ax = plt.gca()\n",
    "ax.plot(alphas, errors)\n",
    "# specifying horizontal line type\n",
    "plt.axhline(y=baseline_error, color='r', linestyle='-')\n",
    "\n",
    "ax.set_xscale('log')\n",
    "\n",
    "plt.xlabel('alpha : hyperparameter')\n",
    "plt.ylabel('error : MSE')\n",
    "plt.axis('tight')"
   ],
   "metadata": {
    "collapsed": false,
    "pycharm": {
     "name": "#%%\n"
    }
   }
  },
  {
   "cell_type": "markdown",
   "source": [
    "##### 2) best alpha in a smaller range"
   ],
   "metadata": {
    "collapsed": false,
    "pycharm": {
     "name": "#%% md\n"
    }
   }
  },
  {
   "cell_type": "code",
   "execution_count": 120,
   "outputs": [
    {
     "name": "stdout",
     "output_type": "stream",
     "text": [
      "0.6205756763729977\n",
      "0.6153497822751309\n",
      "0.6117028952346606\n",
      "0.6096038177715168\n",
      "0.6090066039045539\n",
      "0.6098563504664689\n",
      "0.6120951278864282\n",
      "0.6156680655872695\n",
      "0.6205292600243855\n",
      "0.626648655659247\n",
      "0.6340221380166919\n",
      "0.6426846677912614\n",
      "0.6527206713745253\n",
      "0.6642616370029347\n",
      "0.6774626953109812\n"
     ]
    }
   ],
   "source": [
    "a, b = -1, 1 # default 10**-4\n",
    "n_alphas = 15  # hyperparametre alpha\n",
    "alphas = np.logspace(a, b, n_alphas)\n",
    "\n",
    "regr_KernelRidge = KernelRidge(kernel='rbf')\n",
    "\n",
    "coefs = []\n",
    "errors = []\n",
    "\n",
    "for index, a in enumerate(alphas):\n",
    "    # 1) fit\n",
    "    regr_KernelRidge.set_params(alpha=a)\n",
    "    regr_KernelRidge.fit(X_train, y_train)\n",
    "    # 2) predict\n",
    "    y_val_surge_pred_KernelRidge = regr_KernelRidge.predict(X_val)\n",
    "\n",
    "    coefs.append(a)\n",
    "\n",
    "    # 3) save\n",
    "    save_y_pred(\"KernelRidge_{}\".format(index), output_path, y_val_surge_pred_KernelRidge, y_val_index, submit=False)\n",
    "\n",
    "    # 4) evaluate\n",
    "    score_surge = evaluate_surge(y_pred_filename=\"Y_val_pred_KernelRidge_{}.csv\".format(index),\n",
    "                                 y_true_filename=\"Y_val_true.csv\", path_output=output_path)\n",
    "    errors.append(score_surge)\n",
    "    #print(score_surge)"
   ],
   "metadata": {
    "collapsed": false,
    "pycharm": {
     "name": "#%%\n"
    }
   }
  },
  {
   "cell_type": "code",
   "execution_count": 122,
   "outputs": [
    {
     "name": "stdout",
     "output_type": "stream",
     "text": [
      "Minimum Mean Squared Error for Ridge Regression : 0.6090066039045539\n",
      "Best alpha for that minimal MSE :  0.372759372031494\n"
     ]
    },
    {
     "data": {
      "text/plain": "(0.07943282347242814,\n 12.589254117941675,\n 0.6055837993342325,\n 0.6808854998813026)"
     },
     "execution_count": 122,
     "metadata": {},
     "output_type": "execute_result"
    },
    {
     "data": {
      "text/plain": "<Figure size 432x288 with 1 Axes>",
      "image/png": "[encoded data removed]"
     },
     "metadata": {
      "needs_background": "light"
     },
     "output_type": "display_data"
    }
   ],
   "source": [
    "# recupere l'erreur min\n",
    "print(\"Minimum Mean Squared Error for Ridge Regression :\", errors[np.argmin(errors)])\n",
    "print(\"Best alpha for that minimal MSE : \", alphas[np.argmin(errors)])\n",
    "\n",
    "#Observation of the error behaviour\n",
    "ax = plt.gca()\n",
    "ax.plot(alphas, errors)\n",
    "# specifying horizontal line type\n",
    "plt.axhline(y=baseline_error, color='r', linestyle='-')\n",
    "\n",
    "\n",
    "# line with alpha associated to the min error\n",
    "min_alpha = alphas[np.argmin(errors)]\n",
    "plt.axvline(x=min_alpha, color='b', label='axvline - full height')\n",
    "\n",
    "ax.set_xscale('log')\n",
    "\n",
    "plt.xlabel('alpha : hyperparameter')\n",
    "plt.ylabel('error : MSE')\n",
    "plt.axis('tight')"
   ],
   "metadata": {
    "collapsed": false,
    "pycharm": {
     "name": "#%%\n"
    }
   }
  },
  {
   "cell_type": "code",
   "execution_count": null,
   "outputs": [],
   "source": [],
   "metadata": {
    "collapsed": false,
    "pycharm": {
     "name": "#%%\n"
    }
   }
  },
  {
   "cell_type": "markdown",
   "source": [
    "#### 2) XGBoost"
   ],
   "metadata": {
    "collapsed": false,
    "pycharm": {
     "name": "#%% md\n"
    }
   }
  },
  {
   "cell_type": "code",
   "execution_count": 126,
   "outputs": [
    {
     "name": "stdout",
     "output_type": "stream",
     "text": [
      "0.6901539421282873\n"
     ]
    },
    {
     "data": {
      "text/plain": "0.6901539421282873"
     },
     "execution_count": 126,
     "metadata": {},
     "output_type": "execute_result"
    }
   ],
   "source": [
    "# 1) fit\n",
    "estimator = XGBRegressor(random_state=seed)\n",
    "regr_XGBoost = MultiOutputRegressor(estimator).fit(X_train, y_train)\n",
    "\n",
    "# 2) predict\n",
    "y_val_surge_pred_XGBoost = regr_XGBoost.predict(X_val)\n",
    "\n",
    "# 3) save\n",
    "save_y_pred(\"XGBoost\", output_path, y_val_surge_pred_XGBoost, y_val_index, submit=False)\n",
    "\n",
    "# 4) evaluate\n",
    "evaluate_surge(y_pred_filename=\"Y_val_pred_XGBoost.csv\", y_true_filename=\"Y_val_true.csv\", path_output=output_path)\n",
    "display_scatterplot(y_val_true=y_val, y_val_pred=y_val_surge_pred_XGBoost)"
   ],
   "metadata": {
    "collapsed": false,
    "pycharm": {
     "name": "#%%\n"
    }
   }
  },
  {
   "cell_type": "code",
   "execution_count": 29,
   "outputs": [],
   "source": [],
   "metadata": {
    "collapsed": false,
    "pycharm": {
     "name": "#%%\n"
    }
   }
  },
  {
   "cell_type": "code",
   "execution_count": 29,
   "outputs": [],
   "source": [],
   "metadata": {
    "collapsed": false,
    "pycharm": {
     "name": "#%%\n"
    }
   }
  },
  {
   "cell_type": "code",
   "execution_count": null,
   "outputs": [],
   "source": [],
   "metadata": {
    "collapsed": false,
    "pycharm": {
     "name": "#%%\n"
    }
   }
  },
  {
   "cell_type": "markdown",
   "source": [
    "#### 3) SVR : 0.62 without tuning without scaling => 0.72 for Y_test"
   ],
   "metadata": {
    "collapsed": false,
    "pycharm": {
     "name": "#%% md\n"
    }
   },
   "execution_count": 127
  },
  {
   "cell_type": "code",
   "execution_count": 133,
   "outputs": [
    {
     "name": "stdout",
     "output_type": "stream",
     "text": [
      "0.6192677945014997\n"
     ]
    },
    {
     "ename": "NameError",
     "evalue": "name 'X_test_index' is not defined",
     "output_type": "error",
     "traceback": [
      "\u001B[1;31m---------------------------------------------------------------------------\u001B[0m",
      "\u001B[1;31mNameError\u001B[0m                                 Traceback (most recent call last)",
      "Input \u001B[1;32mIn [133]\u001B[0m, in \u001B[0;36m<cell line: 26>\u001B[1;34m()\u001B[0m\n\u001B[0;32m     30\u001B[0m Y_test_pred \u001B[38;5;241m=\u001B[39m loaded_model\u001B[38;5;241m.\u001B[39mpredict(X_test)\n\u001B[0;32m     31\u001B[0m \u001B[38;5;66;03m# while saving the model we remove .sav\u001B[39;00m\n\u001B[1;32m---> 32\u001B[0m save_y_pred(model_name[:\u001B[38;5;241m-\u001B[39m\u001B[38;5;241m4\u001B[39m], output_path \u001B[38;5;241m+\u001B[39m \u001B[38;5;124m\"\u001B[39m\u001B[38;5;124m/submit/\u001B[39m\u001B[38;5;124m\"\u001B[39m, Y_test_pred, \u001B[43mX_test_index\u001B[49m, submit\u001B[38;5;241m=\u001B[39m\u001B[38;5;28;01mTrue\u001B[39;00m)\n",
      "\u001B[1;31mNameError\u001B[0m: name 'X_test_index' is not defined"
     ]
    }
   ],
   "source": [
    "# 1) fit\n",
    "estimator = SVR(kernel='rbf')\n",
    "\n",
    "#from tqdm import tqdm\n",
    "regr_SVR = MultiOutputRegressor(estimator).fit(X_train, y_train)\n",
    "\n",
    "# 2) save model\n",
    "path_model = './model/'\n",
    "dict_models = {'SVR': regr_SVR}\n",
    "for name, model in dict_models.items():\n",
    "    filename = path_model + name + '.sav'\n",
    "    # save the model to disk\n",
    "    pickle.dump(model, open(filename, 'wb'))\n",
    "\n",
    "# 3) predict\n",
    "y_val_surge_pred_SVR = regr_SVR.predict(X_val)\n",
    "\n",
    "# 4) save predictions\n",
    "save_y_pred(\"SVR\", output_path, y_val_surge_pred_SVR, y_val_index, submit=False)\n",
    "\n",
    "# 5) evaluate\n",
    "evaluate_surge(y_pred_filename=\"Y_val_pred_SVR.csv\", y_true_filename=\"Y_val_true.csv\", path_output=output_path)\n",
    "display_scatterplot(y_val_true=y_val, y_val_pred=y_val_surge_pred_SVR)\n"
   ],
   "metadata": {
    "collapsed": false,
    "pycharm": {
     "name": "#%%\n"
    }
   }
  },
  {
   "cell_type": "code",
   "execution_count": 11,
   "outputs": [],
   "source": [
    "# 6) submit\n",
    "all_models = [\"SVR.sav\"]\n",
    "for model_name in all_models:\n",
    "    filename = './model/' + model_name\n",
    "    loaded_model = pickle.load(open(filename, 'rb'))\n",
    "\n",
    "    Y_test_pred = loaded_model.predict(X_test)\n",
    "    # while saving the model we remove .sav\n",
    "    save_y_pred(model_name[:-4], output_path + \"/submit/\", Y_test_pred, X_test_index, submit=True)"
   ],
   "metadata": {
    "collapsed": false,
    "pycharm": {
     "name": "#%%\n"
    }
   }
  },
  {
   "cell_type": "code",
   "execution_count": null,
   "outputs": [],
   "source": [],
   "metadata": {
    "collapsed": false,
    "pycharm": {
     "name": "#%%\n"
    }
   }
  },
  {
   "cell_type": "markdown",
   "source": [
    "##### Tuning"
   ],
   "metadata": {
    "collapsed": false,
    "pycharm": {
     "name": "#%% md\n"
    }
   }
  },
  {
   "cell_type": "code",
   "execution_count": null,
   "outputs": [],
   "source": [
    "from sklearn.model_selection import GridSearchCV\n",
    "\n",
    "parameters = {'gamma' : [1e-8, 1e-7, 1e-6, 1e-5, 1e-4, 1e-3, 1e-2, 1e-1], #kernel coefficient [ici kernel = Radial Basis Function]\n",
    "              'epsilon' : [0.001, 0.01, 0.1, 1], #erreur tolérée par l'algorithme\n",
    "              'C' : [0.001, 0.01, 0.1, 1, 10]} #parametre de régularisation\n",
    "\n",
    "\n",
    "estimator = SVR(kernel='rbf')\n",
    "grid_multi_SVR = GridSearchCV(\n",
    "    estimator=MultiOutputRegressor(estimator),\n",
    "    param_grid=parameters,\n",
    "    cv=5,\n",
    "    verbose=0)\n",
    "\n",
    "grid_multi_SVR.fit(X_train, y_train)\n",
    "\n"
   ],
   "metadata": {
    "collapsed": false,
    "pycharm": {
     "name": "#%%\n"
    }
   }
  },
  {
   "cell_type": "code",
   "execution_count": null,
   "outputs": [],
   "source": [
    "# best estimator\n",
    "print(\"Best estimator :\", grid_multi_SVR.best_estimator_)\n",
    "\n",
    "# best model\n",
    "best_model = grid_multi_SVR.best_estimator_\n",
    "\n",
    "# 1) fit\n",
    "best_model.fit(X_train, y_train)\n",
    "\n",
    "# 2) predict\n",
    "y_val_surge_pred_grid_SVR = best_model.predict(X_val)\n",
    "\n",
    "# 3) save predictions\n",
    "save_y_pred(\"grid_SVR\", output_path, y_val_surge_pred_grid_SVR, y_val_index, submit=False)\n",
    "\n",
    "# 4) evaluate\n",
    "evaluate_surge(y_pred_filename=\"Y_val_pred_grid_SVR.csv\", y_true_filename=\"Y_val_true.csv\", path_output=output_path)"
   ],
   "metadata": {
    "collapsed": false,
    "pycharm": {
     "name": "#%%\n"
    }
   }
  },
  {
   "cell_type": "code",
   "execution_count": 29,
   "outputs": [],
   "source": [],
   "metadata": {
    "collapsed": false,
    "pycharm": {
     "name": "#%%\n"
    }
   }
  },
  {
   "cell_type": "markdown",
   "source": [
    "#### 4) Random Forest : NO more than 2 hours"
   ],
   "metadata": {
    "collapsed": false,
    "pycharm": {
     "name": "#%% md\n"
    }
   }
  },
  {
   "cell_type": "code",
   "execution_count": null,
   "outputs": [],
   "source": [
    "# 1) fit\n",
    "estimator = RandomForestRegressor(n_estimators=10, random_state=seed)\n",
    "regr_RFR = MultiOutputRegressor(estimator).fit(X_train, y_train)\n",
    "\n",
    "# 2) predict\n",
    "y_val_surge_pred_RFR = regr_RFR.predict(X_val)\n",
    "\n",
    "# 3) save\n",
    "save_y_pred(\"RFR\", output_path, y_val_surge_pred_RFR, y_val_index, submit=False)\n",
    "\n",
    "# 4) evaluate\n",
    "evaluate_surge(y_pred_filename=\"Y_val_pred_RFR.csv\", y_true_filename=\"Y_val_true.csv\", path_output=output_path)"
   ],
   "metadata": {
    "collapsed": false,
    "pycharm": {
     "name": "#%%\n"
    }
   }
  },
  {
   "cell_type": "code",
   "execution_count": 29,
   "outputs": [],
   "source": [],
   "metadata": {
    "collapsed": false,
    "pycharm": {
     "name": "#%%\n"
    }
   }
  },
  {
   "cell_type": "markdown",
   "source": [
    "#### 5) NN : MLP Regressor : supports Multi-outputs"
   ],
   "metadata": {
    "collapsed": false,
    "pycharm": {
     "name": "#%% md\n"
    }
   }
  },
  {
   "cell_type": "code",
   "execution_count": 13,
   "outputs": [
    {
     "name": "stdout",
     "output_type": "stream",
     "text": [
      "0.6530093161372453\n"
     ]
    },
    {
     "data": {
      "text/plain": "0.6530093161372453"
     },
     "execution_count": 12,
     "metadata": {},
     "output_type": "execute_result"
    },
    {
     "name": "stdout",
     "output_type": "stream",
     "text": [
      "0.6530093161372453\n"
     ]
    },
    {
     "data": {
      "text/plain": "0.6530093161372453"
     },
     "execution_count": 13,
     "metadata": {},
     "output_type": "execute_result"
    }
   ],
   "source": [
    "# 1) fit\n",
    "regr_MLPR = MLPRegressor(random_state=seed, max_iter=500, alpha=10**2).fit(X_train, y_train)\n",
    "\n",
    "# 2) save model\n",
    "path_model = './model/'\n",
    "dict_models = {'MLPR': regr_MLPR}\n",
    "for name, model in dict_models.items():\n",
    "    filename = path_model + name + '.sav'\n",
    "    # save the model to disk\n",
    "    pickle.dump(model, open(filename, 'wb'))\n",
    "\n",
    "# 3) predict\n",
    "y_val_surge_pred_MLR = regr_MLPR.predict(X_val)\n",
    "\n",
    "# 4) save\n",
    "save_y_pred(\"MLPR\", output_path, y_val_surge_pred_MLR, y_val_index, submit=False)\n",
    "\n",
    "# 5) evaluate\n",
    "evaluate_surge(y_pred_filename=\"Y_val_pred_MLPR.csv\", y_true_filename=\"Y_val_true.csv\", path_output=output_path)\n",
    "display_scatterplot(y_val_true=y_val, y_val_pred=y_val_surge_pred_MLR)"
   ],
   "metadata": {
    "collapsed": false,
    "pycharm": {
     "name": "#%%\n"
    }
   }
  },
  {
   "cell_type": "code",
   "execution_count": 14,
   "outputs": [],
   "source": [
    "# 6) submit\n",
    "all_models = [\"MLPR.sav\"]\n",
    "for model_name in all_models:\n",
    "    filename = './model/' + model_name\n",
    "    loaded_model = pickle.load(open(filename, 'rb'))\n",
    "\n",
    "    Y_test_pred = loaded_model.predict(X_test)\n",
    "    # while saving the model we remove .sav\n",
    "    save_y_pred(model_name[:-4], output_path + \"/submit/\", Y_test_pred, X_test_index, submit=True)"
   ],
   "metadata": {
    "collapsed": false,
    "pycharm": {
     "name": "#%%\n"
    }
   }
  },
  {
   "cell_type": "markdown",
   "source": [
    "##### Hyperparameters tuning"
   ],
   "metadata": {
    "collapsed": false,
    "pycharm": {
     "name": "#%% md\n"
    }
   }
  },
  {
   "cell_type": "code",
   "execution_count": null,
   "outputs": [],
   "source": [
    "a, b = -5, 3 # default 10**-4\n",
    "n_alphas = 15 # hyperparametre alpha\n",
    "alphas = np.logspace(a, b, n_alphas)\n",
    "\n",
    "regr_MLR = MLPRegressor(random_state=seed, max_iter=500)\n",
    "\n",
    "coefs = []\n",
    "errors = []\n",
    "\n",
    "for index, a in enumerate(alphas):\n",
    "    # 1) fit\n",
    "    regr_MLR.set_params(alpha=a)\n",
    "    regr_MLR.fit(X_train, y_train)\n",
    "    # 2) predict\n",
    "    y_val_surge_pred_MLR = regr_MLR.predict(X_val)\n",
    "\n",
    "    coefs.append(a)\n",
    "\n",
    "    # 3) save\n",
    "    save_y_pred(\"MLR_{}\".format(index), output_path, y_val_surge_pred_MLR, y_val_index, submit=False)\n",
    "\n",
    "    # 4) evaluate\n",
    "    score_surge = evaluate_surge(y_pred_filename=\"Y_val_pred_MLR_{}.csv\".format(index), y_true_filename=\"Y_val_true.csv\", path_output=output_path)\n",
    "    errors.append(score_surge)\n",
    "    #print(score_surge)"
   ],
   "metadata": {
    "collapsed": false,
    "pycharm": {
     "name": "#%%\n"
    }
   }
  },
  {
   "cell_type": "code",
   "execution_count": null,
   "outputs": [],
   "source": [
    "# recupere l'erreur min\n",
    "print(\"Minimum Mean Squared Error for MLP :\", errors[np.argmin(errors)])\n",
    "print(\"Best alpha for that minimal MSE : \", alphas[np.argmin(errors)])\n",
    "\n",
    "#Observation of the error behaviour\n",
    "ax = plt.gca()\n",
    "ax.plot(alphas, errors)\n",
    "# specifying horizontal line type\n",
    "plt.axhline(y=baseline_error, color='r', linestyle='-')\n",
    "\n",
    "ax.set_xscale('log')\n",
    "\n",
    "plt.xlabel('alpha : hyperparameter')\n",
    "plt.ylabel('error : MSE')\n",
    "plt.axis('tight')"
   ],
   "metadata": {
    "collapsed": false,
    "pycharm": {
     "name": "#%%\n"
    }
   }
  },
  {
   "cell_type": "code",
   "execution_count": null,
   "outputs": [],
   "source": [
    "# line with alpha associated to the min error\n",
    "min_alpha = alphas[np.argmin(errors)]\n",
    "plt.axvline(x=min_alpha, color='b', label='axvline - full height')\n",
    "\n",
    "ax.plot(alphas, coefs)\n",
    "ax.set_xscale('log')\n",
    "plt.xlabel('alpha')\n",
    "plt.ylabel('weights')\n",
    "plt.title('Ridge coefficients as a function of the regularization')\n",
    "plt.axis('tight')"
   ],
   "metadata": {
    "collapsed": false,
    "pycharm": {
     "name": "#%%\n"
    }
   }
  },
  {
   "cell_type": "code",
   "execution_count": 29,
   "outputs": [],
   "source": [],
   "metadata": {
    "collapsed": false,
    "pycharm": {
     "name": "#%%\n"
    }
   }
  },
  {
   "cell_type": "markdown",
   "source": [
    "## Neural Networks : https://www.nature.com/articles/s41598-021-96674-0\n",
    "1) Artificial Neural Network (ANN)\n",
    "2) a Long Term Short Term Neural Network (LSTM)\n",
    "3) a Convolutional Neural Network (CNN)\n",
    "4) a Convolutional LSTM (ConvLSTM), which is a combination of the latter two. In"
   ],
   "metadata": {
    "collapsed": false,
    "pycharm": {
     "name": "#%% md\n"
    }
   },
   "execution_count": 66
  },
  {
   "cell_type": "code",
   "execution_count": 33,
   "outputs": [
    {
     "name": "stdout",
     "output_type": "stream",
     "text": [
      "(5599, 3362)\n",
      "(5599, 20)\n"
     ]
    }
   ],
   "source": [],
   "metadata": {
    "collapsed": false,
    "pycharm": {
     "name": "#%%\n"
    }
   }
  },
  {
   "cell_type": "code",
   "execution_count": 19,
   "outputs": [
    {
     "name": "stdout",
     "output_type": "stream",
     "text": [
      "(3919, 3362)\n",
      "(3919, 20)\n",
      "X_train: (3919, 3362, 1) y_train: (3919, 20)\n"
     ]
    }
   ],
   "source": [
    "#The LSTM model input dimension requires the third dimension that will be the number of the single input row. We'll reshape the x data.\n",
    "\n",
    "print(X_train.shape)\n",
    "print(y_train.shape)\n",
    "\n",
    "X_train_NN = X_train.values.reshape(X_train.shape[0], X_train.shape[1], 1)\n",
    "X_val_NN = X_val.values.reshape(X_val.shape[0], X_val.shape[1], 1)\n",
    "\n",
    "print(\"X_train:\", X_train_NN.shape, \"y_train:\", y_train.shape)"
   ],
   "metadata": {
    "collapsed": false,
    "pycharm": {
     "name": "#%%\n"
    }
   }
  },
  {
   "cell_type": "code",
   "execution_count": 22,
   "outputs": [
    {
     "name": "stdout",
     "output_type": "stream",
     "text": [
      "(3362, 1)\n",
      "20\n"
     ]
    }
   ],
   "source": [
    "in_dim = (X_train_NN.shape[1], X_train_NN.shape[2])\n",
    "out_dim = y_train.shape[1]\n",
    "\n",
    "print(in_dim)\n",
    "print(out_dim)"
   ],
   "metadata": {
    "collapsed": false,
    "pycharm": {
     "name": "#%%\n"
    }
   }
  },
  {
   "cell_type": "code",
   "execution_count": null,
   "outputs": [],
   "source": [],
   "metadata": {
    "collapsed": false,
    "pycharm": {
     "name": "#%%\n"
    }
   }
  },
  {
   "cell_type": "markdown",
   "source": [
    "We'll start by defining the sequential model. The sequential model contains LSTM layers with ReLU activations, Dense output layer,  and Adam optimizer with MSE loss function. We'll set the input dimension in the first layer and output dimension in the last layer of the model."
   ],
   "metadata": {
    "collapsed": false,
    "pycharm": {
     "name": "#%% md\n"
    }
   }
  },
  {
   "cell_type": "code",
   "execution_count": null,
   "outputs": [],
   "source": [
    "# 2) save model\n",
    "path_model = './model/'\n",
    "dict_models = {'LSTM': model}\n",
    "for name, model in dict_models.items():\n",
    "    filename = path_model + name + '.sav'\n",
    "    # save the model to disk\n",
    "    pickle.dump(model, open(filename, 'wb'))"
   ],
   "metadata": {
    "collapsed": false,
    "pycharm": {
     "name": "#%%\n"
    }
   }
  },
  {
   "cell_type": "code",
   "execution_count": null,
   "outputs": [],
   "source": [
    "y_pred = model.predict(X_val_NN)\n",
    "\n",
    "print(\"y1 MSE:%.4f\" % mean_squared_error(y_val[:,0], y_pred[:,0]))\n",
    "print(\"y2 MSE:%.4f\" % mean_squared_error(y_val[:,1], y_pred[:,1]))\n"
   ],
   "metadata": {
    "collapsed": false,
    "pycharm": {
     "name": "#%%\n"
    }
   }
  },
  {
   "cell_type": "code",
   "execution_count": null,
   "outputs": [],
   "source": [
    "# 4) save\n",
    "save_y_pred(\"LSTM\", output_path, y_pred, y_val_index, submit=False)\n",
    "\n",
    "# 5) evaluate\n",
    "evaluate_surge(y_pred_filename=\"Y_val_pred_LSTM.csv\", y_true_filename=\"Y_val_true.csv\", path_output=output_path)"
   ],
   "metadata": {
    "collapsed": false,
    "pycharm": {
     "name": "#%%\n"
    }
   }
  },
  {
   "cell_type": "code",
   "execution_count": null,
   "outputs": [],
   "source": [
    "y_pred"
   ],
   "metadata": {
    "collapsed": false,
    "pycharm": {
     "name": "#%%\n"
    }
   }
  },
  {
   "cell_type": "code",
   "execution_count": null,
   "outputs": [],
   "source": [],
   "metadata": {
    "collapsed": false,
    "pycharm": {
     "name": "#%%\n"
    }
   }
  },
  {
   "cell_type": "code",
   "execution_count": null,
   "outputs": [],
   "source": [],
   "metadata": {
    "collapsed": false,
    "pycharm": {
     "name": "#%%\n"
    }
   }
  },
  {
   "cell_type": "markdown",
   "source": [
    "#### Saving models"
   ],
   "metadata": {
    "collapsed": false,
    "pycharm": {
     "name": "#%% md\n"
    }
   }
  },
  {
   "cell_type": "code",
   "execution_count": null,
   "outputs": [],
   "source": [
    "dict_models = {\n",
    "    'KernelRidge': regr_ridge,\n",
    "    'XGBoost': regr_XGBoost,\n",
    "    'SVR': regr_SVR,\n",
    "    'MLPR': regr_MLPR\n",
    "}\n",
    "#    'BallTree': tree, # no predict method"
   ],
   "metadata": {
    "collapsed": false,
    "pycharm": {
     "name": "#%%\n"
    }
   }
  },
  {
   "cell_type": "code",
   "execution_count": null,
   "outputs": [],
   "source": [
    "path_model = './model/'\n",
    "for name, model in dict_models.items():\n",
    "    filename = path_model + name + '.sav'\n",
    "    # save the model to disk\n",
    "    pickle.dump(model, open(filename, 'wb'))"
   ],
   "metadata": {
    "collapsed": false,
    "pycharm": {
     "name": "#%%\n"
    }
   }
  },
  {
   "cell_type": "code",
   "execution_count": null,
   "outputs": [],
   "source": [],
   "metadata": {
    "collapsed": false,
    "pycharm": {
     "name": "#%%\n"
    }
   }
  },
  {
   "cell_type": "markdown",
   "source": [
    "# Part III : Submission prediction"
   ],
   "metadata": {
    "collapsed": false,
    "pycharm": {
     "name": "#%% md\n"
    }
   }
  },
  {
   "cell_type": "markdown",
   "source": [
    "#### Predicting Y_test for each model using models trained using split X_train"
   ],
   "metadata": {
    "collapsed": false,
    "pycharm": {
     "name": "#%% md\n"
    }
   }
  },
  {
   "cell_type": "code",
   "execution_count": null,
   "outputs": [],
   "source": [
    "# load the model from disk\n",
    "all_models = [f for f in listdir(path_model) if isfile(join(path_model, f))]\n",
    "\n",
    "for model_name in all_models:\n",
    "    filename = './model/' + model_name\n",
    "    loaded_model = pickle.load(open(filename, 'rb'))\n",
    "\n",
    "    Y_test_pred = loaded_model.predict(X_test)\n",
    "    # while saving the model we remove .sav\n",
    "    save_y_pred(model_name[:-4], output_path + \"/submit/\", Y_test_pred, X_test_index, submit=True)"
   ],
   "metadata": {
    "collapsed": false,
    "pycharm": {
     "name": "#%%\n"
    }
   }
  },
  {
   "cell_type": "code",
   "execution_count": null,
   "outputs": [],
   "source": [],
   "metadata": {
    "collapsed": false,
    "pycharm": {
     "name": "#%%\n"
    }
   }
  },
  {
   "cell_type": "markdown",
   "source": [
    "#### Predicting Y_test for the best model using all of X_train to train : no gain for XGBoost / SVR ?"
   ],
   "metadata": {
    "collapsed": false,
    "pycharm": {
     "name": "#%% md\n"
    }
   }
  },
  {
   "cell_type": "code",
   "execution_count": 15,
   "outputs": [],
   "source": [
    "best_estimator = KernelRidge(alpha=0.372759372031494)#SVR(kernel='rbf')\n",
    "best_regr = MultiOutputRegressor(best_estimator).fit(X_train, y_train)\n",
    "\n",
    "name, model = \"best_model\", best_regr\n",
    "path_model = \"./model/\"\n",
    "filename = path_model + name + '.sav'\n",
    "# save the model to disk\n",
    "pickle.dump(model, open(filename, 'wb'))"
   ],
   "metadata": {
    "collapsed": false,
    "pycharm": {
     "name": "#%%\n"
    }
   }
  },
  {
   "cell_type": "code",
   "execution_count": 16,
   "outputs": [],
   "source": [
    "model_name = \"best_model\"\n",
    "filename = './model/' + model_name + \".sav\"\n",
    "\n",
    "loaded_best_model = pickle.load(open(filename, 'rb'))\n",
    "Y_test_pred = loaded_best_model.predict(X_test)\n",
    "save_y_pred(model_name, output_path + \"/submit/\", Y_test_pred, X_test_index, submit=True)"
   ],
   "metadata": {
    "collapsed": false,
    "pycharm": {
     "name": "#%%\n"
    }
   }
  },
  {
   "cell_type": "code",
   "execution_count": 17,
   "outputs": [
    {
     "name": "stdout",
     "output_type": "stream",
     "text": [
      "0.23704137451911803\n"
     ]
    },
    {
     "data": {
      "text/plain": "0.23704137451911803"
     },
     "execution_count": 17,
     "metadata": {},
     "output_type": "execute_result"
    }
   ],
   "source": [
    "evaluate_surge(y_pred_filename=\"Y_test_pred_best_model.csv\", y_true_filename=\"Y_test_pred_KernelRidge.csv\", path_output=output_path + \"/submit/\")"
   ],
   "metadata": {
    "collapsed": false,
    "pycharm": {
     "name": "#%%\n"
    }
   }
  },
  {
   "cell_type": "markdown",
   "source": [
    "###  End of notebook"
   ],
   "metadata": {
    "collapsed": false,
    "pycharm": {
     "name": "#%% md\n"
    }
   }
  },
  {
   "cell_type": "code",
   "execution_count": null,
   "outputs": [],
   "source": [
    "# End of pipeline time\n",
    "t1 = time()\n",
    "print(\"computing time : {:8.6f} sec\".format(t1 - t0))\n",
    "print(\"computing time : \" + strftime('%H:%M:%S', gmtime(t1 - t0)))"
   ],
   "metadata": {
    "collapsed": false,
    "pycharm": {
     "name": "#%%\n"
    }
   }
  }
 ],
 "metadata": {
  "kernelspec": {
   "display_name": "Python 3",
   "language": "python",
   "name": "python3"
  },
  "language_info": {
   "codemirror_mode": {
    "name": "ipython",
    "version": 2
   },
   "file_extension": ".py",
   "mimetype": "text/x-python",
   "name": "python",
   "nbconvert_exporter": "python",
   "pygments_lexer": "ipython2",
   "version": "2.7.6"
  }
 },
 "nbformat": 4,
 "nbformat_minor": 0
}